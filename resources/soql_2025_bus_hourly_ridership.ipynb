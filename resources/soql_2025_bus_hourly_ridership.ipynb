{
 "cells": [
  {
   "cell_type": "markdown",
   "metadata": {},
   "source": [
    "# How to use NYS Data Catalog tools, SODA, and SoQL to work with large open datasets"
   ]
  },
  {
   "cell_type": "markdown",
   "metadata": {},
   "source": [
    "### Using Python to submit SoQL\n",
    "\n",
    "Especially for more involved queries, it may be easier to use a programming language to submit SoQL queries than modify a URL directly or go through the data explorer tool. We can use python's requests package with an API endpoint URL to submit queries. Below, let's calculate total Fair Fare riders by bus route and month, using a [SoQL function](https://dev.socrata.com/docs/functions/#,)."
   ]
  },
  {
   "cell_type": "code",
   "execution_count": 7,
   "metadata": {},
   "outputs": [
    {
     "data": {
      "text/html": [
       "<div>\n",
       "<style scoped>\n",
       "    .dataframe tbody tr th:only-of-type {\n",
       "        vertical-align: middle;\n",
       "    }\n",
       "\n",
       "    .dataframe tbody tr th {\n",
       "        vertical-align: top;\n",
       "    }\n",
       "\n",
       "    .dataframe thead th {\n",
       "        text-align: right;\n",
       "    }\n",
       "</style>\n",
       "<table border=\"1\" class=\"dataframe\">\n",
       "  <thead>\n",
       "    <tr style=\"text-align: right;\">\n",
       "      <th></th>\n",
       "      <th>month</th>\n",
       "      <th>bus_route</th>\n",
       "      <th>fare_class</th>\n",
       "      <th>ridership</th>\n",
       "    </tr>\n",
       "  </thead>\n",
       "  <tbody>\n",
       "    <tr>\n",
       "      <th>0</th>\n",
       "      <td>2025-01-01T00:00:00.000</td>\n",
       "      <td>B1</td>\n",
       "      <td>Fair Fares</td>\n",
       "      <td>17893</td>\n",
       "    </tr>\n",
       "    <tr>\n",
       "      <th>1</th>\n",
       "      <td>2025-01-01T00:00:00.000</td>\n",
       "      <td>B100</td>\n",
       "      <td>Fair Fares</td>\n",
       "      <td>3223</td>\n",
       "    </tr>\n",
       "    <tr>\n",
       "      <th>2</th>\n",
       "      <td>2025-01-01T00:00:00.000</td>\n",
       "      <td>B101</td>\n",
       "      <td>Fair Fares</td>\n",
       "      <td>0</td>\n",
       "    </tr>\n",
       "    <tr>\n",
       "      <th>3</th>\n",
       "      <td>2025-01-01T00:00:00.000</td>\n",
       "      <td>B103</td>\n",
       "      <td>Fair Fares</td>\n",
       "      <td>5819</td>\n",
       "    </tr>\n",
       "    <tr>\n",
       "      <th>4</th>\n",
       "      <td>2025-01-01T00:00:00.000</td>\n",
       "      <td>B106</td>\n",
       "      <td>Fair Fares</td>\n",
       "      <td>0</td>\n",
       "    </tr>\n",
       "    <tr>\n",
       "      <th>...</th>\n",
       "      <td>...</td>\n",
       "      <td>...</td>\n",
       "      <td>...</td>\n",
       "      <td>...</td>\n",
       "    </tr>\n",
       "    <tr>\n",
       "      <th>3772</th>\n",
       "      <td>2025-09-01T00:00:00.000</td>\n",
       "      <td>X64</td>\n",
       "      <td>Fair Fares</td>\n",
       "      <td>0</td>\n",
       "    </tr>\n",
       "    <tr>\n",
       "      <th>3773</th>\n",
       "      <td>2025-09-01T00:00:00.000</td>\n",
       "      <td>X68</td>\n",
       "      <td>Fair Fares</td>\n",
       "      <td>0</td>\n",
       "    </tr>\n",
       "    <tr>\n",
       "      <th>3774</th>\n",
       "      <td>2025-09-01T00:00:00.000</td>\n",
       "      <td>X7</td>\n",
       "      <td>Fair Fares</td>\n",
       "      <td>0</td>\n",
       "    </tr>\n",
       "    <tr>\n",
       "      <th>3775</th>\n",
       "      <td>2025-09-01T00:00:00.000</td>\n",
       "      <td>X8</td>\n",
       "      <td>Fair Fares</td>\n",
       "      <td>0</td>\n",
       "    </tr>\n",
       "    <tr>\n",
       "      <th>3776</th>\n",
       "      <td>2025-09-01T00:00:00.000</td>\n",
       "      <td>X9</td>\n",
       "      <td>Fair Fares</td>\n",
       "      <td>0</td>\n",
       "    </tr>\n",
       "  </tbody>\n",
       "</table>\n",
       "<p>3777 rows × 4 columns</p>\n",
       "</div>"
      ],
      "text/plain": [
       "                        month bus_route  fare_class  ridership\n",
       "0     2025-01-01T00:00:00.000        B1  Fair Fares      17893\n",
       "1     2025-01-01T00:00:00.000      B100  Fair Fares       3223\n",
       "2     2025-01-01T00:00:00.000      B101  Fair Fares          0\n",
       "3     2025-01-01T00:00:00.000      B103  Fair Fares       5819\n",
       "4     2025-01-01T00:00:00.000      B106  Fair Fares          0\n",
       "...                       ...       ...         ...        ...\n",
       "3772  2025-09-01T00:00:00.000       X64  Fair Fares          0\n",
       "3773  2025-09-01T00:00:00.000       X68  Fair Fares          0\n",
       "3774  2025-09-01T00:00:00.000        X7  Fair Fares          0\n",
       "3775  2025-09-01T00:00:00.000        X8  Fair Fares          0\n",
       "3776  2025-09-01T00:00:00.000        X9  Fair Fares          0\n",
       "\n",
       "[3777 rows x 4 columns]"
      ]
     },
     "execution_count": 7,
     "metadata": {},
     "output_type": "execute_result"
    }
   ],
   "source": [
    "import requests\n",
    "import pandas as pd\n",
    "import io\n",
    "\n",
    "endpoint_url = \"https://data.ny.gov/resource/gxb3-akrn.csv\"\n",
    "\n",
    "soql_query = \"\"\"SELECT date_trunc_ym(transit_timestamp) as month,\n",
    "    bus_route,\n",
    "    'Fair Fares' as fare_class,\n",
    "    sum(ridership) as ridership\n",
    "where fare_class_category in ('Metrocard - Fair Fare', 'OMNY - Fair Fare')\n",
    "group by date_trunc_ym(transit_timestamp),\n",
    "    bus_route,\n",
    "    'Fair Fares'\n",
    "LIMIT 50000\n",
    "\"\"\"\n",
    "\n",
    "bus_data = requests.get(\n",
    "    url=endpoint_url,\n",
    "    params={\n",
    "        \"$query\" : soql_query\n",
    "    }\n",
    ").content\n",
    "\n",
    "bus_data = pd.read_csv(io.StringIO(bus_data.decode(\"utf-8\")))\n",
    "\n",
    "bus_data"
   ]
  },
  {
   "cell_type": "code",
   "execution_count": 8,
   "metadata": {},
   "outputs": [
    {
     "data": {
      "application/vnd.plotly.v1+json": {
       "config": {
        "plotlyServerURL": "https://plot.ly"
       },
       "data": [
        {
         "hovertemplate": "bus_route=B1<br>month=%{x}<br>ridership=%{y}<extra></extra>",
         "legendgroup": "B1",
         "line": {
          "color": "#636efa",
          "dash": "solid"
         },
         "marker": {
          "symbol": "circle"
         },
         "mode": "lines",
         "name": "B1",
         "showlegend": true,
         "type": "scattergl",
         "x": [
          "2025-01-01T00:00:00.000",
          "2025-02-01T00:00:00.000",
          "2025-03-01T00:00:00.000",
          "2025-04-01T00:00:00.000",
          "2025-05-01T00:00:00.000",
          "2025-06-01T00:00:00.000",
          "2025-07-01T00:00:00.000",
          "2025-08-01T00:00:00.000",
          "2025-09-01T00:00:00.000"
         ],
         "xaxis": "x",
         "y": [
          17893,
          16403,
          25182,
          25487,
          53260,
          47059,
          49721,
          41177,
          0
         ],
         "yaxis": "y"
        },
        {
         "hovertemplate": "bus_route=B100<br>month=%{x}<br>ridership=%{y}<extra></extra>",
         "legendgroup": "B100",
         "line": {
          "color": "#EF553B",
          "dash": "solid"
         },
         "marker": {
          "symbol": "circle"
         },
         "mode": "lines",
         "name": "B100",
         "showlegend": true,
         "type": "scattergl",
         "x": [
          "2025-01-01T00:00:00.000",
          "2025-02-01T00:00:00.000",
          "2025-03-01T00:00:00.000",
          "2025-04-01T00:00:00.000",
          "2025-05-01T00:00:00.000",
          "2025-06-01T00:00:00.000",
          "2025-07-01T00:00:00.000",
          "2025-08-01T00:00:00.000",
          "2025-09-01T00:00:00.000"
         ],
         "xaxis": "x",
         "y": [
          3223,
          2239,
          4588,
          4731,
          9512,
          9901,
          10239,
          8435,
          0
         ],
         "yaxis": "y"
        },
        {
         "hovertemplate": "bus_route=B101<br>month=%{x}<br>ridership=%{y}<extra></extra>",
         "legendgroup": "B101",
         "line": {
          "color": "#00cc96",
          "dash": "solid"
         },
         "marker": {
          "symbol": "circle"
         },
         "mode": "lines",
         "name": "B101",
         "showlegend": true,
         "type": "scattergl",
         "x": [
          "2025-01-01T00:00:00.000",
          "2025-02-01T00:00:00.000",
          "2025-03-01T00:00:00.000",
          "2025-04-01T00:00:00.000",
          "2025-05-01T00:00:00.000",
          "2025-06-01T00:00:00.000",
          "2025-07-01T00:00:00.000",
          "2025-08-01T00:00:00.000",
          "2025-09-01T00:00:00.000"
         ],
         "xaxis": "x",
         "y": [
          0,
          0,
          0,
          0,
          0,
          0,
          0,
          0,
          0
         ],
         "yaxis": "y"
        },
        {
         "hovertemplate": "bus_route=B103<br>month=%{x}<br>ridership=%{y}<extra></extra>",
         "legendgroup": "B103",
         "line": {
          "color": "#ab63fa",
          "dash": "solid"
         },
         "marker": {
          "symbol": "circle"
         },
         "mode": "lines",
         "name": "B103",
         "showlegend": true,
         "type": "scattergl",
         "x": [
          "2025-01-01T00:00:00.000",
          "2025-02-01T00:00:00.000",
          "2025-03-01T00:00:00.000",
          "2025-04-01T00:00:00.000",
          "2025-05-01T00:00:00.000",
          "2025-06-01T00:00:00.000",
          "2025-07-01T00:00:00.000",
          "2025-08-01T00:00:00.000",
          "2025-09-01T00:00:00.000"
         ],
         "xaxis": "x",
         "y": [
          5819,
          4387,
          8548,
          8713,
          17982,
          17954,
          19295,
          15711,
          0
         ],
         "yaxis": "y"
        },
        {
         "hovertemplate": "bus_route=B106<br>month=%{x}<br>ridership=%{y}<extra></extra>",
         "legendgroup": "B106",
         "line": {
          "color": "#FFA15A",
          "dash": "solid"
         },
         "marker": {
          "symbol": "circle"
         },
         "mode": "lines",
         "name": "B106",
         "showlegend": true,
         "type": "scattergl",
         "x": [
          "2025-01-01T00:00:00.000",
          "2025-02-01T00:00:00.000",
          "2025-03-01T00:00:00.000",
          "2025-04-01T00:00:00.000",
          "2025-05-01T00:00:00.000",
          "2025-06-01T00:00:00.000",
          "2025-07-01T00:00:00.000",
          "2025-08-01T00:00:00.000",
          "2025-09-01T00:00:00.000"
         ],
         "xaxis": "x",
         "y": [
          0,
          0,
          0,
          4,
          33,
          23,
          0,
          0,
          0
         ],
         "yaxis": "y"
        },
        {
         "hovertemplate": "bus_route=B11<br>month=%{x}<br>ridership=%{y}<extra></extra>",
         "legendgroup": "B11",
         "line": {
          "color": "#19d3f3",
          "dash": "solid"
         },
         "marker": {
          "symbol": "circle"
         },
         "mode": "lines",
         "name": "B11",
         "showlegend": true,
         "type": "scattergl",
         "x": [
          "2025-01-01T00:00:00.000",
          "2025-02-01T00:00:00.000",
          "2025-03-01T00:00:00.000",
          "2025-04-01T00:00:00.000",
          "2025-05-01T00:00:00.000",
          "2025-06-01T00:00:00.000",
          "2025-07-01T00:00:00.000",
          "2025-08-01T00:00:00.000",
          "2025-09-01T00:00:00.000"
         ],
         "xaxis": "x",
         "y": [
          10133,
          9261,
          14193,
          13519,
          28911,
          28624,
          28283,
          24026,
          0
         ],
         "yaxis": "y"
        },
        {
         "hovertemplate": "bus_route=B111<br>month=%{x}<br>ridership=%{y}<extra></extra>",
         "legendgroup": "B111",
         "line": {
          "color": "#FF6692",
          "dash": "solid"
         },
         "marker": {
          "symbol": "circle"
         },
         "mode": "lines",
         "name": "B111",
         "showlegend": true,
         "type": "scattergl",
         "x": [
          "2025-01-01T00:00:00.000",
          "2025-02-01T00:00:00.000",
          "2025-03-01T00:00:00.000",
          "2025-04-01T00:00:00.000",
          "2025-05-01T00:00:00.000",
          "2025-06-01T00:00:00.000",
          "2025-07-01T00:00:00.000",
          "2025-08-01T00:00:00.000",
          "2025-09-01T00:00:00.000"
         ],
         "xaxis": "x",
         "y": [
          0,
          0,
          0,
          0,
          10,
          2,
          4,
          4,
          0
         ],
         "yaxis": "y"
        },
        {
         "hovertemplate": "bus_route=B12<br>month=%{x}<br>ridership=%{y}<extra></extra>",
         "legendgroup": "B12",
         "line": {
          "color": "#B6E880",
          "dash": "solid"
         },
         "marker": {
          "symbol": "circle"
         },
         "mode": "lines",
         "name": "B12",
         "showlegend": true,
         "type": "scattergl",
         "x": [
          "2025-01-01T00:00:00.000",
          "2025-02-01T00:00:00.000",
          "2025-03-01T00:00:00.000",
          "2025-04-01T00:00:00.000",
          "2025-05-01T00:00:00.000",
          "2025-06-01T00:00:00.000",
          "2025-07-01T00:00:00.000",
          "2025-08-01T00:00:00.000",
          "2025-09-01T00:00:00.000"
         ],
         "xaxis": "x",
         "y": [
          7913,
          6979,
          11121,
          11152,
          21886,
          21211,
          21537,
          19215,
          0
         ],
         "yaxis": "y"
        },
        {
         "hovertemplate": "bus_route=B13<br>month=%{x}<br>ridership=%{y}<extra></extra>",
         "legendgroup": "B13",
         "line": {
          "color": "#FF97FF",
          "dash": "solid"
         },
         "marker": {
          "symbol": "circle"
         },
         "mode": "lines",
         "name": "B13",
         "showlegend": true,
         "type": "scattergl",
         "x": [
          "2025-01-01T00:00:00.000",
          "2025-02-01T00:00:00.000",
          "2025-03-01T00:00:00.000",
          "2025-04-01T00:00:00.000",
          "2025-05-01T00:00:00.000",
          "2025-06-01T00:00:00.000",
          "2025-07-01T00:00:00.000",
          "2025-08-01T00:00:00.000",
          "2025-09-01T00:00:00.000"
         ],
         "xaxis": "x",
         "y": [
          6490,
          5906,
          9396,
          9165,
          17981,
          17090,
          15724,
          14939,
          0
         ],
         "yaxis": "y"
        },
        {
         "hovertemplate": "bus_route=B14<br>month=%{x}<br>ridership=%{y}<extra></extra>",
         "legendgroup": "B14",
         "line": {
          "color": "#FECB52",
          "dash": "solid"
         },
         "marker": {
          "symbol": "circle"
         },
         "mode": "lines",
         "name": "B14",
         "showlegend": true,
         "type": "scattergl",
         "x": [
          "2025-01-01T00:00:00.000",
          "2025-02-01T00:00:00.000",
          "2025-03-01T00:00:00.000",
          "2025-04-01T00:00:00.000",
          "2025-05-01T00:00:00.000",
          "2025-06-01T00:00:00.000",
          "2025-07-01T00:00:00.000",
          "2025-08-01T00:00:00.000",
          "2025-09-01T00:00:00.000"
         ],
         "xaxis": "x",
         "y": [
          4982,
          4503,
          7156,
          7100,
          14454,
          13244,
          13302,
          11974,
          0
         ],
         "yaxis": "y"
        },
        {
         "hovertemplate": "bus_route=B15<br>month=%{x}<br>ridership=%{y}<extra></extra>",
         "legendgroup": "B15",
         "line": {
          "color": "#636efa",
          "dash": "solid"
         },
         "marker": {
          "symbol": "circle"
         },
         "mode": "lines",
         "name": "B15",
         "showlegend": true,
         "type": "scattergl",
         "x": [
          "2025-01-01T00:00:00.000",
          "2025-02-01T00:00:00.000",
          "2025-03-01T00:00:00.000",
          "2025-04-01T00:00:00.000",
          "2025-05-01T00:00:00.000",
          "2025-06-01T00:00:00.000",
          "2025-07-01T00:00:00.000",
          "2025-08-01T00:00:00.000",
          "2025-09-01T00:00:00.000"
         ],
         "xaxis": "x",
         "y": [
          12126,
          10218,
          16150,
          15690,
          29739,
          28446,
          29334,
          24902,
          0
         ],
         "yaxis": "y"
        },
        {
         "hovertemplate": "bus_route=B16<br>month=%{x}<br>ridership=%{y}<extra></extra>",
         "legendgroup": "B16",
         "line": {
          "color": "#EF553B",
          "dash": "solid"
         },
         "marker": {
          "symbol": "circle"
         },
         "mode": "lines",
         "name": "B16",
         "showlegend": true,
         "type": "scattergl",
         "x": [
          "2025-01-01T00:00:00.000",
          "2025-02-01T00:00:00.000",
          "2025-03-01T00:00:00.000",
          "2025-04-01T00:00:00.000",
          "2025-05-01T00:00:00.000",
          "2025-06-01T00:00:00.000",
          "2025-07-01T00:00:00.000",
          "2025-08-01T00:00:00.000",
          "2025-09-01T00:00:00.000"
         ],
         "xaxis": "x",
         "y": [
          5862,
          4977,
          8024,
          7274,
          15397,
          15037,
          15056,
          12243,
          0
         ],
         "yaxis": "y"
        },
        {
         "hovertemplate": "bus_route=B17<br>month=%{x}<br>ridership=%{y}<extra></extra>",
         "legendgroup": "B17",
         "line": {
          "color": "#00cc96",
          "dash": "solid"
         },
         "marker": {
          "symbol": "circle"
         },
         "mode": "lines",
         "name": "B17",
         "showlegend": true,
         "type": "scattergl",
         "x": [
          "2025-01-01T00:00:00.000",
          "2025-02-01T00:00:00.000",
          "2025-03-01T00:00:00.000",
          "2025-04-01T00:00:00.000",
          "2025-05-01T00:00:00.000",
          "2025-06-01T00:00:00.000",
          "2025-07-01T00:00:00.000",
          "2025-08-01T00:00:00.000",
          "2025-09-01T00:00:00.000"
         ],
         "xaxis": "x",
         "y": [
          4730,
          4064,
          6507,
          6560,
          12901,
          12368,
          12500,
          10728,
          0
         ],
         "yaxis": "y"
        },
        {
         "hovertemplate": "bus_route=B2<br>month=%{x}<br>ridership=%{y}<extra></extra>",
         "legendgroup": "B2",
         "line": {
          "color": "#ab63fa",
          "dash": "solid"
         },
         "marker": {
          "symbol": "circle"
         },
         "mode": "lines",
         "name": "B2",
         "showlegend": true,
         "type": "scattergl",
         "x": [
          "2025-01-01T00:00:00.000",
          "2025-02-01T00:00:00.000",
          "2025-03-01T00:00:00.000",
          "2025-04-01T00:00:00.000",
          "2025-05-01T00:00:00.000",
          "2025-06-01T00:00:00.000",
          "2025-07-01T00:00:00.000",
          "2025-08-01T00:00:00.000",
          "2025-09-01T00:00:00.000"
         ],
         "xaxis": "x",
         "y": [
          1755,
          1562,
          2446,
          2424,
          5528,
          5116,
          4467,
          3908,
          0
         ],
         "yaxis": "y"
        },
        {
         "hovertemplate": "bus_route=B20<br>month=%{x}<br>ridership=%{y}<extra></extra>",
         "legendgroup": "B20",
         "line": {
          "color": "#FFA15A",
          "dash": "solid"
         },
         "marker": {
          "symbol": "circle"
         },
         "mode": "lines",
         "name": "B20",
         "showlegend": true,
         "type": "scattergl",
         "x": [
          "2025-01-01T00:00:00.000",
          "2025-02-01T00:00:00.000",
          "2025-03-01T00:00:00.000",
          "2025-04-01T00:00:00.000",
          "2025-05-01T00:00:00.000",
          "2025-06-01T00:00:00.000",
          "2025-07-01T00:00:00.000",
          "2025-08-01T00:00:00.000",
          "2025-09-01T00:00:00.000"
         ],
         "xaxis": "x",
         "y": [
          5994,
          5402,
          8275,
          8542,
          16981,
          15369,
          14777,
          13273,
          0
         ],
         "yaxis": "y"
        },
        {
         "hovertemplate": "bus_route=B24<br>month=%{x}<br>ridership=%{y}<extra></extra>",
         "legendgroup": "B24",
         "line": {
          "color": "#19d3f3",
          "dash": "solid"
         },
         "marker": {
          "symbol": "circle"
         },
         "mode": "lines",
         "name": "B24",
         "showlegend": true,
         "type": "scattergl",
         "x": [
          "2025-01-01T00:00:00.000",
          "2025-02-01T00:00:00.000",
          "2025-03-01T00:00:00.000",
          "2025-04-01T00:00:00.000",
          "2025-05-01T00:00:00.000",
          "2025-06-01T00:00:00.000",
          "2025-07-01T00:00:00.000",
          "2025-08-01T00:00:00.000",
          "2025-09-01T00:00:00.000"
         ],
         "xaxis": "x",
         "y": [
          2161,
          1643,
          2755,
          3076,
          6109,
          6370,
          5804,
          5515,
          0
         ],
         "yaxis": "y"
        },
        {
         "hovertemplate": "bus_route=B25<br>month=%{x}<br>ridership=%{y}<extra></extra>",
         "legendgroup": "B25",
         "line": {
          "color": "#FF6692",
          "dash": "solid"
         },
         "marker": {
          "symbol": "circle"
         },
         "mode": "lines",
         "name": "B25",
         "showlegend": true,
         "type": "scattergl",
         "x": [
          "2025-01-01T00:00:00.000",
          "2025-02-01T00:00:00.000",
          "2025-03-01T00:00:00.000",
          "2025-04-01T00:00:00.000",
          "2025-05-01T00:00:00.000",
          "2025-06-01T00:00:00.000",
          "2025-07-01T00:00:00.000",
          "2025-08-01T00:00:00.000",
          "2025-09-01T00:00:00.000"
         ],
         "xaxis": "x",
         "y": [
          5572,
          4728,
          7837,
          7863,
          14685,
          14174,
          14918,
          12390,
          0
         ],
         "yaxis": "y"
        },
        {
         "hovertemplate": "bus_route=B26<br>month=%{x}<br>ridership=%{y}<extra></extra>",
         "legendgroup": "B26",
         "line": {
          "color": "#B6E880",
          "dash": "solid"
         },
         "marker": {
          "symbol": "circle"
         },
         "mode": "lines",
         "name": "B26",
         "showlegend": true,
         "type": "scattergl",
         "x": [
          "2025-01-01T00:00:00.000",
          "2025-02-01T00:00:00.000",
          "2025-03-01T00:00:00.000",
          "2025-04-01T00:00:00.000",
          "2025-05-01T00:00:00.000",
          "2025-06-01T00:00:00.000",
          "2025-07-01T00:00:00.000",
          "2025-08-01T00:00:00.000",
          "2025-09-01T00:00:00.000"
         ],
         "xaxis": "x",
         "y": [
          5955,
          4922,
          8592,
          8389,
          17096,
          16221,
          15215,
          13589,
          0
         ],
         "yaxis": "y"
        },
        {
         "hovertemplate": "bus_route=B3<br>month=%{x}<br>ridership=%{y}<extra></extra>",
         "legendgroup": "B3",
         "line": {
          "color": "#FF97FF",
          "dash": "solid"
         },
         "marker": {
          "symbol": "circle"
         },
         "mode": "lines",
         "name": "B3",
         "showlegend": true,
         "type": "scattergl",
         "x": [
          "2025-01-01T00:00:00.000",
          "2025-02-01T00:00:00.000",
          "2025-03-01T00:00:00.000",
          "2025-04-01T00:00:00.000",
          "2025-05-01T00:00:00.000",
          "2025-06-01T00:00:00.000",
          "2025-07-01T00:00:00.000",
          "2025-08-01T00:00:00.000",
          "2025-09-01T00:00:00.000"
         ],
         "xaxis": "x",
         "y": [
          13096,
          10731,
          17421,
          17510,
          35329,
          35796,
          38179,
          31860,
          0
         ],
         "yaxis": "y"
        },
        {
         "hovertemplate": "bus_route=B31<br>month=%{x}<br>ridership=%{y}<extra></extra>",
         "legendgroup": "B31",
         "line": {
          "color": "#FECB52",
          "dash": "solid"
         },
         "marker": {
          "symbol": "circle"
         },
         "mode": "lines",
         "name": "B31",
         "showlegend": true,
         "type": "scattergl",
         "x": [
          "2025-01-01T00:00:00.000",
          "2025-02-01T00:00:00.000",
          "2025-03-01T00:00:00.000",
          "2025-04-01T00:00:00.000",
          "2025-05-01T00:00:00.000",
          "2025-06-01T00:00:00.000",
          "2025-07-01T00:00:00.000",
          "2025-08-01T00:00:00.000",
          "2025-09-01T00:00:00.000"
         ],
         "xaxis": "x",
         "y": [
          2246,
          2219,
          3461,
          3865,
          7559,
          7085,
          6897,
          5918,
          0
         ],
         "yaxis": "y"
        },
        {
         "hovertemplate": "bus_route=B32<br>month=%{x}<br>ridership=%{y}<extra></extra>",
         "legendgroup": "B32",
         "line": {
          "color": "#636efa",
          "dash": "solid"
         },
         "marker": {
          "symbol": "circle"
         },
         "mode": "lines",
         "name": "B32",
         "showlegend": true,
         "type": "scattergl",
         "x": [
          "2025-01-01T00:00:00.000",
          "2025-02-01T00:00:00.000",
          "2025-03-01T00:00:00.000",
          "2025-04-01T00:00:00.000",
          "2025-05-01T00:00:00.000",
          "2025-06-01T00:00:00.000",
          "2025-07-01T00:00:00.000",
          "2025-08-01T00:00:00.000",
          "2025-09-01T00:00:00.000"
         ],
         "xaxis": "x",
         "y": [
          644,
          534,
          853,
          827,
          1798,
          1805,
          1618,
          1613,
          0
         ],
         "yaxis": "y"
        },
        {
         "hovertemplate": "bus_route=B35<br>month=%{x}<br>ridership=%{y}<extra></extra>",
         "legendgroup": "B35",
         "line": {
          "color": "#EF553B",
          "dash": "solid"
         },
         "marker": {
          "symbol": "circle"
         },
         "mode": "lines",
         "name": "B35",
         "showlegend": true,
         "type": "scattergl",
         "x": [
          "2025-01-01T00:00:00.000",
          "2025-02-01T00:00:00.000",
          "2025-03-01T00:00:00.000",
          "2025-04-01T00:00:00.000",
          "2025-05-01T00:00:00.000",
          "2025-06-01T00:00:00.000",
          "2025-07-01T00:00:00.000",
          "2025-08-01T00:00:00.000",
          "2025-09-01T00:00:00.000"
         ],
         "xaxis": "x",
         "y": [
          14872,
          12980,
          21481,
          21805,
          42175,
          41250,
          41752,
          35333,
          0
         ],
         "yaxis": "y"
        },
        {
         "hovertemplate": "bus_route=B36<br>month=%{x}<br>ridership=%{y}<extra></extra>",
         "legendgroup": "B36",
         "line": {
          "color": "#00cc96",
          "dash": "solid"
         },
         "marker": {
          "symbol": "circle"
         },
         "mode": "lines",
         "name": "B36",
         "showlegend": true,
         "type": "scattergl",
         "x": [
          "2025-01-01T00:00:00.000",
          "2025-02-01T00:00:00.000",
          "2025-03-01T00:00:00.000",
          "2025-04-01T00:00:00.000",
          "2025-05-01T00:00:00.000",
          "2025-06-01T00:00:00.000",
          "2025-07-01T00:00:00.000",
          "2025-08-01T00:00:00.000",
          "2025-09-01T00:00:00.000"
         ],
         "xaxis": "x",
         "y": [
          11055,
          9869,
          15109,
          15184,
          30522,
          30330,
          31070,
          26650,
          0
         ],
         "yaxis": "y"
        },
        {
         "hovertemplate": "bus_route=B37<br>month=%{x}<br>ridership=%{y}<extra></extra>",
         "legendgroup": "B37",
         "line": {
          "color": "#ab63fa",
          "dash": "solid"
         },
         "marker": {
          "symbol": "circle"
         },
         "mode": "lines",
         "name": "B37",
         "showlegend": true,
         "type": "scattergl",
         "x": [
          "2025-01-01T00:00:00.000",
          "2025-02-01T00:00:00.000",
          "2025-03-01T00:00:00.000",
          "2025-04-01T00:00:00.000",
          "2025-05-01T00:00:00.000",
          "2025-06-01T00:00:00.000",
          "2025-07-01T00:00:00.000",
          "2025-08-01T00:00:00.000",
          "2025-09-01T00:00:00.000"
         ],
         "xaxis": "x",
         "y": [
          2051,
          1882,
          3064,
          3184,
          6095,
          5790,
          7168,
          6151,
          0
         ],
         "yaxis": "y"
        },
        {
         "hovertemplate": "bus_route=B38<br>month=%{x}<br>ridership=%{y}<extra></extra>",
         "legendgroup": "B38",
         "line": {
          "color": "#FFA15A",
          "dash": "solid"
         },
         "marker": {
          "symbol": "circle"
         },
         "mode": "lines",
         "name": "B38",
         "showlegend": true,
         "type": "scattergl",
         "x": [
          "2025-01-01T00:00:00.000",
          "2025-02-01T00:00:00.000",
          "2025-03-01T00:00:00.000",
          "2025-04-01T00:00:00.000",
          "2025-05-01T00:00:00.000",
          "2025-06-01T00:00:00.000",
          "2025-07-01T00:00:00.000",
          "2025-08-01T00:00:00.000",
          "2025-09-01T00:00:00.000"
         ],
         "xaxis": "x",
         "y": [
          11758,
          10549,
          16353,
          16440,
          33961,
          32229,
          31459,
          26847,
          0
         ],
         "yaxis": "y"
        },
        {
         "hovertemplate": "bus_route=B39<br>month=%{x}<br>ridership=%{y}<extra></extra>",
         "legendgroup": "B39",
         "line": {
          "color": "#19d3f3",
          "dash": "solid"
         },
         "marker": {
          "symbol": "circle"
         },
         "mode": "lines",
         "name": "B39",
         "showlegend": true,
         "type": "scattergl",
         "x": [
          "2025-01-01T00:00:00.000",
          "2025-02-01T00:00:00.000",
          "2025-03-01T00:00:00.000",
          "2025-04-01T00:00:00.000",
          "2025-05-01T00:00:00.000",
          "2025-06-01T00:00:00.000",
          "2025-07-01T00:00:00.000",
          "2025-08-01T00:00:00.000",
          "2025-09-01T00:00:00.000"
         ],
         "xaxis": "x",
         "y": [
          152,
          128,
          284,
          263,
          545,
          480,
          419,
          540,
          0
         ],
         "yaxis": "y"
        },
        {
         "hovertemplate": "bus_route=B4<br>month=%{x}<br>ridership=%{y}<extra></extra>",
         "legendgroup": "B4",
         "line": {
          "color": "#FF6692",
          "dash": "solid"
         },
         "marker": {
          "symbol": "circle"
         },
         "mode": "lines",
         "name": "B4",
         "showlegend": true,
         "type": "scattergl",
         "x": [
          "2025-01-01T00:00:00.000",
          "2025-02-01T00:00:00.000",
          "2025-03-01T00:00:00.000",
          "2025-04-01T00:00:00.000",
          "2025-05-01T00:00:00.000",
          "2025-06-01T00:00:00.000",
          "2025-07-01T00:00:00.000",
          "2025-08-01T00:00:00.000",
          "2025-09-01T00:00:00.000"
         ],
         "xaxis": "x",
         "y": [
          5910,
          5044,
          8588,
          8592,
          17089,
          16421,
          16416,
          14156,
          0
         ],
         "yaxis": "y"
        },
        {
         "hovertemplate": "bus_route=B41<br>month=%{x}<br>ridership=%{y}<extra></extra>",
         "legendgroup": "B41",
         "line": {
          "color": "#B6E880",
          "dash": "solid"
         },
         "marker": {
          "symbol": "circle"
         },
         "mode": "lines",
         "name": "B41",
         "showlegend": true,
         "type": "scattergl",
         "x": [
          "2025-01-01T00:00:00.000",
          "2025-02-01T00:00:00.000",
          "2025-03-01T00:00:00.000",
          "2025-04-01T00:00:00.000",
          "2025-05-01T00:00:00.000",
          "2025-06-01T00:00:00.000",
          "2025-07-01T00:00:00.000",
          "2025-08-01T00:00:00.000",
          "2025-09-01T00:00:00.000"
         ],
         "xaxis": "x",
         "y": [
          13576,
          12010,
          18743,
          19415,
          37477,
          36698,
          35478,
          32013,
          0
         ],
         "yaxis": "y"
        },
        {
         "hovertemplate": "bus_route=B42<br>month=%{x}<br>ridership=%{y}<extra></extra>",
         "legendgroup": "B42",
         "line": {
          "color": "#FF97FF",
          "dash": "solid"
         },
         "marker": {
          "symbol": "circle"
         },
         "mode": "lines",
         "name": "B42",
         "showlegend": true,
         "type": "scattergl",
         "x": [
          "2025-01-01T00:00:00.000",
          "2025-02-01T00:00:00.000",
          "2025-03-01T00:00:00.000",
          "2025-04-01T00:00:00.000",
          "2025-05-01T00:00:00.000",
          "2025-06-01T00:00:00.000",
          "2025-07-01T00:00:00.000",
          "2025-08-01T00:00:00.000",
          "2025-09-01T00:00:00.000"
         ],
         "xaxis": "x",
         "y": [
          954,
          983,
          1507,
          1526,
          3979,
          3871,
          3163,
          2958,
          0
         ],
         "yaxis": "y"
        },
        {
         "hovertemplate": "bus_route=B43<br>month=%{x}<br>ridership=%{y}<extra></extra>",
         "legendgroup": "B43",
         "line": {
          "color": "#FECB52",
          "dash": "solid"
         },
         "marker": {
          "symbol": "circle"
         },
         "mode": "lines",
         "name": "B43",
         "showlegend": true,
         "type": "scattergl",
         "x": [
          "2025-01-01T00:00:00.000",
          "2025-02-01T00:00:00.000",
          "2025-03-01T00:00:00.000",
          "2025-04-01T00:00:00.000",
          "2025-05-01T00:00:00.000",
          "2025-06-01T00:00:00.000",
          "2025-07-01T00:00:00.000",
          "2025-08-01T00:00:00.000",
          "2025-09-01T00:00:00.000"
         ],
         "xaxis": "x",
         "y": [
          6646,
          5773,
          9777,
          9354,
          18793,
          18048,
          17960,
          15510,
          0
         ],
         "yaxis": "y"
        },
        {
         "hovertemplate": "bus_route=B44<br>month=%{x}<br>ridership=%{y}<extra></extra>",
         "legendgroup": "B44",
         "line": {
          "color": "#636efa",
          "dash": "solid"
         },
         "marker": {
          "symbol": "circle"
         },
         "mode": "lines",
         "name": "B44",
         "showlegend": true,
         "type": "scattergl",
         "x": [
          "2025-01-01T00:00:00.000",
          "2025-02-01T00:00:00.000",
          "2025-03-01T00:00:00.000",
          "2025-04-01T00:00:00.000",
          "2025-05-01T00:00:00.000",
          "2025-06-01T00:00:00.000",
          "2025-07-01T00:00:00.000",
          "2025-08-01T00:00:00.000",
          "2025-09-01T00:00:00.000"
         ],
         "xaxis": "x",
         "y": [
          9042,
          8446,
          13830,
          13259,
          26867,
          24718,
          23274,
          19814,
          0
         ],
         "yaxis": "y"
        },
        {
         "hovertemplate": "bus_route=B44+<br>month=%{x}<br>ridership=%{y}<extra></extra>",
         "legendgroup": "B44+",
         "line": {
          "color": "#EF553B",
          "dash": "solid"
         },
         "marker": {
          "symbol": "circle"
         },
         "mode": "lines",
         "name": "B44+",
         "showlegend": true,
         "type": "scattergl",
         "x": [
          "2025-01-01T00:00:00.000",
          "2025-02-01T00:00:00.000",
          "2025-03-01T00:00:00.000",
          "2025-04-01T00:00:00.000",
          "2025-05-01T00:00:00.000",
          "2025-06-01T00:00:00.000",
          "2025-07-01T00:00:00.000",
          "2025-08-01T00:00:00.000",
          "2025-09-01T00:00:00.000"
         ],
         "xaxis": "x",
         "y": [
          7190,
          7039,
          11682,
          11600,
          24746,
          22305,
          21267,
          20207,
          0
         ],
         "yaxis": "y"
        },
        {
         "hovertemplate": "bus_route=B45<br>month=%{x}<br>ridership=%{y}<extra></extra>",
         "legendgroup": "B45",
         "line": {
          "color": "#00cc96",
          "dash": "solid"
         },
         "marker": {
          "symbol": "circle"
         },
         "mode": "lines",
         "name": "B45",
         "showlegend": true,
         "type": "scattergl",
         "x": [
          "2025-01-01T00:00:00.000",
          "2025-02-01T00:00:00.000",
          "2025-03-01T00:00:00.000",
          "2025-04-01T00:00:00.000",
          "2025-05-01T00:00:00.000",
          "2025-06-01T00:00:00.000",
          "2025-07-01T00:00:00.000",
          "2025-08-01T00:00:00.000",
          "2025-09-01T00:00:00.000"
         ],
         "xaxis": "x",
         "y": [
          3147,
          2731,
          4694,
          5296,
          9807,
          8507,
          8732,
          6957,
          0
         ],
         "yaxis": "y"
        },
        {
         "hovertemplate": "bus_route=B46<br>month=%{x}<br>ridership=%{y}<extra></extra>",
         "legendgroup": "B46",
         "line": {
          "color": "#ab63fa",
          "dash": "solid"
         },
         "marker": {
          "symbol": "circle"
         },
         "mode": "lines",
         "name": "B46",
         "showlegend": true,
         "type": "scattergl",
         "x": [
          "2025-01-01T00:00:00.000",
          "2025-02-01T00:00:00.000",
          "2025-03-01T00:00:00.000",
          "2025-04-01T00:00:00.000",
          "2025-05-01T00:00:00.000",
          "2025-06-01T00:00:00.000",
          "2025-07-01T00:00:00.000",
          "2025-08-01T00:00:00.000",
          "2025-09-01T00:00:00.000"
         ],
         "xaxis": "x",
         "y": [
          10056,
          8691,
          13883,
          13562,
          27303,
          25777,
          24409,
          21984,
          0
         ],
         "yaxis": "y"
        },
        {
         "hovertemplate": "bus_route=B46+<br>month=%{x}<br>ridership=%{y}<extra></extra>",
         "legendgroup": "B46+",
         "line": {
          "color": "#FFA15A",
          "dash": "solid"
         },
         "marker": {
          "symbol": "circle"
         },
         "mode": "lines",
         "name": "B46+",
         "showlegend": true,
         "type": "scattergl",
         "x": [
          "2025-01-01T00:00:00.000",
          "2025-02-01T00:00:00.000",
          "2025-03-01T00:00:00.000",
          "2025-04-01T00:00:00.000",
          "2025-05-01T00:00:00.000",
          "2025-06-01T00:00:00.000",
          "2025-07-01T00:00:00.000",
          "2025-08-01T00:00:00.000",
          "2025-09-01T00:00:00.000"
         ],
         "xaxis": "x",
         "y": [
          6843,
          6433,
          10158,
          11034,
          22065,
          22117,
          21669,
          19401,
          0
         ],
         "yaxis": "y"
        },
        {
         "hovertemplate": "bus_route=B47<br>month=%{x}<br>ridership=%{y}<extra></extra>",
         "legendgroup": "B47",
         "line": {
          "color": "#19d3f3",
          "dash": "solid"
         },
         "marker": {
          "symbol": "circle"
         },
         "mode": "lines",
         "name": "B47",
         "showlegend": true,
         "type": "scattergl",
         "x": [
          "2025-01-01T00:00:00.000",
          "2025-02-01T00:00:00.000",
          "2025-03-01T00:00:00.000",
          "2025-04-01T00:00:00.000",
          "2025-05-01T00:00:00.000",
          "2025-06-01T00:00:00.000",
          "2025-07-01T00:00:00.000",
          "2025-08-01T00:00:00.000",
          "2025-09-01T00:00:00.000"
         ],
         "xaxis": "x",
         "y": [
          5915,
          5103,
          8236,
          8137,
          17198,
          16327,
          14678,
          13232,
          0
         ],
         "yaxis": "y"
        },
        {
         "hovertemplate": "bus_route=B48<br>month=%{x}<br>ridership=%{y}<extra></extra>",
         "legendgroup": "B48",
         "line": {
          "color": "#FF6692",
          "dash": "solid"
         },
         "marker": {
          "symbol": "circle"
         },
         "mode": "lines",
         "name": "B48",
         "showlegend": true,
         "type": "scattergl",
         "x": [
          "2025-01-01T00:00:00.000",
          "2025-02-01T00:00:00.000",
          "2025-03-01T00:00:00.000",
          "2025-04-01T00:00:00.000",
          "2025-05-01T00:00:00.000",
          "2025-06-01T00:00:00.000",
          "2025-07-01T00:00:00.000",
          "2025-08-01T00:00:00.000",
          "2025-09-01T00:00:00.000"
         ],
         "xaxis": "x",
         "y": [
          2612,
          2192,
          3205,
          3255,
          7170,
          6458,
          7150,
          6006,
          0
         ],
         "yaxis": "y"
        },
        {
         "hovertemplate": "bus_route=B49<br>month=%{x}<br>ridership=%{y}<extra></extra>",
         "legendgroup": "B49",
         "line": {
          "color": "#B6E880",
          "dash": "solid"
         },
         "marker": {
          "symbol": "circle"
         },
         "mode": "lines",
         "name": "B49",
         "showlegend": true,
         "type": "scattergl",
         "x": [
          "2025-01-01T00:00:00.000",
          "2025-02-01T00:00:00.000",
          "2025-03-01T00:00:00.000",
          "2025-04-01T00:00:00.000",
          "2025-05-01T00:00:00.000",
          "2025-06-01T00:00:00.000",
          "2025-07-01T00:00:00.000",
          "2025-08-01T00:00:00.000",
          "2025-09-01T00:00:00.000"
         ],
         "xaxis": "x",
         "y": [
          7283,
          6819,
          10851,
          10700,
          21118,
          19564,
          19466,
          16829,
          0
         ],
         "yaxis": "y"
        },
        {
         "hovertemplate": "bus_route=B52<br>month=%{x}<br>ridership=%{y}<extra></extra>",
         "legendgroup": "B52",
         "line": {
          "color": "#FF97FF",
          "dash": "solid"
         },
         "marker": {
          "symbol": "circle"
         },
         "mode": "lines",
         "name": "B52",
         "showlegend": true,
         "type": "scattergl",
         "x": [
          "2025-01-01T00:00:00.000",
          "2025-02-01T00:00:00.000",
          "2025-03-01T00:00:00.000",
          "2025-04-01T00:00:00.000",
          "2025-05-01T00:00:00.000",
          "2025-06-01T00:00:00.000",
          "2025-07-01T00:00:00.000",
          "2025-08-01T00:00:00.000",
          "2025-09-01T00:00:00.000"
         ],
         "xaxis": "x",
         "y": [
          8225,
          7138,
          10915,
          10855,
          22535,
          21422,
          19814,
          17843,
          0
         ],
         "yaxis": "y"
        },
        {
         "hovertemplate": "bus_route=B54<br>month=%{x}<br>ridership=%{y}<extra></extra>",
         "legendgroup": "B54",
         "line": {
          "color": "#FECB52",
          "dash": "solid"
         },
         "marker": {
          "symbol": "circle"
         },
         "mode": "lines",
         "name": "B54",
         "showlegend": true,
         "type": "scattergl",
         "x": [
          "2025-01-01T00:00:00.000",
          "2025-02-01T00:00:00.000",
          "2025-03-01T00:00:00.000",
          "2025-04-01T00:00:00.000",
          "2025-05-01T00:00:00.000",
          "2025-06-01T00:00:00.000",
          "2025-07-01T00:00:00.000",
          "2025-08-01T00:00:00.000",
          "2025-09-01T00:00:00.000"
         ],
         "xaxis": "x",
         "y": [
          7615,
          6927,
          10730,
          10272,
          20405,
          19141,
          17678,
          15777,
          0
         ],
         "yaxis": "y"
        },
        {
         "hovertemplate": "bus_route=B57<br>month=%{x}<br>ridership=%{y}<extra></extra>",
         "legendgroup": "B57",
         "line": {
          "color": "#636efa",
          "dash": "solid"
         },
         "marker": {
          "symbol": "circle"
         },
         "mode": "lines",
         "name": "B57",
         "showlegend": true,
         "type": "scattergl",
         "x": [
          "2025-01-01T00:00:00.000",
          "2025-02-01T00:00:00.000",
          "2025-03-01T00:00:00.000",
          "2025-04-01T00:00:00.000",
          "2025-05-01T00:00:00.000",
          "2025-06-01T00:00:00.000",
          "2025-07-01T00:00:00.000",
          "2025-08-01T00:00:00.000",
          "2025-09-01T00:00:00.000"
         ],
         "xaxis": "x",
         "y": [
          7282,
          6712,
          10146,
          9903,
          20432,
          19370,
          20887,
          18947,
          0
         ],
         "yaxis": "y"
        },
        {
         "hovertemplate": "bus_route=B6<br>month=%{x}<br>ridership=%{y}<extra></extra>",
         "legendgroup": "B6",
         "line": {
          "color": "#EF553B",
          "dash": "solid"
         },
         "marker": {
          "symbol": "circle"
         },
         "mode": "lines",
         "name": "B6",
         "showlegend": true,
         "type": "scattergl",
         "x": [
          "2025-01-01T00:00:00.000",
          "2025-02-01T00:00:00.000",
          "2025-03-01T00:00:00.000",
          "2025-04-01T00:00:00.000",
          "2025-05-01T00:00:00.000",
          "2025-06-01T00:00:00.000",
          "2025-07-01T00:00:00.000",
          "2025-08-01T00:00:00.000",
          "2025-09-01T00:00:00.000"
         ],
         "xaxis": "x",
         "y": [
          22283,
          20144,
          32314,
          30982,
          64397,
          63793,
          61226,
          53375,
          0
         ],
         "yaxis": "y"
        },
        {
         "hovertemplate": "bus_route=B60<br>month=%{x}<br>ridership=%{y}<extra></extra>",
         "legendgroup": "B60",
         "line": {
          "color": "#00cc96",
          "dash": "solid"
         },
         "marker": {
          "symbol": "circle"
         },
         "mode": "lines",
         "name": "B60",
         "showlegend": true,
         "type": "scattergl",
         "x": [
          "2025-01-01T00:00:00.000",
          "2025-02-01T00:00:00.000",
          "2025-03-01T00:00:00.000",
          "2025-04-01T00:00:00.000",
          "2025-05-01T00:00:00.000",
          "2025-06-01T00:00:00.000",
          "2025-07-01T00:00:00.000",
          "2025-08-01T00:00:00.000",
          "2025-09-01T00:00:00.000"
         ],
         "xaxis": "x",
         "y": [
          7048,
          6325,
          9748,
          9625,
          19561,
          18898,
          18574,
          16249,
          0
         ],
         "yaxis": "y"
        },
        {
         "hovertemplate": "bus_route=B61<br>month=%{x}<br>ridership=%{y}<extra></extra>",
         "legendgroup": "B61",
         "line": {
          "color": "#ab63fa",
          "dash": "solid"
         },
         "marker": {
          "symbol": "circle"
         },
         "mode": "lines",
         "name": "B61",
         "showlegend": true,
         "type": "scattergl",
         "x": [
          "2025-01-01T00:00:00.000",
          "2025-02-01T00:00:00.000",
          "2025-03-01T00:00:00.000",
          "2025-04-01T00:00:00.000",
          "2025-05-01T00:00:00.000",
          "2025-06-01T00:00:00.000",
          "2025-07-01T00:00:00.000",
          "2025-08-01T00:00:00.000",
          "2025-09-01T00:00:00.000"
         ],
         "xaxis": "x",
         "y": [
          8943,
          7675,
          11862,
          11763,
          24004,
          23908,
          24268,
          21945,
          0
         ],
         "yaxis": "y"
        },
        {
         "hovertemplate": "bus_route=B62<br>month=%{x}<br>ridership=%{y}<extra></extra>",
         "legendgroup": "B62",
         "line": {
          "color": "#FFA15A",
          "dash": "solid"
         },
         "marker": {
          "symbol": "circle"
         },
         "mode": "lines",
         "name": "B62",
         "showlegend": true,
         "type": "scattergl",
         "x": [
          "2025-01-01T00:00:00.000",
          "2025-02-01T00:00:00.000",
          "2025-03-01T00:00:00.000",
          "2025-04-01T00:00:00.000",
          "2025-05-01T00:00:00.000",
          "2025-06-01T00:00:00.000",
          "2025-07-01T00:00:00.000",
          "2025-08-01T00:00:00.000",
          "2025-09-01T00:00:00.000"
         ],
         "xaxis": "x",
         "y": [
          6339,
          5732,
          7716,
          7820,
          16323,
          15419,
          15302,
          12927,
          0
         ],
         "yaxis": "y"
        },
        {
         "hovertemplate": "bus_route=B63<br>month=%{x}<br>ridership=%{y}<extra></extra>",
         "legendgroup": "B63",
         "line": {
          "color": "#19d3f3",
          "dash": "solid"
         },
         "marker": {
          "symbol": "circle"
         },
         "mode": "lines",
         "name": "B63",
         "showlegend": true,
         "type": "scattergl",
         "x": [
          "2025-01-01T00:00:00.000",
          "2025-02-01T00:00:00.000",
          "2025-03-01T00:00:00.000",
          "2025-04-01T00:00:00.000",
          "2025-05-01T00:00:00.000",
          "2025-06-01T00:00:00.000",
          "2025-07-01T00:00:00.000",
          "2025-08-01T00:00:00.000",
          "2025-09-01T00:00:00.000"
         ],
         "xaxis": "x",
         "y": [
          10007,
          9374,
          14527,
          14978,
          29639,
          28564,
          32763,
          28289,
          0
         ],
         "yaxis": "y"
        },
        {
         "hovertemplate": "bus_route=B64<br>month=%{x}<br>ridership=%{y}<extra></extra>",
         "legendgroup": "B64",
         "line": {
          "color": "#FF6692",
          "dash": "solid"
         },
         "marker": {
          "symbol": "circle"
         },
         "mode": "lines",
         "name": "B64",
         "showlegend": true,
         "type": "scattergl",
         "x": [
          "2025-01-01T00:00:00.000",
          "2025-02-01T00:00:00.000",
          "2025-03-01T00:00:00.000",
          "2025-04-01T00:00:00.000",
          "2025-05-01T00:00:00.000",
          "2025-06-01T00:00:00.000",
          "2025-07-01T00:00:00.000",
          "2025-08-01T00:00:00.000",
          "2025-09-01T00:00:00.000"
         ],
         "xaxis": "x",
         "y": [
          5926,
          5219,
          8086,
          8145,
          17553,
          16990,
          18550,
          14924,
          0
         ],
         "yaxis": "y"
        },
        {
         "hovertemplate": "bus_route=B65<br>month=%{x}<br>ridership=%{y}<extra></extra>",
         "legendgroup": "B65",
         "line": {
          "color": "#B6E880",
          "dash": "solid"
         },
         "marker": {
          "symbol": "circle"
         },
         "mode": "lines",
         "name": "B65",
         "showlegend": true,
         "type": "scattergl",
         "x": [
          "2025-01-01T00:00:00.000",
          "2025-02-01T00:00:00.000",
          "2025-03-01T00:00:00.000",
          "2025-04-01T00:00:00.000",
          "2025-05-01T00:00:00.000",
          "2025-06-01T00:00:00.000",
          "2025-07-01T00:00:00.000",
          "2025-08-01T00:00:00.000",
          "2025-09-01T00:00:00.000"
         ],
         "xaxis": "x",
         "y": [
          2319,
          2088,
          3355,
          3463,
          6723,
          6418,
          6905,
          5950,
          0
         ],
         "yaxis": "y"
        },
        {
         "hovertemplate": "bus_route=B67<br>month=%{x}<br>ridership=%{y}<extra></extra>",
         "legendgroup": "B67",
         "line": {
          "color": "#FF97FF",
          "dash": "solid"
         },
         "marker": {
          "symbol": "circle"
         },
         "mode": "lines",
         "name": "B67",
         "showlegend": true,
         "type": "scattergl",
         "x": [
          "2025-01-01T00:00:00.000",
          "2025-02-01T00:00:00.000",
          "2025-03-01T00:00:00.000",
          "2025-04-01T00:00:00.000",
          "2025-05-01T00:00:00.000",
          "2025-06-01T00:00:00.000",
          "2025-07-01T00:00:00.000",
          "2025-08-01T00:00:00.000",
          "2025-09-01T00:00:00.000"
         ],
         "xaxis": "x",
         "y": [
          2867,
          2464,
          3814,
          3747,
          7669,
          7232,
          6720,
          5713,
          0
         ],
         "yaxis": "y"
        },
        {
         "hovertemplate": "bus_route=B68<br>month=%{x}<br>ridership=%{y}<extra></extra>",
         "legendgroup": "B68",
         "line": {
          "color": "#FECB52",
          "dash": "solid"
         },
         "marker": {
          "symbol": "circle"
         },
         "mode": "lines",
         "name": "B68",
         "showlegend": true,
         "type": "scattergl",
         "x": [
          "2025-01-01T00:00:00.000",
          "2025-02-01T00:00:00.000",
          "2025-03-01T00:00:00.000",
          "2025-04-01T00:00:00.000",
          "2025-05-01T00:00:00.000",
          "2025-06-01T00:00:00.000",
          "2025-07-01T00:00:00.000",
          "2025-08-01T00:00:00.000",
          "2025-09-01T00:00:00.000"
         ],
         "xaxis": "x",
         "y": [
          9604,
          8220,
          13802,
          13799,
          28234,
          24968,
          26611,
          21438,
          0
         ],
         "yaxis": "y"
        },
        {
         "hovertemplate": "bus_route=B69<br>month=%{x}<br>ridership=%{y}<extra></extra>",
         "legendgroup": "B69",
         "line": {
          "color": "#636efa",
          "dash": "solid"
         },
         "marker": {
          "symbol": "circle"
         },
         "mode": "lines",
         "name": "B69",
         "showlegend": true,
         "type": "scattergl",
         "x": [
          "2025-01-01T00:00:00.000",
          "2025-02-01T00:00:00.000",
          "2025-03-01T00:00:00.000",
          "2025-04-01T00:00:00.000",
          "2025-05-01T00:00:00.000",
          "2025-06-01T00:00:00.000",
          "2025-07-01T00:00:00.000",
          "2025-08-01T00:00:00.000",
          "2025-09-01T00:00:00.000"
         ],
         "xaxis": "x",
         "y": [
          2487,
          2042,
          3391,
          3088,
          6616,
          6044,
          6115,
          4818,
          0
         ],
         "yaxis": "y"
        },
        {
         "hovertemplate": "bus_route=B7<br>month=%{x}<br>ridership=%{y}<extra></extra>",
         "legendgroup": "B7",
         "line": {
          "color": "#EF553B",
          "dash": "solid"
         },
         "marker": {
          "symbol": "circle"
         },
         "mode": "lines",
         "name": "B7",
         "showlegend": true,
         "type": "scattergl",
         "x": [
          "2025-01-01T00:00:00.000",
          "2025-02-01T00:00:00.000",
          "2025-03-01T00:00:00.000",
          "2025-04-01T00:00:00.000",
          "2025-05-01T00:00:00.000",
          "2025-06-01T00:00:00.000",
          "2025-07-01T00:00:00.000",
          "2025-08-01T00:00:00.000",
          "2025-09-01T00:00:00.000"
         ],
         "xaxis": "x",
         "y": [
          3268,
          3079,
          4763,
          4714,
          9548,
          8728,
          8610,
          8153,
          0
         ],
         "yaxis": "y"
        },
        {
         "hovertemplate": "bus_route=B70<br>month=%{x}<br>ridership=%{y}<extra></extra>",
         "legendgroup": "B70",
         "line": {
          "color": "#00cc96",
          "dash": "solid"
         },
         "marker": {
          "symbol": "circle"
         },
         "mode": "lines",
         "name": "B70",
         "showlegend": true,
         "type": "scattergl",
         "x": [
          "2025-01-01T00:00:00.000",
          "2025-02-01T00:00:00.000",
          "2025-03-01T00:00:00.000",
          "2025-04-01T00:00:00.000",
          "2025-05-01T00:00:00.000",
          "2025-06-01T00:00:00.000",
          "2025-07-01T00:00:00.000",
          "2025-08-01T00:00:00.000",
          "2025-09-01T00:00:00.000"
         ],
         "xaxis": "x",
         "y": [
          9033,
          7613,
          12983,
          12850,
          26516,
          27980,
          28635,
          25899,
          0
         ],
         "yaxis": "y"
        },
        {
         "hovertemplate": "bus_route=B74<br>month=%{x}<br>ridership=%{y}<extra></extra>",
         "legendgroup": "B74",
         "line": {
          "color": "#ab63fa",
          "dash": "solid"
         },
         "marker": {
          "symbol": "circle"
         },
         "mode": "lines",
         "name": "B74",
         "showlegend": true,
         "type": "scattergl",
         "x": [
          "2025-01-01T00:00:00.000",
          "2025-02-01T00:00:00.000",
          "2025-03-01T00:00:00.000",
          "2025-04-01T00:00:00.000",
          "2025-05-01T00:00:00.000",
          "2025-06-01T00:00:00.000",
          "2025-07-01T00:00:00.000",
          "2025-08-01T00:00:00.000",
          "2025-09-01T00:00:00.000"
         ],
         "xaxis": "x",
         "y": [
          4556,
          4005,
          5906,
          6367,
          12549,
          11296,
          13569,
          12215,
          0
         ],
         "yaxis": "y"
        },
        {
         "hovertemplate": "bus_route=B8<br>month=%{x}<br>ridership=%{y}<extra></extra>",
         "legendgroup": "B8",
         "line": {
          "color": "#FFA15A",
          "dash": "solid"
         },
         "marker": {
          "symbol": "circle"
         },
         "mode": "lines",
         "name": "B8",
         "showlegend": true,
         "type": "scattergl",
         "x": [
          "2025-01-01T00:00:00.000",
          "2025-02-01T00:00:00.000",
          "2025-03-01T00:00:00.000",
          "2025-04-01T00:00:00.000",
          "2025-05-01T00:00:00.000",
          "2025-06-01T00:00:00.000",
          "2025-07-01T00:00:00.000",
          "2025-08-01T00:00:00.000",
          "2025-09-01T00:00:00.000"
         ],
         "xaxis": "x",
         "y": [
          13262,
          11613,
          18358,
          18323,
          36929,
          38452,
          37146,
          31052,
          0
         ],
         "yaxis": "y"
        },
        {
         "hovertemplate": "bus_route=B82<br>month=%{x}<br>ridership=%{y}<extra></extra>",
         "legendgroup": "B82",
         "line": {
          "color": "#19d3f3",
          "dash": "solid"
         },
         "marker": {
          "symbol": "circle"
         },
         "mode": "lines",
         "name": "B82",
         "showlegend": true,
         "type": "scattergl",
         "x": [
          "2025-01-01T00:00:00.000",
          "2025-02-01T00:00:00.000",
          "2025-03-01T00:00:00.000",
          "2025-04-01T00:00:00.000",
          "2025-05-01T00:00:00.000",
          "2025-06-01T00:00:00.000",
          "2025-07-01T00:00:00.000",
          "2025-08-01T00:00:00.000",
          "2025-09-01T00:00:00.000"
         ],
         "xaxis": "x",
         "y": [
          12660,
          11082,
          17856,
          17719,
          38188,
          36941,
          36400,
          31150,
          0
         ],
         "yaxis": "y"
        },
        {
         "hovertemplate": "bus_route=B82+<br>month=%{x}<br>ridership=%{y}<extra></extra>",
         "legendgroup": "B82+",
         "line": {
          "color": "#FF6692",
          "dash": "solid"
         },
         "marker": {
          "symbol": "circle"
         },
         "mode": "lines",
         "name": "B82+",
         "showlegend": true,
         "type": "scattergl",
         "x": [
          "2025-01-01T00:00:00.000",
          "2025-02-01T00:00:00.000",
          "2025-03-01T00:00:00.000",
          "2025-04-01T00:00:00.000",
          "2025-05-01T00:00:00.000",
          "2025-06-01T00:00:00.000",
          "2025-07-01T00:00:00.000",
          "2025-08-01T00:00:00.000",
          "2025-09-01T00:00:00.000"
         ],
         "xaxis": "x",
         "y": [
          7970,
          6066,
          9206,
          10197,
          21143,
          22281,
          22656,
          19422,
          0
         ],
         "yaxis": "y"
        },
        {
         "hovertemplate": "bus_route=B83<br>month=%{x}<br>ridership=%{y}<extra></extra>",
         "legendgroup": "B83",
         "line": {
          "color": "#B6E880",
          "dash": "solid"
         },
         "marker": {
          "symbol": "circle"
         },
         "mode": "lines",
         "name": "B83",
         "showlegend": true,
         "type": "scattergl",
         "x": [
          "2025-01-01T00:00:00.000",
          "2025-02-01T00:00:00.000",
          "2025-03-01T00:00:00.000",
          "2025-04-01T00:00:00.000",
          "2025-05-01T00:00:00.000",
          "2025-06-01T00:00:00.000",
          "2025-07-01T00:00:00.000",
          "2025-08-01T00:00:00.000",
          "2025-09-01T00:00:00.000"
         ],
         "xaxis": "x",
         "y": [
          5485,
          4626,
          7821,
          7907,
          15222,
          14788,
          14899,
          12588,
          0
         ],
         "yaxis": "y"
        },
        {
         "hovertemplate": "bus_route=B84<br>month=%{x}<br>ridership=%{y}<extra></extra>",
         "legendgroup": "B84",
         "line": {
          "color": "#FF97FF",
          "dash": "solid"
         },
         "marker": {
          "symbol": "circle"
         },
         "mode": "lines",
         "name": "B84",
         "showlegend": true,
         "type": "scattergl",
         "x": [
          "2025-01-01T00:00:00.000",
          "2025-02-01T00:00:00.000",
          "2025-03-01T00:00:00.000",
          "2025-04-01T00:00:00.000",
          "2025-05-01T00:00:00.000",
          "2025-06-01T00:00:00.000",
          "2025-07-01T00:00:00.000",
          "2025-08-01T00:00:00.000",
          "2025-09-01T00:00:00.000"
         ],
         "xaxis": "x",
         "y": [
          324,
          313,
          456,
          481,
          1011,
          835,
          1105,
          964,
          0
         ],
         "yaxis": "y"
        },
        {
         "hovertemplate": "bus_route=B9<br>month=%{x}<br>ridership=%{y}<extra></extra>",
         "legendgroup": "B9",
         "line": {
          "color": "#FECB52",
          "dash": "solid"
         },
         "marker": {
          "symbol": "circle"
         },
         "mode": "lines",
         "name": "B9",
         "showlegend": true,
         "type": "scattergl",
         "x": [
          "2025-01-01T00:00:00.000",
          "2025-02-01T00:00:00.000",
          "2025-03-01T00:00:00.000",
          "2025-04-01T00:00:00.000",
          "2025-05-01T00:00:00.000",
          "2025-06-01T00:00:00.000",
          "2025-07-01T00:00:00.000",
          "2025-08-01T00:00:00.000",
          "2025-09-01T00:00:00.000"
         ],
         "xaxis": "x",
         "y": [
          12519,
          10702,
          16489,
          16085,
          33125,
          34581,
          32393,
          28487,
          0
         ],
         "yaxis": "y"
        },
        {
         "hovertemplate": "bus_route=B90<br>month=%{x}<br>ridership=%{y}<extra></extra>",
         "legendgroup": "B90",
         "line": {
          "color": "#636efa",
          "dash": "solid"
         },
         "marker": {
          "symbol": "circle"
         },
         "mode": "lines",
         "name": "B90",
         "showlegend": true,
         "type": "scattergl",
         "x": [
          "2025-01-01T00:00:00.000",
          "2025-02-01T00:00:00.000",
          "2025-03-01T00:00:00.000",
          "2025-04-01T00:00:00.000",
          "2025-05-01T00:00:00.000",
          "2025-06-01T00:00:00.000",
          "2025-07-01T00:00:00.000",
          "2025-08-01T00:00:00.000",
          "2025-09-01T00:00:00.000"
         ],
         "xaxis": "x",
         "y": [
          0,
          0,
          0,
          0,
          0,
          0,
          0,
          0,
          0
         ],
         "yaxis": "y"
        },
        {
         "hovertemplate": "bus_route=B91<br>month=%{x}<br>ridership=%{y}<extra></extra>",
         "legendgroup": "B91",
         "line": {
          "color": "#EF553B",
          "dash": "solid"
         },
         "marker": {
          "symbol": "circle"
         },
         "mode": "lines",
         "name": "B91",
         "showlegend": true,
         "type": "scattergl",
         "x": [
          "2025-01-01T00:00:00.000",
          "2025-02-01T00:00:00.000",
          "2025-03-01T00:00:00.000",
          "2025-04-01T00:00:00.000",
          "2025-05-01T00:00:00.000",
          "2025-06-01T00:00:00.000",
          "2025-07-01T00:00:00.000",
          "2025-08-01T00:00:00.000",
          "2025-09-01T00:00:00.000"
         ],
         "xaxis": "x",
         "y": [
          0,
          0,
          0,
          0,
          0,
          0,
          0,
          0,
          0
         ],
         "yaxis": "y"
        },
        {
         "hovertemplate": "bus_route=B91A<br>month=%{x}<br>ridership=%{y}<extra></extra>",
         "legendgroup": "B91A",
         "line": {
          "color": "#00cc96",
          "dash": "solid"
         },
         "marker": {
          "symbol": "circle"
         },
         "mode": "lines",
         "name": "B91A",
         "showlegend": true,
         "type": "scattergl",
         "x": [
          "2025-01-01T00:00:00.000",
          "2025-02-01T00:00:00.000",
          "2025-03-01T00:00:00.000",
          "2025-04-01T00:00:00.000",
          "2025-05-01T00:00:00.000",
          "2025-06-01T00:00:00.000",
          "2025-07-01T00:00:00.000",
          "2025-08-01T00:00:00.000",
          "2025-09-01T00:00:00.000"
         ],
         "xaxis": "x",
         "y": [
          0,
          0,
          0,
          0,
          0,
          0,
          0,
          0,
          0
         ],
         "yaxis": "y"
        },
        {
         "hovertemplate": "bus_route=B92<br>month=%{x}<br>ridership=%{y}<extra></extra>",
         "legendgroup": "B92",
         "line": {
          "color": "#ab63fa",
          "dash": "solid"
         },
         "marker": {
          "symbol": "circle"
         },
         "mode": "lines",
         "name": "B92",
         "showlegend": true,
         "type": "scattergl",
         "x": [
          "2025-01-01T00:00:00.000",
          "2025-02-01T00:00:00.000",
          "2025-03-01T00:00:00.000",
          "2025-04-01T00:00:00.000",
          "2025-05-01T00:00:00.000",
          "2025-06-01T00:00:00.000",
          "2025-07-01T00:00:00.000",
          "2025-08-01T00:00:00.000",
          "2025-09-01T00:00:00.000"
         ],
         "xaxis": "x",
         "y": [
          0,
          0,
          0,
          0,
          0,
          0,
          0,
          0,
          0
         ],
         "yaxis": "y"
        },
        {
         "hovertemplate": "bus_route=B93<br>month=%{x}<br>ridership=%{y}<extra></extra>",
         "legendgroup": "B93",
         "line": {
          "color": "#FFA15A",
          "dash": "solid"
         },
         "marker": {
          "symbol": "circle"
         },
         "mode": "lines",
         "name": "B93",
         "showlegend": true,
         "type": "scattergl",
         "x": [
          "2025-01-01T00:00:00.000",
          "2025-02-01T00:00:00.000",
          "2025-03-01T00:00:00.000",
          "2025-04-01T00:00:00.000",
          "2025-05-01T00:00:00.000",
          "2025-06-01T00:00:00.000",
          "2025-07-01T00:00:00.000",
          "2025-08-01T00:00:00.000",
          "2025-09-01T00:00:00.000"
         ],
         "xaxis": "x",
         "y": [
          0,
          0,
          13,
          0,
          0,
          0,
          0,
          0,
          0
         ],
         "yaxis": "y"
        },
        {
         "hovertemplate": "bus_route=B94<br>month=%{x}<br>ridership=%{y}<extra></extra>",
         "legendgroup": "B94",
         "line": {
          "color": "#19d3f3",
          "dash": "solid"
         },
         "marker": {
          "symbol": "circle"
         },
         "mode": "lines",
         "name": "B94",
         "showlegend": true,
         "type": "scattergl",
         "x": [
          "2025-01-01T00:00:00.000",
          "2025-02-01T00:00:00.000",
          "2025-03-01T00:00:00.000",
          "2025-04-01T00:00:00.000",
          "2025-05-01T00:00:00.000",
          "2025-06-01T00:00:00.000",
          "2025-07-01T00:00:00.000",
          "2025-08-01T00:00:00.000",
          "2025-09-01T00:00:00.000"
         ],
         "xaxis": "x",
         "y": [
          0,
          0,
          0,
          0,
          0,
          0,
          0,
          0,
          0
         ],
         "yaxis": "y"
        },
        {
         "hovertemplate": "bus_route=B96<br>month=%{x}<br>ridership=%{y}<extra></extra>",
         "legendgroup": "B96",
         "line": {
          "color": "#FF6692",
          "dash": "solid"
         },
         "marker": {
          "symbol": "circle"
         },
         "mode": "lines",
         "name": "B96",
         "showlegend": true,
         "type": "scattergl",
         "x": [
          "2025-01-01T00:00:00.000",
          "2025-02-01T00:00:00.000",
          "2025-03-01T00:00:00.000",
          "2025-04-01T00:00:00.000",
          "2025-05-01T00:00:00.000",
          "2025-06-01T00:00:00.000",
          "2025-07-01T00:00:00.000",
          "2025-08-01T00:00:00.000",
          "2025-09-01T00:00:00.000"
         ],
         "xaxis": "x",
         "y": [
          0,
          0,
          0,
          0,
          0,
          0,
          0,
          0,
          0
         ],
         "yaxis": "y"
        },
        {
         "hovertemplate": "bus_route=B98<br>month=%{x}<br>ridership=%{y}<extra></extra>",
         "legendgroup": "B98",
         "line": {
          "color": "#B6E880",
          "dash": "solid"
         },
         "marker": {
          "symbol": "circle"
         },
         "mode": "lines",
         "name": "B98",
         "showlegend": true,
         "type": "scattergl",
         "x": [
          "2025-01-01T00:00:00.000",
          "2025-02-01T00:00:00.000",
          "2025-03-01T00:00:00.000",
          "2025-04-01T00:00:00.000",
          "2025-05-01T00:00:00.000",
          "2025-06-01T00:00:00.000",
          "2025-07-01T00:00:00.000",
          "2025-08-01T00:00:00.000",
          "2025-09-01T00:00:00.000"
         ],
         "xaxis": "x",
         "y": [
          0,
          0,
          0,
          0,
          0,
          0,
          0,
          2,
          0
         ],
         "yaxis": "y"
        },
        {
         "hovertemplate": "bus_route=B98V<br>month=%{x}<br>ridership=%{y}<extra></extra>",
         "legendgroup": "B98V",
         "line": {
          "color": "#FF97FF",
          "dash": "solid"
         },
         "marker": {
          "symbol": "circle"
         },
         "mode": "lines",
         "name": "B98V",
         "showlegend": true,
         "type": "scattergl",
         "x": [
          "2025-01-01T00:00:00.000",
          "2025-02-01T00:00:00.000",
          "2025-03-01T00:00:00.000",
          "2025-04-01T00:00:00.000",
          "2025-05-01T00:00:00.000",
          "2025-06-01T00:00:00.000",
          "2025-07-01T00:00:00.000",
          "2025-08-01T00:00:00.000",
          "2025-09-01T00:00:00.000"
         ],
         "xaxis": "x",
         "y": [
          0,
          0,
          0,
          0,
          0,
          0,
          0,
          0,
          0
         ],
         "yaxis": "y"
        },
        {
         "hovertemplate": "bus_route=B99<br>month=%{x}<br>ridership=%{y}<extra></extra>",
         "legendgroup": "B99",
         "line": {
          "color": "#FECB52",
          "dash": "solid"
         },
         "marker": {
          "symbol": "circle"
         },
         "mode": "lines",
         "name": "B99",
         "showlegend": true,
         "type": "scattergl",
         "x": [
          "2025-01-01T00:00:00.000",
          "2025-02-01T00:00:00.000",
          "2025-03-01T00:00:00.000",
          "2025-04-01T00:00:00.000",
          "2025-05-01T00:00:00.000",
          "2025-06-01T00:00:00.000",
          "2025-07-01T00:00:00.000",
          "2025-08-01T00:00:00.000",
          "2025-09-01T00:00:00.000"
         ],
         "xaxis": "x",
         "y": [
          0,
          0,
          0,
          8,
          28,
          0,
          0,
          0,
          0
         ],
         "yaxis": "y"
        },
        {
         "hovertemplate": "bus_route=BM1<br>month=%{x}<br>ridership=%{y}<extra></extra>",
         "legendgroup": "BM1",
         "line": {
          "color": "#636efa",
          "dash": "solid"
         },
         "marker": {
          "symbol": "circle"
         },
         "mode": "lines",
         "name": "BM1",
         "showlegend": true,
         "type": "scattergl",
         "x": [
          "2025-01-01T00:00:00.000",
          "2025-02-01T00:00:00.000",
          "2025-03-01T00:00:00.000",
          "2025-04-01T00:00:00.000",
          "2025-05-01T00:00:00.000",
          "2025-06-01T00:00:00.000",
          "2025-07-01T00:00:00.000",
          "2025-08-01T00:00:00.000",
          "2025-09-01T00:00:00.000"
         ],
         "xaxis": "x",
         "y": [
          0,
          0,
          8,
          16,
          62,
          120,
          124,
          199,
          0
         ],
         "yaxis": "y"
        },
        {
         "hovertemplate": "bus_route=BM2<br>month=%{x}<br>ridership=%{y}<extra></extra>",
         "legendgroup": "BM2",
         "line": {
          "color": "#EF553B",
          "dash": "solid"
         },
         "marker": {
          "symbol": "circle"
         },
         "mode": "lines",
         "name": "BM2",
         "showlegend": true,
         "type": "scattergl",
         "x": [
          "2025-01-01T00:00:00.000",
          "2025-02-01T00:00:00.000",
          "2025-03-01T00:00:00.000",
          "2025-04-01T00:00:00.000",
          "2025-05-01T00:00:00.000",
          "2025-06-01T00:00:00.000",
          "2025-07-01T00:00:00.000",
          "2025-08-01T00:00:00.000",
          "2025-09-01T00:00:00.000"
         ],
         "xaxis": "x",
         "y": [
          3,
          0,
          18,
          60,
          168,
          340,
          342,
          300,
          0
         ],
         "yaxis": "y"
        },
        {
         "hovertemplate": "bus_route=BM3<br>month=%{x}<br>ridership=%{y}<extra></extra>",
         "legendgroup": "BM3",
         "line": {
          "color": "#00cc96",
          "dash": "solid"
         },
         "marker": {
          "symbol": "circle"
         },
         "mode": "lines",
         "name": "BM3",
         "showlegend": true,
         "type": "scattergl",
         "x": [
          "2025-01-01T00:00:00.000",
          "2025-02-01T00:00:00.000",
          "2025-03-01T00:00:00.000",
          "2025-04-01T00:00:00.000",
          "2025-05-01T00:00:00.000",
          "2025-06-01T00:00:00.000",
          "2025-07-01T00:00:00.000",
          "2025-08-01T00:00:00.000",
          "2025-09-01T00:00:00.000"
         ],
         "xaxis": "x",
         "y": [
          0,
          0,
          7,
          20,
          78,
          120,
          222,
          204,
          0
         ],
         "yaxis": "y"
        },
        {
         "hovertemplate": "bus_route=BM4<br>month=%{x}<br>ridership=%{y}<extra></extra>",
         "legendgroup": "BM4",
         "line": {
          "color": "#ab63fa",
          "dash": "solid"
         },
         "marker": {
          "symbol": "circle"
         },
         "mode": "lines",
         "name": "BM4",
         "showlegend": true,
         "type": "scattergl",
         "x": [
          "2025-01-01T00:00:00.000",
          "2025-02-01T00:00:00.000",
          "2025-03-01T00:00:00.000",
          "2025-04-01T00:00:00.000",
          "2025-05-01T00:00:00.000",
          "2025-06-01T00:00:00.000",
          "2025-07-01T00:00:00.000",
          "2025-08-01T00:00:00.000",
          "2025-09-01T00:00:00.000"
         ],
         "xaxis": "x",
         "y": [
          0,
          2,
          4,
          24,
          40,
          62,
          140,
          146,
          0
         ],
         "yaxis": "y"
        },
        {
         "hovertemplate": "bus_route=BM5<br>month=%{x}<br>ridership=%{y}<extra></extra>",
         "legendgroup": "BM5",
         "line": {
          "color": "#FFA15A",
          "dash": "solid"
         },
         "marker": {
          "symbol": "circle"
         },
         "mode": "lines",
         "name": "BM5",
         "showlegend": true,
         "type": "scattergl",
         "x": [
          "2025-01-01T00:00:00.000",
          "2025-02-01T00:00:00.000",
          "2025-03-01T00:00:00.000",
          "2025-04-01T00:00:00.000",
          "2025-05-01T00:00:00.000",
          "2025-06-01T00:00:00.000",
          "2025-07-01T00:00:00.000",
          "2025-08-01T00:00:00.000",
          "2025-09-01T00:00:00.000"
         ],
         "xaxis": "x",
         "y": [
          0,
          0,
          3,
          14,
          46,
          74,
          268,
          164,
          0
         ],
         "yaxis": "y"
        },
        {
         "hovertemplate": "bus_route=BX1<br>month=%{x}<br>ridership=%{y}<extra></extra>",
         "legendgroup": "BX1",
         "line": {
          "color": "#19d3f3",
          "dash": "solid"
         },
         "marker": {
          "symbol": "circle"
         },
         "mode": "lines",
         "name": "BX1",
         "showlegend": true,
         "type": "scattergl",
         "x": [
          "2025-01-01T00:00:00.000",
          "2025-02-01T00:00:00.000",
          "2025-03-01T00:00:00.000",
          "2025-04-01T00:00:00.000",
          "2025-05-01T00:00:00.000",
          "2025-06-01T00:00:00.000",
          "2025-07-01T00:00:00.000",
          "2025-08-01T00:00:00.000",
          "2025-09-01T00:00:00.000"
         ],
         "xaxis": "x",
         "y": [
          10055,
          10355,
          17977,
          17541,
          34659,
          33937,
          31241,
          28074,
          0
         ],
         "yaxis": "y"
        },
        {
         "hovertemplate": "bus_route=BX10<br>month=%{x}<br>ridership=%{y}<extra></extra>",
         "legendgroup": "BX10",
         "line": {
          "color": "#FF6692",
          "dash": "solid"
         },
         "marker": {
          "symbol": "circle"
         },
         "mode": "lines",
         "name": "BX10",
         "showlegend": true,
         "type": "scattergl",
         "x": [
          "2025-01-01T00:00:00.000",
          "2025-02-01T00:00:00.000",
          "2025-03-01T00:00:00.000",
          "2025-04-01T00:00:00.000",
          "2025-05-01T00:00:00.000",
          "2025-06-01T00:00:00.000",
          "2025-07-01T00:00:00.000",
          "2025-08-01T00:00:00.000",
          "2025-09-01T00:00:00.000"
         ],
         "xaxis": "x",
         "y": [
          5631,
          5559,
          8760,
          9169,
          19055,
          18629,
          17461,
          15472,
          0
         ],
         "yaxis": "y"
        },
        {
         "hovertemplate": "bus_route=BX11<br>month=%{x}<br>ridership=%{y}<extra></extra>",
         "legendgroup": "BX11",
         "line": {
          "color": "#B6E880",
          "dash": "solid"
         },
         "marker": {
          "symbol": "circle"
         },
         "mode": "lines",
         "name": "BX11",
         "showlegend": true,
         "type": "scattergl",
         "x": [
          "2025-01-01T00:00:00.000",
          "2025-02-01T00:00:00.000",
          "2025-03-01T00:00:00.000",
          "2025-04-01T00:00:00.000",
          "2025-05-01T00:00:00.000",
          "2025-06-01T00:00:00.000",
          "2025-07-01T00:00:00.000",
          "2025-08-01T00:00:00.000",
          "2025-09-01T00:00:00.000"
         ],
         "xaxis": "x",
         "y": [
          11019,
          11045,
          16350,
          18434,
          36672,
          35432,
          35161,
          30303,
          0
         ],
         "yaxis": "y"
        },
        {
         "hovertemplate": "bus_route=BX12<br>month=%{x}<br>ridership=%{y}<extra></extra>",
         "legendgroup": "BX12",
         "line": {
          "color": "#FF97FF",
          "dash": "solid"
         },
         "marker": {
          "symbol": "circle"
         },
         "mode": "lines",
         "name": "BX12",
         "showlegend": true,
         "type": "scattergl",
         "x": [
          "2025-01-01T00:00:00.000",
          "2025-02-01T00:00:00.000",
          "2025-03-01T00:00:00.000",
          "2025-04-01T00:00:00.000",
          "2025-05-01T00:00:00.000",
          "2025-06-01T00:00:00.000",
          "2025-07-01T00:00:00.000",
          "2025-08-01T00:00:00.000",
          "2025-09-01T00:00:00.000"
         ],
         "xaxis": "x",
         "y": [
          5213,
          4932,
          8927,
          9875,
          14231,
          20840,
          23836,
          20284,
          0
         ],
         "yaxis": "y"
        },
        {
         "hovertemplate": "bus_route=BX12+<br>month=%{x}<br>ridership=%{y}<extra></extra>",
         "legendgroup": "BX12+",
         "line": {
          "color": "#FECB52",
          "dash": "solid"
         },
         "marker": {
          "symbol": "circle"
         },
         "mode": "lines",
         "name": "BX12+",
         "showlegend": true,
         "type": "scattergl",
         "x": [
          "2025-01-01T00:00:00.000",
          "2025-02-01T00:00:00.000",
          "2025-03-01T00:00:00.000",
          "2025-04-01T00:00:00.000",
          "2025-05-01T00:00:00.000",
          "2025-06-01T00:00:00.000",
          "2025-07-01T00:00:00.000",
          "2025-08-01T00:00:00.000",
          "2025-09-01T00:00:00.000"
         ],
         "xaxis": "x",
         "y": [
          18779,
          20347,
          34849,
          35037,
          72835,
          70483,
          68408,
          61408,
          0
         ],
         "yaxis": "y"
        },
        {
         "hovertemplate": "bus_route=BX13<br>month=%{x}<br>ridership=%{y}<extra></extra>",
         "legendgroup": "BX13",
         "line": {
          "color": "#636efa",
          "dash": "solid"
         },
         "marker": {
          "symbol": "circle"
         },
         "mode": "lines",
         "name": "BX13",
         "showlegend": true,
         "type": "scattergl",
         "x": [
          "2025-01-01T00:00:00.000",
          "2025-02-01T00:00:00.000",
          "2025-03-01T00:00:00.000",
          "2025-04-01T00:00:00.000",
          "2025-05-01T00:00:00.000",
          "2025-06-01T00:00:00.000",
          "2025-07-01T00:00:00.000",
          "2025-08-01T00:00:00.000",
          "2025-09-01T00:00:00.000"
         ],
         "xaxis": "x",
         "y": [
          12245,
          12906,
          20837,
          21120,
          40936,
          39574,
          36287,
          31036,
          0
         ],
         "yaxis": "y"
        },
        {
         "hovertemplate": "bus_route=BX15<br>month=%{x}<br>ridership=%{y}<extra></extra>",
         "legendgroup": "BX15",
         "line": {
          "color": "#EF553B",
          "dash": "solid"
         },
         "marker": {
          "symbol": "circle"
         },
         "mode": "lines",
         "name": "BX15",
         "showlegend": true,
         "type": "scattergl",
         "x": [
          "2025-01-01T00:00:00.000",
          "2025-02-01T00:00:00.000",
          "2025-03-01T00:00:00.000",
          "2025-04-01T00:00:00.000",
          "2025-05-01T00:00:00.000",
          "2025-06-01T00:00:00.000",
          "2025-07-01T00:00:00.000",
          "2025-08-01T00:00:00.000",
          "2025-09-01T00:00:00.000"
         ],
         "xaxis": "x",
         "y": [
          7348,
          7692,
          12877,
          12763,
          25480,
          26774,
          25431,
          23773,
          0
         ],
         "yaxis": "y"
        },
        {
         "hovertemplate": "bus_route=BX16<br>month=%{x}<br>ridership=%{y}<extra></extra>",
         "legendgroup": "BX16",
         "line": {
          "color": "#00cc96",
          "dash": "solid"
         },
         "marker": {
          "symbol": "circle"
         },
         "mode": "lines",
         "name": "BX16",
         "showlegend": true,
         "type": "scattergl",
         "x": [
          "2025-01-01T00:00:00.000",
          "2025-02-01T00:00:00.000",
          "2025-03-01T00:00:00.000",
          "2025-04-01T00:00:00.000",
          "2025-05-01T00:00:00.000",
          "2025-06-01T00:00:00.000",
          "2025-07-01T00:00:00.000",
          "2025-08-01T00:00:00.000",
          "2025-09-01T00:00:00.000"
         ],
         "xaxis": "x",
         "y": [
          3868,
          3205,
          5543,
          5499,
          6966,
          10526,
          10751,
          9138,
          0
         ],
         "yaxis": "y"
        },
        {
         "hovertemplate": "bus_route=BX17<br>month=%{x}<br>ridership=%{y}<extra></extra>",
         "legendgroup": "BX17",
         "line": {
          "color": "#ab63fa",
          "dash": "solid"
         },
         "marker": {
          "symbol": "circle"
         },
         "mode": "lines",
         "name": "BX17",
         "showlegend": true,
         "type": "scattergl",
         "x": [
          "2025-01-01T00:00:00.000",
          "2025-02-01T00:00:00.000",
          "2025-03-01T00:00:00.000",
          "2025-04-01T00:00:00.000",
          "2025-05-01T00:00:00.000",
          "2025-06-01T00:00:00.000",
          "2025-07-01T00:00:00.000",
          "2025-08-01T00:00:00.000",
          "2025-09-01T00:00:00.000"
         ],
         "xaxis": "x",
         "y": [
          4962,
          5383,
          8022,
          9621,
          19258,
          18745,
          19685,
          16485,
          0
         ],
         "yaxis": "y"
        },
        {
         "hovertemplate": "bus_route=BX18<br>month=%{x}<br>ridership=%{y}<extra></extra>",
         "legendgroup": "BX18",
         "line": {
          "color": "#FFA15A",
          "dash": "solid"
         },
         "marker": {
          "symbol": "circle"
         },
         "mode": "lines",
         "name": "BX18",
         "showlegend": true,
         "type": "scattergl",
         "x": [
          "2025-01-01T00:00:00.000",
          "2025-02-01T00:00:00.000",
          "2025-03-01T00:00:00.000",
          "2025-04-01T00:00:00.000",
          "2025-05-01T00:00:00.000",
          "2025-06-01T00:00:00.000",
          "2025-07-01T00:00:00.000",
          "2025-08-01T00:00:00.000",
          "2025-09-01T00:00:00.000"
         ],
         "xaxis": "x",
         "y": [
          0,
          0,
          0,
          0,
          0,
          0,
          0,
          0,
          0
         ],
         "yaxis": "y"
        },
        {
         "hovertemplate": "bus_route=BX18A<br>month=%{x}<br>ridership=%{y}<extra></extra>",
         "legendgroup": "BX18A",
         "line": {
          "color": "#19d3f3",
          "dash": "solid"
         },
         "marker": {
          "symbol": "circle"
         },
         "mode": "lines",
         "name": "BX18A",
         "showlegend": true,
         "type": "scattergl",
         "x": [
          "2025-01-01T00:00:00.000",
          "2025-02-01T00:00:00.000",
          "2025-03-01T00:00:00.000",
          "2025-04-01T00:00:00.000",
          "2025-05-01T00:00:00.000",
          "2025-06-01T00:00:00.000",
          "2025-07-01T00:00:00.000",
          "2025-08-01T00:00:00.000",
          "2025-09-01T00:00:00.000"
         ],
         "xaxis": "x",
         "y": [
          1607,
          1564,
          2577,
          2560,
          5006,
          4592,
          4261,
          4066,
          0
         ],
         "yaxis": "y"
        },
        {
         "hovertemplate": "bus_route=BX18B<br>month=%{x}<br>ridership=%{y}<extra></extra>",
         "legendgroup": "BX18B",
         "line": {
          "color": "#FF6692",
          "dash": "solid"
         },
         "marker": {
          "symbol": "circle"
         },
         "mode": "lines",
         "name": "BX18B",
         "showlegend": true,
         "type": "scattergl",
         "x": [
          "2025-01-01T00:00:00.000",
          "2025-02-01T00:00:00.000",
          "2025-03-01T00:00:00.000",
          "2025-04-01T00:00:00.000",
          "2025-05-01T00:00:00.000",
          "2025-06-01T00:00:00.000",
          "2025-07-01T00:00:00.000",
          "2025-08-01T00:00:00.000",
          "2025-09-01T00:00:00.000"
         ],
         "xaxis": "x",
         "y": [
          2099,
          2130,
          3573,
          3551,
          7121,
          6311,
          6086,
          5289,
          0
         ],
         "yaxis": "y"
        },
        {
         "hovertemplate": "bus_route=BX19<br>month=%{x}<br>ridership=%{y}<extra></extra>",
         "legendgroup": "BX19",
         "line": {
          "color": "#B6E880",
          "dash": "solid"
         },
         "marker": {
          "symbol": "circle"
         },
         "mode": "lines",
         "name": "BX19",
         "showlegend": true,
         "type": "scattergl",
         "x": [
          "2025-01-01T00:00:00.000",
          "2025-02-01T00:00:00.000",
          "2025-03-01T00:00:00.000",
          "2025-04-01T00:00:00.000",
          "2025-05-01T00:00:00.000",
          "2025-06-01T00:00:00.000",
          "2025-07-01T00:00:00.000",
          "2025-08-01T00:00:00.000",
          "2025-09-01T00:00:00.000"
         ],
         "xaxis": "x",
         "y": [
          19333,
          19003,
          28015,
          31939,
          62993,
          60409,
          61214,
          50781,
          0
         ],
         "yaxis": "y"
        },
        {
         "hovertemplate": "bus_route=BX2<br>month=%{x}<br>ridership=%{y}<extra></extra>",
         "legendgroup": "BX2",
         "line": {
          "color": "#FF97FF",
          "dash": "solid"
         },
         "marker": {
          "symbol": "circle"
         },
         "mode": "lines",
         "name": "BX2",
         "showlegend": true,
         "type": "scattergl",
         "x": [
          "2025-01-01T00:00:00.000",
          "2025-02-01T00:00:00.000",
          "2025-03-01T00:00:00.000",
          "2025-04-01T00:00:00.000",
          "2025-05-01T00:00:00.000",
          "2025-06-01T00:00:00.000",
          "2025-07-01T00:00:00.000",
          "2025-08-01T00:00:00.000",
          "2025-09-01T00:00:00.000"
         ],
         "xaxis": "x",
         "y": [
          11993,
          12179,
          19708,
          19507,
          37543,
          37644,
          35563,
          31157,
          0
         ],
         "yaxis": "y"
        },
        {
         "hovertemplate": "bus_route=BX20<br>month=%{x}<br>ridership=%{y}<extra></extra>",
         "legendgroup": "BX20",
         "line": {
          "color": "#FECB52",
          "dash": "solid"
         },
         "marker": {
          "symbol": "circle"
         },
         "mode": "lines",
         "name": "BX20",
         "showlegend": true,
         "type": "scattergl",
         "x": [
          "2025-01-01T00:00:00.000",
          "2025-02-01T00:00:00.000",
          "2025-03-01T00:00:00.000",
          "2025-04-01T00:00:00.000",
          "2025-05-01T00:00:00.000",
          "2025-06-01T00:00:00.000",
          "2025-07-01T00:00:00.000",
          "2025-08-01T00:00:00.000",
          "2025-09-01T00:00:00.000"
         ],
         "xaxis": "x",
         "y": [
          277,
          277,
          427,
          419,
          879,
          797,
          671,
          560,
          0
         ],
         "yaxis": "y"
        },
        {
         "hovertemplate": "bus_route=BX21<br>month=%{x}<br>ridership=%{y}<extra></extra>",
         "legendgroup": "BX21",
         "line": {
          "color": "#636efa",
          "dash": "solid"
         },
         "marker": {
          "symbol": "circle"
         },
         "mode": "lines",
         "name": "BX21",
         "showlegend": true,
         "type": "scattergl",
         "x": [
          "2025-01-01T00:00:00.000",
          "2025-02-01T00:00:00.000",
          "2025-03-01T00:00:00.000",
          "2025-04-01T00:00:00.000",
          "2025-05-01T00:00:00.000",
          "2025-06-01T00:00:00.000",
          "2025-07-01T00:00:00.000",
          "2025-08-01T00:00:00.000",
          "2025-09-01T00:00:00.000"
         ],
         "xaxis": "x",
         "y": [
          7634,
          6844,
          11151,
          12732,
          25137,
          24946,
          25125,
          21377,
          0
         ],
         "yaxis": "y"
        },
        {
         "hovertemplate": "bus_route=BX22<br>month=%{x}<br>ridership=%{y}<extra></extra>",
         "legendgroup": "BX22",
         "line": {
          "color": "#EF553B",
          "dash": "solid"
         },
         "marker": {
          "symbol": "circle"
         },
         "mode": "lines",
         "name": "BX22",
         "showlegend": true,
         "type": "scattergl",
         "x": [
          "2025-01-01T00:00:00.000",
          "2025-02-01T00:00:00.000",
          "2025-03-01T00:00:00.000",
          "2025-04-01T00:00:00.000",
          "2025-05-01T00:00:00.000",
          "2025-06-01T00:00:00.000",
          "2025-07-01T00:00:00.000",
          "2025-08-01T00:00:00.000",
          "2025-09-01T00:00:00.000"
         ],
         "xaxis": "x",
         "y": [
          7075,
          6674,
          11697,
          12110,
          15929,
          22053,
          21337,
          18693,
          0
         ],
         "yaxis": "y"
        },
        {
         "hovertemplate": "bus_route=BX23<br>month=%{x}<br>ridership=%{y}<extra></extra>",
         "legendgroup": "BX23",
         "line": {
          "color": "#00cc96",
          "dash": "solid"
         },
         "marker": {
          "symbol": "circle"
         },
         "mode": "lines",
         "name": "BX23",
         "showlegend": true,
         "type": "scattergl",
         "x": [
          "2025-01-01T00:00:00.000",
          "2025-02-01T00:00:00.000",
          "2025-03-01T00:00:00.000",
          "2025-04-01T00:00:00.000",
          "2025-05-01T00:00:00.000",
          "2025-06-01T00:00:00.000",
          "2025-07-01T00:00:00.000",
          "2025-08-01T00:00:00.000",
          "2025-09-01T00:00:00.000"
         ],
         "xaxis": "x",
         "y": [
          1780,
          1491,
          2416,
          2609,
          5185,
          5104,
          5222,
          4379,
          0
         ],
         "yaxis": "y"
        },
        {
         "hovertemplate": "bus_route=BX24<br>month=%{x}<br>ridership=%{y}<extra></extra>",
         "legendgroup": "BX24",
         "line": {
          "color": "#ab63fa",
          "dash": "solid"
         },
         "marker": {
          "symbol": "circle"
         },
         "mode": "lines",
         "name": "BX24",
         "showlegend": true,
         "type": "scattergl",
         "x": [
          "2025-01-01T00:00:00.000",
          "2025-02-01T00:00:00.000",
          "2025-03-01T00:00:00.000",
          "2025-04-01T00:00:00.000",
          "2025-05-01T00:00:00.000",
          "2025-06-01T00:00:00.000",
          "2025-07-01T00:00:00.000",
          "2025-08-01T00:00:00.000",
          "2025-09-01T00:00:00.000"
         ],
         "xaxis": "x",
         "y": [
          492,
          452,
          673,
          805,
          1079,
          1776,
          1931,
          1384,
          0
         ],
         "yaxis": "y"
        },
        {
         "hovertemplate": "bus_route=BX25<br>month=%{x}<br>ridership=%{y}<extra></extra>",
         "legendgroup": "BX25",
         "line": {
          "color": "#FFA15A",
          "dash": "solid"
         },
         "marker": {
          "symbol": "circle"
         },
         "mode": "lines",
         "name": "BX25",
         "showlegend": true,
         "type": "scattergl",
         "x": [
          "2025-01-01T00:00:00.000",
          "2025-02-01T00:00:00.000",
          "2025-03-01T00:00:00.000",
          "2025-04-01T00:00:00.000",
          "2025-05-01T00:00:00.000",
          "2025-06-01T00:00:00.000",
          "2025-07-01T00:00:00.000",
          "2025-08-01T00:00:00.000",
          "2025-09-01T00:00:00.000"
         ],
         "xaxis": "x",
         "y": [
          1900,
          1626,
          2999,
          3114,
          3903,
          6221,
          7513,
          5602,
          0
         ],
         "yaxis": "y"
        },
        {
         "hovertemplate": "bus_route=BX26<br>month=%{x}<br>ridership=%{y}<extra></extra>",
         "legendgroup": "BX26",
         "line": {
          "color": "#19d3f3",
          "dash": "solid"
         },
         "marker": {
          "symbol": "circle"
         },
         "mode": "lines",
         "name": "BX26",
         "showlegend": true,
         "type": "scattergl",
         "x": [
          "2025-01-01T00:00:00.000",
          "2025-02-01T00:00:00.000",
          "2025-03-01T00:00:00.000",
          "2025-04-01T00:00:00.000",
          "2025-05-01T00:00:00.000",
          "2025-06-01T00:00:00.000",
          "2025-07-01T00:00:00.000",
          "2025-08-01T00:00:00.000",
          "2025-09-01T00:00:00.000"
         ],
         "xaxis": "x",
         "y": [
          2155,
          1840,
          3199,
          3296,
          4303,
          6409,
          7225,
          6067,
          0
         ],
         "yaxis": "y"
        },
        {
         "hovertemplate": "bus_route=BX27<br>month=%{x}<br>ridership=%{y}<extra></extra>",
         "legendgroup": "BX27",
         "line": {
          "color": "#FF6692",
          "dash": "solid"
         },
         "marker": {
          "symbol": "circle"
         },
         "mode": "lines",
         "name": "BX27",
         "showlegend": true,
         "type": "scattergl",
         "x": [
          "2025-01-01T00:00:00.000",
          "2025-02-01T00:00:00.000",
          "2025-03-01T00:00:00.000",
          "2025-04-01T00:00:00.000",
          "2025-05-01T00:00:00.000",
          "2025-06-01T00:00:00.000",
          "2025-07-01T00:00:00.000",
          "2025-08-01T00:00:00.000",
          "2025-09-01T00:00:00.000"
         ],
         "xaxis": "x",
         "y": [
          4266,
          4035,
          6119,
          6739,
          12410,
          12478,
          12253,
          9713,
          0
         ],
         "yaxis": "y"
        },
        {
         "hovertemplate": "bus_route=BX28<br>month=%{x}<br>ridership=%{y}<extra></extra>",
         "legendgroup": "BX28",
         "line": {
          "color": "#B6E880",
          "dash": "solid"
         },
         "marker": {
          "symbol": "circle"
         },
         "mode": "lines",
         "name": "BX28",
         "showlegend": true,
         "type": "scattergl",
         "x": [
          "2025-01-01T00:00:00.000",
          "2025-02-01T00:00:00.000",
          "2025-03-01T00:00:00.000",
          "2025-04-01T00:00:00.000",
          "2025-05-01T00:00:00.000",
          "2025-06-01T00:00:00.000",
          "2025-07-01T00:00:00.000",
          "2025-08-01T00:00:00.000",
          "2025-09-01T00:00:00.000"
         ],
         "xaxis": "x",
         "y": [
          4698,
          4119,
          7161,
          7781,
          10893,
          15530,
          16492,
          14086,
          0
         ],
         "yaxis": "y"
        },
        {
         "hovertemplate": "bus_route=BX29<br>month=%{x}<br>ridership=%{y}<extra></extra>",
         "legendgroup": "BX29",
         "line": {
          "color": "#FF97FF",
          "dash": "solid"
         },
         "marker": {
          "symbol": "circle"
         },
         "mode": "lines",
         "name": "BX29",
         "showlegend": true,
         "type": "scattergl",
         "x": [
          "2025-01-01T00:00:00.000",
          "2025-02-01T00:00:00.000",
          "2025-03-01T00:00:00.000",
          "2025-04-01T00:00:00.000",
          "2025-05-01T00:00:00.000",
          "2025-06-01T00:00:00.000",
          "2025-07-01T00:00:00.000",
          "2025-08-01T00:00:00.000",
          "2025-09-01T00:00:00.000"
         ],
         "xaxis": "x",
         "y": [
          711,
          618,
          1289,
          1533,
          2105,
          3565,
          3210,
          2763,
          0
         ],
         "yaxis": "y"
        },
        {
         "hovertemplate": "bus_route=BX3<br>month=%{x}<br>ridership=%{y}<extra></extra>",
         "legendgroup": "BX3",
         "line": {
          "color": "#FECB52",
          "dash": "solid"
         },
         "marker": {
          "symbol": "circle"
         },
         "mode": "lines",
         "name": "BX3",
         "showlegend": true,
         "type": "scattergl",
         "x": [
          "2025-01-01T00:00:00.000",
          "2025-02-01T00:00:00.000",
          "2025-03-01T00:00:00.000",
          "2025-04-01T00:00:00.000",
          "2025-05-01T00:00:00.000",
          "2025-06-01T00:00:00.000",
          "2025-07-01T00:00:00.000",
          "2025-08-01T00:00:00.000",
          "2025-09-01T00:00:00.000"
         ],
         "xaxis": "x",
         "y": [
          11333,
          11653,
          18873,
          18421,
          37440,
          37482,
          33523,
          29569,
          0
         ],
         "yaxis": "y"
        },
        {
         "hovertemplate": "bus_route=BX30<br>month=%{x}<br>ridership=%{y}<extra></extra>",
         "legendgroup": "BX30",
         "line": {
          "color": "#636efa",
          "dash": "solid"
         },
         "marker": {
          "symbol": "circle"
         },
         "mode": "lines",
         "name": "BX30",
         "showlegend": true,
         "type": "scattergl",
         "x": [
          "2025-01-01T00:00:00.000",
          "2025-02-01T00:00:00.000",
          "2025-03-01T00:00:00.000",
          "2025-04-01T00:00:00.000",
          "2025-05-01T00:00:00.000",
          "2025-06-01T00:00:00.000",
          "2025-07-01T00:00:00.000",
          "2025-08-01T00:00:00.000",
          "2025-09-01T00:00:00.000"
         ],
         "xaxis": "x",
         "y": [
          2340,
          2121,
          3845,
          3903,
          4898,
          7524,
          7724,
          5815,
          0
         ],
         "yaxis": "y"
        },
        {
         "hovertemplate": "bus_route=BX31<br>month=%{x}<br>ridership=%{y}<extra></extra>",
         "legendgroup": "BX31",
         "line": {
          "color": "#EF553B",
          "dash": "solid"
         },
         "marker": {
          "symbol": "circle"
         },
         "mode": "lines",
         "name": "BX31",
         "showlegend": true,
         "type": "scattergl",
         "x": [
          "2025-01-01T00:00:00.000",
          "2025-02-01T00:00:00.000",
          "2025-03-01T00:00:00.000",
          "2025-04-01T00:00:00.000",
          "2025-05-01T00:00:00.000",
          "2025-06-01T00:00:00.000",
          "2025-07-01T00:00:00.000",
          "2025-08-01T00:00:00.000",
          "2025-09-01T00:00:00.000"
         ],
         "xaxis": "x",
         "y": [
          4097,
          3797,
          5950,
          6786,
          13858,
          13220,
          14376,
          11502,
          0
         ],
         "yaxis": "y"
        },
        {
         "hovertemplate": "bus_route=BX32<br>month=%{x}<br>ridership=%{y}<extra></extra>",
         "legendgroup": "BX32",
         "line": {
          "color": "#00cc96",
          "dash": "solid"
         },
         "marker": {
          "symbol": "circle"
         },
         "mode": "lines",
         "name": "BX32",
         "showlegend": true,
         "type": "scattergl",
         "x": [
          "2025-01-01T00:00:00.000",
          "2025-02-01T00:00:00.000",
          "2025-03-01T00:00:00.000",
          "2025-04-01T00:00:00.000",
          "2025-05-01T00:00:00.000",
          "2025-06-01T00:00:00.000",
          "2025-07-01T00:00:00.000",
          "2025-08-01T00:00:00.000",
          "2025-09-01T00:00:00.000"
         ],
         "xaxis": "x",
         "y": [
          3766,
          3895,
          5736,
          6180,
          12610,
          12603,
          13607,
          11182,
          0
         ],
         "yaxis": "y"
        },
        {
         "hovertemplate": "bus_route=BX33<br>month=%{x}<br>ridership=%{y}<extra></extra>",
         "legendgroup": "BX33",
         "line": {
          "color": "#ab63fa",
          "dash": "solid"
         },
         "marker": {
          "symbol": "circle"
         },
         "mode": "lines",
         "name": "BX33",
         "showlegend": true,
         "type": "scattergl",
         "x": [
          "2025-01-01T00:00:00.000",
          "2025-02-01T00:00:00.000",
          "2025-03-01T00:00:00.000",
          "2025-04-01T00:00:00.000",
          "2025-05-01T00:00:00.000",
          "2025-06-01T00:00:00.000",
          "2025-07-01T00:00:00.000",
          "2025-08-01T00:00:00.000",
          "2025-09-01T00:00:00.000"
         ],
         "xaxis": "x",
         "y": [
          1680,
          1522,
          2563,
          2672,
          5672,
          5489,
          5208,
          4407,
          0
         ],
         "yaxis": "y"
        },
        {
         "hovertemplate": "bus_route=BX34<br>month=%{x}<br>ridership=%{y}<extra></extra>",
         "legendgroup": "BX34",
         "line": {
          "color": "#FFA15A",
          "dash": "solid"
         },
         "marker": {
          "symbol": "circle"
         },
         "mode": "lines",
         "name": "BX34",
         "showlegend": true,
         "type": "scattergl",
         "x": [
          "2025-01-01T00:00:00.000",
          "2025-02-01T00:00:00.000",
          "2025-03-01T00:00:00.000",
          "2025-04-01T00:00:00.000",
          "2025-05-01T00:00:00.000",
          "2025-06-01T00:00:00.000",
          "2025-07-01T00:00:00.000",
          "2025-08-01T00:00:00.000",
          "2025-09-01T00:00:00.000"
         ],
         "xaxis": "x",
         "y": [
          2257,
          2006,
          3429,
          3795,
          4858,
          7483,
          7789,
          6317,
          0
         ],
         "yaxis": "y"
        },
        {
         "hovertemplate": "bus_route=BX35<br>month=%{x}<br>ridership=%{y}<extra></extra>",
         "legendgroup": "BX35",
         "line": {
          "color": "#19d3f3",
          "dash": "solid"
         },
         "marker": {
          "symbol": "circle"
         },
         "mode": "lines",
         "name": "BX35",
         "showlegend": true,
         "type": "scattergl",
         "x": [
          "2025-01-01T00:00:00.000",
          "2025-02-01T00:00:00.000",
          "2025-03-01T00:00:00.000",
          "2025-04-01T00:00:00.000",
          "2025-05-01T00:00:00.000",
          "2025-06-01T00:00:00.000",
          "2025-07-01T00:00:00.000",
          "2025-08-01T00:00:00.000",
          "2025-09-01T00:00:00.000"
         ],
         "xaxis": "x",
         "y": [
          10939,
          10820,
          15822,
          18661,
          36543,
          34927,
          33861,
          28971,
          0
         ],
         "yaxis": "y"
        },
        {
         "hovertemplate": "bus_route=BX36<br>month=%{x}<br>ridership=%{y}<extra></extra>",
         "legendgroup": "BX36",
         "line": {
          "color": "#FF6692",
          "dash": "solid"
         },
         "marker": {
          "symbol": "circle"
         },
         "mode": "lines",
         "name": "BX36",
         "showlegend": true,
         "type": "scattergl",
         "x": [
          "2025-01-01T00:00:00.000",
          "2025-02-01T00:00:00.000",
          "2025-03-01T00:00:00.000",
          "2025-04-01T00:00:00.000",
          "2025-05-01T00:00:00.000",
          "2025-06-01T00:00:00.000",
          "2025-07-01T00:00:00.000",
          "2025-08-01T00:00:00.000",
          "2025-09-01T00:00:00.000"
         ],
         "xaxis": "x",
         "y": [
          16932,
          15966,
          25193,
          29211,
          57883,
          54633,
          51802,
          47437,
          0
         ],
         "yaxis": "y"
        },
        {
         "hovertemplate": "bus_route=BX38<br>month=%{x}<br>ridership=%{y}<extra></extra>",
         "legendgroup": "BX38",
         "line": {
          "color": "#B6E880",
          "dash": "solid"
         },
         "marker": {
          "symbol": "circle"
         },
         "mode": "lines",
         "name": "BX38",
         "showlegend": true,
         "type": "scattergl",
         "x": [
          "2025-01-01T00:00:00.000",
          "2025-02-01T00:00:00.000",
          "2025-03-01T00:00:00.000",
          "2025-04-01T00:00:00.000",
          "2025-05-01T00:00:00.000",
          "2025-06-01T00:00:00.000",
          "2025-07-01T00:00:00.000",
          "2025-08-01T00:00:00.000",
          "2025-09-01T00:00:00.000"
         ],
         "xaxis": "x",
         "y": [
          2874,
          2855,
          4990,
          5112,
          6894,
          10002,
          10159,
          9160,
          0
         ],
         "yaxis": "y"
        },
        {
         "hovertemplate": "bus_route=BX39<br>month=%{x}<br>ridership=%{y}<extra></extra>",
         "legendgroup": "BX39",
         "line": {
          "color": "#FF97FF",
          "dash": "solid"
         },
         "marker": {
          "symbol": "circle"
         },
         "mode": "lines",
         "name": "BX39",
         "showlegend": true,
         "type": "scattergl",
         "x": [
          "2025-01-01T00:00:00.000",
          "2025-02-01T00:00:00.000",
          "2025-03-01T00:00:00.000",
          "2025-04-01T00:00:00.000",
          "2025-05-01T00:00:00.000",
          "2025-06-01T00:00:00.000",
          "2025-07-01T00:00:00.000",
          "2025-08-01T00:00:00.000",
          "2025-09-01T00:00:00.000"
         ],
         "xaxis": "x",
         "y": [
          7714,
          6333,
          12162,
          12758,
          17323,
          22078,
          22420,
          18715,
          0
         ],
         "yaxis": "y"
        },
        {
         "hovertemplate": "bus_route=BX4<br>month=%{x}<br>ridership=%{y}<extra></extra>",
         "legendgroup": "BX4",
         "line": {
          "color": "#FECB52",
          "dash": "solid"
         },
         "marker": {
          "symbol": "circle"
         },
         "mode": "lines",
         "name": "BX4",
         "showlegend": true,
         "type": "scattergl",
         "x": [
          "2025-01-01T00:00:00.000",
          "2025-02-01T00:00:00.000",
          "2025-03-01T00:00:00.000",
          "2025-04-01T00:00:00.000",
          "2025-05-01T00:00:00.000",
          "2025-06-01T00:00:00.000",
          "2025-07-01T00:00:00.000",
          "2025-08-01T00:00:00.000",
          "2025-09-01T00:00:00.000"
         ],
         "xaxis": "x",
         "y": [
          4133,
          3738,
          7165,
          7290,
          9340,
          12449,
          12292,
          11159,
          0
         ],
         "yaxis": "y"
        },
        {
         "hovertemplate": "bus_route=BX40<br>month=%{x}<br>ridership=%{y}<extra></extra>",
         "legendgroup": "BX40",
         "line": {
          "color": "#636efa",
          "dash": "solid"
         },
         "marker": {
          "symbol": "circle"
         },
         "mode": "lines",
         "name": "BX40",
         "showlegend": true,
         "type": "scattergl",
         "x": [
          "2025-01-01T00:00:00.000",
          "2025-02-01T00:00:00.000",
          "2025-03-01T00:00:00.000",
          "2025-04-01T00:00:00.000",
          "2025-05-01T00:00:00.000",
          "2025-06-01T00:00:00.000",
          "2025-07-01T00:00:00.000",
          "2025-08-01T00:00:00.000",
          "2025-09-01T00:00:00.000"
         ],
         "xaxis": "x",
         "y": [
          6562,
          6097,
          10227,
          10609,
          15088,
          20451,
          20929,
          17633,
          0
         ],
         "yaxis": "y"
        },
        {
         "hovertemplate": "bus_route=BX41<br>month=%{x}<br>ridership=%{y}<extra></extra>",
         "legendgroup": "BX41",
         "line": {
          "color": "#EF553B",
          "dash": "solid"
         },
         "marker": {
          "symbol": "circle"
         },
         "mode": "lines",
         "name": "BX41",
         "showlegend": true,
         "type": "scattergl",
         "x": [
          "2025-01-01T00:00:00.000",
          "2025-02-01T00:00:00.000",
          "2025-03-01T00:00:00.000",
          "2025-04-01T00:00:00.000",
          "2025-05-01T00:00:00.000",
          "2025-06-01T00:00:00.000",
          "2025-07-01T00:00:00.000",
          "2025-08-01T00:00:00.000",
          "2025-09-01T00:00:00.000"
         ],
         "xaxis": "x",
         "y": [
          4892,
          4221,
          8008,
          8847,
          12995,
          17597,
          18685,
          17001,
          0
         ],
         "yaxis": "y"
        },
        {
         "hovertemplate": "bus_route=BX41+<br>month=%{x}<br>ridership=%{y}<extra></extra>",
         "legendgroup": "BX41+",
         "line": {
          "color": "#00cc96",
          "dash": "solid"
         },
         "marker": {
          "symbol": "circle"
         },
         "mode": "lines",
         "name": "BX41+",
         "showlegend": true,
         "type": "scattergl",
         "x": [
          "2025-01-01T00:00:00.000",
          "2025-02-01T00:00:00.000",
          "2025-03-01T00:00:00.000",
          "2025-04-01T00:00:00.000",
          "2025-05-01T00:00:00.000",
          "2025-06-01T00:00:00.000",
          "2025-07-01T00:00:00.000",
          "2025-08-01T00:00:00.000",
          "2025-09-01T00:00:00.000"
         ],
         "xaxis": "x",
         "y": [
          6595,
          6865,
          12592,
          13153,
          27151,
          26974,
          26258,
          25152,
          0
         ],
         "yaxis": "y"
        },
        {
         "hovertemplate": "bus_route=BX42<br>month=%{x}<br>ridership=%{y}<extra></extra>",
         "legendgroup": "BX42",
         "line": {
          "color": "#ab63fa",
          "dash": "solid"
         },
         "marker": {
          "symbol": "circle"
         },
         "mode": "lines",
         "name": "BX42",
         "showlegend": true,
         "type": "scattergl",
         "x": [
          "2025-01-01T00:00:00.000",
          "2025-02-01T00:00:00.000",
          "2025-03-01T00:00:00.000",
          "2025-04-01T00:00:00.000",
          "2025-05-01T00:00:00.000",
          "2025-06-01T00:00:00.000",
          "2025-07-01T00:00:00.000",
          "2025-08-01T00:00:00.000",
          "2025-09-01T00:00:00.000"
         ],
         "xaxis": "x",
         "y": [
          6598,
          5518,
          9934,
          10920,
          14954,
          19447,
          20797,
          17379,
          0
         ],
         "yaxis": "y"
        },
        {
         "hovertemplate": "bus_route=BX46<br>month=%{x}<br>ridership=%{y}<extra></extra>",
         "legendgroup": "BX46",
         "line": {
          "color": "#FFA15A",
          "dash": "solid"
         },
         "marker": {
          "symbol": "circle"
         },
         "mode": "lines",
         "name": "BX46",
         "showlegend": true,
         "type": "scattergl",
         "x": [
          "2025-01-01T00:00:00.000",
          "2025-02-01T00:00:00.000",
          "2025-03-01T00:00:00.000",
          "2025-04-01T00:00:00.000",
          "2025-05-01T00:00:00.000",
          "2025-06-01T00:00:00.000",
          "2025-07-01T00:00:00.000",
          "2025-08-01T00:00:00.000",
          "2025-09-01T00:00:00.000"
         ],
         "xaxis": "x",
         "y": [
          247,
          210,
          352,
          427,
          900,
          952,
          1076,
          967,
          0
         ],
         "yaxis": "y"
        },
        {
         "hovertemplate": "bus_route=BX4A<br>month=%{x}<br>ridership=%{y}<extra></extra>",
         "legendgroup": "BX4A",
         "line": {
          "color": "#19d3f3",
          "dash": "solid"
         },
         "marker": {
          "symbol": "circle"
         },
         "mode": "lines",
         "name": "BX4A",
         "showlegend": true,
         "type": "scattergl",
         "x": [
          "2025-01-01T00:00:00.000",
          "2025-02-01T00:00:00.000",
          "2025-03-01T00:00:00.000",
          "2025-04-01T00:00:00.000",
          "2025-05-01T00:00:00.000",
          "2025-06-01T00:00:00.000",
          "2025-07-01T00:00:00.000",
          "2025-08-01T00:00:00.000",
          "2025-09-01T00:00:00.000"
         ],
         "xaxis": "x",
         "y": [
          2766,
          2463,
          4782,
          4902,
          6977,
          8511,
          8469,
          7778,
          0
         ],
         "yaxis": "y"
        },
        {
         "hovertemplate": "bus_route=BX5<br>month=%{x}<br>ridership=%{y}<extra></extra>",
         "legendgroup": "BX5",
         "line": {
          "color": "#FF6692",
          "dash": "solid"
         },
         "marker": {
          "symbol": "circle"
         },
         "mode": "lines",
         "name": "BX5",
         "showlegend": true,
         "type": "scattergl",
         "x": [
          "2025-01-01T00:00:00.000",
          "2025-02-01T00:00:00.000",
          "2025-03-01T00:00:00.000",
          "2025-04-01T00:00:00.000",
          "2025-05-01T00:00:00.000",
          "2025-06-01T00:00:00.000",
          "2025-07-01T00:00:00.000",
          "2025-08-01T00:00:00.000",
          "2025-09-01T00:00:00.000"
         ],
         "xaxis": "x",
         "y": [
          5558,
          4758,
          8872,
          9328,
          12231,
          17030,
          16025,
          14723,
          0
         ],
         "yaxis": "y"
        },
        {
         "hovertemplate": "bus_route=BX6<br>month=%{x}<br>ridership=%{y}<extra></extra>",
         "legendgroup": "BX6",
         "line": {
          "color": "#B6E880",
          "dash": "solid"
         },
         "marker": {
          "symbol": "circle"
         },
         "mode": "lines",
         "name": "BX6",
         "showlegend": true,
         "type": "scattergl",
         "x": [
          "2025-01-01T00:00:00.000",
          "2025-02-01T00:00:00.000",
          "2025-03-01T00:00:00.000",
          "2025-04-01T00:00:00.000",
          "2025-05-01T00:00:00.000",
          "2025-06-01T00:00:00.000",
          "2025-07-01T00:00:00.000",
          "2025-08-01T00:00:00.000",
          "2025-09-01T00:00:00.000"
         ],
         "xaxis": "x",
         "y": [
          7057,
          6798,
          10313,
          12130,
          24230,
          25292,
          27491,
          23051,
          0
         ],
         "yaxis": "y"
        },
        {
         "hovertemplate": "bus_route=BX6+<br>month=%{x}<br>ridership=%{y}<extra></extra>",
         "legendgroup": "BX6+",
         "line": {
          "color": "#FF97FF",
          "dash": "solid"
         },
         "marker": {
          "symbol": "circle"
         },
         "mode": "lines",
         "name": "BX6+",
         "showlegend": true,
         "type": "scattergl",
         "x": [
          "2025-01-01T00:00:00.000",
          "2025-02-01T00:00:00.000",
          "2025-03-01T00:00:00.000",
          "2025-04-01T00:00:00.000",
          "2025-05-01T00:00:00.000",
          "2025-06-01T00:00:00.000",
          "2025-07-01T00:00:00.000",
          "2025-08-01T00:00:00.000",
          "2025-09-01T00:00:00.000"
         ],
         "xaxis": "x",
         "y": [
          8691,
          9328,
          15343,
          15475,
          31686,
          30734,
          30598,
          26569,
          0
         ],
         "yaxis": "y"
        },
        {
         "hovertemplate": "bus_route=BX7<br>month=%{x}<br>ridership=%{y}<extra></extra>",
         "legendgroup": "BX7",
         "line": {
          "color": "#FECB52",
          "dash": "solid"
         },
         "marker": {
          "symbol": "circle"
         },
         "mode": "lines",
         "name": "BX7",
         "showlegend": true,
         "type": "scattergl",
         "x": [
          "2025-01-01T00:00:00.000",
          "2025-02-01T00:00:00.000",
          "2025-03-01T00:00:00.000",
          "2025-04-01T00:00:00.000",
          "2025-05-01T00:00:00.000",
          "2025-06-01T00:00:00.000",
          "2025-07-01T00:00:00.000",
          "2025-08-01T00:00:00.000",
          "2025-09-01T00:00:00.000"
         ],
         "xaxis": "x",
         "y": [
          10997,
          10769,
          17344,
          16688,
          34157,
          32826,
          31193,
          25792,
          0
         ],
         "yaxis": "y"
        },
        {
         "hovertemplate": "bus_route=BX8<br>month=%{x}<br>ridership=%{y}<extra></extra>",
         "legendgroup": "BX8",
         "line": {
          "color": "#636efa",
          "dash": "solid"
         },
         "marker": {
          "symbol": "circle"
         },
         "mode": "lines",
         "name": "BX8",
         "showlegend": true,
         "type": "scattergl",
         "x": [
          "2025-01-01T00:00:00.000",
          "2025-02-01T00:00:00.000",
          "2025-03-01T00:00:00.000",
          "2025-04-01T00:00:00.000",
          "2025-05-01T00:00:00.000",
          "2025-06-01T00:00:00.000",
          "2025-07-01T00:00:00.000",
          "2025-08-01T00:00:00.000",
          "2025-09-01T00:00:00.000"
         ],
         "xaxis": "x",
         "y": [
          2929,
          2963,
          4538,
          5163,
          10134,
          10334,
          10509,
          9002,
          0
         ],
         "yaxis": "y"
        },
        {
         "hovertemplate": "bus_route=BX9<br>month=%{x}<br>ridership=%{y}<extra></extra>",
         "legendgroup": "BX9",
         "line": {
          "color": "#EF553B",
          "dash": "solid"
         },
         "marker": {
          "symbol": "circle"
         },
         "mode": "lines",
         "name": "BX9",
         "showlegend": true,
         "type": "scattergl",
         "x": [
          "2025-01-01T00:00:00.000",
          "2025-02-01T00:00:00.000",
          "2025-03-01T00:00:00.000",
          "2025-04-01T00:00:00.000",
          "2025-05-01T00:00:00.000",
          "2025-06-01T00:00:00.000",
          "2025-07-01T00:00:00.000",
          "2025-08-01T00:00:00.000",
          "2025-09-01T00:00:00.000"
         ],
         "xaxis": "x",
         "y": [
          17066,
          16234,
          25808,
          26596,
          53673,
          52798,
          52899,
          45424,
          0
         ],
         "yaxis": "y"
        },
        {
         "hovertemplate": "bus_route=BX90<br>month=%{x}<br>ridership=%{y}<extra></extra>",
         "legendgroup": "BX90",
         "line": {
          "color": "#00cc96",
          "dash": "solid"
         },
         "marker": {
          "symbol": "circle"
         },
         "mode": "lines",
         "name": "BX90",
         "showlegend": true,
         "type": "scattergl",
         "x": [
          "2025-01-01T00:00:00.000",
          "2025-02-01T00:00:00.000",
          "2025-03-01T00:00:00.000",
          "2025-04-01T00:00:00.000",
          "2025-05-01T00:00:00.000",
          "2025-06-01T00:00:00.000",
          "2025-07-01T00:00:00.000",
          "2025-08-01T00:00:00.000",
          "2025-09-01T00:00:00.000"
         ],
         "xaxis": "x",
         "y": [
          0,
          0,
          0,
          1,
          8,
          29,
          40,
          0,
          0
         ],
         "yaxis": "y"
        },
        {
         "hovertemplate": "bus_route=BX92<br>month=%{x}<br>ridership=%{y}<extra></extra>",
         "legendgroup": "BX92",
         "line": {
          "color": "#ab63fa",
          "dash": "solid"
         },
         "marker": {
          "symbol": "circle"
         },
         "mode": "lines",
         "name": "BX92",
         "showlegend": true,
         "type": "scattergl",
         "x": [
          "2025-01-01T00:00:00.000",
          "2025-02-01T00:00:00.000",
          "2025-03-01T00:00:00.000",
          "2025-04-01T00:00:00.000",
          "2025-05-01T00:00:00.000",
          "2025-06-01T00:00:00.000",
          "2025-07-01T00:00:00.000",
          "2025-08-01T00:00:00.000",
          "2025-09-01T00:00:00.000"
         ],
         "xaxis": "x",
         "y": [
          0,
          0,
          0,
          0,
          0,
          0,
          0,
          0,
          0
         ],
         "yaxis": "y"
        },
        {
         "hovertemplate": "bus_route=BX95<br>month=%{x}<br>ridership=%{y}<extra></extra>",
         "legendgroup": "BX95",
         "line": {
          "color": "#FFA15A",
          "dash": "solid"
         },
         "marker": {
          "symbol": "circle"
         },
         "mode": "lines",
         "name": "BX95",
         "showlegend": true,
         "type": "scattergl",
         "x": [
          "2025-01-01T00:00:00.000",
          "2025-02-01T00:00:00.000",
          "2025-03-01T00:00:00.000",
          "2025-04-01T00:00:00.000",
          "2025-05-01T00:00:00.000",
          "2025-06-01T00:00:00.000",
          "2025-07-01T00:00:00.000",
          "2025-08-01T00:00:00.000",
          "2025-09-01T00:00:00.000"
         ],
         "xaxis": "x",
         "y": [
          0,
          0,
          0,
          1,
          0,
          6,
          0,
          1,
          0
         ],
         "yaxis": "y"
        },
        {
         "hovertemplate": "bus_route=BX99<br>month=%{x}<br>ridership=%{y}<extra></extra>",
         "legendgroup": "BX99",
         "line": {
          "color": "#19d3f3",
          "dash": "solid"
         },
         "marker": {
          "symbol": "circle"
         },
         "mode": "lines",
         "name": "BX99",
         "showlegend": true,
         "type": "scattergl",
         "x": [
          "2025-01-01T00:00:00.000",
          "2025-02-01T00:00:00.000",
          "2025-03-01T00:00:00.000",
          "2025-04-01T00:00:00.000",
          "2025-05-01T00:00:00.000",
          "2025-06-01T00:00:00.000",
          "2025-07-01T00:00:00.000",
          "2025-08-01T00:00:00.000",
          "2025-09-01T00:00:00.000"
         ],
         "xaxis": "x",
         "y": [
          0,
          0,
          0,
          0,
          0,
          0,
          0,
          0,
          0
         ],
         "yaxis": "y"
        },
        {
         "hovertemplate": "bus_route=BXM1<br>month=%{x}<br>ridership=%{y}<extra></extra>",
         "legendgroup": "BXM1",
         "line": {
          "color": "#FF6692",
          "dash": "solid"
         },
         "marker": {
          "symbol": "circle"
         },
         "mode": "lines",
         "name": "BXM1",
         "showlegend": true,
         "type": "scattergl",
         "x": [
          "2025-01-01T00:00:00.000",
          "2025-02-01T00:00:00.000",
          "2025-03-01T00:00:00.000",
          "2025-04-01T00:00:00.000",
          "2025-05-01T00:00:00.000",
          "2025-06-01T00:00:00.000",
          "2025-07-01T00:00:00.000",
          "2025-08-01T00:00:00.000",
          "2025-09-01T00:00:00.000"
         ],
         "xaxis": "x",
         "y": [
          1,
          2,
          16,
          46,
          212,
          336,
          380,
          375,
          0
         ],
         "yaxis": "y"
        },
        {
         "hovertemplate": "bus_route=BXM10<br>month=%{x}<br>ridership=%{y}<extra></extra>",
         "legendgroup": "BXM10",
         "line": {
          "color": "#B6E880",
          "dash": "solid"
         },
         "marker": {
          "symbol": "circle"
         },
         "mode": "lines",
         "name": "BXM10",
         "showlegend": true,
         "type": "scattergl",
         "x": [
          "2025-01-01T00:00:00.000",
          "2025-02-01T00:00:00.000",
          "2025-03-01T00:00:00.000",
          "2025-04-01T00:00:00.000",
          "2025-05-01T00:00:00.000",
          "2025-06-01T00:00:00.000",
          "2025-07-01T00:00:00.000",
          "2025-08-01T00:00:00.000",
          "2025-09-01T00:00:00.000"
         ],
         "xaxis": "x",
         "y": [
          0,
          1,
          23,
          73,
          266,
          250,
          606,
          521,
          0
         ],
         "yaxis": "y"
        },
        {
         "hovertemplate": "bus_route=BXM11<br>month=%{x}<br>ridership=%{y}<extra></extra>",
         "legendgroup": "BXM11",
         "line": {
          "color": "#FF97FF",
          "dash": "solid"
         },
         "marker": {
          "symbol": "circle"
         },
         "mode": "lines",
         "name": "BXM11",
         "showlegend": true,
         "type": "scattergl",
         "x": [
          "2025-01-01T00:00:00.000",
          "2025-02-01T00:00:00.000",
          "2025-03-01T00:00:00.000",
          "2025-04-01T00:00:00.000",
          "2025-05-01T00:00:00.000",
          "2025-06-01T00:00:00.000",
          "2025-07-01T00:00:00.000",
          "2025-08-01T00:00:00.000",
          "2025-09-01T00:00:00.000"
         ],
         "xaxis": "x",
         "y": [
          0,
          1,
          17,
          49,
          168,
          222,
          626,
          668,
          0
         ],
         "yaxis": "y"
        },
        {
         "hovertemplate": "bus_route=BXM18<br>month=%{x}<br>ridership=%{y}<extra></extra>",
         "legendgroup": "BXM18",
         "line": {
          "color": "#FECB52",
          "dash": "solid"
         },
         "marker": {
          "symbol": "circle"
         },
         "mode": "lines",
         "name": "BXM18",
         "showlegend": true,
         "type": "scattergl",
         "x": [
          "2025-01-01T00:00:00.000",
          "2025-02-01T00:00:00.000",
          "2025-03-01T00:00:00.000",
          "2025-04-01T00:00:00.000",
          "2025-05-01T00:00:00.000",
          "2025-06-01T00:00:00.000",
          "2025-07-01T00:00:00.000",
          "2025-08-01T00:00:00.000",
          "2025-09-01T00:00:00.000"
         ],
         "xaxis": "x",
         "y": [
          0,
          0,
          1,
          0,
          2,
          10,
          12,
          31,
          0
         ],
         "yaxis": "y"
        },
        {
         "hovertemplate": "bus_route=BXM2<br>month=%{x}<br>ridership=%{y}<extra></extra>",
         "legendgroup": "BXM2",
         "line": {
          "color": "#636efa",
          "dash": "solid"
         },
         "marker": {
          "symbol": "circle"
         },
         "mode": "lines",
         "name": "BXM2",
         "showlegend": true,
         "type": "scattergl",
         "x": [
          "2025-01-01T00:00:00.000",
          "2025-02-01T00:00:00.000",
          "2025-03-01T00:00:00.000",
          "2025-04-01T00:00:00.000",
          "2025-05-01T00:00:00.000",
          "2025-06-01T00:00:00.000",
          "2025-07-01T00:00:00.000",
          "2025-08-01T00:00:00.000",
          "2025-09-01T00:00:00.000"
         ],
         "xaxis": "x",
         "y": [
          0,
          0,
          1,
          48,
          92,
          134,
          252,
          217,
          0
         ],
         "yaxis": "y"
        },
        {
         "hovertemplate": "bus_route=BXM3<br>month=%{x}<br>ridership=%{y}<extra></extra>",
         "legendgroup": "BXM3",
         "line": {
          "color": "#EF553B",
          "dash": "solid"
         },
         "marker": {
          "symbol": "circle"
         },
         "mode": "lines",
         "name": "BXM3",
         "showlegend": true,
         "type": "scattergl",
         "x": [
          "2025-01-01T00:00:00.000",
          "2025-02-01T00:00:00.000",
          "2025-03-01T00:00:00.000",
          "2025-04-01T00:00:00.000",
          "2025-05-01T00:00:00.000",
          "2025-06-01T00:00:00.000",
          "2025-07-01T00:00:00.000",
          "2025-08-01T00:00:00.000",
          "2025-09-01T00:00:00.000"
         ],
         "xaxis": "x",
         "y": [
          0,
          1,
          14,
          53,
          168,
          194,
          234,
          311,
          0
         ],
         "yaxis": "y"
        },
        {
         "hovertemplate": "bus_route=BXM4<br>month=%{x}<br>ridership=%{y}<extra></extra>",
         "legendgroup": "BXM4",
         "line": {
          "color": "#00cc96",
          "dash": "solid"
         },
         "marker": {
          "symbol": "circle"
         },
         "mode": "lines",
         "name": "BXM4",
         "showlegend": true,
         "type": "scattergl",
         "x": [
          "2025-01-01T00:00:00.000",
          "2025-02-01T00:00:00.000",
          "2025-03-01T00:00:00.000",
          "2025-04-01T00:00:00.000",
          "2025-05-01T00:00:00.000",
          "2025-06-01T00:00:00.000",
          "2025-07-01T00:00:00.000",
          "2025-08-01T00:00:00.000",
          "2025-09-01T00:00:00.000"
         ],
         "xaxis": "x",
         "y": [
          1,
          0,
          24,
          69,
          100,
          160,
          232,
          244,
          0
         ],
         "yaxis": "y"
        },
        {
         "hovertemplate": "bus_route=BXM6<br>month=%{x}<br>ridership=%{y}<extra></extra>",
         "legendgroup": "BXM6",
         "line": {
          "color": "#ab63fa",
          "dash": "solid"
         },
         "marker": {
          "symbol": "circle"
         },
         "mode": "lines",
         "name": "BXM6",
         "showlegend": true,
         "type": "scattergl",
         "x": [
          "2025-01-01T00:00:00.000",
          "2025-02-01T00:00:00.000",
          "2025-03-01T00:00:00.000",
          "2025-04-01T00:00:00.000",
          "2025-05-01T00:00:00.000",
          "2025-06-01T00:00:00.000",
          "2025-07-01T00:00:00.000",
          "2025-08-01T00:00:00.000",
          "2025-09-01T00:00:00.000"
         ],
         "xaxis": "x",
         "y": [
          0,
          0,
          7,
          42,
          126,
          194,
          282,
          295,
          0
         ],
         "yaxis": "y"
        },
        {
         "hovertemplate": "bus_route=BXM7<br>month=%{x}<br>ridership=%{y}<extra></extra>",
         "legendgroup": "BXM7",
         "line": {
          "color": "#FFA15A",
          "dash": "solid"
         },
         "marker": {
          "symbol": "circle"
         },
         "mode": "lines",
         "name": "BXM7",
         "showlegend": true,
         "type": "scattergl",
         "x": [
          "2025-01-01T00:00:00.000",
          "2025-02-01T00:00:00.000",
          "2025-03-01T00:00:00.000",
          "2025-04-01T00:00:00.000",
          "2025-05-01T00:00:00.000",
          "2025-06-01T00:00:00.000",
          "2025-07-01T00:00:00.000",
          "2025-08-01T00:00:00.000",
          "2025-09-01T00:00:00.000"
         ],
         "xaxis": "x",
         "y": [
          1,
          0,
          23,
          52,
          242,
          316,
          480,
          441,
          0
         ],
         "yaxis": "y"
        },
        {
         "hovertemplate": "bus_route=BXM8<br>month=%{x}<br>ridership=%{y}<extra></extra>",
         "legendgroup": "BXM8",
         "line": {
          "color": "#19d3f3",
          "dash": "solid"
         },
         "marker": {
          "symbol": "circle"
         },
         "mode": "lines",
         "name": "BXM8",
         "showlegend": true,
         "type": "scattergl",
         "x": [
          "2025-01-01T00:00:00.000",
          "2025-02-01T00:00:00.000",
          "2025-03-01T00:00:00.000",
          "2025-04-01T00:00:00.000",
          "2025-05-01T00:00:00.000",
          "2025-06-01T00:00:00.000",
          "2025-07-01T00:00:00.000",
          "2025-08-01T00:00:00.000",
          "2025-09-01T00:00:00.000"
         ],
         "xaxis": "x",
         "y": [
          1,
          1,
          15,
          56,
          158,
          258,
          434,
          446,
          0
         ],
         "yaxis": "y"
        },
        {
         "hovertemplate": "bus_route=BXM9<br>month=%{x}<br>ridership=%{y}<extra></extra>",
         "legendgroup": "BXM9",
         "line": {
          "color": "#FF6692",
          "dash": "solid"
         },
         "marker": {
          "symbol": "circle"
         },
         "mode": "lines",
         "name": "BXM9",
         "showlegend": true,
         "type": "scattergl",
         "x": [
          "2025-01-01T00:00:00.000",
          "2025-02-01T00:00:00.000",
          "2025-03-01T00:00:00.000",
          "2025-04-01T00:00:00.000",
          "2025-05-01T00:00:00.000",
          "2025-06-01T00:00:00.000",
          "2025-07-01T00:00:00.000",
          "2025-08-01T00:00:00.000",
          "2025-09-01T00:00:00.000"
         ],
         "xaxis": "x",
         "y": [
          0,
          0,
          18,
          81,
          250,
          340,
          488,
          495,
          0
         ],
         "yaxis": "y"
        },
        {
         "hovertemplate": "bus_route=D90<br>month=%{x}<br>ridership=%{y}<extra></extra>",
         "legendgroup": "D90",
         "line": {
          "color": "#B6E880",
          "dash": "solid"
         },
         "marker": {
          "symbol": "circle"
         },
         "mode": "lines",
         "name": "D90",
         "showlegend": true,
         "type": "scattergl",
         "x": [
          "2025-01-01T00:00:00.000",
          "2025-02-01T00:00:00.000",
          "2025-03-01T00:00:00.000",
          "2025-04-01T00:00:00.000",
          "2025-05-01T00:00:00.000",
          "2025-06-01T00:00:00.000",
          "2025-07-01T00:00:00.000",
          "2025-08-01T00:00:00.000",
          "2025-09-01T00:00:00.000"
         ],
         "xaxis": "x",
         "y": [
          0,
          0,
          0,
          0,
          0,
          0,
          0,
          0,
          0
         ],
         "yaxis": "y"
        },
        {
         "hovertemplate": "bus_route=D99<br>month=%{x}<br>ridership=%{y}<extra></extra>",
         "legendgroup": "D99",
         "line": {
          "color": "#FF97FF",
          "dash": "solid"
         },
         "marker": {
          "symbol": "circle"
         },
         "mode": "lines",
         "name": "D99",
         "showlegend": true,
         "type": "scattergl",
         "x": [
          "2025-01-01T00:00:00.000",
          "2025-02-01T00:00:00.000",
          "2025-03-01T00:00:00.000",
          "2025-04-01T00:00:00.000",
          "2025-05-01T00:00:00.000",
          "2025-06-01T00:00:00.000",
          "2025-07-01T00:00:00.000",
          "2025-08-01T00:00:00.000",
          "2025-09-01T00:00:00.000"
         ],
         "xaxis": "x",
         "y": [
          0,
          0,
          0,
          0,
          0,
          0,
          0,
          0,
          0
         ],
         "yaxis": "y"
        },
        {
         "hovertemplate": "bus_route=F1<br>month=%{x}<br>ridership=%{y}<extra></extra>",
         "legendgroup": "F1",
         "line": {
          "color": "#FECB52",
          "dash": "solid"
         },
         "marker": {
          "symbol": "circle"
         },
         "mode": "lines",
         "name": "F1",
         "showlegend": true,
         "type": "scattergl",
         "x": [
          "2025-01-01T00:00:00.000",
          "2025-02-01T00:00:00.000",
          "2025-03-01T00:00:00.000",
          "2025-04-01T00:00:00.000",
          "2025-05-01T00:00:00.000",
          "2025-06-01T00:00:00.000",
          "2025-07-01T00:00:00.000",
          "2025-08-01T00:00:00.000",
          "2025-09-01T00:00:00.000"
         ],
         "xaxis": "x",
         "y": [
          0,
          0,
          0,
          0,
          0,
          0,
          0,
          0,
          0
         ],
         "yaxis": "y"
        },
        {
         "hovertemplate": "bus_route=J90<br>month=%{x}<br>ridership=%{y}<extra></extra>",
         "legendgroup": "J90",
         "line": {
          "color": "#636efa",
          "dash": "solid"
         },
         "marker": {
          "symbol": "circle"
         },
         "mode": "lines",
         "name": "J90",
         "showlegend": true,
         "type": "scattergl",
         "x": [
          "2025-01-01T00:00:00.000",
          "2025-02-01T00:00:00.000",
          "2025-03-01T00:00:00.000",
          "2025-04-01T00:00:00.000",
          "2025-05-01T00:00:00.000",
          "2025-06-01T00:00:00.000",
          "2025-07-01T00:00:00.000",
          "2025-08-01T00:00:00.000",
          "2025-09-01T00:00:00.000"
         ],
         "xaxis": "x",
         "y": [
          0,
          0,
          3,
          8,
          4,
          20,
          40,
          0,
          0
         ],
         "yaxis": "y"
        },
        {
         "hovertemplate": "bus_route=J99<br>month=%{x}<br>ridership=%{y}<extra></extra>",
         "legendgroup": "J99",
         "line": {
          "color": "#EF553B",
          "dash": "solid"
         },
         "marker": {
          "symbol": "circle"
         },
         "mode": "lines",
         "name": "J99",
         "showlegend": true,
         "type": "scattergl",
         "x": [
          "2025-01-01T00:00:00.000",
          "2025-02-01T00:00:00.000",
          "2025-03-01T00:00:00.000",
          "2025-04-01T00:00:00.000",
          "2025-05-01T00:00:00.000",
          "2025-06-01T00:00:00.000",
          "2025-07-01T00:00:00.000",
          "2025-08-01T00:00:00.000",
          "2025-09-01T00:00:00.000"
         ],
         "xaxis": "x",
         "y": [
          0,
          0,
          0,
          0,
          0,
          0,
          0,
          0,
          0
         ],
         "yaxis": "y"
        },
        {
         "hovertemplate": "bus_route=L90<br>month=%{x}<br>ridership=%{y}<extra></extra>",
         "legendgroup": "L90",
         "line": {
          "color": "#00cc96",
          "dash": "solid"
         },
         "marker": {
          "symbol": "circle"
         },
         "mode": "lines",
         "name": "L90",
         "showlegend": true,
         "type": "scattergl",
         "x": [
          "2025-01-01T00:00:00.000",
          "2025-02-01T00:00:00.000",
          "2025-03-01T00:00:00.000",
          "2025-04-01T00:00:00.000",
          "2025-05-01T00:00:00.000",
          "2025-06-01T00:00:00.000",
          "2025-07-01T00:00:00.000",
          "2025-08-01T00:00:00.000",
          "2025-09-01T00:00:00.000"
         ],
         "xaxis": "x",
         "y": [
          0,
          0,
          0,
          0,
          0,
          0,
          0,
          0,
          0
         ],
         "yaxis": "y"
        },
        {
         "hovertemplate": "bus_route=L91<br>month=%{x}<br>ridership=%{y}<extra></extra>",
         "legendgroup": "L91",
         "line": {
          "color": "#ab63fa",
          "dash": "solid"
         },
         "marker": {
          "symbol": "circle"
         },
         "mode": "lines",
         "name": "L91",
         "showlegend": true,
         "type": "scattergl",
         "x": [
          "2025-01-01T00:00:00.000",
          "2025-02-01T00:00:00.000",
          "2025-03-01T00:00:00.000",
          "2025-04-01T00:00:00.000",
          "2025-05-01T00:00:00.000",
          "2025-06-01T00:00:00.000",
          "2025-07-01T00:00:00.000",
          "2025-08-01T00:00:00.000",
          "2025-09-01T00:00:00.000"
         ],
         "xaxis": "x",
         "y": [
          0,
          0,
          0,
          0,
          0,
          0,
          0,
          0,
          0
         ],
         "yaxis": "y"
        },
        {
         "hovertemplate": "bus_route=L92<br>month=%{x}<br>ridership=%{y}<extra></extra>",
         "legendgroup": "L92",
         "line": {
          "color": "#FFA15A",
          "dash": "solid"
         },
         "marker": {
          "symbol": "circle"
         },
         "mode": "lines",
         "name": "L92",
         "showlegend": true,
         "type": "scattergl",
         "x": [
          "2025-01-01T00:00:00.000",
          "2025-02-01T00:00:00.000",
          "2025-03-01T00:00:00.000",
          "2025-04-01T00:00:00.000",
          "2025-05-01T00:00:00.000",
          "2025-06-01T00:00:00.000",
          "2025-07-01T00:00:00.000",
          "2025-08-01T00:00:00.000",
          "2025-09-01T00:00:00.000"
         ],
         "xaxis": "x",
         "y": [
          2,
          0,
          0,
          23,
          0,
          4,
          0,
          4,
          0
         ],
         "yaxis": "y"
        },
        {
         "hovertemplate": "bus_route=M1<br>month=%{x}<br>ridership=%{y}<extra></extra>",
         "legendgroup": "M1",
         "line": {
          "color": "#19d3f3",
          "dash": "solid"
         },
         "marker": {
          "symbol": "circle"
         },
         "mode": "lines",
         "name": "M1",
         "showlegend": true,
         "type": "scattergl",
         "x": [
          "2025-01-01T00:00:00.000",
          "2025-02-01T00:00:00.000",
          "2025-03-01T00:00:00.000",
          "2025-04-01T00:00:00.000",
          "2025-05-01T00:00:00.000",
          "2025-06-01T00:00:00.000",
          "2025-07-01T00:00:00.000",
          "2025-08-01T00:00:00.000",
          "2025-09-01T00:00:00.000"
         ],
         "xaxis": "x",
         "y": [
          4971,
          4304,
          6639,
          7378,
          13978,
          12891,
          12875,
          11256,
          0
         ],
         "yaxis": "y"
        },
        {
         "hovertemplate": "bus_route=M10<br>month=%{x}<br>ridership=%{y}<extra></extra>",
         "legendgroup": "M10",
         "line": {
          "color": "#FF6692",
          "dash": "solid"
         },
         "marker": {
          "symbol": "circle"
         },
         "mode": "lines",
         "name": "M10",
         "showlegend": true,
         "type": "scattergl",
         "x": [
          "2025-01-01T00:00:00.000",
          "2025-02-01T00:00:00.000",
          "2025-03-01T00:00:00.000",
          "2025-04-01T00:00:00.000",
          "2025-05-01T00:00:00.000",
          "2025-06-01T00:00:00.000",
          "2025-07-01T00:00:00.000",
          "2025-08-01T00:00:00.000",
          "2025-09-01T00:00:00.000"
         ],
         "xaxis": "x",
         "y": [
          4346,
          3742,
          6615,
          6312,
          12634,
          12053,
          11466,
          9144,
          0
         ],
         "yaxis": "y"
        },
        {
         "hovertemplate": "bus_route=M100<br>month=%{x}<br>ridership=%{y}<extra></extra>",
         "legendgroup": "M100",
         "line": {
          "color": "#B6E880",
          "dash": "solid"
         },
         "marker": {
          "symbol": "circle"
         },
         "mode": "lines",
         "name": "M100",
         "showlegend": true,
         "type": "scattergl",
         "x": [
          "2025-01-01T00:00:00.000",
          "2025-02-01T00:00:00.000",
          "2025-03-01T00:00:00.000",
          "2025-04-01T00:00:00.000",
          "2025-05-01T00:00:00.000",
          "2025-06-01T00:00:00.000",
          "2025-07-01T00:00:00.000",
          "2025-08-01T00:00:00.000",
          "2025-09-01T00:00:00.000"
         ],
         "xaxis": "x",
         "y": [
          9871,
          9098,
          15266,
          15150,
          30032,
          28889,
          28118,
          22595,
          0
         ],
         "yaxis": "y"
        },
        {
         "hovertemplate": "bus_route=M101<br>month=%{x}<br>ridership=%{y}<extra></extra>",
         "legendgroup": "M101",
         "line": {
          "color": "#FF97FF",
          "dash": "solid"
         },
         "marker": {
          "symbol": "circle"
         },
         "mode": "lines",
         "name": "M101",
         "showlegend": true,
         "type": "scattergl",
         "x": [
          "2025-01-01T00:00:00.000",
          "2025-02-01T00:00:00.000",
          "2025-03-01T00:00:00.000",
          "2025-04-01T00:00:00.000",
          "2025-05-01T00:00:00.000",
          "2025-06-01T00:00:00.000",
          "2025-07-01T00:00:00.000",
          "2025-08-01T00:00:00.000",
          "2025-09-01T00:00:00.000"
         ],
         "xaxis": "x",
         "y": [
          18078,
          12303,
          21481,
          26727,
          51221,
          47717,
          47874,
          39547,
          0
         ],
         "yaxis": "y"
        },
        {
         "hovertemplate": "bus_route=M102<br>month=%{x}<br>ridership=%{y}<extra></extra>",
         "legendgroup": "M102",
         "line": {
          "color": "#FECB52",
          "dash": "solid"
         },
         "marker": {
          "symbol": "circle"
         },
         "mode": "lines",
         "name": "M102",
         "showlegend": true,
         "type": "scattergl",
         "x": [
          "2025-01-01T00:00:00.000",
          "2025-02-01T00:00:00.000",
          "2025-03-01T00:00:00.000",
          "2025-04-01T00:00:00.000",
          "2025-05-01T00:00:00.000",
          "2025-06-01T00:00:00.000",
          "2025-07-01T00:00:00.000",
          "2025-08-01T00:00:00.000",
          "2025-09-01T00:00:00.000"
         ],
         "xaxis": "x",
         "y": [
          7909,
          5234,
          8769,
          11306,
          21536,
          19698,
          21049,
          16769,
          0
         ],
         "yaxis": "y"
        },
        {
         "hovertemplate": "bus_route=M103<br>month=%{x}<br>ridership=%{y}<extra></extra>",
         "legendgroup": "M103",
         "line": {
          "color": "#636efa",
          "dash": "solid"
         },
         "marker": {
          "symbol": "circle"
         },
         "mode": "lines",
         "name": "M103",
         "showlegend": true,
         "type": "scattergl",
         "x": [
          "2025-01-01T00:00:00.000",
          "2025-02-01T00:00:00.000",
          "2025-03-01T00:00:00.000",
          "2025-04-01T00:00:00.000",
          "2025-05-01T00:00:00.000",
          "2025-06-01T00:00:00.000",
          "2025-07-01T00:00:00.000",
          "2025-08-01T00:00:00.000",
          "2025-09-01T00:00:00.000"
         ],
         "xaxis": "x",
         "y": [
          5325,
          3629,
          5972,
          7488,
          15604,
          14548,
          14345,
          12443,
          0
         ],
         "yaxis": "y"
        },
        {
         "hovertemplate": "bus_route=M104<br>month=%{x}<br>ridership=%{y}<extra></extra>",
         "legendgroup": "M104",
         "line": {
          "color": "#EF553B",
          "dash": "solid"
         },
         "marker": {
          "symbol": "circle"
         },
         "mode": "lines",
         "name": "M104",
         "showlegend": true,
         "type": "scattergl",
         "x": [
          "2025-01-01T00:00:00.000",
          "2025-02-01T00:00:00.000",
          "2025-03-01T00:00:00.000",
          "2025-04-01T00:00:00.000",
          "2025-05-01T00:00:00.000",
          "2025-06-01T00:00:00.000",
          "2025-07-01T00:00:00.000",
          "2025-08-01T00:00:00.000",
          "2025-09-01T00:00:00.000"
         ],
         "xaxis": "x",
         "y": [
          3042,
          2806,
          4926,
          5392,
          9933,
          9364,
          9442,
          8483,
          0
         ],
         "yaxis": "y"
        },
        {
         "hovertemplate": "bus_route=M106<br>month=%{x}<br>ridership=%{y}<extra></extra>",
         "legendgroup": "M106",
         "line": {
          "color": "#00cc96",
          "dash": "solid"
         },
         "marker": {
          "symbol": "circle"
         },
         "mode": "lines",
         "name": "M106",
         "showlegend": true,
         "type": "scattergl",
         "x": [
          "2025-01-01T00:00:00.000",
          "2025-02-01T00:00:00.000",
          "2025-03-01T00:00:00.000",
          "2025-04-01T00:00:00.000",
          "2025-05-01T00:00:00.000",
          "2025-06-01T00:00:00.000",
          "2025-07-01T00:00:00.000",
          "2025-08-01T00:00:00.000",
          "2025-09-01T00:00:00.000"
         ],
         "xaxis": "x",
         "y": [
          1555,
          1416,
          2135,
          2249,
          4445,
          4024,
          4024,
          3280,
          0
         ],
         "yaxis": "y"
        },
        {
         "hovertemplate": "bus_route=M11<br>month=%{x}<br>ridership=%{y}<extra></extra>",
         "legendgroup": "M11",
         "line": {
          "color": "#ab63fa",
          "dash": "solid"
         },
         "marker": {
          "symbol": "circle"
         },
         "mode": "lines",
         "name": "M11",
         "showlegend": true,
         "type": "scattergl",
         "x": [
          "2025-01-01T00:00:00.000",
          "2025-02-01T00:00:00.000",
          "2025-03-01T00:00:00.000",
          "2025-04-01T00:00:00.000",
          "2025-05-01T00:00:00.000",
          "2025-06-01T00:00:00.000",
          "2025-07-01T00:00:00.000",
          "2025-08-01T00:00:00.000",
          "2025-09-01T00:00:00.000"
         ],
         "xaxis": "x",
         "y": [
          6924,
          6320,
          10164,
          10530,
          20261,
          18909,
          19843,
          16286,
          0
         ],
         "yaxis": "y"
        },
        {
         "hovertemplate": "bus_route=M116<br>month=%{x}<br>ridership=%{y}<extra></extra>",
         "legendgroup": "M116",
         "line": {
          "color": "#FFA15A",
          "dash": "solid"
         },
         "marker": {
          "symbol": "circle"
         },
         "mode": "lines",
         "name": "M116",
         "showlegend": true,
         "type": "scattergl",
         "x": [
          "2025-01-01T00:00:00.000",
          "2025-02-01T00:00:00.000",
          "2025-03-01T00:00:00.000",
          "2025-04-01T00:00:00.000",
          "2025-05-01T00:00:00.000",
          "2025-06-01T00:00:00.000",
          "2025-07-01T00:00:00.000",
          "2025-08-01T00:00:00.000",
          "2025-09-01T00:00:00.000"
         ],
         "xaxis": "x",
         "y": [
          8326,
          7451,
          12052,
          12147,
          24006,
          23295,
          22430,
          18693,
          0
         ],
         "yaxis": "y"
        },
        {
         "hovertemplate": "bus_route=M12<br>month=%{x}<br>ridership=%{y}<extra></extra>",
         "legendgroup": "M12",
         "line": {
          "color": "#19d3f3",
          "dash": "solid"
         },
         "marker": {
          "symbol": "circle"
         },
         "mode": "lines",
         "name": "M12",
         "showlegend": true,
         "type": "scattergl",
         "x": [
          "2025-01-01T00:00:00.000",
          "2025-02-01T00:00:00.000",
          "2025-03-01T00:00:00.000",
          "2025-04-01T00:00:00.000",
          "2025-05-01T00:00:00.000",
          "2025-06-01T00:00:00.000",
          "2025-07-01T00:00:00.000",
          "2025-08-01T00:00:00.000",
          "2025-09-01T00:00:00.000"
         ],
         "xaxis": "x",
         "y": [
          630,
          591,
          1062,
          1114,
          2547,
          2233,
          2547,
          2277,
          0
         ],
         "yaxis": "y"
        },
        {
         "hovertemplate": "bus_route=M125<br>month=%{x}<br>ridership=%{y}<extra></extra>",
         "legendgroup": "M125",
         "line": {
          "color": "#FF6692",
          "dash": "solid"
         },
         "marker": {
          "symbol": "circle"
         },
         "mode": "lines",
         "name": "M125",
         "showlegend": true,
         "type": "scattergl",
         "x": [
          "2025-01-01T00:00:00.000",
          "2025-02-01T00:00:00.000",
          "2025-03-01T00:00:00.000",
          "2025-04-01T00:00:00.000",
          "2025-05-01T00:00:00.000",
          "2025-06-01T00:00:00.000",
          "2025-07-01T00:00:00.000",
          "2025-08-01T00:00:00.000",
          "2025-09-01T00:00:00.000"
         ],
         "xaxis": "x",
         "y": [
          9398,
          8661,
          13726,
          13521,
          27297,
          25691,
          26475,
          21683,
          0
         ],
         "yaxis": "y"
        },
        {
         "hovertemplate": "bus_route=M14A<br>month=%{x}<br>ridership=%{y}<extra></extra>",
         "legendgroup": "M14A",
         "line": {
          "color": "#B6E880",
          "dash": "solid"
         },
         "marker": {
          "symbol": "circle"
         },
         "mode": "lines",
         "name": "M14A",
         "showlegend": true,
         "type": "scattergl",
         "x": [
          "2025-01-01T00:00:00.000",
          "2025-02-01T00:00:00.000",
          "2025-03-01T00:00:00.000",
          "2025-04-01T00:00:00.000",
          "2025-05-01T00:00:00.000",
          "2025-06-01T00:00:00.000",
          "2025-07-01T00:00:00.000",
          "2025-08-01T00:00:00.000",
          "2025-09-01T00:00:00.000"
         ],
         "xaxis": "x",
         "y": [
          0,
          0,
          0,
          0,
          0,
          0,
          0,
          0,
          0
         ],
         "yaxis": "y"
        },
        {
         "hovertemplate": "bus_route=M14A+<br>month=%{x}<br>ridership=%{y}<extra></extra>",
         "legendgroup": "M14A+",
         "line": {
          "color": "#FF97FF",
          "dash": "solid"
         },
         "marker": {
          "symbol": "circle"
         },
         "mode": "lines",
         "name": "M14A+",
         "showlegend": true,
         "type": "scattergl",
         "x": [
          "2025-01-01T00:00:00.000",
          "2025-02-01T00:00:00.000",
          "2025-03-01T00:00:00.000",
          "2025-04-01T00:00:00.000",
          "2025-05-01T00:00:00.000",
          "2025-06-01T00:00:00.000",
          "2025-07-01T00:00:00.000",
          "2025-08-01T00:00:00.000",
          "2025-09-01T00:00:00.000"
         ],
         "xaxis": "x",
         "y": [
          5574,
          5113,
          6993,
          6654,
          13845,
          13718,
          13938,
          12165,
          0
         ],
         "yaxis": "y"
        },
        {
         "hovertemplate": "bus_route=M14D<br>month=%{x}<br>ridership=%{y}<extra></extra>",
         "legendgroup": "M14D",
         "line": {
          "color": "#FECB52",
          "dash": "solid"
         },
         "marker": {
          "symbol": "circle"
         },
         "mode": "lines",
         "name": "M14D",
         "showlegend": true,
         "type": "scattergl",
         "x": [
          "2025-01-01T00:00:00.000",
          "2025-02-01T00:00:00.000",
          "2025-03-01T00:00:00.000",
          "2025-04-01T00:00:00.000",
          "2025-05-01T00:00:00.000",
          "2025-06-01T00:00:00.000",
          "2025-07-01T00:00:00.000",
          "2025-08-01T00:00:00.000",
          "2025-09-01T00:00:00.000"
         ],
         "xaxis": "x",
         "y": [
          0,
          0,
          0,
          0,
          0,
          0,
          0,
          0,
          0
         ],
         "yaxis": "y"
        },
        {
         "hovertemplate": "bus_route=M14D+<br>month=%{x}<br>ridership=%{y}<extra></extra>",
         "legendgroup": "M14D+",
         "line": {
          "color": "#636efa",
          "dash": "solid"
         },
         "marker": {
          "symbol": "circle"
         },
         "mode": "lines",
         "name": "M14D+",
         "showlegend": true,
         "type": "scattergl",
         "x": [
          "2025-01-01T00:00:00.000",
          "2025-02-01T00:00:00.000",
          "2025-03-01T00:00:00.000",
          "2025-04-01T00:00:00.000",
          "2025-05-01T00:00:00.000",
          "2025-06-01T00:00:00.000",
          "2025-07-01T00:00:00.000",
          "2025-08-01T00:00:00.000",
          "2025-09-01T00:00:00.000"
         ],
         "xaxis": "x",
         "y": [
          12009,
          9902,
          16385,
          18254,
          37223,
          36244,
          37263,
          32397,
          0
         ],
         "yaxis": "y"
        },
        {
         "hovertemplate": "bus_route=M15<br>month=%{x}<br>ridership=%{y}<extra></extra>",
         "legendgroup": "M15",
         "line": {
          "color": "#EF553B",
          "dash": "solid"
         },
         "marker": {
          "symbol": "circle"
         },
         "mode": "lines",
         "name": "M15",
         "showlegend": true,
         "type": "scattergl",
         "x": [
          "2025-01-01T00:00:00.000",
          "2025-02-01T00:00:00.000",
          "2025-03-01T00:00:00.000",
          "2025-04-01T00:00:00.000",
          "2025-05-01T00:00:00.000",
          "2025-06-01T00:00:00.000",
          "2025-07-01T00:00:00.000",
          "2025-08-01T00:00:00.000",
          "2025-09-01T00:00:00.000"
         ],
         "xaxis": "x",
         "y": [
          9891,
          6208,
          10719,
          13332,
          28145,
          26956,
          27370,
          24375,
          0
         ],
         "yaxis": "y"
        },
        {
         "hovertemplate": "bus_route=M15+<br>month=%{x}<br>ridership=%{y}<extra></extra>",
         "legendgroup": "M15+",
         "line": {
          "color": "#00cc96",
          "dash": "solid"
         },
         "marker": {
          "symbol": "circle"
         },
         "mode": "lines",
         "name": "M15+",
         "showlegend": true,
         "type": "scattergl",
         "x": [
          "2025-01-01T00:00:00.000",
          "2025-02-01T00:00:00.000",
          "2025-03-01T00:00:00.000",
          "2025-04-01T00:00:00.000",
          "2025-05-01T00:00:00.000",
          "2025-06-01T00:00:00.000",
          "2025-07-01T00:00:00.000",
          "2025-08-01T00:00:00.000",
          "2025-09-01T00:00:00.000"
         ],
         "xaxis": "x",
         "y": [
          13822,
          12583,
          19505,
          20638,
          41815,
          41518,
          43659,
          37794,
          0
         ],
         "yaxis": "y"
        },
        {
         "hovertemplate": "bus_route=M2<br>month=%{x}<br>ridership=%{y}<extra></extra>",
         "legendgroup": "M2",
         "line": {
          "color": "#ab63fa",
          "dash": "solid"
         },
         "marker": {
          "symbol": "circle"
         },
         "mode": "lines",
         "name": "M2",
         "showlegend": true,
         "type": "scattergl",
         "x": [
          "2025-01-01T00:00:00.000",
          "2025-02-01T00:00:00.000",
          "2025-03-01T00:00:00.000",
          "2025-04-01T00:00:00.000",
          "2025-05-01T00:00:00.000",
          "2025-06-01T00:00:00.000",
          "2025-07-01T00:00:00.000",
          "2025-08-01T00:00:00.000",
          "2025-09-01T00:00:00.000"
         ],
         "xaxis": "x",
         "y": [
          6661,
          5894,
          9775,
          10283,
          19053,
          17928,
          17408,
          14528,
          0
         ],
         "yaxis": "y"
        },
        {
         "hovertemplate": "bus_route=M20<br>month=%{x}<br>ridership=%{y}<extra></extra>",
         "legendgroup": "M20",
         "line": {
          "color": "#FFA15A",
          "dash": "solid"
         },
         "marker": {
          "symbol": "circle"
         },
         "mode": "lines",
         "name": "M20",
         "showlegend": true,
         "type": "scattergl",
         "x": [
          "2025-01-01T00:00:00.000",
          "2025-02-01T00:00:00.000",
          "2025-03-01T00:00:00.000",
          "2025-04-01T00:00:00.000",
          "2025-05-01T00:00:00.000",
          "2025-06-01T00:00:00.000",
          "2025-07-01T00:00:00.000",
          "2025-08-01T00:00:00.000",
          "2025-09-01T00:00:00.000"
         ],
         "xaxis": "x",
         "y": [
          605,
          514,
          856,
          1059,
          2292,
          2058,
          2481,
          1983,
          0
         ],
         "yaxis": "y"
        },
        {
         "hovertemplate": "bus_route=M21<br>month=%{x}<br>ridership=%{y}<extra></extra>",
         "legendgroup": "M21",
         "line": {
          "color": "#19d3f3",
          "dash": "solid"
         },
         "marker": {
          "symbol": "circle"
         },
         "mode": "lines",
         "name": "M21",
         "showlegend": true,
         "type": "scattergl",
         "x": [
          "2025-01-01T00:00:00.000",
          "2025-02-01T00:00:00.000",
          "2025-03-01T00:00:00.000",
          "2025-04-01T00:00:00.000",
          "2025-05-01T00:00:00.000",
          "2025-06-01T00:00:00.000",
          "2025-07-01T00:00:00.000",
          "2025-08-01T00:00:00.000",
          "2025-09-01T00:00:00.000"
         ],
         "xaxis": "x",
         "y": [
          957,
          753,
          1262,
          1464,
          2708,
          2559,
          2795,
          2208,
          0
         ],
         "yaxis": "y"
        },
        {
         "hovertemplate": "bus_route=M22<br>month=%{x}<br>ridership=%{y}<extra></extra>",
         "legendgroup": "M22",
         "line": {
          "color": "#FF6692",
          "dash": "solid"
         },
         "marker": {
          "symbol": "circle"
         },
         "mode": "lines",
         "name": "M22",
         "showlegend": true,
         "type": "scattergl",
         "x": [
          "2025-01-01T00:00:00.000",
          "2025-02-01T00:00:00.000",
          "2025-03-01T00:00:00.000",
          "2025-04-01T00:00:00.000",
          "2025-05-01T00:00:00.000",
          "2025-06-01T00:00:00.000",
          "2025-07-01T00:00:00.000",
          "2025-08-01T00:00:00.000",
          "2025-09-01T00:00:00.000"
         ],
         "xaxis": "x",
         "y": [
          1567,
          1219,
          1991,
          2260,
          5088,
          4538,
          4960,
          4333,
          0
         ],
         "yaxis": "y"
        },
        {
         "hovertemplate": "bus_route=M23+<br>month=%{x}<br>ridership=%{y}<extra></extra>",
         "legendgroup": "M23+",
         "line": {
          "color": "#B6E880",
          "dash": "solid"
         },
         "marker": {
          "symbol": "circle"
         },
         "mode": "lines",
         "name": "M23+",
         "showlegend": true,
         "type": "scattergl",
         "x": [
          "2025-01-01T00:00:00.000",
          "2025-02-01T00:00:00.000",
          "2025-03-01T00:00:00.000",
          "2025-04-01T00:00:00.000",
          "2025-05-01T00:00:00.000",
          "2025-06-01T00:00:00.000",
          "2025-07-01T00:00:00.000",
          "2025-08-01T00:00:00.000",
          "2025-09-01T00:00:00.000"
         ],
         "xaxis": "x",
         "y": [
          4675,
          4528,
          6664,
          6491,
          12884,
          10875,
          12140,
          10355,
          0
         ],
         "yaxis": "y"
        },
        {
         "hovertemplate": "bus_route=M3<br>month=%{x}<br>ridership=%{y}<extra></extra>",
         "legendgroup": "M3",
         "line": {
          "color": "#FF97FF",
          "dash": "solid"
         },
         "marker": {
          "symbol": "circle"
         },
         "mode": "lines",
         "name": "M3",
         "showlegend": true,
         "type": "scattergl",
         "x": [
          "2025-01-01T00:00:00.000",
          "2025-02-01T00:00:00.000",
          "2025-03-01T00:00:00.000",
          "2025-04-01T00:00:00.000",
          "2025-05-01T00:00:00.000",
          "2025-06-01T00:00:00.000",
          "2025-07-01T00:00:00.000",
          "2025-08-01T00:00:00.000",
          "2025-09-01T00:00:00.000"
         ],
         "xaxis": "x",
         "y": [
          9754,
          8922,
          14493,
          14569,
          28872,
          27716,
          28127,
          22468,
          0
         ],
         "yaxis": "y"
        },
        {
         "hovertemplate": "bus_route=M31<br>month=%{x}<br>ridership=%{y}<extra></extra>",
         "legendgroup": "M31",
         "line": {
          "color": "#FECB52",
          "dash": "solid"
         },
         "marker": {
          "symbol": "circle"
         },
         "mode": "lines",
         "name": "M31",
         "showlegend": true,
         "type": "scattergl",
         "x": [
          "2025-01-01T00:00:00.000",
          "2025-02-01T00:00:00.000",
          "2025-03-01T00:00:00.000",
          "2025-04-01T00:00:00.000",
          "2025-05-01T00:00:00.000",
          "2025-06-01T00:00:00.000",
          "2025-07-01T00:00:00.000",
          "2025-08-01T00:00:00.000",
          "2025-09-01T00:00:00.000"
         ],
         "xaxis": "x",
         "y": [
          4451,
          3038,
          5484,
          6369,
          13165,
          11968,
          13150,
          11008,
          0
         ],
         "yaxis": "y"
        },
        {
         "hovertemplate": "bus_route=M34+<br>month=%{x}<br>ridership=%{y}<extra></extra>",
         "legendgroup": "M34+",
         "line": {
          "color": "#636efa",
          "dash": "solid"
         },
         "marker": {
          "symbol": "circle"
         },
         "mode": "lines",
         "name": "M34+",
         "showlegend": true,
         "type": "scattergl",
         "x": [
          "2025-01-01T00:00:00.000",
          "2025-02-01T00:00:00.000",
          "2025-03-01T00:00:00.000",
          "2025-04-01T00:00:00.000",
          "2025-05-01T00:00:00.000",
          "2025-06-01T00:00:00.000",
          "2025-07-01T00:00:00.000",
          "2025-08-01T00:00:00.000",
          "2025-09-01T00:00:00.000"
         ],
         "xaxis": "x",
         "y": [
          2538,
          2298,
          3524,
          3433,
          6873,
          7282,
          7948,
          6688,
          0
         ],
         "yaxis": "y"
        },
        {
         "hovertemplate": "bus_route=M34A+<br>month=%{x}<br>ridership=%{y}<extra></extra>",
         "legendgroup": "M34A+",
         "line": {
          "color": "#EF553B",
          "dash": "solid"
         },
         "marker": {
          "symbol": "circle"
         },
         "mode": "lines",
         "name": "M34A+",
         "showlegend": true,
         "type": "scattergl",
         "x": [
          "2025-01-01T00:00:00.000",
          "2025-02-01T00:00:00.000",
          "2025-03-01T00:00:00.000",
          "2025-04-01T00:00:00.000",
          "2025-05-01T00:00:00.000",
          "2025-06-01T00:00:00.000",
          "2025-07-01T00:00:00.000",
          "2025-08-01T00:00:00.000",
          "2025-09-01T00:00:00.000"
         ],
         "xaxis": "x",
         "y": [
          2622,
          2349,
          3519,
          3655,
          7081,
          7099,
          7478,
          6208,
          0
         ],
         "yaxis": "y"
        },
        {
         "hovertemplate": "bus_route=M35<br>month=%{x}<br>ridership=%{y}<extra></extra>",
         "legendgroup": "M35",
         "line": {
          "color": "#00cc96",
          "dash": "solid"
         },
         "marker": {
          "symbol": "circle"
         },
         "mode": "lines",
         "name": "M35",
         "showlegend": true,
         "type": "scattergl",
         "x": [
          "2025-01-01T00:00:00.000",
          "2025-02-01T00:00:00.000",
          "2025-03-01T00:00:00.000",
          "2025-04-01T00:00:00.000",
          "2025-05-01T00:00:00.000",
          "2025-06-01T00:00:00.000",
          "2025-07-01T00:00:00.000",
          "2025-08-01T00:00:00.000",
          "2025-09-01T00:00:00.000"
         ],
         "xaxis": "x",
         "y": [
          162,
          165,
          334,
          518,
          856,
          894,
          794,
          639,
          0
         ],
         "yaxis": "y"
        },
        {
         "hovertemplate": "bus_route=M4<br>month=%{x}<br>ridership=%{y}<extra></extra>",
         "legendgroup": "M4",
         "line": {
          "color": "#ab63fa",
          "dash": "solid"
         },
         "marker": {
          "symbol": "circle"
         },
         "mode": "lines",
         "name": "M4",
         "showlegend": true,
         "type": "scattergl",
         "x": [
          "2025-01-01T00:00:00.000",
          "2025-02-01T00:00:00.000",
          "2025-03-01T00:00:00.000",
          "2025-04-01T00:00:00.000",
          "2025-05-01T00:00:00.000",
          "2025-06-01T00:00:00.000",
          "2025-07-01T00:00:00.000",
          "2025-08-01T00:00:00.000",
          "2025-09-01T00:00:00.000"
         ],
         "xaxis": "x",
         "y": [
          9745,
          9387,
          14673,
          14904,
          28451,
          27046,
          27758,
          23023,
          0
         ],
         "yaxis": "y"
        },
        {
         "hovertemplate": "bus_route=M42<br>month=%{x}<br>ridership=%{y}<extra></extra>",
         "legendgroup": "M42",
         "line": {
          "color": "#FFA15A",
          "dash": "solid"
         },
         "marker": {
          "symbol": "circle"
         },
         "mode": "lines",
         "name": "M42",
         "showlegend": true,
         "type": "scattergl",
         "x": [
          "2025-01-01T00:00:00.000",
          "2025-02-01T00:00:00.000",
          "2025-03-01T00:00:00.000",
          "2025-04-01T00:00:00.000",
          "2025-05-01T00:00:00.000",
          "2025-06-01T00:00:00.000",
          "2025-07-01T00:00:00.000",
          "2025-08-01T00:00:00.000",
          "2025-09-01T00:00:00.000"
         ],
         "xaxis": "x",
         "y": [
          5006,
          4268,
          6630,
          7301,
          15195,
          13896,
          15421,
          13002,
          0
         ],
         "yaxis": "y"
        },
        {
         "hovertemplate": "bus_route=M5<br>month=%{x}<br>ridership=%{y}<extra></extra>",
         "legendgroup": "M5",
         "line": {
          "color": "#19d3f3",
          "dash": "solid"
         },
         "marker": {
          "symbol": "circle"
         },
         "mode": "lines",
         "name": "M5",
         "showlegend": true,
         "type": "scattergl",
         "x": [
          "2025-01-01T00:00:00.000",
          "2025-02-01T00:00:00.000",
          "2025-03-01T00:00:00.000",
          "2025-04-01T00:00:00.000",
          "2025-05-01T00:00:00.000",
          "2025-06-01T00:00:00.000",
          "2025-07-01T00:00:00.000",
          "2025-08-01T00:00:00.000",
          "2025-09-01T00:00:00.000"
         ],
         "xaxis": "x",
         "y": [
          4996,
          4858,
          7784,
          7969,
          15971,
          15024,
          15950,
          12595,
          0
         ],
         "yaxis": "y"
        },
        {
         "hovertemplate": "bus_route=M50<br>month=%{x}<br>ridership=%{y}<extra></extra>",
         "legendgroup": "M50",
         "line": {
          "color": "#FF6692",
          "dash": "solid"
         },
         "marker": {
          "symbol": "circle"
         },
         "mode": "lines",
         "name": "M50",
         "showlegend": true,
         "type": "scattergl",
         "x": [
          "2025-01-01T00:00:00.000",
          "2025-02-01T00:00:00.000",
          "2025-03-01T00:00:00.000",
          "2025-04-01T00:00:00.000",
          "2025-05-01T00:00:00.000",
          "2025-06-01T00:00:00.000",
          "2025-07-01T00:00:00.000",
          "2025-08-01T00:00:00.000",
          "2025-09-01T00:00:00.000"
         ],
         "xaxis": "x",
         "y": [
          892,
          1125,
          1674,
          1803,
          4427,
          3717,
          4203,
          3705,
          0
         ],
         "yaxis": "y"
        },
        {
         "hovertemplate": "bus_route=M55<br>month=%{x}<br>ridership=%{y}<extra></extra>",
         "legendgroup": "M55",
         "line": {
          "color": "#B6E880",
          "dash": "solid"
         },
         "marker": {
          "symbol": "circle"
         },
         "mode": "lines",
         "name": "M55",
         "showlegend": true,
         "type": "scattergl",
         "x": [
          "2025-01-01T00:00:00.000",
          "2025-02-01T00:00:00.000",
          "2025-03-01T00:00:00.000",
          "2025-04-01T00:00:00.000",
          "2025-05-01T00:00:00.000",
          "2025-06-01T00:00:00.000",
          "2025-07-01T00:00:00.000",
          "2025-08-01T00:00:00.000",
          "2025-09-01T00:00:00.000"
         ],
         "xaxis": "x",
         "y": [
          611,
          574,
          881,
          1051,
          2321,
          1888,
          2322,
          1984,
          0
         ],
         "yaxis": "y"
        },
        {
         "hovertemplate": "bus_route=M57<br>month=%{x}<br>ridership=%{y}<extra></extra>",
         "legendgroup": "M57",
         "line": {
          "color": "#FF97FF",
          "dash": "solid"
         },
         "marker": {
          "symbol": "circle"
         },
         "mode": "lines",
         "name": "M57",
         "showlegend": true,
         "type": "scattergl",
         "x": [
          "2025-01-01T00:00:00.000",
          "2025-02-01T00:00:00.000",
          "2025-03-01T00:00:00.000",
          "2025-04-01T00:00:00.000",
          "2025-05-01T00:00:00.000",
          "2025-06-01T00:00:00.000",
          "2025-07-01T00:00:00.000",
          "2025-08-01T00:00:00.000",
          "2025-09-01T00:00:00.000"
         ],
         "xaxis": "x",
         "y": [
          4321,
          3965,
          6241,
          6290,
          12770,
          11203,
          13504,
          11277,
          0
         ],
         "yaxis": "y"
        },
        {
         "hovertemplate": "bus_route=M60+<br>month=%{x}<br>ridership=%{y}<extra></extra>",
         "legendgroup": "M60+",
         "line": {
          "color": "#FECB52",
          "dash": "solid"
         },
         "marker": {
          "symbol": "circle"
         },
         "mode": "lines",
         "name": "M60+",
         "showlegend": true,
         "type": "scattergl",
         "x": [
          "2025-01-01T00:00:00.000",
          "2025-02-01T00:00:00.000",
          "2025-03-01T00:00:00.000",
          "2025-04-01T00:00:00.000",
          "2025-05-01T00:00:00.000",
          "2025-06-01T00:00:00.000",
          "2025-07-01T00:00:00.000",
          "2025-08-01T00:00:00.000",
          "2025-09-01T00:00:00.000"
         ],
         "xaxis": "x",
         "y": [
          6421,
          6162,
          10754,
          10621,
          21581,
          21057,
          22332,
          19581,
          0
         ],
         "yaxis": "y"
        },
        {
         "hovertemplate": "bus_route=M66<br>month=%{x}<br>ridership=%{y}<extra></extra>",
         "legendgroup": "M66",
         "line": {
          "color": "#636efa",
          "dash": "solid"
         },
         "marker": {
          "symbol": "circle"
         },
         "mode": "lines",
         "name": "M66",
         "showlegend": true,
         "type": "scattergl",
         "x": [
          "2025-01-01T00:00:00.000",
          "2025-02-01T00:00:00.000",
          "2025-03-01T00:00:00.000",
          "2025-04-01T00:00:00.000",
          "2025-05-01T00:00:00.000",
          "2025-06-01T00:00:00.000",
          "2025-07-01T00:00:00.000",
          "2025-08-01T00:00:00.000",
          "2025-09-01T00:00:00.000"
         ],
         "xaxis": "x",
         "y": [
          3451,
          3028,
          4877,
          4994,
          9759,
          8758,
          9273,
          7886,
          0
         ],
         "yaxis": "y"
        },
        {
         "hovertemplate": "bus_route=M7<br>month=%{x}<br>ridership=%{y}<extra></extra>",
         "legendgroup": "M7",
         "line": {
          "color": "#EF553B",
          "dash": "solid"
         },
         "marker": {
          "symbol": "circle"
         },
         "mode": "lines",
         "name": "M7",
         "showlegend": true,
         "type": "scattergl",
         "x": [
          "2025-01-01T00:00:00.000",
          "2025-02-01T00:00:00.000",
          "2025-03-01T00:00:00.000",
          "2025-04-01T00:00:00.000",
          "2025-05-01T00:00:00.000",
          "2025-06-01T00:00:00.000",
          "2025-07-01T00:00:00.000",
          "2025-08-01T00:00:00.000",
          "2025-09-01T00:00:00.000"
         ],
         "xaxis": "x",
         "y": [
          7022,
          6301,
          9673,
          9979,
          20478,
          19424,
          19548,
          15601,
          0
         ],
         "yaxis": "y"
        },
        {
         "hovertemplate": "bus_route=M72<br>month=%{x}<br>ridership=%{y}<extra></extra>",
         "legendgroup": "M72",
         "line": {
          "color": "#00cc96",
          "dash": "solid"
         },
         "marker": {
          "symbol": "circle"
         },
         "mode": "lines",
         "name": "M72",
         "showlegend": true,
         "type": "scattergl",
         "x": [
          "2025-01-01T00:00:00.000",
          "2025-02-01T00:00:00.000",
          "2025-03-01T00:00:00.000",
          "2025-04-01T00:00:00.000",
          "2025-05-01T00:00:00.000",
          "2025-06-01T00:00:00.000",
          "2025-07-01T00:00:00.000",
          "2025-08-01T00:00:00.000",
          "2025-09-01T00:00:00.000"
         ],
         "xaxis": "x",
         "y": [
          1555,
          1308,
          2101,
          2154,
          4645,
          4494,
          4938,
          4139,
          0
         ],
         "yaxis": "y"
        },
        {
         "hovertemplate": "bus_route=M79+<br>month=%{x}<br>ridership=%{y}<extra></extra>",
         "legendgroup": "M79+",
         "line": {
          "color": "#ab63fa",
          "dash": "solid"
         },
         "marker": {
          "symbol": "circle"
         },
         "mode": "lines",
         "name": "M79+",
         "showlegend": true,
         "type": "scattergl",
         "x": [
          "2025-01-01T00:00:00.000",
          "2025-02-01T00:00:00.000",
          "2025-03-01T00:00:00.000",
          "2025-04-01T00:00:00.000",
          "2025-05-01T00:00:00.000",
          "2025-06-01T00:00:00.000",
          "2025-07-01T00:00:00.000",
          "2025-08-01T00:00:00.000",
          "2025-09-01T00:00:00.000"
         ],
         "xaxis": "x",
         "y": [
          2551,
          2474,
          3788,
          3780,
          7561,
          7278,
          7366,
          6464,
          0
         ],
         "yaxis": "y"
        },
        {
         "hovertemplate": "bus_route=M8<br>month=%{x}<br>ridership=%{y}<extra></extra>",
         "legendgroup": "M8",
         "line": {
          "color": "#FFA15A",
          "dash": "solid"
         },
         "marker": {
          "symbol": "circle"
         },
         "mode": "lines",
         "name": "M8",
         "showlegend": true,
         "type": "scattergl",
         "x": [
          "2025-01-01T00:00:00.000",
          "2025-02-01T00:00:00.000",
          "2025-03-01T00:00:00.000",
          "2025-04-01T00:00:00.000",
          "2025-05-01T00:00:00.000",
          "2025-06-01T00:00:00.000",
          "2025-07-01T00:00:00.000",
          "2025-08-01T00:00:00.000",
          "2025-09-01T00:00:00.000"
         ],
         "xaxis": "x",
         "y": [
          503,
          502,
          726,
          861,
          1826,
          1299,
          1543,
          1463,
          0
         ],
         "yaxis": "y"
        },
        {
         "hovertemplate": "bus_route=M86+<br>month=%{x}<br>ridership=%{y}<extra></extra>",
         "legendgroup": "M86+",
         "line": {
          "color": "#19d3f3",
          "dash": "solid"
         },
         "marker": {
          "symbol": "circle"
         },
         "mode": "lines",
         "name": "M86+",
         "showlegend": true,
         "type": "scattergl",
         "x": [
          "2025-01-01T00:00:00.000",
          "2025-02-01T00:00:00.000",
          "2025-03-01T00:00:00.000",
          "2025-04-01T00:00:00.000",
          "2025-05-01T00:00:00.000",
          "2025-06-01T00:00:00.000",
          "2025-07-01T00:00:00.000",
          "2025-08-01T00:00:00.000",
          "2025-09-01T00:00:00.000"
         ],
         "xaxis": "x",
         "y": [
          6325,
          3852,
          8725,
          8603,
          17964,
          18433,
          19763,
          17447,
          0
         ],
         "yaxis": "y"
        },
        {
         "hovertemplate": "bus_route=M9<br>month=%{x}<br>ridership=%{y}<extra></extra>",
         "legendgroup": "M9",
         "line": {
          "color": "#FF6692",
          "dash": "solid"
         },
         "marker": {
          "symbol": "circle"
         },
         "mode": "lines",
         "name": "M9",
         "showlegend": true,
         "type": "scattergl",
         "x": [
          "2025-01-01T00:00:00.000",
          "2025-02-01T00:00:00.000",
          "2025-03-01T00:00:00.000",
          "2025-04-01T00:00:00.000",
          "2025-05-01T00:00:00.000",
          "2025-06-01T00:00:00.000",
          "2025-07-01T00:00:00.000",
          "2025-08-01T00:00:00.000",
          "2025-09-01T00:00:00.000"
         ],
         "xaxis": "x",
         "y": [
          5313,
          4335,
          6759,
          7240,
          15555,
          13885,
          15811,
          13325,
          0
         ],
         "yaxis": "y"
        },
        {
         "hovertemplate": "bus_route=M90<br>month=%{x}<br>ridership=%{y}<extra></extra>",
         "legendgroup": "M90",
         "line": {
          "color": "#B6E880",
          "dash": "solid"
         },
         "marker": {
          "symbol": "circle"
         },
         "mode": "lines",
         "name": "M90",
         "showlegend": true,
         "type": "scattergl",
         "x": [
          "2025-01-01T00:00:00.000",
          "2025-02-01T00:00:00.000",
          "2025-03-01T00:00:00.000",
          "2025-04-01T00:00:00.000",
          "2025-05-01T00:00:00.000",
          "2025-06-01T00:00:00.000",
          "2025-07-01T00:00:00.000",
          "2025-08-01T00:00:00.000",
          "2025-09-01T00:00:00.000"
         ],
         "xaxis": "x",
         "y": [
          0,
          0,
          2,
          0,
          0,
          0,
          0,
          2,
          0
         ],
         "yaxis": "y"
        },
        {
         "hovertemplate": "bus_route=M96<br>month=%{x}<br>ridership=%{y}<extra></extra>",
         "legendgroup": "M96",
         "line": {
          "color": "#FF97FF",
          "dash": "solid"
         },
         "marker": {
          "symbol": "circle"
         },
         "mode": "lines",
         "name": "M96",
         "showlegend": true,
         "type": "scattergl",
         "x": [
          "2025-01-01T00:00:00.000",
          "2025-02-01T00:00:00.000",
          "2025-03-01T00:00:00.000",
          "2025-04-01T00:00:00.000",
          "2025-05-01T00:00:00.000",
          "2025-06-01T00:00:00.000",
          "2025-07-01T00:00:00.000",
          "2025-08-01T00:00:00.000",
          "2025-09-01T00:00:00.000"
         ],
         "xaxis": "x",
         "y": [
          8443,
          7631,
          11542,
          12067,
          23919,
          23703,
          23464,
          19787,
          0
         ],
         "yaxis": "y"
        },
        {
         "hovertemplate": "bus_route=M98<br>month=%{x}<br>ridership=%{y}<extra></extra>",
         "legendgroup": "M98",
         "line": {
          "color": "#FECB52",
          "dash": "solid"
         },
         "marker": {
          "symbol": "circle"
         },
         "mode": "lines",
         "name": "M98",
         "showlegend": true,
         "type": "scattergl",
         "x": [
          "2025-01-01T00:00:00.000",
          "2025-02-01T00:00:00.000",
          "2025-03-01T00:00:00.000",
          "2025-04-01T00:00:00.000",
          "2025-05-01T00:00:00.000",
          "2025-06-01T00:00:00.000",
          "2025-07-01T00:00:00.000",
          "2025-08-01T00:00:00.000",
          "2025-09-01T00:00:00.000"
         ],
         "xaxis": "x",
         "y": [
          1334,
          1258,
          1870,
          1907,
          3799,
          3283,
          2710,
          2378,
          0
         ],
         "yaxis": "y"
        },
        {
         "hovertemplate": "bus_route=M99<br>month=%{x}<br>ridership=%{y}<extra></extra>",
         "legendgroup": "M99",
         "line": {
          "color": "#636efa",
          "dash": "solid"
         },
         "marker": {
          "symbol": "circle"
         },
         "mode": "lines",
         "name": "M99",
         "showlegend": true,
         "type": "scattergl",
         "x": [
          "2025-01-01T00:00:00.000",
          "2025-02-01T00:00:00.000",
          "2025-03-01T00:00:00.000",
          "2025-04-01T00:00:00.000",
          "2025-05-01T00:00:00.000",
          "2025-06-01T00:00:00.000",
          "2025-07-01T00:00:00.000",
          "2025-08-01T00:00:00.000",
          "2025-09-01T00:00:00.000"
         ],
         "xaxis": "x",
         "y": [
          0,
          0,
          0,
          0,
          0,
          0,
          0,
          0,
          0
         ],
         "yaxis": "y"
        },
        {
         "hovertemplate": "bus_route=Q06<br>month=%{x}<br>ridership=%{y}<extra></extra>",
         "legendgroup": "Q06",
         "line": {
          "color": "#EF553B",
          "dash": "solid"
         },
         "marker": {
          "symbol": "circle"
         },
         "mode": "lines",
         "name": "Q06",
         "showlegend": true,
         "type": "scattergl",
         "x": [
          "2025-01-01T00:00:00.000",
          "2025-02-01T00:00:00.000",
          "2025-03-01T00:00:00.000",
          "2025-04-01T00:00:00.000",
          "2025-05-01T00:00:00.000",
          "2025-06-01T00:00:00.000",
          "2025-07-01T00:00:00.000",
          "2025-08-01T00:00:00.000",
          "2025-09-01T00:00:00.000"
         ],
         "xaxis": "x",
         "y": [
          6451,
          6058,
          10096,
          9504,
          18666,
          18348,
          18985,
          15404,
          0
         ],
         "yaxis": "y"
        },
        {
         "hovertemplate": "bus_route=Q07<br>month=%{x}<br>ridership=%{y}<extra></extra>",
         "legendgroup": "Q07",
         "line": {
          "color": "#00cc96",
          "dash": "solid"
         },
         "marker": {
          "symbol": "circle"
         },
         "mode": "lines",
         "name": "Q07",
         "showlegend": true,
         "type": "scattergl",
         "x": [
          "2025-01-01T00:00:00.000",
          "2025-02-01T00:00:00.000",
          "2025-03-01T00:00:00.000",
          "2025-04-01T00:00:00.000",
          "2025-05-01T00:00:00.000",
          "2025-06-01T00:00:00.000",
          "2025-07-01T00:00:00.000",
          "2025-08-01T00:00:00.000",
          "2025-09-01T00:00:00.000"
         ],
         "xaxis": "x",
         "y": [
          2422,
          2300,
          3552,
          3491,
          6784,
          6457,
          5940,
          5343,
          0
         ],
         "yaxis": "y"
        },
        {
         "hovertemplate": "bus_route=Q08<br>month=%{x}<br>ridership=%{y}<extra></extra>",
         "legendgroup": "Q08",
         "line": {
          "color": "#ab63fa",
          "dash": "solid"
         },
         "marker": {
          "symbol": "circle"
         },
         "mode": "lines",
         "name": "Q08",
         "showlegend": true,
         "type": "scattergl",
         "x": [
          "2025-01-01T00:00:00.000",
          "2025-02-01T00:00:00.000",
          "2025-03-01T00:00:00.000",
          "2025-04-01T00:00:00.000",
          "2025-05-01T00:00:00.000",
          "2025-06-01T00:00:00.000",
          "2025-07-01T00:00:00.000",
          "2025-08-01T00:00:00.000",
          "2025-09-01T00:00:00.000"
         ],
         "xaxis": "x",
         "y": [
          7446,
          6523,
          10546,
          10843,
          21382,
          21249,
          21354,
          18847,
          0
         ],
         "yaxis": "y"
        },
        {
         "hovertemplate": "bus_route=Q09<br>month=%{x}<br>ridership=%{y}<extra></extra>",
         "legendgroup": "Q09",
         "line": {
          "color": "#FFA15A",
          "dash": "solid"
         },
         "marker": {
          "symbol": "circle"
         },
         "mode": "lines",
         "name": "Q09",
         "showlegend": true,
         "type": "scattergl",
         "x": [
          "2025-01-01T00:00:00.000",
          "2025-02-01T00:00:00.000",
          "2025-03-01T00:00:00.000",
          "2025-04-01T00:00:00.000",
          "2025-05-01T00:00:00.000",
          "2025-06-01T00:00:00.000",
          "2025-07-01T00:00:00.000",
          "2025-08-01T00:00:00.000",
          "2025-09-01T00:00:00.000"
         ],
         "xaxis": "x",
         "y": [
          2356,
          2326,
          3336,
          3443,
          6566,
          6706,
          6844,
          6154,
          0
         ],
         "yaxis": "y"
        },
        {
         "hovertemplate": "bus_route=Q1<br>month=%{x}<br>ridership=%{y}<extra></extra>",
         "legendgroup": "Q1",
         "line": {
          "color": "#19d3f3",
          "dash": "solid"
         },
         "marker": {
          "symbol": "circle"
         },
         "mode": "lines",
         "name": "Q1",
         "showlegend": true,
         "type": "scattergl",
         "x": [
          "2025-01-01T00:00:00.000",
          "2025-02-01T00:00:00.000",
          "2025-03-01T00:00:00.000",
          "2025-04-01T00:00:00.000",
          "2025-05-01T00:00:00.000",
          "2025-06-01T00:00:00.000",
          "2025-07-01T00:00:00.000",
          "2025-08-01T00:00:00.000",
          "2025-09-01T00:00:00.000"
         ],
         "xaxis": "x",
         "y": [
          1867,
          1688,
          2757,
          2560,
          5328,
          5026,
          7941,
          7836,
          0
         ],
         "yaxis": "y"
        },
        {
         "hovertemplate": "bus_route=Q10<br>month=%{x}<br>ridership=%{y}<extra></extra>",
         "legendgroup": "Q10",
         "line": {
          "color": "#FF6692",
          "dash": "solid"
         },
         "marker": {
          "symbol": "circle"
         },
         "mode": "lines",
         "name": "Q10",
         "showlegend": true,
         "type": "scattergl",
         "x": [
          "2025-01-01T00:00:00.000",
          "2025-02-01T00:00:00.000",
          "2025-03-01T00:00:00.000",
          "2025-04-01T00:00:00.000",
          "2025-05-01T00:00:00.000",
          "2025-06-01T00:00:00.000",
          "2025-07-01T00:00:00.000",
          "2025-08-01T00:00:00.000",
          "2025-09-01T00:00:00.000"
         ],
         "xaxis": "x",
         "y": [
          13545,
          11156,
          17217,
          16982,
          35363,
          33171,
          33794,
          29996,
          0
         ],
         "yaxis": "y"
        },
        {
         "hovertemplate": "bus_route=Q100<br>month=%{x}<br>ridership=%{y}<extra></extra>",
         "legendgroup": "Q100",
         "line": {
          "color": "#B6E880",
          "dash": "solid"
         },
         "marker": {
          "symbol": "circle"
         },
         "mode": "lines",
         "name": "Q100",
         "showlegend": true,
         "type": "scattergl",
         "x": [
          "2025-01-01T00:00:00.000",
          "2025-02-01T00:00:00.000",
          "2025-03-01T00:00:00.000",
          "2025-04-01T00:00:00.000",
          "2025-05-01T00:00:00.000",
          "2025-06-01T00:00:00.000",
          "2025-07-01T00:00:00.000",
          "2025-08-01T00:00:00.000",
          "2025-09-01T00:00:00.000"
         ],
         "xaxis": "x",
         "y": [
          2856,
          2565,
          4179,
          4220,
          8723,
          8944,
          9196,
          7788,
          0
         ],
         "yaxis": "y"
        },
        {
         "hovertemplate": "bus_route=Q101<br>month=%{x}<br>ridership=%{y}<extra></extra>",
         "legendgroup": "Q101",
         "line": {
          "color": "#FF97FF",
          "dash": "solid"
         },
         "marker": {
          "symbol": "circle"
         },
         "mode": "lines",
         "name": "Q101",
         "showlegend": true,
         "type": "scattergl",
         "x": [
          "2025-01-01T00:00:00.000",
          "2025-02-01T00:00:00.000",
          "2025-03-01T00:00:00.000",
          "2025-04-01T00:00:00.000",
          "2025-05-01T00:00:00.000",
          "2025-06-01T00:00:00.000",
          "2025-07-01T00:00:00.000",
          "2025-08-01T00:00:00.000",
          "2025-09-01T00:00:00.000"
         ],
         "xaxis": "x",
         "y": [
          2014,
          2154,
          3718,
          3690,
          7066,
          7173,
          7048,
          6072,
          0
         ],
         "yaxis": "y"
        },
        {
         "hovertemplate": "bus_route=Q102<br>month=%{x}<br>ridership=%{y}<extra></extra>",
         "legendgroup": "Q102",
         "line": {
          "color": "#FECB52",
          "dash": "solid"
         },
         "marker": {
          "symbol": "circle"
         },
         "mode": "lines",
         "name": "Q102",
         "showlegend": true,
         "type": "scattergl",
         "x": [
          "2025-01-01T00:00:00.000",
          "2025-02-01T00:00:00.000",
          "2025-03-01T00:00:00.000",
          "2025-04-01T00:00:00.000",
          "2025-05-01T00:00:00.000",
          "2025-06-01T00:00:00.000",
          "2025-07-01T00:00:00.000",
          "2025-08-01T00:00:00.000",
          "2025-09-01T00:00:00.000"
         ],
         "xaxis": "x",
         "y": [
          2732,
          2399,
          3987,
          3863,
          7931,
          7612,
          7907,
          6214,
          0
         ],
         "yaxis": "y"
        },
        {
         "hovertemplate": "bus_route=Q103<br>month=%{x}<br>ridership=%{y}<extra></extra>",
         "legendgroup": "Q103",
         "line": {
          "color": "#636efa",
          "dash": "solid"
         },
         "marker": {
          "symbol": "circle"
         },
         "mode": "lines",
         "name": "Q103",
         "showlegend": true,
         "type": "scattergl",
         "x": [
          "2025-01-01T00:00:00.000",
          "2025-02-01T00:00:00.000",
          "2025-03-01T00:00:00.000",
          "2025-04-01T00:00:00.000",
          "2025-05-01T00:00:00.000",
          "2025-06-01T00:00:00.000",
          "2025-07-01T00:00:00.000",
          "2025-08-01T00:00:00.000",
          "2025-09-01T00:00:00.000"
         ],
         "xaxis": "x",
         "y": [
          1838,
          1488,
          2476,
          2487,
          5036,
          5033,
          4902,
          3992,
          0
         ],
         "yaxis": "y"
        },
        {
         "hovertemplate": "bus_route=Q104<br>month=%{x}<br>ridership=%{y}<extra></extra>",
         "legendgroup": "Q104",
         "line": {
          "color": "#EF553B",
          "dash": "solid"
         },
         "marker": {
          "symbol": "circle"
         },
         "mode": "lines",
         "name": "Q104",
         "showlegend": true,
         "type": "scattergl",
         "x": [
          "2025-01-01T00:00:00.000",
          "2025-02-01T00:00:00.000",
          "2025-03-01T00:00:00.000",
          "2025-04-01T00:00:00.000",
          "2025-05-01T00:00:00.000",
          "2025-06-01T00:00:00.000",
          "2025-07-01T00:00:00.000",
          "2025-08-01T00:00:00.000",
          "2025-09-01T00:00:00.000"
         ],
         "xaxis": "x",
         "y": [
          1718,
          1485,
          2491,
          2452,
          4968,
          5223,
          5197,
          4343,
          0
         ],
         "yaxis": "y"
        },
        {
         "hovertemplate": "bus_route=Q107<br>month=%{x}<br>ridership=%{y}<extra></extra>",
         "legendgroup": "Q107",
         "line": {
          "color": "#00cc96",
          "dash": "solid"
         },
         "marker": {
          "symbol": "circle"
         },
         "mode": "lines",
         "name": "Q107",
         "showlegend": true,
         "type": "scattergl",
         "x": [
          "2025-01-01T00:00:00.000",
          "2025-02-01T00:00:00.000",
          "2025-03-01T00:00:00.000",
          "2025-04-01T00:00:00.000",
          "2025-05-01T00:00:00.000",
          "2025-06-01T00:00:00.000",
          "2025-07-01T00:00:00.000",
          "2025-08-01T00:00:00.000",
          "2025-09-01T00:00:00.000"
         ],
         "xaxis": "x",
         "y": [
          0,
          0,
          0,
          0,
          0,
          0,
          0,
          0,
          0
         ],
         "yaxis": "y"
        },
        {
         "hovertemplate": "bus_route=Q108<br>month=%{x}<br>ridership=%{y}<extra></extra>",
         "legendgroup": "Q108",
         "line": {
          "color": "#ab63fa",
          "dash": "solid"
         },
         "marker": {
          "symbol": "circle"
         },
         "mode": "lines",
         "name": "Q108",
         "showlegend": true,
         "type": "scattergl",
         "x": [
          "2025-01-01T00:00:00.000",
          "2025-02-01T00:00:00.000",
          "2025-03-01T00:00:00.000",
          "2025-04-01T00:00:00.000",
          "2025-05-01T00:00:00.000",
          "2025-06-01T00:00:00.000",
          "2025-07-01T00:00:00.000",
          "2025-08-01T00:00:00.000",
          "2025-09-01T00:00:00.000"
         ],
         "xaxis": "x",
         "y": [
          0,
          0,
          0,
          0,
          0,
          0,
          0,
          0,
          0
         ],
         "yaxis": "y"
        },
        {
         "hovertemplate": "bus_route=Q109<br>month=%{x}<br>ridership=%{y}<extra></extra>",
         "legendgroup": "Q109",
         "line": {
          "color": "#FFA15A",
          "dash": "solid"
         },
         "marker": {
          "symbol": "circle"
         },
         "mode": "lines",
         "name": "Q109",
         "showlegend": true,
         "type": "scattergl",
         "x": [
          "2025-01-01T00:00:00.000",
          "2025-02-01T00:00:00.000",
          "2025-03-01T00:00:00.000",
          "2025-04-01T00:00:00.000",
          "2025-05-01T00:00:00.000",
          "2025-06-01T00:00:00.000",
          "2025-07-01T00:00:00.000",
          "2025-08-01T00:00:00.000",
          "2025-09-01T00:00:00.000"
         ],
         "xaxis": "x",
         "y": [
          2,
          4,
          3,
          5,
          22,
          0,
          0,
          0,
          0
         ],
         "yaxis": "y"
        },
        {
         "hovertemplate": "bus_route=Q11<br>month=%{x}<br>ridership=%{y}<extra></extra>",
         "legendgroup": "Q11",
         "line": {
          "color": "#19d3f3",
          "dash": "solid"
         },
         "marker": {
          "symbol": "circle"
         },
         "mode": "lines",
         "name": "Q11",
         "showlegend": true,
         "type": "scattergl",
         "x": [
          "2025-01-01T00:00:00.000",
          "2025-02-01T00:00:00.000",
          "2025-03-01T00:00:00.000",
          "2025-04-01T00:00:00.000",
          "2025-05-01T00:00:00.000",
          "2025-06-01T00:00:00.000",
          "2025-07-01T00:00:00.000",
          "2025-08-01T00:00:00.000",
          "2025-09-01T00:00:00.000"
         ],
         "xaxis": "x",
         "y": [
          2418,
          2051,
          3286,
          3234,
          6456,
          6497,
          7470,
          6387,
          0
         ],
         "yaxis": "y"
        },
        {
         "hovertemplate": "bus_route=Q110<br>month=%{x}<br>ridership=%{y}<extra></extra>",
         "legendgroup": "Q110",
         "line": {
          "color": "#FF6692",
          "dash": "solid"
         },
         "marker": {
          "symbol": "circle"
         },
         "mode": "lines",
         "name": "Q110",
         "showlegend": true,
         "type": "scattergl",
         "x": [
          "2025-01-01T00:00:00.000",
          "2025-02-01T00:00:00.000",
          "2025-03-01T00:00:00.000",
          "2025-04-01T00:00:00.000",
          "2025-05-01T00:00:00.000",
          "2025-06-01T00:00:00.000",
          "2025-07-01T00:00:00.000",
          "2025-08-01T00:00:00.000",
          "2025-09-01T00:00:00.000"
         ],
         "xaxis": "x",
         "y": [
          3622,
          3165,
          4992,
          5049,
          9967,
          9009,
          12107,
          10878,
          0
         ],
         "yaxis": "y"
        },
        {
         "hovertemplate": "bus_route=Q111<br>month=%{x}<br>ridership=%{y}<extra></extra>",
         "legendgroup": "Q111",
         "line": {
          "color": "#B6E880",
          "dash": "solid"
         },
         "marker": {
          "symbol": "circle"
         },
         "mode": "lines",
         "name": "Q111",
         "showlegend": true,
         "type": "scattergl",
         "x": [
          "2025-01-01T00:00:00.000",
          "2025-02-01T00:00:00.000",
          "2025-03-01T00:00:00.000",
          "2025-04-01T00:00:00.000",
          "2025-05-01T00:00:00.000",
          "2025-06-01T00:00:00.000",
          "2025-07-01T00:00:00.000",
          "2025-08-01T00:00:00.000",
          "2025-09-01T00:00:00.000"
         ],
         "xaxis": "x",
         "y": [
          7314,
          6775,
          10592,
          10535,
          20309,
          17729,
          9861,
          8626,
          0
         ],
         "yaxis": "y"
        },
        {
         "hovertemplate": "bus_route=Q112<br>month=%{x}<br>ridership=%{y}<extra></extra>",
         "legendgroup": "Q112",
         "line": {
          "color": "#FF97FF",
          "dash": "solid"
         },
         "marker": {
          "symbol": "circle"
         },
         "mode": "lines",
         "name": "Q112",
         "showlegend": true,
         "type": "scattergl",
         "x": [
          "2025-01-01T00:00:00.000",
          "2025-02-01T00:00:00.000",
          "2025-03-01T00:00:00.000",
          "2025-04-01T00:00:00.000",
          "2025-05-01T00:00:00.000",
          "2025-06-01T00:00:00.000",
          "2025-07-01T00:00:00.000",
          "2025-08-01T00:00:00.000",
          "2025-09-01T00:00:00.000"
         ],
         "xaxis": "x",
         "y": [
          2692,
          2513,
          3909,
          4134,
          8415,
          7223,
          8013,
          7563,
          0
         ],
         "yaxis": "y"
        },
        {
         "hovertemplate": "bus_route=Q113<br>month=%{x}<br>ridership=%{y}<extra></extra>",
         "legendgroup": "Q113",
         "line": {
          "color": "#FECB52",
          "dash": "solid"
         },
         "marker": {
          "symbol": "circle"
         },
         "mode": "lines",
         "name": "Q113",
         "showlegend": true,
         "type": "scattergl",
         "x": [
          "2025-01-01T00:00:00.000",
          "2025-02-01T00:00:00.000",
          "2025-03-01T00:00:00.000",
          "2025-04-01T00:00:00.000",
          "2025-05-01T00:00:00.000",
          "2025-06-01T00:00:00.000",
          "2025-07-01T00:00:00.000",
          "2025-08-01T00:00:00.000",
          "2025-09-01T00:00:00.000"
         ],
         "xaxis": "x",
         "y": [
          2828,
          2880,
          4588,
          4340,
          8537,
          7435,
          8310,
          6908,
          0
         ],
         "yaxis": "y"
        },
        {
         "hovertemplate": "bus_route=Q114<br>month=%{x}<br>ridership=%{y}<extra></extra>",
         "legendgroup": "Q114",
         "line": {
          "color": "#636efa",
          "dash": "solid"
         },
         "marker": {
          "symbol": "circle"
         },
         "mode": "lines",
         "name": "Q114",
         "showlegend": true,
         "type": "scattergl",
         "x": [
          "2025-01-01T00:00:00.000",
          "2025-02-01T00:00:00.000",
          "2025-03-01T00:00:00.000",
          "2025-04-01T00:00:00.000",
          "2025-05-01T00:00:00.000",
          "2025-06-01T00:00:00.000",
          "2025-07-01T00:00:00.000",
          "2025-08-01T00:00:00.000",
          "2025-09-01T00:00:00.000"
         ],
         "xaxis": "x",
         "y": [
          4453,
          4174,
          6560,
          6477,
          12856,
          11754,
          11873,
          10247,
          0
         ],
         "yaxis": "y"
        },
        {
         "hovertemplate": "bus_route=Q12<br>month=%{x}<br>ridership=%{y}<extra></extra>",
         "legendgroup": "Q12",
         "line": {
          "color": "#EF553B",
          "dash": "solid"
         },
         "marker": {
          "symbol": "circle"
         },
         "mode": "lines",
         "name": "Q12",
         "showlegend": true,
         "type": "scattergl",
         "x": [
          "2025-01-01T00:00:00.000",
          "2025-02-01T00:00:00.000",
          "2025-03-01T00:00:00.000",
          "2025-04-01T00:00:00.000",
          "2025-05-01T00:00:00.000",
          "2025-06-01T00:00:00.000",
          "2025-07-01T00:00:00.000",
          "2025-08-01T00:00:00.000",
          "2025-09-01T00:00:00.000"
         ],
         "xaxis": "x",
         "y": [
          7419,
          6290,
          9804,
          9560,
          20080,
          21124,
          20809,
          18384,
          0
         ],
         "yaxis": "y"
        },
        {
         "hovertemplate": "bus_route=Q121<br>month=%{x}<br>ridership=%{y}<extra></extra>",
         "legendgroup": "Q121",
         "line": {
          "color": "#00cc96",
          "dash": "solid"
         },
         "marker": {
          "symbol": "circle"
         },
         "mode": "lines",
         "name": "Q121",
         "showlegend": true,
         "type": "scattergl",
         "x": [
          "2025-01-01T00:00:00.000",
          "2025-02-01T00:00:00.000",
          "2025-03-01T00:00:00.000",
          "2025-04-01T00:00:00.000",
          "2025-05-01T00:00:00.000",
          "2025-06-01T00:00:00.000",
          "2025-07-01T00:00:00.000",
          "2025-08-01T00:00:00.000",
          "2025-09-01T00:00:00.000"
         ],
         "xaxis": "x",
         "y": [
          0,
          0,
          0,
          0,
          0,
          0,
          0,
          0,
          0
         ],
         "yaxis": "y"
        },
        {
         "hovertemplate": "bus_route=Q13<br>month=%{x}<br>ridership=%{y}<extra></extra>",
         "legendgroup": "Q13",
         "line": {
          "color": "#ab63fa",
          "dash": "solid"
         },
         "marker": {
          "symbol": "circle"
         },
         "mode": "lines",
         "name": "Q13",
         "showlegend": true,
         "type": "scattergl",
         "x": [
          "2025-01-01T00:00:00.000",
          "2025-02-01T00:00:00.000",
          "2025-03-01T00:00:00.000",
          "2025-04-01T00:00:00.000",
          "2025-05-01T00:00:00.000",
          "2025-06-01T00:00:00.000",
          "2025-07-01T00:00:00.000",
          "2025-08-01T00:00:00.000",
          "2025-09-01T00:00:00.000"
         ],
         "xaxis": "x",
         "y": [
          4280,
          3868,
          6027,
          5575,
          11948,
          11236,
          11252,
          9976,
          0
         ],
         "yaxis": "y"
        },
        {
         "hovertemplate": "bus_route=Q15<br>month=%{x}<br>ridership=%{y}<extra></extra>",
         "legendgroup": "Q15",
         "line": {
          "color": "#FFA15A",
          "dash": "solid"
         },
         "marker": {
          "symbol": "circle"
         },
         "mode": "lines",
         "name": "Q15",
         "showlegend": true,
         "type": "scattergl",
         "x": [
          "2025-01-01T00:00:00.000",
          "2025-02-01T00:00:00.000",
          "2025-03-01T00:00:00.000",
          "2025-04-01T00:00:00.000",
          "2025-05-01T00:00:00.000",
          "2025-06-01T00:00:00.000",
          "2025-07-01T00:00:00.000",
          "2025-08-01T00:00:00.000",
          "2025-09-01T00:00:00.000"
         ],
         "xaxis": "x",
         "y": [
          2409,
          2112,
          3356,
          3580,
          6981,
          6886,
          12226,
          10073,
          0
         ],
         "yaxis": "y"
        },
        {
         "hovertemplate": "bus_route=Q15A<br>month=%{x}<br>ridership=%{y}<extra></extra>",
         "legendgroup": "Q15A",
         "line": {
          "color": "#19d3f3",
          "dash": "solid"
         },
         "marker": {
          "symbol": "circle"
         },
         "mode": "lines",
         "name": "Q15A",
         "showlegend": true,
         "type": "scattergl",
         "x": [
          "2025-01-01T00:00:00.000",
          "2025-02-01T00:00:00.000",
          "2025-03-01T00:00:00.000",
          "2025-04-01T00:00:00.000",
          "2025-05-01T00:00:00.000",
          "2025-06-01T00:00:00.000",
          "2025-07-01T00:00:00.000",
          "2025-08-01T00:00:00.000",
          "2025-09-01T00:00:00.000"
         ],
         "xaxis": "x",
         "y": [
          2316,
          1956,
          3083,
          3384,
          6892,
          5752,
          0,
          0,
          0
         ],
         "yaxis": "y"
        },
        {
         "hovertemplate": "bus_route=Q16<br>month=%{x}<br>ridership=%{y}<extra></extra>",
         "legendgroup": "Q16",
         "line": {
          "color": "#FF6692",
          "dash": "solid"
         },
         "marker": {
          "symbol": "circle"
         },
         "mode": "lines",
         "name": "Q16",
         "showlegend": true,
         "type": "scattergl",
         "x": [
          "2025-01-01T00:00:00.000",
          "2025-02-01T00:00:00.000",
          "2025-03-01T00:00:00.000",
          "2025-04-01T00:00:00.000",
          "2025-05-01T00:00:00.000",
          "2025-06-01T00:00:00.000",
          "2025-07-01T00:00:00.000",
          "2025-08-01T00:00:00.000",
          "2025-09-01T00:00:00.000"
         ],
         "xaxis": "x",
         "y": [
          2672,
          2297,
          3943,
          4270,
          7932,
          8681,
          8738,
          7177,
          0
         ],
         "yaxis": "y"
        },
        {
         "hovertemplate": "bus_route=Q17<br>month=%{x}<br>ridership=%{y}<extra></extra>",
         "legendgroup": "Q17",
         "line": {
          "color": "#B6E880",
          "dash": "solid"
         },
         "marker": {
          "symbol": "circle"
         },
         "mode": "lines",
         "name": "Q17",
         "showlegend": true,
         "type": "scattergl",
         "x": [
          "2025-01-01T00:00:00.000",
          "2025-02-01T00:00:00.000",
          "2025-03-01T00:00:00.000",
          "2025-04-01T00:00:00.000",
          "2025-05-01T00:00:00.000",
          "2025-06-01T00:00:00.000",
          "2025-07-01T00:00:00.000",
          "2025-08-01T00:00:00.000",
          "2025-09-01T00:00:00.000"
         ],
         "xaxis": "x",
         "y": [
          12318,
          10970,
          17076,
          17201,
          36255,
          34590,
          42661,
          36034,
          0
         ],
         "yaxis": "y"
        },
        {
         "hovertemplate": "bus_route=Q18<br>month=%{x}<br>ridership=%{y}<extra></extra>",
         "legendgroup": "Q18",
         "line": {
          "color": "#FF97FF",
          "dash": "solid"
         },
         "marker": {
          "symbol": "circle"
         },
         "mode": "lines",
         "name": "Q18",
         "showlegend": true,
         "type": "scattergl",
         "x": [
          "2025-01-01T00:00:00.000",
          "2025-02-01T00:00:00.000",
          "2025-03-01T00:00:00.000",
          "2025-04-01T00:00:00.000",
          "2025-05-01T00:00:00.000",
          "2025-06-01T00:00:00.000",
          "2025-07-01T00:00:00.000",
          "2025-08-01T00:00:00.000",
          "2025-09-01T00:00:00.000"
         ],
         "xaxis": "x",
         "y": [
          6548,
          5574,
          9942,
          9443,
          18520,
          19133,
          21960,
          18983,
          0
         ],
         "yaxis": "y"
        },
        {
         "hovertemplate": "bus_route=Q19<br>month=%{x}<br>ridership=%{y}<extra></extra>",
         "legendgroup": "Q19",
         "line": {
          "color": "#FECB52",
          "dash": "solid"
         },
         "marker": {
          "symbol": "circle"
         },
         "mode": "lines",
         "name": "Q19",
         "showlegend": true,
         "type": "scattergl",
         "x": [
          "2025-01-01T00:00:00.000",
          "2025-02-01T00:00:00.000",
          "2025-03-01T00:00:00.000",
          "2025-04-01T00:00:00.000",
          "2025-05-01T00:00:00.000",
          "2025-06-01T00:00:00.000",
          "2025-07-01T00:00:00.000",
          "2025-08-01T00:00:00.000",
          "2025-09-01T00:00:00.000"
         ],
         "xaxis": "x",
         "y": [
          3089,
          2791,
          4221,
          4998,
          9227,
          9200,
          9857,
          8613,
          0
         ],
         "yaxis": "y"
        },
        {
         "hovertemplate": "bus_route=Q2<br>month=%{x}<br>ridership=%{y}<extra></extra>",
         "legendgroup": "Q2",
         "line": {
          "color": "#636efa",
          "dash": "solid"
         },
         "marker": {
          "symbol": "circle"
         },
         "mode": "lines",
         "name": "Q2",
         "showlegend": true,
         "type": "scattergl",
         "x": [
          "2025-01-01T00:00:00.000",
          "2025-02-01T00:00:00.000",
          "2025-03-01T00:00:00.000",
          "2025-04-01T00:00:00.000",
          "2025-05-01T00:00:00.000",
          "2025-06-01T00:00:00.000",
          "2025-07-01T00:00:00.000",
          "2025-08-01T00:00:00.000",
          "2025-09-01T00:00:00.000"
         ],
         "xaxis": "x",
         "y": [
          3377,
          2853,
          4240,
          4271,
          8836,
          8364,
          8690,
          7445,
          0
         ],
         "yaxis": "y"
        },
        {
         "hovertemplate": "bus_route=Q20A<br>month=%{x}<br>ridership=%{y}<extra></extra>",
         "legendgroup": "Q20A",
         "line": {
          "color": "#EF553B",
          "dash": "solid"
         },
         "marker": {
          "symbol": "circle"
         },
         "mode": "lines",
         "name": "Q20A",
         "showlegend": true,
         "type": "scattergl",
         "x": [
          "2025-01-01T00:00:00.000",
          "2025-02-01T00:00:00.000",
          "2025-03-01T00:00:00.000",
          "2025-04-01T00:00:00.000",
          "2025-05-01T00:00:00.000",
          "2025-06-01T00:00:00.000",
          "2025-07-01T00:00:00.000",
          "2025-08-01T00:00:00.000",
          "2025-09-01T00:00:00.000"
         ],
         "xaxis": "x",
         "y": [
          6077,
          5409,
          9217,
          8989,
          18994,
          17835,
          0,
          0,
          0
         ],
         "yaxis": "y"
        },
        {
         "hovertemplate": "bus_route=Q20B<br>month=%{x}<br>ridership=%{y}<extra></extra>",
         "legendgroup": "Q20B",
         "line": {
          "color": "#00cc96",
          "dash": "solid"
         },
         "marker": {
          "symbol": "circle"
         },
         "mode": "lines",
         "name": "Q20B",
         "showlegend": true,
         "type": "scattergl",
         "x": [
          "2025-01-01T00:00:00.000",
          "2025-02-01T00:00:00.000",
          "2025-03-01T00:00:00.000",
          "2025-04-01T00:00:00.000",
          "2025-05-01T00:00:00.000",
          "2025-06-01T00:00:00.000",
          "2025-07-01T00:00:00.000",
          "2025-08-01T00:00:00.000",
          "2025-09-01T00:00:00.000"
         ],
         "xaxis": "x",
         "y": [
          3416,
          3239,
          4824,
          5114,
          9679,
          9356,
          0,
          0,
          0
         ],
         "yaxis": "y"
        },
        {
         "hovertemplate": "bus_route=Q21<br>month=%{x}<br>ridership=%{y}<extra></extra>",
         "legendgroup": "Q21",
         "line": {
          "color": "#ab63fa",
          "dash": "solid"
         },
         "marker": {
          "symbol": "circle"
         },
         "mode": "lines",
         "name": "Q21",
         "showlegend": true,
         "type": "scattergl",
         "x": [
          "2025-01-01T00:00:00.000",
          "2025-02-01T00:00:00.000",
          "2025-03-01T00:00:00.000",
          "2025-04-01T00:00:00.000",
          "2025-05-01T00:00:00.000",
          "2025-06-01T00:00:00.000",
          "2025-07-01T00:00:00.000",
          "2025-08-01T00:00:00.000",
          "2025-09-01T00:00:00.000"
         ],
         "xaxis": "x",
         "y": [
          1857,
          1501,
          2569,
          2504,
          5066,
          5180,
          4562,
          3988,
          0
         ],
         "yaxis": "y"
        },
        {
         "hovertemplate": "bus_route=Q22<br>month=%{x}<br>ridership=%{y}<extra></extra>",
         "legendgroup": "Q22",
         "line": {
          "color": "#FFA15A",
          "dash": "solid"
         },
         "marker": {
          "symbol": "circle"
         },
         "mode": "lines",
         "name": "Q22",
         "showlegend": true,
         "type": "scattergl",
         "x": [
          "2025-01-01T00:00:00.000",
          "2025-02-01T00:00:00.000",
          "2025-03-01T00:00:00.000",
          "2025-04-01T00:00:00.000",
          "2025-05-01T00:00:00.000",
          "2025-06-01T00:00:00.000",
          "2025-07-01T00:00:00.000",
          "2025-08-01T00:00:00.000",
          "2025-09-01T00:00:00.000"
         ],
         "xaxis": "x",
         "y": [
          3565,
          2967,
          4697,
          4573,
          9503,
          10263,
          10904,
          8564,
          0
         ],
         "yaxis": "y"
        },
        {
         "hovertemplate": "bus_route=Q23<br>month=%{x}<br>ridership=%{y}<extra></extra>",
         "legendgroup": "Q23",
         "line": {
          "color": "#19d3f3",
          "dash": "solid"
         },
         "marker": {
          "symbol": "circle"
         },
         "mode": "lines",
         "name": "Q23",
         "showlegend": true,
         "type": "scattergl",
         "x": [
          "2025-01-01T00:00:00.000",
          "2025-02-01T00:00:00.000",
          "2025-03-01T00:00:00.000",
          "2025-04-01T00:00:00.000",
          "2025-05-01T00:00:00.000",
          "2025-06-01T00:00:00.000",
          "2025-07-01T00:00:00.000",
          "2025-08-01T00:00:00.000",
          "2025-09-01T00:00:00.000"
         ],
         "xaxis": "x",
         "y": [
          11636,
          9739,
          14603,
          16381,
          29656,
          29418,
          24889,
          22117,
          0
         ],
         "yaxis": "y"
        },
        {
         "hovertemplate": "bus_route=Q24<br>month=%{x}<br>ridership=%{y}<extra></extra>",
         "legendgroup": "Q24",
         "line": {
          "color": "#FF6692",
          "dash": "solid"
         },
         "marker": {
          "symbol": "circle"
         },
         "mode": "lines",
         "name": "Q24",
         "showlegend": true,
         "type": "scattergl",
         "x": [
          "2025-01-01T00:00:00.000",
          "2025-02-01T00:00:00.000",
          "2025-03-01T00:00:00.000",
          "2025-04-01T00:00:00.000",
          "2025-05-01T00:00:00.000",
          "2025-06-01T00:00:00.000",
          "2025-07-01T00:00:00.000",
          "2025-08-01T00:00:00.000",
          "2025-09-01T00:00:00.000"
         ],
         "xaxis": "x",
         "y": [
          5189,
          4481,
          7643,
          7220,
          13738,
          13464,
          13191,
          11640,
          0
         ],
         "yaxis": "y"
        },
        {
         "hovertemplate": "bus_route=Q25<br>month=%{x}<br>ridership=%{y}<extra></extra>",
         "legendgroup": "Q25",
         "line": {
          "color": "#B6E880",
          "dash": "solid"
         },
         "marker": {
          "symbol": "circle"
         },
         "mode": "lines",
         "name": "Q25",
         "showlegend": true,
         "type": "scattergl",
         "x": [
          "2025-01-01T00:00:00.000",
          "2025-02-01T00:00:00.000",
          "2025-03-01T00:00:00.000",
          "2025-04-01T00:00:00.000",
          "2025-05-01T00:00:00.000",
          "2025-06-01T00:00:00.000",
          "2025-07-01T00:00:00.000",
          "2025-08-01T00:00:00.000",
          "2025-09-01T00:00:00.000"
         ],
         "xaxis": "x",
         "y": [
          18248,
          16778,
          24539,
          27240,
          55328,
          51854,
          68979,
          61277,
          0
         ],
         "yaxis": "y"
        },
        {
         "hovertemplate": "bus_route=Q26<br>month=%{x}<br>ridership=%{y}<extra></extra>",
         "legendgroup": "Q26",
         "line": {
          "color": "#FF97FF",
          "dash": "solid"
         },
         "marker": {
          "symbol": "circle"
         },
         "mode": "lines",
         "name": "Q26",
         "showlegend": true,
         "type": "scattergl",
         "x": [
          "2025-01-01T00:00:00.000",
          "2025-02-01T00:00:00.000",
          "2025-03-01T00:00:00.000",
          "2025-04-01T00:00:00.000",
          "2025-05-01T00:00:00.000",
          "2025-06-01T00:00:00.000",
          "2025-07-01T00:00:00.000",
          "2025-08-01T00:00:00.000",
          "2025-09-01T00:00:00.000"
         ],
         "xaxis": "x",
         "y": [
          808,
          721,
          1223,
          1244,
          2513,
          3976,
          30036,
          28255,
          0
         ],
         "yaxis": "y"
        },
        {
         "hovertemplate": "bus_route=Q27<br>month=%{x}<br>ridership=%{y}<extra></extra>",
         "legendgroup": "Q27",
         "line": {
          "color": "#FECB52",
          "dash": "solid"
         },
         "marker": {
          "symbol": "circle"
         },
         "mode": "lines",
         "name": "Q27",
         "showlegend": true,
         "type": "scattergl",
         "x": [
          "2025-01-01T00:00:00.000",
          "2025-02-01T00:00:00.000",
          "2025-03-01T00:00:00.000",
          "2025-04-01T00:00:00.000",
          "2025-05-01T00:00:00.000",
          "2025-06-01T00:00:00.000",
          "2025-07-01T00:00:00.000",
          "2025-08-01T00:00:00.000",
          "2025-09-01T00:00:00.000"
         ],
         "xaxis": "x",
         "y": [
          18674,
          17056,
          27013,
          25978,
          53732,
          50488,
          34235,
          29391,
          0
         ],
         "yaxis": "y"
        },
        {
         "hovertemplate": "bus_route=Q28<br>month=%{x}<br>ridership=%{y}<extra></extra>",
         "legendgroup": "Q28",
         "line": {
          "color": "#636efa",
          "dash": "solid"
         },
         "marker": {
          "symbol": "circle"
         },
         "mode": "lines",
         "name": "Q28",
         "showlegend": true,
         "type": "scattergl",
         "x": [
          "2025-01-01T00:00:00.000",
          "2025-02-01T00:00:00.000",
          "2025-03-01T00:00:00.000",
          "2025-04-01T00:00:00.000",
          "2025-05-01T00:00:00.000",
          "2025-06-01T00:00:00.000",
          "2025-07-01T00:00:00.000",
          "2025-08-01T00:00:00.000",
          "2025-09-01T00:00:00.000"
         ],
         "xaxis": "x",
         "y": [
          5527,
          4753,
          7562,
          7692,
          16484,
          16307,
          13187,
          11441,
          0
         ],
         "yaxis": "y"
        },
        {
         "hovertemplate": "bus_route=Q29<br>month=%{x}<br>ridership=%{y}<extra></extra>",
         "legendgroup": "Q29",
         "line": {
          "color": "#EF553B",
          "dash": "solid"
         },
         "marker": {
          "symbol": "circle"
         },
         "mode": "lines",
         "name": "Q29",
         "showlegend": true,
         "type": "scattergl",
         "x": [
          "2025-01-01T00:00:00.000",
          "2025-02-01T00:00:00.000",
          "2025-03-01T00:00:00.000",
          "2025-04-01T00:00:00.000",
          "2025-05-01T00:00:00.000",
          "2025-06-01T00:00:00.000",
          "2025-07-01T00:00:00.000",
          "2025-08-01T00:00:00.000",
          "2025-09-01T00:00:00.000"
         ],
         "xaxis": "x",
         "y": [
          3806,
          3658,
          6365,
          6112,
          12406,
          12614,
          13142,
          11355,
          0
         ],
         "yaxis": "y"
        },
        {
         "hovertemplate": "bus_route=Q3<br>month=%{x}<br>ridership=%{y}<extra></extra>",
         "legendgroup": "Q3",
         "line": {
          "color": "#00cc96",
          "dash": "solid"
         },
         "marker": {
          "symbol": "circle"
         },
         "mode": "lines",
         "name": "Q3",
         "showlegend": true,
         "type": "scattergl",
         "x": [
          "2025-01-01T00:00:00.000",
          "2025-02-01T00:00:00.000",
          "2025-03-01T00:00:00.000",
          "2025-04-01T00:00:00.000",
          "2025-05-01T00:00:00.000",
          "2025-06-01T00:00:00.000",
          "2025-07-01T00:00:00.000",
          "2025-08-01T00:00:00.000",
          "2025-09-01T00:00:00.000"
         ],
         "xaxis": "x",
         "y": [
          3877,
          3457,
          5452,
          5399,
          9714,
          9136,
          10748,
          9575,
          0
         ],
         "yaxis": "y"
        },
        {
         "hovertemplate": "bus_route=Q30<br>month=%{x}<br>ridership=%{y}<extra></extra>",
         "legendgroup": "Q30",
         "line": {
          "color": "#ab63fa",
          "dash": "solid"
         },
         "marker": {
          "symbol": "circle"
         },
         "mode": "lines",
         "name": "Q30",
         "showlegend": true,
         "type": "scattergl",
         "x": [
          "2025-01-01T00:00:00.000",
          "2025-02-01T00:00:00.000",
          "2025-03-01T00:00:00.000",
          "2025-04-01T00:00:00.000",
          "2025-05-01T00:00:00.000",
          "2025-06-01T00:00:00.000",
          "2025-07-01T00:00:00.000",
          "2025-08-01T00:00:00.000",
          "2025-09-01T00:00:00.000"
         ],
         "xaxis": "x",
         "y": [
          4212,
          4080,
          6229,
          6229,
          12675,
          11104,
          6409,
          5638,
          0
         ],
         "yaxis": "y"
        },
        {
         "hovertemplate": "bus_route=Q31<br>month=%{x}<br>ridership=%{y}<extra></extra>",
         "legendgroup": "Q31",
         "line": {
          "color": "#FFA15A",
          "dash": "solid"
         },
         "marker": {
          "symbol": "circle"
         },
         "mode": "lines",
         "name": "Q31",
         "showlegend": true,
         "type": "scattergl",
         "x": [
          "2025-01-01T00:00:00.000",
          "2025-02-01T00:00:00.000",
          "2025-03-01T00:00:00.000",
          "2025-04-01T00:00:00.000",
          "2025-05-01T00:00:00.000",
          "2025-06-01T00:00:00.000",
          "2025-07-01T00:00:00.000",
          "2025-08-01T00:00:00.000",
          "2025-09-01T00:00:00.000"
         ],
         "xaxis": "x",
         "y": [
          2319,
          2125,
          3463,
          3646,
          7071,
          6676,
          7260,
          6028,
          0
         ],
         "yaxis": "y"
        },
        {
         "hovertemplate": "bus_route=Q32<br>month=%{x}<br>ridership=%{y}<extra></extra>",
         "legendgroup": "Q32",
         "line": {
          "color": "#19d3f3",
          "dash": "solid"
         },
         "marker": {
          "symbol": "circle"
         },
         "mode": "lines",
         "name": "Q32",
         "showlegend": true,
         "type": "scattergl",
         "x": [
          "2025-01-01T00:00:00.000",
          "2025-02-01T00:00:00.000",
          "2025-03-01T00:00:00.000",
          "2025-04-01T00:00:00.000",
          "2025-05-01T00:00:00.000",
          "2025-06-01T00:00:00.000",
          "2025-07-01T00:00:00.000",
          "2025-08-01T00:00:00.000",
          "2025-09-01T00:00:00.000"
         ],
         "xaxis": "x",
         "y": [
          5767,
          5139,
          8389,
          8365,
          16660,
          17256,
          18542,
          15382,
          0
         ],
         "yaxis": "y"
        },
        {
         "hovertemplate": "bus_route=Q33<br>month=%{x}<br>ridership=%{y}<extra></extra>",
         "legendgroup": "Q33",
         "line": {
          "color": "#FF6692",
          "dash": "solid"
         },
         "marker": {
          "symbol": "circle"
         },
         "mode": "lines",
         "name": "Q33",
         "showlegend": true,
         "type": "scattergl",
         "x": [
          "2025-01-01T00:00:00.000",
          "2025-02-01T00:00:00.000",
          "2025-03-01T00:00:00.000",
          "2025-04-01T00:00:00.000",
          "2025-05-01T00:00:00.000",
          "2025-06-01T00:00:00.000",
          "2025-07-01T00:00:00.000",
          "2025-08-01T00:00:00.000",
          "2025-09-01T00:00:00.000"
         ],
         "xaxis": "x",
         "y": [
          5064,
          4824,
          7230,
          7311,
          15022,
          15370,
          16450,
          14161,
          0
         ],
         "yaxis": "y"
        },
        {
         "hovertemplate": "bus_route=Q34<br>month=%{x}<br>ridership=%{y}<extra></extra>",
         "legendgroup": "Q34",
         "line": {
          "color": "#B6E880",
          "dash": "solid"
         },
         "marker": {
          "symbol": "circle"
         },
         "mode": "lines",
         "name": "Q34",
         "showlegend": true,
         "type": "scattergl",
         "x": [
          "2025-01-01T00:00:00.000",
          "2025-02-01T00:00:00.000",
          "2025-03-01T00:00:00.000",
          "2025-04-01T00:00:00.000",
          "2025-05-01T00:00:00.000",
          "2025-06-01T00:00:00.000",
          "2025-07-01T00:00:00.000",
          "2025-08-01T00:00:00.000",
          "2025-09-01T00:00:00.000"
         ],
         "xaxis": "x",
         "y": [
          4355,
          4376,
          5829,
          7323,
          13613,
          12255,
          0,
          0,
          0
         ],
         "yaxis": "y"
        },
        {
         "hovertemplate": "bus_route=Q35<br>month=%{x}<br>ridership=%{y}<extra></extra>",
         "legendgroup": "Q35",
         "line": {
          "color": "#FF97FF",
          "dash": "solid"
         },
         "marker": {
          "symbol": "circle"
         },
         "mode": "lines",
         "name": "Q35",
         "showlegend": true,
         "type": "scattergl",
         "x": [
          "2025-01-01T00:00:00.000",
          "2025-02-01T00:00:00.000",
          "2025-03-01T00:00:00.000",
          "2025-04-01T00:00:00.000",
          "2025-05-01T00:00:00.000",
          "2025-06-01T00:00:00.000",
          "2025-07-01T00:00:00.000",
          "2025-08-01T00:00:00.000",
          "2025-09-01T00:00:00.000"
         ],
         "xaxis": "x",
         "y": [
          1797,
          1842,
          3029,
          3318,
          6607,
          7009,
          8247,
          7384,
          0
         ],
         "yaxis": "y"
        },
        {
         "hovertemplate": "bus_route=Q36<br>month=%{x}<br>ridership=%{y}<extra></extra>",
         "legendgroup": "Q36",
         "line": {
          "color": "#FECB52",
          "dash": "solid"
         },
         "marker": {
          "symbol": "circle"
         },
         "mode": "lines",
         "name": "Q36",
         "showlegend": true,
         "type": "scattergl",
         "x": [
          "2025-01-01T00:00:00.000",
          "2025-02-01T00:00:00.000",
          "2025-03-01T00:00:00.000",
          "2025-04-01T00:00:00.000",
          "2025-05-01T00:00:00.000",
          "2025-06-01T00:00:00.000",
          "2025-07-01T00:00:00.000",
          "2025-08-01T00:00:00.000",
          "2025-09-01T00:00:00.000"
         ],
         "xaxis": "x",
         "y": [
          3035,
          2593,
          3962,
          4133,
          7696,
          7504,
          3794,
          3465,
          0
         ],
         "yaxis": "y"
        },
        {
         "hovertemplate": "bus_route=Q37<br>month=%{x}<br>ridership=%{y}<extra></extra>",
         "legendgroup": "Q37",
         "line": {
          "color": "#636efa",
          "dash": "solid"
         },
         "marker": {
          "symbol": "circle"
         },
         "mode": "lines",
         "name": "Q37",
         "showlegend": true,
         "type": "scattergl",
         "x": [
          "2025-01-01T00:00:00.000",
          "2025-02-01T00:00:00.000",
          "2025-03-01T00:00:00.000",
          "2025-04-01T00:00:00.000",
          "2025-05-01T00:00:00.000",
          "2025-06-01T00:00:00.000",
          "2025-07-01T00:00:00.000",
          "2025-08-01T00:00:00.000",
          "2025-09-01T00:00:00.000"
         ],
         "xaxis": "x",
         "y": [
          4206,
          3671,
          5691,
          5763,
          11686,
          11463,
          12050,
          10442,
          0
         ],
         "yaxis": "y"
        },
        {
         "hovertemplate": "bus_route=Q38<br>month=%{x}<br>ridership=%{y}<extra></extra>",
         "legendgroup": "Q38",
         "line": {
          "color": "#EF553B",
          "dash": "solid"
         },
         "marker": {
          "symbol": "circle"
         },
         "mode": "lines",
         "name": "Q38",
         "showlegend": true,
         "type": "scattergl",
         "x": [
          "2025-01-01T00:00:00.000",
          "2025-02-01T00:00:00.000",
          "2025-03-01T00:00:00.000",
          "2025-04-01T00:00:00.000",
          "2025-05-01T00:00:00.000",
          "2025-06-01T00:00:00.000",
          "2025-07-01T00:00:00.000",
          "2025-08-01T00:00:00.000",
          "2025-09-01T00:00:00.000"
         ],
         "xaxis": "x",
         "y": [
          5392,
          4556,
          6915,
          7578,
          15162,
          14249,
          6691,
          5686,
          0
         ],
         "yaxis": "y"
        },
        {
         "hovertemplate": "bus_route=Q39<br>month=%{x}<br>ridership=%{y}<extra></extra>",
         "legendgroup": "Q39",
         "line": {
          "color": "#00cc96",
          "dash": "solid"
         },
         "marker": {
          "symbol": "circle"
         },
         "mode": "lines",
         "name": "Q39",
         "showlegend": true,
         "type": "scattergl",
         "x": [
          "2025-01-01T00:00:00.000",
          "2025-02-01T00:00:00.000",
          "2025-03-01T00:00:00.000",
          "2025-04-01T00:00:00.000",
          "2025-05-01T00:00:00.000",
          "2025-06-01T00:00:00.000",
          "2025-07-01T00:00:00.000",
          "2025-08-01T00:00:00.000",
          "2025-09-01T00:00:00.000"
         ],
         "xaxis": "x",
         "y": [
          2945,
          2963,
          4789,
          4797,
          9877,
          9091,
          8745,
          7054,
          0
         ],
         "yaxis": "y"
        },
        {
         "hovertemplate": "bus_route=Q4<br>month=%{x}<br>ridership=%{y}<extra></extra>",
         "legendgroup": "Q4",
         "line": {
          "color": "#ab63fa",
          "dash": "solid"
         },
         "marker": {
          "symbol": "circle"
         },
         "mode": "lines",
         "name": "Q4",
         "showlegend": true,
         "type": "scattergl",
         "x": [
          "2025-01-01T00:00:00.000",
          "2025-02-01T00:00:00.000",
          "2025-03-01T00:00:00.000",
          "2025-04-01T00:00:00.000",
          "2025-05-01T00:00:00.000",
          "2025-06-01T00:00:00.000",
          "2025-07-01T00:00:00.000",
          "2025-08-01T00:00:00.000",
          "2025-09-01T00:00:00.000"
         ],
         "xaxis": "x",
         "y": [
          4316,
          3663,
          5381,
          5406,
          11310,
          10946,
          10710,
          8837,
          0
         ],
         "yaxis": "y"
        },
        {
         "hovertemplate": "bus_route=Q40<br>month=%{x}<br>ridership=%{y}<extra></extra>",
         "legendgroup": "Q40",
         "line": {
          "color": "#FFA15A",
          "dash": "solid"
         },
         "marker": {
          "symbol": "circle"
         },
         "mode": "lines",
         "name": "Q40",
         "showlegend": true,
         "type": "scattergl",
         "x": [
          "2025-01-01T00:00:00.000",
          "2025-02-01T00:00:00.000",
          "2025-03-01T00:00:00.000",
          "2025-04-01T00:00:00.000",
          "2025-05-01T00:00:00.000",
          "2025-06-01T00:00:00.000",
          "2025-07-01T00:00:00.000",
          "2025-08-01T00:00:00.000",
          "2025-09-01T00:00:00.000"
         ],
         "xaxis": "x",
         "y": [
          2747,
          2639,
          3902,
          3862,
          6980,
          6950,
          7420,
          7224,
          0
         ],
         "yaxis": "y"
        },
        {
         "hovertemplate": "bus_route=Q41<br>month=%{x}<br>ridership=%{y}<extra></extra>",
         "legendgroup": "Q41",
         "line": {
          "color": "#19d3f3",
          "dash": "solid"
         },
         "marker": {
          "symbol": "circle"
         },
         "mode": "lines",
         "name": "Q41",
         "showlegend": true,
         "type": "scattergl",
         "x": [
          "2025-01-01T00:00:00.000",
          "2025-02-01T00:00:00.000",
          "2025-03-01T00:00:00.000",
          "2025-04-01T00:00:00.000",
          "2025-05-01T00:00:00.000",
          "2025-06-01T00:00:00.000",
          "2025-07-01T00:00:00.000",
          "2025-08-01T00:00:00.000",
          "2025-09-01T00:00:00.000"
         ],
         "xaxis": "x",
         "y": [
          3339,
          3013,
          4696,
          4562,
          9295,
          8935,
          9483,
          8492,
          0
         ],
         "yaxis": "y"
        },
        {
         "hovertemplate": "bus_route=Q42<br>month=%{x}<br>ridership=%{y}<extra></extra>",
         "legendgroup": "Q42",
         "line": {
          "color": "#FF6692",
          "dash": "solid"
         },
         "marker": {
          "symbol": "circle"
         },
         "mode": "lines",
         "name": "Q42",
         "showlegend": true,
         "type": "scattergl",
         "x": [
          "2025-01-01T00:00:00.000",
          "2025-02-01T00:00:00.000",
          "2025-03-01T00:00:00.000",
          "2025-04-01T00:00:00.000",
          "2025-05-01T00:00:00.000",
          "2025-06-01T00:00:00.000",
          "2025-07-01T00:00:00.000",
          "2025-08-01T00:00:00.000",
          "2025-09-01T00:00:00.000"
         ],
         "xaxis": "x",
         "y": [
          641,
          605,
          919,
          930,
          1896,
          1690,
          1910,
          1545,
          0
         ],
         "yaxis": "y"
        },
        {
         "hovertemplate": "bus_route=Q43<br>month=%{x}<br>ridership=%{y}<extra></extra>",
         "legendgroup": "Q43",
         "line": {
          "color": "#B6E880",
          "dash": "solid"
         },
         "marker": {
          "symbol": "circle"
         },
         "mode": "lines",
         "name": "Q43",
         "showlegend": true,
         "type": "scattergl",
         "x": [
          "2025-01-01T00:00:00.000",
          "2025-02-01T00:00:00.000",
          "2025-03-01T00:00:00.000",
          "2025-04-01T00:00:00.000",
          "2025-05-01T00:00:00.000",
          "2025-06-01T00:00:00.000",
          "2025-07-01T00:00:00.000",
          "2025-08-01T00:00:00.000",
          "2025-09-01T00:00:00.000"
         ],
         "xaxis": "x",
         "y": [
          9321,
          9056,
          12257,
          10682,
          20484,
          19671,
          17859,
          15521,
          0
         ],
         "yaxis": "y"
        },
        {
         "hovertemplate": "bus_route=Q44+<br>month=%{x}<br>ridership=%{y}<extra></extra>",
         "legendgroup": "Q44+",
         "line": {
          "color": "#FF97FF",
          "dash": "solid"
         },
         "marker": {
          "symbol": "circle"
         },
         "mode": "lines",
         "name": "Q44+",
         "showlegend": true,
         "type": "scattergl",
         "x": [
          "2025-01-01T00:00:00.000",
          "2025-02-01T00:00:00.000",
          "2025-03-01T00:00:00.000",
          "2025-04-01T00:00:00.000",
          "2025-05-01T00:00:00.000",
          "2025-06-01T00:00:00.000",
          "2025-07-01T00:00:00.000",
          "2025-08-01T00:00:00.000",
          "2025-09-01T00:00:00.000"
         ],
         "xaxis": "x",
         "y": [
          13766,
          12798,
          21178,
          21351,
          44892,
          47296,
          55217,
          51110,
          0
         ],
         "yaxis": "y"
        },
        {
         "hovertemplate": "bus_route=Q46<br>month=%{x}<br>ridership=%{y}<extra></extra>",
         "legendgroup": "Q46",
         "line": {
          "color": "#FECB52",
          "dash": "solid"
         },
         "marker": {
          "symbol": "circle"
         },
         "mode": "lines",
         "name": "Q46",
         "showlegend": true,
         "type": "scattergl",
         "x": [
          "2025-01-01T00:00:00.000",
          "2025-02-01T00:00:00.000",
          "2025-03-01T00:00:00.000",
          "2025-04-01T00:00:00.000",
          "2025-05-01T00:00:00.000",
          "2025-06-01T00:00:00.000",
          "2025-07-01T00:00:00.000",
          "2025-08-01T00:00:00.000",
          "2025-09-01T00:00:00.000"
         ],
         "xaxis": "x",
         "y": [
          11730,
          11123,
          17372,
          17932,
          33198,
          30466,
          15667,
          13718,
          0
         ],
         "yaxis": "y"
        },
        {
         "hovertemplate": "bus_route=Q47<br>month=%{x}<br>ridership=%{y}<extra></extra>",
         "legendgroup": "Q47",
         "line": {
          "color": "#636efa",
          "dash": "solid"
         },
         "marker": {
          "symbol": "circle"
         },
         "mode": "lines",
         "name": "Q47",
         "showlegend": true,
         "type": "scattergl",
         "x": [
          "2025-01-01T00:00:00.000",
          "2025-02-01T00:00:00.000",
          "2025-03-01T00:00:00.000",
          "2025-04-01T00:00:00.000",
          "2025-05-01T00:00:00.000",
          "2025-06-01T00:00:00.000",
          "2025-07-01T00:00:00.000",
          "2025-08-01T00:00:00.000",
          "2025-09-01T00:00:00.000"
         ],
         "xaxis": "x",
         "y": [
          5928,
          5386,
          8500,
          8686,
          18670,
          17830,
          19228,
          16479,
          0
         ],
         "yaxis": "y"
        },
        {
         "hovertemplate": "bus_route=Q48<br>month=%{x}<br>ridership=%{y}<extra></extra>",
         "legendgroup": "Q48",
         "line": {
          "color": "#EF553B",
          "dash": "solid"
         },
         "marker": {
          "symbol": "circle"
         },
         "mode": "lines",
         "name": "Q48",
         "showlegend": true,
         "type": "scattergl",
         "x": [
          "2025-01-01T00:00:00.000",
          "2025-02-01T00:00:00.000",
          "2025-03-01T00:00:00.000",
          "2025-04-01T00:00:00.000",
          "2025-05-01T00:00:00.000",
          "2025-06-01T00:00:00.000",
          "2025-07-01T00:00:00.000",
          "2025-08-01T00:00:00.000",
          "2025-09-01T00:00:00.000"
         ],
         "xaxis": "x",
         "y": [
          2218,
          1793,
          3213,
          3135,
          7125,
          6809,
          5954,
          5099,
          0
         ],
         "yaxis": "y"
        },
        {
         "hovertemplate": "bus_route=Q49<br>month=%{x}<br>ridership=%{y}<extra></extra>",
         "legendgroup": "Q49",
         "line": {
          "color": "#00cc96",
          "dash": "solid"
         },
         "marker": {
          "symbol": "circle"
         },
         "mode": "lines",
         "name": "Q49",
         "showlegend": true,
         "type": "scattergl",
         "x": [
          "2025-01-01T00:00:00.000",
          "2025-02-01T00:00:00.000",
          "2025-03-01T00:00:00.000",
          "2025-04-01T00:00:00.000",
          "2025-05-01T00:00:00.000",
          "2025-06-01T00:00:00.000",
          "2025-07-01T00:00:00.000",
          "2025-08-01T00:00:00.000",
          "2025-09-01T00:00:00.000"
         ],
         "xaxis": "x",
         "y": [
          5406,
          4961,
          8136,
          7800,
          16467,
          16425,
          17271,
          14937,
          0
         ],
         "yaxis": "y"
        },
        {
         "hovertemplate": "bus_route=Q5<br>month=%{x}<br>ridership=%{y}<extra></extra>",
         "legendgroup": "Q5",
         "line": {
          "color": "#ab63fa",
          "dash": "solid"
         },
         "marker": {
          "symbol": "circle"
         },
         "mode": "lines",
         "name": "Q5",
         "showlegend": true,
         "type": "scattergl",
         "x": [
          "2025-01-01T00:00:00.000",
          "2025-02-01T00:00:00.000",
          "2025-03-01T00:00:00.000",
          "2025-04-01T00:00:00.000",
          "2025-05-01T00:00:00.000",
          "2025-06-01T00:00:00.000",
          "2025-07-01T00:00:00.000",
          "2025-08-01T00:00:00.000",
          "2025-09-01T00:00:00.000"
         ],
         "xaxis": "x",
         "y": [
          6030,
          5344,
          8187,
          8786,
          17440,
          15988,
          11449,
          9224,
          0
         ],
         "yaxis": "y"
        },
        {
         "hovertemplate": "bus_route=Q50<br>month=%{x}<br>ridership=%{y}<extra></extra>",
         "legendgroup": "Q50",
         "line": {
          "color": "#FFA15A",
          "dash": "solid"
         },
         "marker": {
          "symbol": "circle"
         },
         "mode": "lines",
         "name": "Q50",
         "showlegend": true,
         "type": "scattergl",
         "x": [
          "2025-01-01T00:00:00.000",
          "2025-02-01T00:00:00.000",
          "2025-03-01T00:00:00.000",
          "2025-04-01T00:00:00.000",
          "2025-05-01T00:00:00.000",
          "2025-06-01T00:00:00.000",
          "2025-07-01T00:00:00.000",
          "2025-08-01T00:00:00.000",
          "2025-09-01T00:00:00.000"
         ],
         "xaxis": "x",
         "y": [
          3003,
          2548,
          4177,
          4460,
          8659,
          8864,
          9280,
          8743,
          0
         ],
         "yaxis": "y"
        },
        {
         "hovertemplate": "bus_route=Q52+<br>month=%{x}<br>ridership=%{y}<extra></extra>",
         "legendgroup": "Q52+",
         "line": {
          "color": "#19d3f3",
          "dash": "solid"
         },
         "marker": {
          "symbol": "circle"
         },
         "mode": "lines",
         "name": "Q52+",
         "showlegend": true,
         "type": "scattergl",
         "x": [
          "2025-01-01T00:00:00.000",
          "2025-02-01T00:00:00.000",
          "2025-03-01T00:00:00.000",
          "2025-04-01T00:00:00.000",
          "2025-05-01T00:00:00.000",
          "2025-06-01T00:00:00.000",
          "2025-07-01T00:00:00.000",
          "2025-08-01T00:00:00.000",
          "2025-09-01T00:00:00.000"
         ],
         "xaxis": "x",
         "y": [
          3344,
          3545,
          5711,
          5899,
          10938,
          10206,
          10307,
          9013,
          0
         ],
         "yaxis": "y"
        },
        {
         "hovertemplate": "bus_route=Q53+<br>month=%{x}<br>ridership=%{y}<extra></extra>",
         "legendgroup": "Q53+",
         "line": {
          "color": "#FF6692",
          "dash": "solid"
         },
         "marker": {
          "symbol": "circle"
         },
         "mode": "lines",
         "name": "Q53+",
         "showlegend": true,
         "type": "scattergl",
         "x": [
          "2025-01-01T00:00:00.000",
          "2025-02-01T00:00:00.000",
          "2025-03-01T00:00:00.000",
          "2025-04-01T00:00:00.000",
          "2025-05-01T00:00:00.000",
          "2025-06-01T00:00:00.000",
          "2025-07-01T00:00:00.000",
          "2025-08-01T00:00:00.000",
          "2025-09-01T00:00:00.000"
         ],
         "xaxis": "x",
         "y": [
          8295,
          8423,
          14031,
          14852,
          27784,
          27771,
          29236,
          26594,
          0
         ],
         "yaxis": "y"
        },
        {
         "hovertemplate": "bus_route=Q54<br>month=%{x}<br>ridership=%{y}<extra></extra>",
         "legendgroup": "Q54",
         "line": {
          "color": "#B6E880",
          "dash": "solid"
         },
         "marker": {
          "symbol": "circle"
         },
         "mode": "lines",
         "name": "Q54",
         "showlegend": true,
         "type": "scattergl",
         "x": [
          "2025-01-01T00:00:00.000",
          "2025-02-01T00:00:00.000",
          "2025-03-01T00:00:00.000",
          "2025-04-01T00:00:00.000",
          "2025-05-01T00:00:00.000",
          "2025-06-01T00:00:00.000",
          "2025-07-01T00:00:00.000",
          "2025-08-01T00:00:00.000",
          "2025-09-01T00:00:00.000"
         ],
         "xaxis": "x",
         "y": [
          7264,
          6221,
          9747,
          9699,
          19107,
          19068,
          19457,
          19014,
          0
         ],
         "yaxis": "y"
        },
        {
         "hovertemplate": "bus_route=Q55<br>month=%{x}<br>ridership=%{y}<extra></extra>",
         "legendgroup": "Q55",
         "line": {
          "color": "#FF97FF",
          "dash": "solid"
         },
         "marker": {
          "symbol": "circle"
         },
         "mode": "lines",
         "name": "Q55",
         "showlegend": true,
         "type": "scattergl",
         "x": [
          "2025-01-01T00:00:00.000",
          "2025-02-01T00:00:00.000",
          "2025-03-01T00:00:00.000",
          "2025-04-01T00:00:00.000",
          "2025-05-01T00:00:00.000",
          "2025-06-01T00:00:00.000",
          "2025-07-01T00:00:00.000",
          "2025-08-01T00:00:00.000",
          "2025-09-01T00:00:00.000"
         ],
         "xaxis": "x",
         "y": [
          5393,
          4856,
          7475,
          7846,
          14594,
          15370,
          13822,
          13443,
          0
         ],
         "yaxis": "y"
        },
        {
         "hovertemplate": "bus_route=Q56<br>month=%{x}<br>ridership=%{y}<extra></extra>",
         "legendgroup": "Q56",
         "line": {
          "color": "#FECB52",
          "dash": "solid"
         },
         "marker": {
          "symbol": "circle"
         },
         "mode": "lines",
         "name": "Q56",
         "showlegend": true,
         "type": "scattergl",
         "x": [
          "2025-01-01T00:00:00.000",
          "2025-02-01T00:00:00.000",
          "2025-03-01T00:00:00.000",
          "2025-04-01T00:00:00.000",
          "2025-05-01T00:00:00.000",
          "2025-06-01T00:00:00.000",
          "2025-07-01T00:00:00.000",
          "2025-08-01T00:00:00.000",
          "2025-09-01T00:00:00.000"
         ],
         "xaxis": "x",
         "y": [
          4772,
          4113,
          6810,
          6914,
          13247,
          13357,
          13784,
          11414,
          0
         ],
         "yaxis": "y"
        },
        {
         "hovertemplate": "bus_route=Q58<br>month=%{x}<br>ridership=%{y}<extra></extra>",
         "legendgroup": "Q58",
         "line": {
          "color": "#636efa",
          "dash": "solid"
         },
         "marker": {
          "symbol": "circle"
         },
         "mode": "lines",
         "name": "Q58",
         "showlegend": true,
         "type": "scattergl",
         "x": [
          "2025-01-01T00:00:00.000",
          "2025-02-01T00:00:00.000",
          "2025-03-01T00:00:00.000",
          "2025-04-01T00:00:00.000",
          "2025-05-01T00:00:00.000",
          "2025-06-01T00:00:00.000",
          "2025-07-01T00:00:00.000",
          "2025-08-01T00:00:00.000",
          "2025-09-01T00:00:00.000"
         ],
         "xaxis": "x",
         "y": [
          21452,
          19662,
          31740,
          30258,
          61347,
          61984,
          46746,
          40733,
          0
         ],
         "yaxis": "y"
        },
        {
         "hovertemplate": "bus_route=Q59<br>month=%{x}<br>ridership=%{y}<extra></extra>",
         "legendgroup": "Q59",
         "line": {
          "color": "#EF553B",
          "dash": "solid"
         },
         "marker": {
          "symbol": "circle"
         },
         "mode": "lines",
         "name": "Q59",
         "showlegend": true,
         "type": "scattergl",
         "x": [
          "2025-01-01T00:00:00.000",
          "2025-02-01T00:00:00.000",
          "2025-03-01T00:00:00.000",
          "2025-04-01T00:00:00.000",
          "2025-05-01T00:00:00.000",
          "2025-06-01T00:00:00.000",
          "2025-07-01T00:00:00.000",
          "2025-08-01T00:00:00.000",
          "2025-09-01T00:00:00.000"
         ],
         "xaxis": "x",
         "y": [
          6320,
          5465,
          8387,
          8252,
          16064,
          15747,
          17640,
          15702,
          0
         ],
         "yaxis": "y"
        },
        {
         "hovertemplate": "bus_route=Q60<br>month=%{x}<br>ridership=%{y}<extra></extra>",
         "legendgroup": "Q60",
         "line": {
          "color": "#00cc96",
          "dash": "solid"
         },
         "marker": {
          "symbol": "circle"
         },
         "mode": "lines",
         "name": "Q60",
         "showlegend": true,
         "type": "scattergl",
         "x": [
          "2025-01-01T00:00:00.000",
          "2025-02-01T00:00:00.000",
          "2025-03-01T00:00:00.000",
          "2025-04-01T00:00:00.000",
          "2025-05-01T00:00:00.000",
          "2025-06-01T00:00:00.000",
          "2025-07-01T00:00:00.000",
          "2025-08-01T00:00:00.000",
          "2025-09-01T00:00:00.000"
         ],
         "xaxis": "x",
         "y": [
          9556,
          8598,
          14143,
          14228,
          27538,
          27779,
          30161,
          25792,
          0
         ],
         "yaxis": "y"
        },
        {
         "hovertemplate": "bus_route=Q64<br>month=%{x}<br>ridership=%{y}<extra></extra>",
         "legendgroup": "Q64",
         "line": {
          "color": "#ab63fa",
          "dash": "solid"
         },
         "marker": {
          "symbol": "circle"
         },
         "mode": "lines",
         "name": "Q64",
         "showlegend": true,
         "type": "scattergl",
         "x": [
          "2025-01-01T00:00:00.000",
          "2025-02-01T00:00:00.000",
          "2025-03-01T00:00:00.000",
          "2025-04-01T00:00:00.000",
          "2025-05-01T00:00:00.000",
          "2025-06-01T00:00:00.000",
          "2025-07-01T00:00:00.000",
          "2025-08-01T00:00:00.000",
          "2025-09-01T00:00:00.000"
         ],
         "xaxis": "x",
         "y": [
          5919,
          5837,
          9156,
          8957,
          17207,
          14793,
          14105,
          12558,
          0
         ],
         "yaxis": "y"
        },
        {
         "hovertemplate": "bus_route=Q65<br>month=%{x}<br>ridership=%{y}<extra></extra>",
         "legendgroup": "Q65",
         "line": {
          "color": "#FFA15A",
          "dash": "solid"
         },
         "marker": {
          "symbol": "circle"
         },
         "mode": "lines",
         "name": "Q65",
         "showlegend": true,
         "type": "scattergl",
         "x": [
          "2025-01-01T00:00:00.000",
          "2025-02-01T00:00:00.000",
          "2025-03-01T00:00:00.000",
          "2025-04-01T00:00:00.000",
          "2025-05-01T00:00:00.000",
          "2025-06-01T00:00:00.000",
          "2025-07-01T00:00:00.000",
          "2025-08-01T00:00:00.000",
          "2025-09-01T00:00:00.000"
         ],
         "xaxis": "x",
         "y": [
          16799,
          13594,
          20405,
          22822,
          46337,
          44841,
          27484,
          23633,
          0
         ],
         "yaxis": "y"
        },
        {
         "hovertemplate": "bus_route=Q66<br>month=%{x}<br>ridership=%{y}<extra></extra>",
         "legendgroup": "Q66",
         "line": {
          "color": "#19d3f3",
          "dash": "solid"
         },
         "marker": {
          "symbol": "circle"
         },
         "mode": "lines",
         "name": "Q66",
         "showlegend": true,
         "type": "scattergl",
         "x": [
          "2025-01-01T00:00:00.000",
          "2025-02-01T00:00:00.000",
          "2025-03-01T00:00:00.000",
          "2025-04-01T00:00:00.000",
          "2025-05-01T00:00:00.000",
          "2025-06-01T00:00:00.000",
          "2025-07-01T00:00:00.000",
          "2025-08-01T00:00:00.000",
          "2025-09-01T00:00:00.000"
         ],
         "xaxis": "x",
         "y": [
          13545,
          11760,
          17343,
          19286,
          38174,
          37902,
          24460,
          20775,
          0
         ],
         "yaxis": "y"
        },
        {
         "hovertemplate": "bus_route=Q67<br>month=%{x}<br>ridership=%{y}<extra></extra>",
         "legendgroup": "Q67",
         "line": {
          "color": "#FF6692",
          "dash": "solid"
         },
         "marker": {
          "symbol": "circle"
         },
         "mode": "lines",
         "name": "Q67",
         "showlegend": true,
         "type": "scattergl",
         "x": [
          "2025-01-01T00:00:00.000",
          "2025-02-01T00:00:00.000",
          "2025-03-01T00:00:00.000",
          "2025-04-01T00:00:00.000",
          "2025-05-01T00:00:00.000",
          "2025-06-01T00:00:00.000",
          "2025-07-01T00:00:00.000",
          "2025-08-01T00:00:00.000",
          "2025-09-01T00:00:00.000"
         ],
         "xaxis": "x",
         "y": [
          1680,
          1534,
          2287,
          2409,
          5031,
          5452,
          5092,
          4326,
          0
         ],
         "yaxis": "y"
        },
        {
         "hovertemplate": "bus_route=Q69<br>month=%{x}<br>ridership=%{y}<extra></extra>",
         "legendgroup": "Q69",
         "line": {
          "color": "#B6E880",
          "dash": "solid"
         },
         "marker": {
          "symbol": "circle"
         },
         "mode": "lines",
         "name": "Q69",
         "showlegend": true,
         "type": "scattergl",
         "x": [
          "2025-01-01T00:00:00.000",
          "2025-02-01T00:00:00.000",
          "2025-03-01T00:00:00.000",
          "2025-04-01T00:00:00.000",
          "2025-05-01T00:00:00.000",
          "2025-06-01T00:00:00.000",
          "2025-07-01T00:00:00.000",
          "2025-08-01T00:00:00.000",
          "2025-09-01T00:00:00.000"
         ],
         "xaxis": "x",
         "y": [
          6866,
          6538,
          10618,
          10262,
          20712,
          21180,
          23310,
          19976,
          0
         ],
         "yaxis": "y"
        },
        {
         "hovertemplate": "bus_route=Q70+<br>month=%{x}<br>ridership=%{y}<extra></extra>",
         "legendgroup": "Q70+",
         "line": {
          "color": "#FF97FF",
          "dash": "solid"
         },
         "marker": {
          "symbol": "circle"
         },
         "mode": "lines",
         "name": "Q70+",
         "showlegend": true,
         "type": "scattergl",
         "x": [
          "2025-01-01T00:00:00.000",
          "2025-02-01T00:00:00.000",
          "2025-03-01T00:00:00.000",
          "2025-04-01T00:00:00.000",
          "2025-05-01T00:00:00.000",
          "2025-06-01T00:00:00.000",
          "2025-07-01T00:00:00.000",
          "2025-08-01T00:00:00.000",
          "2025-09-01T00:00:00.000"
         ],
         "xaxis": "x",
         "y": [
          190,
          198,
          403,
          359,
          444,
          302,
          278,
          169,
          0
         ],
         "yaxis": "y"
        },
        {
         "hovertemplate": "bus_route=Q72<br>month=%{x}<br>ridership=%{y}<extra></extra>",
         "legendgroup": "Q72",
         "line": {
          "color": "#FECB52",
          "dash": "solid"
         },
         "marker": {
          "symbol": "circle"
         },
         "mode": "lines",
         "name": "Q72",
         "showlegend": true,
         "type": "scattergl",
         "x": [
          "2025-01-01T00:00:00.000",
          "2025-02-01T00:00:00.000",
          "2025-03-01T00:00:00.000",
          "2025-04-01T00:00:00.000",
          "2025-05-01T00:00:00.000",
          "2025-06-01T00:00:00.000",
          "2025-07-01T00:00:00.000",
          "2025-08-01T00:00:00.000",
          "2025-09-01T00:00:00.000"
         ],
         "xaxis": "x",
         "y": [
          4637,
          4391,
          7269,
          7233,
          14824,
          14780,
          15163,
          12392,
          0
         ],
         "yaxis": "y"
        },
        {
         "hovertemplate": "bus_route=Q76<br>month=%{x}<br>ridership=%{y}<extra></extra>",
         "legendgroup": "Q76",
         "line": {
          "color": "#636efa",
          "dash": "solid"
         },
         "marker": {
          "symbol": "circle"
         },
         "mode": "lines",
         "name": "Q76",
         "showlegend": true,
         "type": "scattergl",
         "x": [
          "2025-01-01T00:00:00.000",
          "2025-02-01T00:00:00.000",
          "2025-03-01T00:00:00.000",
          "2025-04-01T00:00:00.000",
          "2025-05-01T00:00:00.000",
          "2025-06-01T00:00:00.000",
          "2025-07-01T00:00:00.000",
          "2025-08-01T00:00:00.000",
          "2025-09-01T00:00:00.000"
         ],
         "xaxis": "x",
         "y": [
          2400,
          2013,
          3607,
          3521,
          6725,
          6595,
          7793,
          6893,
          0
         ],
         "yaxis": "y"
        },
        {
         "hovertemplate": "bus_route=Q77<br>month=%{x}<br>ridership=%{y}<extra></extra>",
         "legendgroup": "Q77",
         "line": {
          "color": "#EF553B",
          "dash": "solid"
         },
         "marker": {
          "symbol": "circle"
         },
         "mode": "lines",
         "name": "Q77",
         "showlegend": true,
         "type": "scattergl",
         "x": [
          "2025-01-01T00:00:00.000",
          "2025-02-01T00:00:00.000",
          "2025-03-01T00:00:00.000",
          "2025-04-01T00:00:00.000",
          "2025-05-01T00:00:00.000",
          "2025-06-01T00:00:00.000",
          "2025-07-01T00:00:00.000",
          "2025-08-01T00:00:00.000",
          "2025-09-01T00:00:00.000"
         ],
         "xaxis": "x",
         "y": [
          2278,
          2102,
          3138,
          3075,
          6179,
          6072,
          5496,
          5143,
          0
         ],
         "yaxis": "y"
        },
        {
         "hovertemplate": "bus_route=Q83<br>month=%{x}<br>ridership=%{y}<extra></extra>",
         "legendgroup": "Q83",
         "line": {
          "color": "#00cc96",
          "dash": "solid"
         },
         "marker": {
          "symbol": "circle"
         },
         "mode": "lines",
         "name": "Q83",
         "showlegend": true,
         "type": "scattergl",
         "x": [
          "2025-01-01T00:00:00.000",
          "2025-02-01T00:00:00.000",
          "2025-03-01T00:00:00.000",
          "2025-04-01T00:00:00.000",
          "2025-05-01T00:00:00.000",
          "2025-06-01T00:00:00.000",
          "2025-07-01T00:00:00.000",
          "2025-08-01T00:00:00.000",
          "2025-09-01T00:00:00.000"
         ],
         "xaxis": "x",
         "y": [
          4814,
          4075,
          6756,
          6881,
          13529,
          12633,
          15141,
          12924,
          0
         ],
         "yaxis": "y"
        },
        {
         "hovertemplate": "bus_route=Q84<br>month=%{x}<br>ridership=%{y}<extra></extra>",
         "legendgroup": "Q84",
         "line": {
          "color": "#ab63fa",
          "dash": "solid"
         },
         "marker": {
          "symbol": "circle"
         },
         "mode": "lines",
         "name": "Q84",
         "showlegend": true,
         "type": "scattergl",
         "x": [
          "2025-01-01T00:00:00.000",
          "2025-02-01T00:00:00.000",
          "2025-03-01T00:00:00.000",
          "2025-04-01T00:00:00.000",
          "2025-05-01T00:00:00.000",
          "2025-06-01T00:00:00.000",
          "2025-07-01T00:00:00.000",
          "2025-08-01T00:00:00.000",
          "2025-09-01T00:00:00.000"
         ],
         "xaxis": "x",
         "y": [
          1979,
          1653,
          2552,
          2901,
          6141,
          5779,
          5536,
          4882,
          0
         ],
         "yaxis": "y"
        },
        {
         "hovertemplate": "bus_route=Q85<br>month=%{x}<br>ridership=%{y}<extra></extra>",
         "legendgroup": "Q85",
         "line": {
          "color": "#FFA15A",
          "dash": "solid"
         },
         "marker": {
          "symbol": "circle"
         },
         "mode": "lines",
         "name": "Q85",
         "showlegend": true,
         "type": "scattergl",
         "x": [
          "2025-01-01T00:00:00.000",
          "2025-02-01T00:00:00.000",
          "2025-03-01T00:00:00.000",
          "2025-04-01T00:00:00.000",
          "2025-05-01T00:00:00.000",
          "2025-06-01T00:00:00.000",
          "2025-07-01T00:00:00.000",
          "2025-08-01T00:00:00.000",
          "2025-09-01T00:00:00.000"
         ],
         "xaxis": "x",
         "y": [
          5311,
          4440,
          7214,
          7098,
          14219,
          13339,
          8874,
          7421,
          0
         ],
         "yaxis": "y"
        },
        {
         "hovertemplate": "bus_route=Q88<br>month=%{x}<br>ridership=%{y}<extra></extra>",
         "legendgroup": "Q88",
         "line": {
          "color": "#19d3f3",
          "dash": "solid"
         },
         "marker": {
          "symbol": "circle"
         },
         "mode": "lines",
         "name": "Q88",
         "showlegend": true,
         "type": "scattergl",
         "x": [
          "2025-01-01T00:00:00.000",
          "2025-02-01T00:00:00.000",
          "2025-03-01T00:00:00.000",
          "2025-04-01T00:00:00.000",
          "2025-05-01T00:00:00.000",
          "2025-06-01T00:00:00.000",
          "2025-07-01T00:00:00.000",
          "2025-08-01T00:00:00.000",
          "2025-09-01T00:00:00.000"
         ],
         "xaxis": "x",
         "y": [
          6214,
          5946,
          9841,
          9195,
          18207,
          17780,
          18598,
          16358,
          0
         ],
         "yaxis": "y"
        },
        {
         "hovertemplate": "bus_route=Q90<br>month=%{x}<br>ridership=%{y}<extra></extra>",
         "legendgroup": "Q90",
         "line": {
          "color": "#FF6692",
          "dash": "solid"
         },
         "marker": {
          "symbol": "circle"
         },
         "mode": "lines",
         "name": "Q90",
         "showlegend": true,
         "type": "scattergl",
         "x": [
          "2025-01-01T00:00:00.000",
          "2025-02-01T00:00:00.000",
          "2025-03-01T00:00:00.000",
          "2025-04-01T00:00:00.000",
          "2025-05-01T00:00:00.000",
          "2025-06-01T00:00:00.000",
          "2025-07-01T00:00:00.000",
          "2025-08-01T00:00:00.000",
          "2025-09-01T00:00:00.000"
         ],
         "xaxis": "x",
         "y": [
          0,
          0,
          0,
          0,
          0,
          206,
          2297,
          1944,
          0
         ],
         "yaxis": "y"
        },
        {
         "hovertemplate": "bus_route=Q92<br>month=%{x}<br>ridership=%{y}<extra></extra>",
         "legendgroup": "Q92",
         "line": {
          "color": "#B6E880",
          "dash": "solid"
         },
         "marker": {
          "symbol": "circle"
         },
         "mode": "lines",
         "name": "Q92",
         "showlegend": true,
         "type": "scattergl",
         "x": [
          "2025-01-01T00:00:00.000",
          "2025-02-01T00:00:00.000",
          "2025-03-01T00:00:00.000",
          "2025-04-01T00:00:00.000",
          "2025-05-01T00:00:00.000",
          "2025-06-01T00:00:00.000",
          "2025-07-01T00:00:00.000",
          "2025-08-01T00:00:00.000",
          "2025-09-01T00:00:00.000"
         ],
         "xaxis": "x",
         "y": [
          1,
          0,
          0,
          0,
          0,
          4,
          0,
          0,
          0
         ],
         "yaxis": "y"
        },
        {
         "hovertemplate": "bus_route=Q93<br>month=%{x}<br>ridership=%{y}<extra></extra>",
         "legendgroup": "Q93",
         "line": {
          "color": "#FF97FF",
          "dash": "solid"
         },
         "marker": {
          "symbol": "circle"
         },
         "mode": "lines",
         "name": "Q93",
         "showlegend": true,
         "type": "scattergl",
         "x": [
          "2025-01-01T00:00:00.000",
          "2025-02-01T00:00:00.000",
          "2025-03-01T00:00:00.000",
          "2025-04-01T00:00:00.000",
          "2025-05-01T00:00:00.000",
          "2025-06-01T00:00:00.000",
          "2025-07-01T00:00:00.000",
          "2025-08-01T00:00:00.000",
          "2025-09-01T00:00:00.000"
         ],
         "xaxis": "x",
         "y": [
          0,
          5,
          6,
          0,
          0,
          2,
          0,
          0,
          0
         ],
         "yaxis": "y"
        },
        {
         "hovertemplate": "bus_route=Q94<br>month=%{x}<br>ridership=%{y}<extra></extra>",
         "legendgroup": "Q94",
         "line": {
          "color": "#FECB52",
          "dash": "solid"
         },
         "marker": {
          "symbol": "circle"
         },
         "mode": "lines",
         "name": "Q94",
         "showlegend": true,
         "type": "scattergl",
         "x": [
          "2025-01-01T00:00:00.000",
          "2025-02-01T00:00:00.000",
          "2025-03-01T00:00:00.000",
          "2025-04-01T00:00:00.000",
          "2025-05-01T00:00:00.000",
          "2025-06-01T00:00:00.000",
          "2025-07-01T00:00:00.000",
          "2025-08-01T00:00:00.000",
          "2025-09-01T00:00:00.000"
         ],
         "xaxis": "x",
         "y": [
          0,
          0,
          0,
          0,
          0,
          0,
          0,
          0,
          0
         ],
         "yaxis": "y"
        },
        {
         "hovertemplate": "bus_route=Q95<br>month=%{x}<br>ridership=%{y}<extra></extra>",
         "legendgroup": "Q95",
         "line": {
          "color": "#636efa",
          "dash": "solid"
         },
         "marker": {
          "symbol": "circle"
         },
         "mode": "lines",
         "name": "Q95",
         "showlegend": true,
         "type": "scattergl",
         "x": [
          "2025-01-01T00:00:00.000",
          "2025-02-01T00:00:00.000",
          "2025-03-01T00:00:00.000",
          "2025-04-01T00:00:00.000",
          "2025-05-01T00:00:00.000",
          "2025-06-01T00:00:00.000",
          "2025-07-01T00:00:00.000",
          "2025-08-01T00:00:00.000",
          "2025-09-01T00:00:00.000"
         ],
         "xaxis": "x",
         "y": [
          0,
          0,
          0,
          0,
          0,
          0,
          0,
          0,
          0
         ],
         "yaxis": "y"
        },
        {
         "hovertemplate": "bus_route=Q96<br>month=%{x}<br>ridership=%{y}<extra></extra>",
         "legendgroup": "Q96",
         "line": {
          "color": "#EF553B",
          "dash": "solid"
         },
         "marker": {
          "symbol": "circle"
         },
         "mode": "lines",
         "name": "Q96",
         "showlegend": true,
         "type": "scattergl",
         "x": [
          "2025-01-01T00:00:00.000",
          "2025-02-01T00:00:00.000",
          "2025-03-01T00:00:00.000",
          "2025-04-01T00:00:00.000",
          "2025-05-01T00:00:00.000",
          "2025-06-01T00:00:00.000",
          "2025-07-01T00:00:00.000",
          "2025-08-01T00:00:00.000",
          "2025-09-01T00:00:00.000"
         ],
         "xaxis": "x",
         "y": [
          0,
          0,
          0,
          0,
          2,
          0,
          0,
          0,
          0
         ],
         "yaxis": "y"
        },
        {
         "hovertemplate": "bus_route=Q97<br>month=%{x}<br>ridership=%{y}<extra></extra>",
         "legendgroup": "Q97",
         "line": {
          "color": "#00cc96",
          "dash": "solid"
         },
         "marker": {
          "symbol": "circle"
         },
         "mode": "lines",
         "name": "Q97",
         "showlegend": true,
         "type": "scattergl",
         "x": [
          "2025-01-01T00:00:00.000",
          "2025-02-01T00:00:00.000",
          "2025-03-01T00:00:00.000",
          "2025-04-01T00:00:00.000",
          "2025-05-01T00:00:00.000",
          "2025-06-01T00:00:00.000",
          "2025-07-01T00:00:00.000",
          "2025-08-01T00:00:00.000",
          "2025-09-01T00:00:00.000"
         ],
         "xaxis": "x",
         "y": [
          6,
          2,
          15,
          14,
          28,
          0,
          0,
          0,
          0
         ],
         "yaxis": "y"
        },
        {
         "hovertemplate": "bus_route=Q98<br>month=%{x}<br>ridership=%{y}<extra></extra>",
         "legendgroup": "Q98",
         "line": {
          "color": "#ab63fa",
          "dash": "solid"
         },
         "marker": {
          "symbol": "circle"
         },
         "mode": "lines",
         "name": "Q98",
         "showlegend": true,
         "type": "scattergl",
         "x": [
          "2025-01-01T00:00:00.000",
          "2025-02-01T00:00:00.000",
          "2025-03-01T00:00:00.000",
          "2025-04-01T00:00:00.000",
          "2025-05-01T00:00:00.000",
          "2025-06-01T00:00:00.000",
          "2025-07-01T00:00:00.000",
          "2025-08-01T00:00:00.000",
          "2025-09-01T00:00:00.000"
         ],
         "xaxis": "x",
         "y": [
          0,
          0,
          0,
          0,
          0,
          822,
          18738,
          18010,
          0
         ],
         "yaxis": "y"
        },
        {
         "hovertemplate": "bus_route=Q98V<br>month=%{x}<br>ridership=%{y}<extra></extra>",
         "legendgroup": "Q98V",
         "line": {
          "color": "#FFA15A",
          "dash": "solid"
         },
         "marker": {
          "symbol": "circle"
         },
         "mode": "lines",
         "name": "Q98V",
         "showlegend": true,
         "type": "scattergl",
         "x": [
          "2025-01-01T00:00:00.000",
          "2025-02-01T00:00:00.000",
          "2025-03-01T00:00:00.000",
          "2025-04-01T00:00:00.000",
          "2025-05-01T00:00:00.000",
          "2025-06-01T00:00:00.000",
          "2025-07-01T00:00:00.000",
          "2025-08-01T00:00:00.000",
          "2025-09-01T00:00:00.000"
         ],
         "xaxis": "x",
         "y": [
          0,
          0,
          0,
          0,
          0,
          0,
          0,
          0,
          0
         ],
         "yaxis": "y"
        },
        {
         "hovertemplate": "bus_route=QM1<br>month=%{x}<br>ridership=%{y}<extra></extra>",
         "legendgroup": "QM1",
         "line": {
          "color": "#19d3f3",
          "dash": "solid"
         },
         "marker": {
          "symbol": "circle"
         },
         "mode": "lines",
         "name": "QM1",
         "showlegend": true,
         "type": "scattergl",
         "x": [
          "2025-01-01T00:00:00.000",
          "2025-02-01T00:00:00.000",
          "2025-03-01T00:00:00.000",
          "2025-04-01T00:00:00.000",
          "2025-05-01T00:00:00.000",
          "2025-06-01T00:00:00.000",
          "2025-07-01T00:00:00.000",
          "2025-08-01T00:00:00.000",
          "2025-09-01T00:00:00.000"
         ],
         "xaxis": "x",
         "y": [
          0,
          0,
          3,
          3,
          12,
          12,
          14,
          8,
          0
         ],
         "yaxis": "y"
        },
        {
         "hovertemplate": "bus_route=QM10<br>month=%{x}<br>ridership=%{y}<extra></extra>",
         "legendgroup": "QM10",
         "line": {
          "color": "#FF6692",
          "dash": "solid"
         },
         "marker": {
          "symbol": "circle"
         },
         "mode": "lines",
         "name": "QM10",
         "showlegend": true,
         "type": "scattergl",
         "x": [
          "2025-01-01T00:00:00.000",
          "2025-02-01T00:00:00.000",
          "2025-03-01T00:00:00.000",
          "2025-04-01T00:00:00.000",
          "2025-05-01T00:00:00.000",
          "2025-06-01T00:00:00.000",
          "2025-07-01T00:00:00.000",
          "2025-08-01T00:00:00.000",
          "2025-09-01T00:00:00.000"
         ],
         "xaxis": "x",
         "y": [
          0,
          0,
          0,
          1,
          24,
          24,
          26,
          14,
          0
         ],
         "yaxis": "y"
        },
        {
         "hovertemplate": "bus_route=QM11<br>month=%{x}<br>ridership=%{y}<extra></extra>",
         "legendgroup": "QM11",
         "line": {
          "color": "#B6E880",
          "dash": "solid"
         },
         "marker": {
          "symbol": "circle"
         },
         "mode": "lines",
         "name": "QM11",
         "showlegend": true,
         "type": "scattergl",
         "x": [
          "2025-01-01T00:00:00.000",
          "2025-02-01T00:00:00.000",
          "2025-03-01T00:00:00.000",
          "2025-04-01T00:00:00.000",
          "2025-05-01T00:00:00.000",
          "2025-06-01T00:00:00.000",
          "2025-07-01T00:00:00.000",
          "2025-08-01T00:00:00.000",
          "2025-09-01T00:00:00.000"
         ],
         "xaxis": "x",
         "y": [
          0,
          0,
          1,
          20,
          64,
          92,
          170,
          126,
          0
         ],
         "yaxis": "y"
        },
        {
         "hovertemplate": "bus_route=QM12<br>month=%{x}<br>ridership=%{y}<extra></extra>",
         "legendgroup": "QM12",
         "line": {
          "color": "#FF97FF",
          "dash": "solid"
         },
         "marker": {
          "symbol": "circle"
         },
         "mode": "lines",
         "name": "QM12",
         "showlegend": true,
         "type": "scattergl",
         "x": [
          "2025-01-01T00:00:00.000",
          "2025-02-01T00:00:00.000",
          "2025-03-01T00:00:00.000",
          "2025-04-01T00:00:00.000",
          "2025-05-01T00:00:00.000",
          "2025-06-01T00:00:00.000",
          "2025-07-01T00:00:00.000",
          "2025-08-01T00:00:00.000",
          "2025-09-01T00:00:00.000"
         ],
         "xaxis": "x",
         "y": [
          0,
          0,
          0,
          0,
          0,
          6,
          34,
          18,
          0
         ],
         "yaxis": "y"
        },
        {
         "hovertemplate": "bus_route=QM15<br>month=%{x}<br>ridership=%{y}<extra></extra>",
         "legendgroup": "QM15",
         "line": {
          "color": "#FECB52",
          "dash": "solid"
         },
         "marker": {
          "symbol": "circle"
         },
         "mode": "lines",
         "name": "QM15",
         "showlegend": true,
         "type": "scattergl",
         "x": [
          "2025-01-01T00:00:00.000",
          "2025-02-01T00:00:00.000",
          "2025-03-01T00:00:00.000",
          "2025-04-01T00:00:00.000",
          "2025-05-01T00:00:00.000",
          "2025-06-01T00:00:00.000",
          "2025-07-01T00:00:00.000",
          "2025-08-01T00:00:00.000",
          "2025-09-01T00:00:00.000"
         ],
         "xaxis": "x",
         "y": [
          3,
          2,
          21,
          45,
          183,
          221,
          398,
          390,
          0
         ],
         "yaxis": "y"
        },
        {
         "hovertemplate": "bus_route=QM16<br>month=%{x}<br>ridership=%{y}<extra></extra>",
         "legendgroup": "QM16",
         "line": {
          "color": "#636efa",
          "dash": "solid"
         },
         "marker": {
          "symbol": "circle"
         },
         "mode": "lines",
         "name": "QM16",
         "showlegend": true,
         "type": "scattergl",
         "x": [
          "2025-01-01T00:00:00.000",
          "2025-02-01T00:00:00.000",
          "2025-03-01T00:00:00.000",
          "2025-04-01T00:00:00.000",
          "2025-05-01T00:00:00.000",
          "2025-06-01T00:00:00.000",
          "2025-07-01T00:00:00.000",
          "2025-08-01T00:00:00.000",
          "2025-09-01T00:00:00.000"
         ],
         "xaxis": "x",
         "y": [
          0,
          0,
          0,
          3,
          1,
          11,
          32,
          23,
          0
         ],
         "yaxis": "y"
        },
        {
         "hovertemplate": "bus_route=QM17<br>month=%{x}<br>ridership=%{y}<extra></extra>",
         "legendgroup": "QM17",
         "line": {
          "color": "#EF553B",
          "dash": "solid"
         },
         "marker": {
          "symbol": "circle"
         },
         "mode": "lines",
         "name": "QM17",
         "showlegend": true,
         "type": "scattergl",
         "x": [
          "2025-01-01T00:00:00.000",
          "2025-02-01T00:00:00.000",
          "2025-03-01T00:00:00.000",
          "2025-04-01T00:00:00.000",
          "2025-05-01T00:00:00.000",
          "2025-06-01T00:00:00.000",
          "2025-07-01T00:00:00.000",
          "2025-08-01T00:00:00.000",
          "2025-09-01T00:00:00.000"
         ],
         "xaxis": "x",
         "y": [
          3,
          3,
          3,
          25,
          76,
          76,
          90,
          121,
          0
         ],
         "yaxis": "y"
        },
        {
         "hovertemplate": "bus_route=QM18<br>month=%{x}<br>ridership=%{y}<extra></extra>",
         "legendgroup": "QM18",
         "line": {
          "color": "#00cc96",
          "dash": "solid"
         },
         "marker": {
          "symbol": "circle"
         },
         "mode": "lines",
         "name": "QM18",
         "showlegend": true,
         "type": "scattergl",
         "x": [
          "2025-01-01T00:00:00.000",
          "2025-02-01T00:00:00.000",
          "2025-03-01T00:00:00.000",
          "2025-04-01T00:00:00.000",
          "2025-05-01T00:00:00.000",
          "2025-06-01T00:00:00.000",
          "2025-07-01T00:00:00.000",
          "2025-08-01T00:00:00.000",
          "2025-09-01T00:00:00.000"
         ],
         "xaxis": "x",
         "y": [
          0,
          0,
          0,
          1,
          6,
          6,
          16,
          10,
          0
         ],
         "yaxis": "y"
        },
        {
         "hovertemplate": "bus_route=QM2<br>month=%{x}<br>ridership=%{y}<extra></extra>",
         "legendgroup": "QM2",
         "line": {
          "color": "#ab63fa",
          "dash": "solid"
         },
         "marker": {
          "symbol": "circle"
         },
         "mode": "lines",
         "name": "QM2",
         "showlegend": true,
         "type": "scattergl",
         "x": [
          "2025-01-01T00:00:00.000",
          "2025-02-01T00:00:00.000",
          "2025-03-01T00:00:00.000",
          "2025-04-01T00:00:00.000",
          "2025-05-01T00:00:00.000",
          "2025-06-01T00:00:00.000",
          "2025-07-01T00:00:00.000",
          "2025-08-01T00:00:00.000",
          "2025-09-01T00:00:00.000"
         ],
         "xaxis": "x",
         "y": [
          0,
          0,
          6,
          29,
          80,
          128,
          150,
          187,
          0
         ],
         "yaxis": "y"
        },
        {
         "hovertemplate": "bus_route=QM20<br>month=%{x}<br>ridership=%{y}<extra></extra>",
         "legendgroup": "QM20",
         "line": {
          "color": "#FFA15A",
          "dash": "solid"
         },
         "marker": {
          "symbol": "circle"
         },
         "mode": "lines",
         "name": "QM20",
         "showlegend": true,
         "type": "scattergl",
         "x": [
          "2025-01-01T00:00:00.000",
          "2025-02-01T00:00:00.000",
          "2025-03-01T00:00:00.000",
          "2025-04-01T00:00:00.000",
          "2025-05-01T00:00:00.000",
          "2025-06-01T00:00:00.000",
          "2025-07-01T00:00:00.000",
          "2025-08-01T00:00:00.000",
          "2025-09-01T00:00:00.000"
         ],
         "xaxis": "x",
         "y": [
          0,
          0,
          4,
          8,
          40,
          96,
          98,
          123,
          0
         ],
         "yaxis": "y"
        },
        {
         "hovertemplate": "bus_route=QM21<br>month=%{x}<br>ridership=%{y}<extra></extra>",
         "legendgroup": "QM21",
         "line": {
          "color": "#19d3f3",
          "dash": "solid"
         },
         "marker": {
          "symbol": "circle"
         },
         "mode": "lines",
         "name": "QM21",
         "showlegend": true,
         "type": "scattergl",
         "x": [
          "2025-01-01T00:00:00.000",
          "2025-02-01T00:00:00.000",
          "2025-03-01T00:00:00.000",
          "2025-04-01T00:00:00.000",
          "2025-05-01T00:00:00.000",
          "2025-06-01T00:00:00.000",
          "2025-07-01T00:00:00.000",
          "2025-08-01T00:00:00.000",
          "2025-09-01T00:00:00.000"
         ],
         "xaxis": "x",
         "y": [
          1,
          0,
          8,
          7,
          70,
          70,
          28,
          9,
          0
         ],
         "yaxis": "y"
        },
        {
         "hovertemplate": "bus_route=QM24<br>month=%{x}<br>ridership=%{y}<extra></extra>",
         "legendgroup": "QM24",
         "line": {
          "color": "#FF6692",
          "dash": "solid"
         },
         "marker": {
          "symbol": "circle"
         },
         "mode": "lines",
         "name": "QM24",
         "showlegend": true,
         "type": "scattergl",
         "x": [
          "2025-01-01T00:00:00.000",
          "2025-02-01T00:00:00.000",
          "2025-03-01T00:00:00.000",
          "2025-04-01T00:00:00.000",
          "2025-05-01T00:00:00.000",
          "2025-06-01T00:00:00.000",
          "2025-07-01T00:00:00.000",
          "2025-08-01T00:00:00.000",
          "2025-09-01T00:00:00.000"
         ],
         "xaxis": "x",
         "y": [
          0,
          0,
          9,
          31,
          50,
          40,
          80,
          87,
          0
         ],
         "yaxis": "y"
        },
        {
         "hovertemplate": "bus_route=QM25<br>month=%{x}<br>ridership=%{y}<extra></extra>",
         "legendgroup": "QM25",
         "line": {
          "color": "#B6E880",
          "dash": "solid"
         },
         "marker": {
          "symbol": "circle"
         },
         "mode": "lines",
         "name": "QM25",
         "showlegend": true,
         "type": "scattergl",
         "x": [
          "2025-01-01T00:00:00.000",
          "2025-02-01T00:00:00.000",
          "2025-03-01T00:00:00.000",
          "2025-04-01T00:00:00.000",
          "2025-05-01T00:00:00.000",
          "2025-06-01T00:00:00.000",
          "2025-07-01T00:00:00.000",
          "2025-08-01T00:00:00.000",
          "2025-09-01T00:00:00.000"
         ],
         "xaxis": "x",
         "y": [
          0,
          0,
          2,
          2,
          10,
          16,
          32,
          20,
          0
         ],
         "yaxis": "y"
        },
        {
         "hovertemplate": "bus_route=QM3<br>month=%{x}<br>ridership=%{y}<extra></extra>",
         "legendgroup": "QM3",
         "line": {
          "color": "#FF97FF",
          "dash": "solid"
         },
         "marker": {
          "symbol": "circle"
         },
         "mode": "lines",
         "name": "QM3",
         "showlegend": true,
         "type": "scattergl",
         "x": [
          "2025-01-01T00:00:00.000",
          "2025-02-01T00:00:00.000",
          "2025-03-01T00:00:00.000",
          "2025-04-01T00:00:00.000",
          "2025-05-01T00:00:00.000",
          "2025-06-01T00:00:00.000",
          "2025-07-01T00:00:00.000",
          "2025-08-01T00:00:00.000",
          "2025-09-01T00:00:00.000"
         ],
         "xaxis": "x",
         "y": [
          0,
          0,
          0,
          0,
          4,
          6,
          0,
          0,
          0
         ],
         "yaxis": "y"
        },
        {
         "hovertemplate": "bus_route=QM31<br>month=%{x}<br>ridership=%{y}<extra></extra>",
         "legendgroup": "QM31",
         "line": {
          "color": "#FECB52",
          "dash": "solid"
         },
         "marker": {
          "symbol": "circle"
         },
         "mode": "lines",
         "name": "QM31",
         "showlegend": true,
         "type": "scattergl",
         "x": [
          "2025-01-01T00:00:00.000",
          "2025-02-01T00:00:00.000",
          "2025-03-01T00:00:00.000",
          "2025-04-01T00:00:00.000",
          "2025-05-01T00:00:00.000",
          "2025-06-01T00:00:00.000",
          "2025-07-01T00:00:00.000",
          "2025-08-01T00:00:00.000",
          "2025-09-01T00:00:00.000"
         ],
         "xaxis": "x",
         "y": [
          0,
          0,
          0,
          1,
          4,
          10,
          2,
          4,
          0
         ],
         "yaxis": "y"
        },
        {
         "hovertemplate": "bus_route=QM32<br>month=%{x}<br>ridership=%{y}<extra></extra>",
         "legendgroup": "QM32",
         "line": {
          "color": "#636efa",
          "dash": "solid"
         },
         "marker": {
          "symbol": "circle"
         },
         "mode": "lines",
         "name": "QM32",
         "showlegend": true,
         "type": "scattergl",
         "x": [
          "2025-01-01T00:00:00.000",
          "2025-02-01T00:00:00.000",
          "2025-03-01T00:00:00.000",
          "2025-04-01T00:00:00.000",
          "2025-05-01T00:00:00.000",
          "2025-06-01T00:00:00.000",
          "2025-07-01T00:00:00.000",
          "2025-08-01T00:00:00.000",
          "2025-09-01T00:00:00.000"
         ],
         "xaxis": "x",
         "y": [
          0,
          0,
          0,
          4,
          14,
          16,
          12,
          15,
          0
         ],
         "yaxis": "y"
        },
        {
         "hovertemplate": "bus_route=QM34<br>month=%{x}<br>ridership=%{y}<extra></extra>",
         "legendgroup": "QM34",
         "line": {
          "color": "#EF553B",
          "dash": "solid"
         },
         "marker": {
          "symbol": "circle"
         },
         "mode": "lines",
         "name": "QM34",
         "showlegend": true,
         "type": "scattergl",
         "x": [
          "2025-01-01T00:00:00.000",
          "2025-02-01T00:00:00.000",
          "2025-03-01T00:00:00.000",
          "2025-04-01T00:00:00.000",
          "2025-05-01T00:00:00.000",
          "2025-06-01T00:00:00.000",
          "2025-07-01T00:00:00.000",
          "2025-08-01T00:00:00.000",
          "2025-09-01T00:00:00.000"
         ],
         "xaxis": "x",
         "y": [
          0,
          0,
          0,
          2,
          10,
          10,
          34,
          28,
          0
         ],
         "yaxis": "y"
        },
        {
         "hovertemplate": "bus_route=QM35<br>month=%{x}<br>ridership=%{y}<extra></extra>",
         "legendgroup": "QM35",
         "line": {
          "color": "#00cc96",
          "dash": "solid"
         },
         "marker": {
          "symbol": "circle"
         },
         "mode": "lines",
         "name": "QM35",
         "showlegend": true,
         "type": "scattergl",
         "x": [
          "2025-01-01T00:00:00.000",
          "2025-02-01T00:00:00.000",
          "2025-03-01T00:00:00.000",
          "2025-04-01T00:00:00.000",
          "2025-05-01T00:00:00.000",
          "2025-06-01T00:00:00.000",
          "2025-07-01T00:00:00.000",
          "2025-08-01T00:00:00.000",
          "2025-09-01T00:00:00.000"
         ],
         "xaxis": "x",
         "y": [
          0,
          0,
          0,
          1,
          10,
          8,
          16,
          30,
          0
         ],
         "yaxis": "y"
        },
        {
         "hovertemplate": "bus_route=QM36<br>month=%{x}<br>ridership=%{y}<extra></extra>",
         "legendgroup": "QM36",
         "line": {
          "color": "#ab63fa",
          "dash": "solid"
         },
         "marker": {
          "symbol": "circle"
         },
         "mode": "lines",
         "name": "QM36",
         "showlegend": true,
         "type": "scattergl",
         "x": [
          "2025-01-01T00:00:00.000",
          "2025-02-01T00:00:00.000",
          "2025-03-01T00:00:00.000",
          "2025-04-01T00:00:00.000",
          "2025-05-01T00:00:00.000",
          "2025-06-01T00:00:00.000",
          "2025-07-01T00:00:00.000",
          "2025-08-01T00:00:00.000",
          "2025-09-01T00:00:00.000"
         ],
         "xaxis": "x",
         "y": [
          0,
          0,
          0,
          1,
          0,
          14,
          0,
          2,
          0
         ],
         "yaxis": "y"
        },
        {
         "hovertemplate": "bus_route=QM4<br>month=%{x}<br>ridership=%{y}<extra></extra>",
         "legendgroup": "QM4",
         "line": {
          "color": "#FFA15A",
          "dash": "solid"
         },
         "marker": {
          "symbol": "circle"
         },
         "mode": "lines",
         "name": "QM4",
         "showlegend": true,
         "type": "scattergl",
         "x": [
          "2025-01-01T00:00:00.000",
          "2025-02-01T00:00:00.000",
          "2025-03-01T00:00:00.000",
          "2025-04-01T00:00:00.000",
          "2025-05-01T00:00:00.000",
          "2025-06-01T00:00:00.000",
          "2025-07-01T00:00:00.000",
          "2025-08-01T00:00:00.000",
          "2025-09-01T00:00:00.000"
         ],
         "xaxis": "x",
         "y": [
          0,
          0,
          3,
          12,
          42,
          124,
          70,
          45,
          0
         ],
         "yaxis": "y"
        },
        {
         "hovertemplate": "bus_route=QM40<br>month=%{x}<br>ridership=%{y}<extra></extra>",
         "legendgroup": "QM40",
         "line": {
          "color": "#19d3f3",
          "dash": "solid"
         },
         "marker": {
          "symbol": "circle"
         },
         "mode": "lines",
         "name": "QM40",
         "showlegend": true,
         "type": "scattergl",
         "x": [
          "2025-01-01T00:00:00.000",
          "2025-02-01T00:00:00.000",
          "2025-03-01T00:00:00.000",
          "2025-04-01T00:00:00.000",
          "2025-05-01T00:00:00.000",
          "2025-06-01T00:00:00.000",
          "2025-07-01T00:00:00.000",
          "2025-08-01T00:00:00.000",
          "2025-09-01T00:00:00.000"
         ],
         "xaxis": "x",
         "y": [
          0,
          0,
          0,
          3,
          20,
          12,
          4,
          1,
          0
         ],
         "yaxis": "y"
        },
        {
         "hovertemplate": "bus_route=QM42<br>month=%{x}<br>ridership=%{y}<extra></extra>",
         "legendgroup": "QM42",
         "line": {
          "color": "#FF6692",
          "dash": "solid"
         },
         "marker": {
          "symbol": "circle"
         },
         "mode": "lines",
         "name": "QM42",
         "showlegend": true,
         "type": "scattergl",
         "x": [
          "2025-01-01T00:00:00.000",
          "2025-02-01T00:00:00.000",
          "2025-03-01T00:00:00.000",
          "2025-04-01T00:00:00.000",
          "2025-05-01T00:00:00.000",
          "2025-06-01T00:00:00.000",
          "2025-07-01T00:00:00.000",
          "2025-08-01T00:00:00.000",
          "2025-09-01T00:00:00.000"
         ],
         "xaxis": "x",
         "y": [
          0,
          0,
          0,
          2,
          8,
          4,
          4,
          10,
          0
         ],
         "yaxis": "y"
        },
        {
         "hovertemplate": "bus_route=QM44<br>month=%{x}<br>ridership=%{y}<extra></extra>",
         "legendgroup": "QM44",
         "line": {
          "color": "#B6E880",
          "dash": "solid"
         },
         "marker": {
          "symbol": "circle"
         },
         "mode": "lines",
         "name": "QM44",
         "showlegend": true,
         "type": "scattergl",
         "x": [
          "2025-01-01T00:00:00.000",
          "2025-02-01T00:00:00.000",
          "2025-03-01T00:00:00.000",
          "2025-04-01T00:00:00.000",
          "2025-05-01T00:00:00.000",
          "2025-06-01T00:00:00.000",
          "2025-07-01T00:00:00.000",
          "2025-08-01T00:00:00.000",
          "2025-09-01T00:00:00.000"
         ],
         "xaxis": "x",
         "y": [
          0,
          0,
          1,
          0,
          2,
          4,
          10,
          0,
          0
         ],
         "yaxis": "y"
        },
        {
         "hovertemplate": "bus_route=QM5<br>month=%{x}<br>ridership=%{y}<extra></extra>",
         "legendgroup": "QM5",
         "line": {
          "color": "#FF97FF",
          "dash": "solid"
         },
         "marker": {
          "symbol": "circle"
         },
         "mode": "lines",
         "name": "QM5",
         "showlegend": true,
         "type": "scattergl",
         "x": [
          "2025-01-01T00:00:00.000",
          "2025-02-01T00:00:00.000",
          "2025-03-01T00:00:00.000",
          "2025-04-01T00:00:00.000",
          "2025-05-01T00:00:00.000",
          "2025-06-01T00:00:00.000",
          "2025-07-01T00:00:00.000",
          "2025-08-01T00:00:00.000",
          "2025-09-01T00:00:00.000"
         ],
         "xaxis": "x",
         "y": [
          1,
          0,
          8,
          51,
          152,
          223,
          305,
          342,
          0
         ],
         "yaxis": "y"
        },
        {
         "hovertemplate": "bus_route=QM6<br>month=%{x}<br>ridership=%{y}<extra></extra>",
         "legendgroup": "QM6",
         "line": {
          "color": "#FECB52",
          "dash": "solid"
         },
         "marker": {
          "symbol": "circle"
         },
         "mode": "lines",
         "name": "QM6",
         "showlegend": true,
         "type": "scattergl",
         "x": [
          "2025-01-01T00:00:00.000",
          "2025-02-01T00:00:00.000",
          "2025-03-01T00:00:00.000",
          "2025-04-01T00:00:00.000",
          "2025-05-01T00:00:00.000",
          "2025-06-01T00:00:00.000",
          "2025-07-01T00:00:00.000",
          "2025-08-01T00:00:00.000",
          "2025-09-01T00:00:00.000"
         ],
         "xaxis": "x",
         "y": [
          0,
          0,
          10,
          16,
          114,
          108,
          104,
          112,
          0
         ],
         "yaxis": "y"
        },
        {
         "hovertemplate": "bus_route=QM7<br>month=%{x}<br>ridership=%{y}<extra></extra>",
         "legendgroup": "QM7",
         "line": {
          "color": "#636efa",
          "dash": "solid"
         },
         "marker": {
          "symbol": "circle"
         },
         "mode": "lines",
         "name": "QM7",
         "showlegend": true,
         "type": "scattergl",
         "x": [
          "2025-01-01T00:00:00.000",
          "2025-02-01T00:00:00.000",
          "2025-03-01T00:00:00.000",
          "2025-04-01T00:00:00.000",
          "2025-05-01T00:00:00.000",
          "2025-06-01T00:00:00.000",
          "2025-07-01T00:00:00.000",
          "2025-08-01T00:00:00.000",
          "2025-09-01T00:00:00.000"
         ],
         "xaxis": "x",
         "y": [
          0,
          0,
          1,
          7,
          30,
          34,
          32,
          33,
          0
         ],
         "yaxis": "y"
        },
        {
         "hovertemplate": "bus_route=QM8<br>month=%{x}<br>ridership=%{y}<extra></extra>",
         "legendgroup": "QM8",
         "line": {
          "color": "#EF553B",
          "dash": "solid"
         },
         "marker": {
          "symbol": "circle"
         },
         "mode": "lines",
         "name": "QM8",
         "showlegend": true,
         "type": "scattergl",
         "x": [
          "2025-01-01T00:00:00.000",
          "2025-02-01T00:00:00.000",
          "2025-03-01T00:00:00.000",
          "2025-04-01T00:00:00.000",
          "2025-05-01T00:00:00.000",
          "2025-06-01T00:00:00.000",
          "2025-07-01T00:00:00.000",
          "2025-08-01T00:00:00.000",
          "2025-09-01T00:00:00.000"
         ],
         "xaxis": "x",
         "y": [
          0,
          0,
          0,
          5,
          12,
          30,
          28,
          32,
          0
         ],
         "yaxis": "y"
        },
        {
         "hovertemplate": "bus_route=S40<br>month=%{x}<br>ridership=%{y}<extra></extra>",
         "legendgroup": "S40",
         "line": {
          "color": "#00cc96",
          "dash": "solid"
         },
         "marker": {
          "symbol": "circle"
         },
         "mode": "lines",
         "name": "S40",
         "showlegend": true,
         "type": "scattergl",
         "x": [
          "2025-01-01T00:00:00.000",
          "2025-02-01T00:00:00.000",
          "2025-03-01T00:00:00.000",
          "2025-04-01T00:00:00.000",
          "2025-05-01T00:00:00.000",
          "2025-06-01T00:00:00.000",
          "2025-07-01T00:00:00.000",
          "2025-08-01T00:00:00.000",
          "2025-09-01T00:00:00.000"
         ],
         "xaxis": "x",
         "y": [
          2486,
          2129,
          3347,
          3550,
          6703,
          6882,
          7592,
          6739,
          0
         ],
         "yaxis": "y"
        },
        {
         "hovertemplate": "bus_route=S42<br>month=%{x}<br>ridership=%{y}<extra></extra>",
         "legendgroup": "S42",
         "line": {
          "color": "#ab63fa",
          "dash": "solid"
         },
         "marker": {
          "symbol": "circle"
         },
         "mode": "lines",
         "name": "S42",
         "showlegend": true,
         "type": "scattergl",
         "x": [
          "2025-01-01T00:00:00.000",
          "2025-02-01T00:00:00.000",
          "2025-03-01T00:00:00.000",
          "2025-04-01T00:00:00.000",
          "2025-05-01T00:00:00.000",
          "2025-06-01T00:00:00.000",
          "2025-07-01T00:00:00.000",
          "2025-08-01T00:00:00.000",
          "2025-09-01T00:00:00.000"
         ],
         "xaxis": "x",
         "y": [
          395,
          418,
          603,
          574,
          985,
          1030,
          929,
          730,
          0
         ],
         "yaxis": "y"
        },
        {
         "hovertemplate": "bus_route=S44<br>month=%{x}<br>ridership=%{y}<extra></extra>",
         "legendgroup": "S44",
         "line": {
          "color": "#FFA15A",
          "dash": "solid"
         },
         "marker": {
          "symbol": "circle"
         },
         "mode": "lines",
         "name": "S44",
         "showlegend": true,
         "type": "scattergl",
         "x": [
          "2025-01-01T00:00:00.000",
          "2025-02-01T00:00:00.000",
          "2025-03-01T00:00:00.000",
          "2025-04-01T00:00:00.000",
          "2025-05-01T00:00:00.000",
          "2025-06-01T00:00:00.000",
          "2025-07-01T00:00:00.000",
          "2025-08-01T00:00:00.000",
          "2025-09-01T00:00:00.000"
         ],
         "xaxis": "x",
         "y": [
          3494,
          3071,
          5197,
          5302,
          10248,
          10385,
          10650,
          9038,
          0
         ],
         "yaxis": "y"
        },
        {
         "hovertemplate": "bus_route=S46<br>month=%{x}<br>ridership=%{y}<extra></extra>",
         "legendgroup": "S46",
         "line": {
          "color": "#19d3f3",
          "dash": "solid"
         },
         "marker": {
          "symbol": "circle"
         },
         "mode": "lines",
         "name": "S46",
         "showlegend": true,
         "type": "scattergl",
         "x": [
          "2025-01-01T00:00:00.000",
          "2025-02-01T00:00:00.000",
          "2025-03-01T00:00:00.000",
          "2025-04-01T00:00:00.000",
          "2025-05-01T00:00:00.000",
          "2025-06-01T00:00:00.000",
          "2025-07-01T00:00:00.000",
          "2025-08-01T00:00:00.000",
          "2025-09-01T00:00:00.000"
         ],
         "xaxis": "x",
         "y": [
          3823,
          3254,
          5543,
          5565,
          10447,
          10291,
          11593,
          10125,
          0
         ],
         "yaxis": "y"
        },
        {
         "hovertemplate": "bus_route=S48<br>month=%{x}<br>ridership=%{y}<extra></extra>",
         "legendgroup": "S48",
         "line": {
          "color": "#FF6692",
          "dash": "solid"
         },
         "marker": {
          "symbol": "circle"
         },
         "mode": "lines",
         "name": "S48",
         "showlegend": true,
         "type": "scattergl",
         "x": [
          "2025-01-01T00:00:00.000",
          "2025-02-01T00:00:00.000",
          "2025-03-01T00:00:00.000",
          "2025-04-01T00:00:00.000",
          "2025-05-01T00:00:00.000",
          "2025-06-01T00:00:00.000",
          "2025-07-01T00:00:00.000",
          "2025-08-01T00:00:00.000",
          "2025-09-01T00:00:00.000"
         ],
         "xaxis": "x",
         "y": [
          3536,
          2985,
          5076,
          5266,
          9241,
          9279,
          9952,
          8673,
          0
         ],
         "yaxis": "y"
        },
        {
         "hovertemplate": "bus_route=S51<br>month=%{x}<br>ridership=%{y}<extra></extra>",
         "legendgroup": "S51",
         "line": {
          "color": "#B6E880",
          "dash": "solid"
         },
         "marker": {
          "symbol": "circle"
         },
         "mode": "lines",
         "name": "S51",
         "showlegend": true,
         "type": "scattergl",
         "x": [
          "2025-01-01T00:00:00.000",
          "2025-02-01T00:00:00.000",
          "2025-03-01T00:00:00.000",
          "2025-04-01T00:00:00.000",
          "2025-05-01T00:00:00.000",
          "2025-06-01T00:00:00.000",
          "2025-07-01T00:00:00.000",
          "2025-08-01T00:00:00.000",
          "2025-09-01T00:00:00.000"
         ],
         "xaxis": "x",
         "y": [
          2508,
          2369,
          3796,
          3861,
          7286,
          7624,
          7774,
          6928,
          0
         ],
         "yaxis": "y"
        },
        {
         "hovertemplate": "bus_route=S52<br>month=%{x}<br>ridership=%{y}<extra></extra>",
         "legendgroup": "S52",
         "line": {
          "color": "#FF97FF",
          "dash": "solid"
         },
         "marker": {
          "symbol": "circle"
         },
         "mode": "lines",
         "name": "S52",
         "showlegend": true,
         "type": "scattergl",
         "x": [
          "2025-01-01T00:00:00.000",
          "2025-02-01T00:00:00.000",
          "2025-03-01T00:00:00.000",
          "2025-04-01T00:00:00.000",
          "2025-05-01T00:00:00.000",
          "2025-06-01T00:00:00.000",
          "2025-07-01T00:00:00.000",
          "2025-08-01T00:00:00.000",
          "2025-09-01T00:00:00.000"
         ],
         "xaxis": "x",
         "y": [
          2392,
          2154,
          3716,
          3539,
          6909,
          6729,
          7196,
          6640,
          0
         ],
         "yaxis": "y"
        },
        {
         "hovertemplate": "bus_route=S53<br>month=%{x}<br>ridership=%{y}<extra></extra>",
         "legendgroup": "S53",
         "line": {
          "color": "#FECB52",
          "dash": "solid"
         },
         "marker": {
          "symbol": "circle"
         },
         "mode": "lines",
         "name": "S53",
         "showlegend": true,
         "type": "scattergl",
         "x": [
          "2025-01-01T00:00:00.000",
          "2025-02-01T00:00:00.000",
          "2025-03-01T00:00:00.000",
          "2025-04-01T00:00:00.000",
          "2025-05-01T00:00:00.000",
          "2025-06-01T00:00:00.000",
          "2025-07-01T00:00:00.000",
          "2025-08-01T00:00:00.000",
          "2025-09-01T00:00:00.000"
         ],
         "xaxis": "x",
         "y": [
          8007,
          7124,
          11971,
          11529,
          23773,
          22733,
          22559,
          19507,
          0
         ],
         "yaxis": "y"
        },
        {
         "hovertemplate": "bus_route=S54<br>month=%{x}<br>ridership=%{y}<extra></extra>",
         "legendgroup": "S54",
         "line": {
          "color": "#636efa",
          "dash": "solid"
         },
         "marker": {
          "symbol": "circle"
         },
         "mode": "lines",
         "name": "S54",
         "showlegend": true,
         "type": "scattergl",
         "x": [
          "2025-01-01T00:00:00.000",
          "2025-02-01T00:00:00.000",
          "2025-03-01T00:00:00.000",
          "2025-04-01T00:00:00.000",
          "2025-05-01T00:00:00.000",
          "2025-06-01T00:00:00.000",
          "2025-07-01T00:00:00.000",
          "2025-08-01T00:00:00.000",
          "2025-09-01T00:00:00.000"
         ],
         "xaxis": "x",
         "y": [
          512,
          526,
          726,
          840,
          1328,
          1246,
          1483,
          1435,
          0
         ],
         "yaxis": "y"
        },
        {
         "hovertemplate": "bus_route=S55<br>month=%{x}<br>ridership=%{y}<extra></extra>",
         "legendgroup": "S55",
         "line": {
          "color": "#EF553B",
          "dash": "solid"
         },
         "marker": {
          "symbol": "circle"
         },
         "mode": "lines",
         "name": "S55",
         "showlegend": true,
         "type": "scattergl",
         "x": [
          "2025-01-01T00:00:00.000",
          "2025-02-01T00:00:00.000",
          "2025-03-01T00:00:00.000",
          "2025-04-01T00:00:00.000",
          "2025-05-01T00:00:00.000",
          "2025-06-01T00:00:00.000",
          "2025-07-01T00:00:00.000",
          "2025-08-01T00:00:00.000",
          "2025-09-01T00:00:00.000"
         ],
         "xaxis": "x",
         "y": [
          179,
          164,
          253,
          291,
          539,
          443,
          624,
          463,
          0
         ],
         "yaxis": "y"
        },
        {
         "hovertemplate": "bus_route=S56<br>month=%{x}<br>ridership=%{y}<extra></extra>",
         "legendgroup": "S56",
         "line": {
          "color": "#00cc96",
          "dash": "solid"
         },
         "marker": {
          "symbol": "circle"
         },
         "mode": "lines",
         "name": "S56",
         "showlegend": true,
         "type": "scattergl",
         "x": [
          "2025-01-01T00:00:00.000",
          "2025-02-01T00:00:00.000",
          "2025-03-01T00:00:00.000",
          "2025-04-01T00:00:00.000",
          "2025-05-01T00:00:00.000",
          "2025-06-01T00:00:00.000",
          "2025-07-01T00:00:00.000",
          "2025-08-01T00:00:00.000",
          "2025-09-01T00:00:00.000"
         ],
         "xaxis": "x",
         "y": [
          310,
          263,
          417,
          458,
          812,
          782,
          876,
          762,
          0
         ],
         "yaxis": "y"
        },
        {
         "hovertemplate": "bus_route=S57<br>month=%{x}<br>ridership=%{y}<extra></extra>",
         "legendgroup": "S57",
         "line": {
          "color": "#ab63fa",
          "dash": "solid"
         },
         "marker": {
          "symbol": "circle"
         },
         "mode": "lines",
         "name": "S57",
         "showlegend": true,
         "type": "scattergl",
         "x": [
          "2025-01-01T00:00:00.000",
          "2025-02-01T00:00:00.000",
          "2025-03-01T00:00:00.000",
          "2025-04-01T00:00:00.000",
          "2025-05-01T00:00:00.000",
          "2025-06-01T00:00:00.000",
          "2025-07-01T00:00:00.000",
          "2025-08-01T00:00:00.000",
          "2025-09-01T00:00:00.000"
         ],
         "xaxis": "x",
         "y": [
          1012,
          1038,
          1751,
          1808,
          3288,
          3495,
          4012,
          3399,
          0
         ],
         "yaxis": "y"
        },
        {
         "hovertemplate": "bus_route=S59<br>month=%{x}<br>ridership=%{y}<extra></extra>",
         "legendgroup": "S59",
         "line": {
          "color": "#FFA15A",
          "dash": "solid"
         },
         "marker": {
          "symbol": "circle"
         },
         "mode": "lines",
         "name": "S59",
         "showlegend": true,
         "type": "scattergl",
         "x": [
          "2025-01-01T00:00:00.000",
          "2025-02-01T00:00:00.000",
          "2025-03-01T00:00:00.000",
          "2025-04-01T00:00:00.000",
          "2025-05-01T00:00:00.000",
          "2025-06-01T00:00:00.000",
          "2025-07-01T00:00:00.000",
          "2025-08-01T00:00:00.000",
          "2025-09-01T00:00:00.000"
         ],
         "xaxis": "x",
         "y": [
          1967,
          1782,
          2992,
          2994,
          5840,
          5635,
          5803,
          4983,
          0
         ],
         "yaxis": "y"
        },
        {
         "hovertemplate": "bus_route=S61<br>month=%{x}<br>ridership=%{y}<extra></extra>",
         "legendgroup": "S61",
         "line": {
          "color": "#19d3f3",
          "dash": "solid"
         },
         "marker": {
          "symbol": "circle"
         },
         "mode": "lines",
         "name": "S61",
         "showlegend": true,
         "type": "scattergl",
         "x": [
          "2025-01-01T00:00:00.000",
          "2025-02-01T00:00:00.000",
          "2025-03-01T00:00:00.000",
          "2025-04-01T00:00:00.000",
          "2025-05-01T00:00:00.000",
          "2025-06-01T00:00:00.000",
          "2025-07-01T00:00:00.000",
          "2025-08-01T00:00:00.000",
          "2025-09-01T00:00:00.000"
         ],
         "xaxis": "x",
         "y": [
          2765,
          2410,
          3931,
          3899,
          7649,
          7678,
          7882,
          6882,
          0
         ],
         "yaxis": "y"
        },
        {
         "hovertemplate": "bus_route=S62<br>month=%{x}<br>ridership=%{y}<extra></extra>",
         "legendgroup": "S62",
         "line": {
          "color": "#FF6692",
          "dash": "solid"
         },
         "marker": {
          "symbol": "circle"
         },
         "mode": "lines",
         "name": "S62",
         "showlegend": true,
         "type": "scattergl",
         "x": [
          "2025-01-01T00:00:00.000",
          "2025-02-01T00:00:00.000",
          "2025-03-01T00:00:00.000",
          "2025-04-01T00:00:00.000",
          "2025-05-01T00:00:00.000",
          "2025-06-01T00:00:00.000",
          "2025-07-01T00:00:00.000",
          "2025-08-01T00:00:00.000",
          "2025-09-01T00:00:00.000"
         ],
         "xaxis": "x",
         "y": [
          2569,
          2351,
          4111,
          3889,
          8148,
          8003,
          7737,
          6919,
          0
         ],
         "yaxis": "y"
        },
        {
         "hovertemplate": "bus_route=S66<br>month=%{x}<br>ridership=%{y}<extra></extra>",
         "legendgroup": "S66",
         "line": {
          "color": "#B6E880",
          "dash": "solid"
         },
         "marker": {
          "symbol": "circle"
         },
         "mode": "lines",
         "name": "S66",
         "showlegend": true,
         "type": "scattergl",
         "x": [
          "2025-01-01T00:00:00.000",
          "2025-02-01T00:00:00.000",
          "2025-03-01T00:00:00.000",
          "2025-04-01T00:00:00.000",
          "2025-05-01T00:00:00.000",
          "2025-06-01T00:00:00.000",
          "2025-07-01T00:00:00.000",
          "2025-08-01T00:00:00.000",
          "2025-09-01T00:00:00.000"
         ],
         "xaxis": "x",
         "y": [
          814,
          739,
          1047,
          1155,
          1888,
          1738,
          2026,
          1795,
          0
         ],
         "yaxis": "y"
        },
        {
         "hovertemplate": "bus_route=S74<br>month=%{x}<br>ridership=%{y}<extra></extra>",
         "legendgroup": "S74",
         "line": {
          "color": "#FF97FF",
          "dash": "solid"
         },
         "marker": {
          "symbol": "circle"
         },
         "mode": "lines",
         "name": "S74",
         "showlegend": true,
         "type": "scattergl",
         "x": [
          "2025-01-01T00:00:00.000",
          "2025-02-01T00:00:00.000",
          "2025-03-01T00:00:00.000",
          "2025-04-01T00:00:00.000",
          "2025-05-01T00:00:00.000",
          "2025-06-01T00:00:00.000",
          "2025-07-01T00:00:00.000",
          "2025-08-01T00:00:00.000",
          "2025-09-01T00:00:00.000"
         ],
         "xaxis": "x",
         "y": [
          3549,
          3131,
          5101,
          5193,
          10884,
          10863,
          11229,
          9307,
          0
         ],
         "yaxis": "y"
        },
        {
         "hovertemplate": "bus_route=S76<br>month=%{x}<br>ridership=%{y}<extra></extra>",
         "legendgroup": "S76",
         "line": {
          "color": "#FECB52",
          "dash": "solid"
         },
         "marker": {
          "symbol": "circle"
         },
         "mode": "lines",
         "name": "S76",
         "showlegend": true,
         "type": "scattergl",
         "x": [
          "2025-01-01T00:00:00.000",
          "2025-02-01T00:00:00.000",
          "2025-03-01T00:00:00.000",
          "2025-04-01T00:00:00.000",
          "2025-05-01T00:00:00.000",
          "2025-06-01T00:00:00.000",
          "2025-07-01T00:00:00.000",
          "2025-08-01T00:00:00.000",
          "2025-09-01T00:00:00.000"
         ],
         "xaxis": "x",
         "y": [
          2478,
          2457,
          3856,
          3677,
          6918,
          6365,
          7435,
          6762,
          0
         ],
         "yaxis": "y"
        },
        {
         "hovertemplate": "bus_route=S78<br>month=%{x}<br>ridership=%{y}<extra></extra>",
         "legendgroup": "S78",
         "line": {
          "color": "#636efa",
          "dash": "solid"
         },
         "marker": {
          "symbol": "circle"
         },
         "mode": "lines",
         "name": "S78",
         "showlegend": true,
         "type": "scattergl",
         "x": [
          "2025-01-01T00:00:00.000",
          "2025-02-01T00:00:00.000",
          "2025-03-01T00:00:00.000",
          "2025-04-01T00:00:00.000",
          "2025-05-01T00:00:00.000",
          "2025-06-01T00:00:00.000",
          "2025-07-01T00:00:00.000",
          "2025-08-01T00:00:00.000",
          "2025-09-01T00:00:00.000"
         ],
         "xaxis": "x",
         "y": [
          4263,
          3822,
          6003,
          6251,
          12564,
          12215,
          13521,
          11544,
          0
         ],
         "yaxis": "y"
        },
        {
         "hovertemplate": "bus_route=S79+<br>month=%{x}<br>ridership=%{y}<extra></extra>",
         "legendgroup": "S79+",
         "line": {
          "color": "#EF553B",
          "dash": "solid"
         },
         "marker": {
          "symbol": "circle"
         },
         "mode": "lines",
         "name": "S79+",
         "showlegend": true,
         "type": "scattergl",
         "x": [
          "2025-01-01T00:00:00.000",
          "2025-02-01T00:00:00.000",
          "2025-03-01T00:00:00.000",
          "2025-04-01T00:00:00.000",
          "2025-05-01T00:00:00.000",
          "2025-06-01T00:00:00.000",
          "2025-07-01T00:00:00.000",
          "2025-08-01T00:00:00.000",
          "2025-09-01T00:00:00.000"
         ],
         "xaxis": "x",
         "y": [
          14426,
          11865,
          19384,
          20140,
          39043,
          39205,
          41138,
          34282,
          0
         ],
         "yaxis": "y"
        },
        {
         "hovertemplate": "bus_route=S81<br>month=%{x}<br>ridership=%{y}<extra></extra>",
         "legendgroup": "S81",
         "line": {
          "color": "#00cc96",
          "dash": "solid"
         },
         "marker": {
          "symbol": "circle"
         },
         "mode": "lines",
         "name": "S81",
         "showlegend": true,
         "type": "scattergl",
         "x": [
          "2025-01-01T00:00:00.000",
          "2025-02-01T00:00:00.000",
          "2025-03-01T00:00:00.000",
          "2025-04-01T00:00:00.000",
          "2025-05-01T00:00:00.000",
          "2025-06-01T00:00:00.000",
          "2025-07-01T00:00:00.000",
          "2025-08-01T00:00:00.000",
          "2025-09-01T00:00:00.000"
         ],
         "xaxis": "x",
         "y": [
          128,
          164,
          232,
          232,
          435,
          327,
          482,
          388,
          0
         ],
         "yaxis": "y"
        },
        {
         "hovertemplate": "bus_route=S84<br>month=%{x}<br>ridership=%{y}<extra></extra>",
         "legendgroup": "S84",
         "line": {
          "color": "#ab63fa",
          "dash": "solid"
         },
         "marker": {
          "symbol": "circle"
         },
         "mode": "lines",
         "name": "S84",
         "showlegend": true,
         "type": "scattergl",
         "x": [
          "2025-01-01T00:00:00.000",
          "2025-02-01T00:00:00.000",
          "2025-03-01T00:00:00.000",
          "2025-04-01T00:00:00.000",
          "2025-05-01T00:00:00.000",
          "2025-06-01T00:00:00.000",
          "2025-07-01T00:00:00.000",
          "2025-08-01T00:00:00.000",
          "2025-09-01T00:00:00.000"
         ],
         "xaxis": "x",
         "y": [
          127,
          118,
          195,
          233,
          426,
          480,
          497,
          451,
          0
         ],
         "yaxis": "y"
        },
        {
         "hovertemplate": "bus_route=S86<br>month=%{x}<br>ridership=%{y}<extra></extra>",
         "legendgroup": "S86",
         "line": {
          "color": "#FFA15A",
          "dash": "solid"
         },
         "marker": {
          "symbol": "circle"
         },
         "mode": "lines",
         "name": "S86",
         "showlegend": true,
         "type": "scattergl",
         "x": [
          "2025-01-01T00:00:00.000",
          "2025-02-01T00:00:00.000",
          "2025-03-01T00:00:00.000",
          "2025-04-01T00:00:00.000",
          "2025-05-01T00:00:00.000",
          "2025-06-01T00:00:00.000",
          "2025-07-01T00:00:00.000",
          "2025-08-01T00:00:00.000",
          "2025-09-01T00:00:00.000"
         ],
         "xaxis": "x",
         "y": [
          100,
          108,
          149,
          97,
          236,
          166,
          269,
          255,
          0
         ],
         "yaxis": "y"
        },
        {
         "hovertemplate": "bus_route=S89<br>month=%{x}<br>ridership=%{y}<extra></extra>",
         "legendgroup": "S89",
         "line": {
          "color": "#19d3f3",
          "dash": "solid"
         },
         "marker": {
          "symbol": "circle"
         },
         "mode": "lines",
         "name": "S89",
         "showlegend": true,
         "type": "scattergl",
         "x": [
          "2025-01-01T00:00:00.000",
          "2025-02-01T00:00:00.000",
          "2025-03-01T00:00:00.000",
          "2025-04-01T00:00:00.000",
          "2025-05-01T00:00:00.000",
          "2025-06-01T00:00:00.000",
          "2025-07-01T00:00:00.000",
          "2025-08-01T00:00:00.000",
          "2025-09-01T00:00:00.000"
         ],
         "xaxis": "x",
         "y": [
          161,
          175,
          347,
          316,
          715,
          647,
          699,
          601,
          0
         ],
         "yaxis": "y"
        },
        {
         "hovertemplate": "bus_route=S90<br>month=%{x}<br>ridership=%{y}<extra></extra>",
         "legendgroup": "S90",
         "line": {
          "color": "#FF6692",
          "dash": "solid"
         },
         "marker": {
          "symbol": "circle"
         },
         "mode": "lines",
         "name": "S90",
         "showlegend": true,
         "type": "scattergl",
         "x": [
          "2025-01-01T00:00:00.000",
          "2025-02-01T00:00:00.000",
          "2025-03-01T00:00:00.000",
          "2025-04-01T00:00:00.000",
          "2025-05-01T00:00:00.000",
          "2025-06-01T00:00:00.000",
          "2025-07-01T00:00:00.000",
          "2025-08-01T00:00:00.000",
          "2025-09-01T00:00:00.000"
         ],
         "xaxis": "x",
         "y": [
          498,
          437,
          602,
          611,
          1250,
          1289,
          1163,
          1000,
          0
         ],
         "yaxis": "y"
        },
        {
         "hovertemplate": "bus_route=S91<br>month=%{x}<br>ridership=%{y}<extra></extra>",
         "legendgroup": "S91",
         "line": {
          "color": "#B6E880",
          "dash": "solid"
         },
         "marker": {
          "symbol": "circle"
         },
         "mode": "lines",
         "name": "S91",
         "showlegend": true,
         "type": "scattergl",
         "x": [
          "2025-01-01T00:00:00.000",
          "2025-02-01T00:00:00.000",
          "2025-03-01T00:00:00.000",
          "2025-04-01T00:00:00.000",
          "2025-05-01T00:00:00.000",
          "2025-06-01T00:00:00.000",
          "2025-07-01T00:00:00.000",
          "2025-08-01T00:00:00.000",
          "2025-09-01T00:00:00.000"
         ],
         "xaxis": "x",
         "y": [
          408,
          394,
          575,
          635,
          1177,
          1244,
          1412,
          1106,
          0
         ],
         "yaxis": "y"
        },
        {
         "hovertemplate": "bus_route=S92<br>month=%{x}<br>ridership=%{y}<extra></extra>",
         "legendgroup": "S92",
         "line": {
          "color": "#FF97FF",
          "dash": "solid"
         },
         "marker": {
          "symbol": "circle"
         },
         "mode": "lines",
         "name": "S92",
         "showlegend": true,
         "type": "scattergl",
         "x": [
          "2025-01-01T00:00:00.000",
          "2025-02-01T00:00:00.000",
          "2025-03-01T00:00:00.000",
          "2025-04-01T00:00:00.000",
          "2025-05-01T00:00:00.000",
          "2025-06-01T00:00:00.000",
          "2025-07-01T00:00:00.000",
          "2025-08-01T00:00:00.000",
          "2025-09-01T00:00:00.000"
         ],
         "xaxis": "x",
         "y": [
          404,
          353,
          574,
          585,
          1159,
          1167,
          1126,
          989,
          0
         ],
         "yaxis": "y"
        },
        {
         "hovertemplate": "bus_route=S93<br>month=%{x}<br>ridership=%{y}<extra></extra>",
         "legendgroup": "S93",
         "line": {
          "color": "#FECB52",
          "dash": "solid"
         },
         "marker": {
          "symbol": "circle"
         },
         "mode": "lines",
         "name": "S93",
         "showlegend": true,
         "type": "scattergl",
         "x": [
          "2025-01-01T00:00:00.000",
          "2025-02-01T00:00:00.000",
          "2025-03-01T00:00:00.000",
          "2025-04-01T00:00:00.000",
          "2025-05-01T00:00:00.000",
          "2025-06-01T00:00:00.000",
          "2025-07-01T00:00:00.000",
          "2025-08-01T00:00:00.000",
          "2025-09-01T00:00:00.000"
         ],
         "xaxis": "x",
         "y": [
          3366,
          3659,
          5500,
          5810,
          10607,
          9848,
          9609,
          8762,
          0
         ],
         "yaxis": "y"
        },
        {
         "hovertemplate": "bus_route=S94<br>month=%{x}<br>ridership=%{y}<extra></extra>",
         "legendgroup": "S94",
         "line": {
          "color": "#636efa",
          "dash": "solid"
         },
         "marker": {
          "symbol": "circle"
         },
         "mode": "lines",
         "name": "S94",
         "showlegend": true,
         "type": "scattergl",
         "x": [
          "2025-01-01T00:00:00.000",
          "2025-02-01T00:00:00.000",
          "2025-03-01T00:00:00.000",
          "2025-04-01T00:00:00.000",
          "2025-05-01T00:00:00.000",
          "2025-06-01T00:00:00.000",
          "2025-07-01T00:00:00.000",
          "2025-08-01T00:00:00.000",
          "2025-09-01T00:00:00.000"
         ],
         "xaxis": "x",
         "y": [
          344,
          341,
          570,
          682,
          1330,
          1277,
          1295,
          1049,
          0
         ],
         "yaxis": "y"
        },
        {
         "hovertemplate": "bus_route=S96<br>month=%{x}<br>ridership=%{y}<extra></extra>",
         "legendgroup": "S96",
         "line": {
          "color": "#EF553B",
          "dash": "solid"
         },
         "marker": {
          "symbol": "circle"
         },
         "mode": "lines",
         "name": "S96",
         "showlegend": true,
         "type": "scattergl",
         "x": [
          "2025-01-01T00:00:00.000",
          "2025-02-01T00:00:00.000",
          "2025-03-01T00:00:00.000",
          "2025-04-01T00:00:00.000",
          "2025-05-01T00:00:00.000",
          "2025-06-01T00:00:00.000",
          "2025-07-01T00:00:00.000",
          "2025-08-01T00:00:00.000",
          "2025-09-01T00:00:00.000"
         ],
         "xaxis": "x",
         "y": [
          514,
          442,
          694,
          724,
          1317,
          1313,
          1546,
          1319,
          0
         ],
         "yaxis": "y"
        },
        {
         "hovertemplate": "bus_route=S98<br>month=%{x}<br>ridership=%{y}<extra></extra>",
         "legendgroup": "S98",
         "line": {
          "color": "#00cc96",
          "dash": "solid"
         },
         "marker": {
          "symbol": "circle"
         },
         "mode": "lines",
         "name": "S98",
         "showlegend": true,
         "type": "scattergl",
         "x": [
          "2025-01-01T00:00:00.000",
          "2025-02-01T00:00:00.000",
          "2025-03-01T00:00:00.000",
          "2025-04-01T00:00:00.000",
          "2025-05-01T00:00:00.000",
          "2025-06-01T00:00:00.000",
          "2025-07-01T00:00:00.000",
          "2025-08-01T00:00:00.000",
          "2025-09-01T00:00:00.000"
         ],
         "xaxis": "x",
         "y": [
          547,
          487,
          749,
          699,
          1404,
          1257,
          1266,
          1157,
          0
         ],
         "yaxis": "y"
        },
        {
         "hovertemplate": "bus_route=SIM1<br>month=%{x}<br>ridership=%{y}<extra></extra>",
         "legendgroup": "SIM1",
         "line": {
          "color": "#ab63fa",
          "dash": "solid"
         },
         "marker": {
          "symbol": "circle"
         },
         "mode": "lines",
         "name": "SIM1",
         "showlegend": true,
         "type": "scattergl",
         "x": [
          "2025-01-01T00:00:00.000",
          "2025-02-01T00:00:00.000",
          "2025-03-01T00:00:00.000",
          "2025-04-01T00:00:00.000",
          "2025-05-01T00:00:00.000",
          "2025-06-01T00:00:00.000",
          "2025-07-01T00:00:00.000",
          "2025-08-01T00:00:00.000",
          "2025-09-01T00:00:00.000"
         ],
         "xaxis": "x",
         "y": [
          0,
          0,
          16,
          57,
          130,
          196,
          282,
          282,
          0
         ],
         "yaxis": "y"
        },
        {
         "hovertemplate": "bus_route=SIM10<br>month=%{x}<br>ridership=%{y}<extra></extra>",
         "legendgroup": "SIM10",
         "line": {
          "color": "#FFA15A",
          "dash": "solid"
         },
         "marker": {
          "symbol": "circle"
         },
         "mode": "lines",
         "name": "SIM10",
         "showlegend": true,
         "type": "scattergl",
         "x": [
          "2025-01-01T00:00:00.000",
          "2025-02-01T00:00:00.000",
          "2025-03-01T00:00:00.000",
          "2025-04-01T00:00:00.000",
          "2025-05-01T00:00:00.000",
          "2025-06-01T00:00:00.000",
          "2025-07-01T00:00:00.000",
          "2025-08-01T00:00:00.000",
          "2025-09-01T00:00:00.000"
         ],
         "xaxis": "x",
         "y": [
          0,
          0,
          1,
          25,
          70,
          166,
          200,
          239,
          0
         ],
         "yaxis": "y"
        },
        {
         "hovertemplate": "bus_route=SIM11<br>month=%{x}<br>ridership=%{y}<extra></extra>",
         "legendgroup": "SIM11",
         "line": {
          "color": "#19d3f3",
          "dash": "solid"
         },
         "marker": {
          "symbol": "circle"
         },
         "mode": "lines",
         "name": "SIM11",
         "showlegend": true,
         "type": "scattergl",
         "x": [
          "2025-01-01T00:00:00.000",
          "2025-02-01T00:00:00.000",
          "2025-03-01T00:00:00.000",
          "2025-04-01T00:00:00.000",
          "2025-05-01T00:00:00.000",
          "2025-06-01T00:00:00.000",
          "2025-07-01T00:00:00.000",
          "2025-08-01T00:00:00.000",
          "2025-09-01T00:00:00.000"
         ],
         "xaxis": "x",
         "y": [
          0,
          0,
          3,
          48,
          86,
          34,
          20,
          46,
          0
         ],
         "yaxis": "y"
        },
        {
         "hovertemplate": "bus_route=SIM15<br>month=%{x}<br>ridership=%{y}<extra></extra>",
         "legendgroup": "SIM15",
         "line": {
          "color": "#FF6692",
          "dash": "solid"
         },
         "marker": {
          "symbol": "circle"
         },
         "mode": "lines",
         "name": "SIM15",
         "showlegend": true,
         "type": "scattergl",
         "x": [
          "2025-01-01T00:00:00.000",
          "2025-02-01T00:00:00.000",
          "2025-03-01T00:00:00.000",
          "2025-04-01T00:00:00.000",
          "2025-05-01T00:00:00.000",
          "2025-06-01T00:00:00.000",
          "2025-07-01T00:00:00.000",
          "2025-08-01T00:00:00.000",
          "2025-09-01T00:00:00.000"
         ],
         "xaxis": "x",
         "y": [
          0,
          0,
          7,
          32,
          94,
          104,
          136,
          119,
          0
         ],
         "yaxis": "y"
        },
        {
         "hovertemplate": "bus_route=SIM1C<br>month=%{x}<br>ridership=%{y}<extra></extra>",
         "legendgroup": "SIM1C",
         "line": {
          "color": "#B6E880",
          "dash": "solid"
         },
         "marker": {
          "symbol": "circle"
         },
         "mode": "lines",
         "name": "SIM1C",
         "showlegend": true,
         "type": "scattergl",
         "x": [
          "2025-01-01T00:00:00.000",
          "2025-02-01T00:00:00.000",
          "2025-03-01T00:00:00.000",
          "2025-04-01T00:00:00.000",
          "2025-05-01T00:00:00.000",
          "2025-06-01T00:00:00.000",
          "2025-07-01T00:00:00.000",
          "2025-08-01T00:00:00.000",
          "2025-09-01T00:00:00.000"
         ],
         "xaxis": "x",
         "y": [
          0,
          1,
          57,
          148,
          522,
          784,
          912,
          1037,
          0
         ],
         "yaxis": "y"
        },
        {
         "hovertemplate": "bus_route=SIM2<br>month=%{x}<br>ridership=%{y}<extra></extra>",
         "legendgroup": "SIM2",
         "line": {
          "color": "#FF97FF",
          "dash": "solid"
         },
         "marker": {
          "symbol": "circle"
         },
         "mode": "lines",
         "name": "SIM2",
         "showlegend": true,
         "type": "scattergl",
         "x": [
          "2025-01-01T00:00:00.000",
          "2025-02-01T00:00:00.000",
          "2025-03-01T00:00:00.000",
          "2025-04-01T00:00:00.000",
          "2025-05-01T00:00:00.000",
          "2025-06-01T00:00:00.000",
          "2025-07-01T00:00:00.000",
          "2025-08-01T00:00:00.000",
          "2025-09-01T00:00:00.000"
         ],
         "xaxis": "x",
         "y": [
          0,
          0,
          2,
          4,
          26,
          22,
          40,
          44,
          0
         ],
         "yaxis": "y"
        },
        {
         "hovertemplate": "bus_route=SIM22<br>month=%{x}<br>ridership=%{y}<extra></extra>",
         "legendgroup": "SIM22",
         "line": {
          "color": "#FECB52",
          "dash": "solid"
         },
         "marker": {
          "symbol": "circle"
         },
         "mode": "lines",
         "name": "SIM22",
         "showlegend": true,
         "type": "scattergl",
         "x": [
          "2025-01-01T00:00:00.000",
          "2025-02-01T00:00:00.000",
          "2025-03-01T00:00:00.000",
          "2025-04-01T00:00:00.000",
          "2025-05-01T00:00:00.000",
          "2025-06-01T00:00:00.000",
          "2025-07-01T00:00:00.000",
          "2025-08-01T00:00:00.000",
          "2025-09-01T00:00:00.000"
         ],
         "xaxis": "x",
         "y": [
          0,
          0,
          0,
          6,
          24,
          14,
          22,
          44,
          0
         ],
         "yaxis": "y"
        },
        {
         "hovertemplate": "bus_route=SIM23<br>month=%{x}<br>ridership=%{y}<extra></extra>",
         "legendgroup": "SIM23",
         "line": {
          "color": "#636efa",
          "dash": "solid"
         },
         "marker": {
          "symbol": "circle"
         },
         "mode": "lines",
         "name": "SIM23",
         "showlegend": true,
         "type": "scattergl",
         "x": [
          "2025-01-01T00:00:00.000",
          "2025-02-01T00:00:00.000",
          "2025-03-01T00:00:00.000",
          "2025-04-01T00:00:00.000",
          "2025-05-01T00:00:00.000",
          "2025-06-01T00:00:00.000",
          "2025-07-01T00:00:00.000",
          "2025-08-01T00:00:00.000",
          "2025-09-01T00:00:00.000"
         ],
         "xaxis": "x",
         "y": [
          0,
          1,
          1,
          1,
          2,
          12,
          22,
          32,
          0
         ],
         "yaxis": "y"
        },
        {
         "hovertemplate": "bus_route=SIM24<br>month=%{x}<br>ridership=%{y}<extra></extra>",
         "legendgroup": "SIM24",
         "line": {
          "color": "#EF553B",
          "dash": "solid"
         },
         "marker": {
          "symbol": "circle"
         },
         "mode": "lines",
         "name": "SIM24",
         "showlegend": true,
         "type": "scattergl",
         "x": [
          "2025-01-01T00:00:00.000",
          "2025-02-01T00:00:00.000",
          "2025-03-01T00:00:00.000",
          "2025-04-01T00:00:00.000",
          "2025-05-01T00:00:00.000",
          "2025-06-01T00:00:00.000",
          "2025-07-01T00:00:00.000",
          "2025-08-01T00:00:00.000",
          "2025-09-01T00:00:00.000"
         ],
         "xaxis": "x",
         "y": [
          0,
          0,
          0,
          0,
          0,
          0,
          6,
          3,
          0
         ],
         "yaxis": "y"
        },
        {
         "hovertemplate": "bus_route=SIM25<br>month=%{x}<br>ridership=%{y}<extra></extra>",
         "legendgroup": "SIM25",
         "line": {
          "color": "#00cc96",
          "dash": "solid"
         },
         "marker": {
          "symbol": "circle"
         },
         "mode": "lines",
         "name": "SIM25",
         "showlegend": true,
         "type": "scattergl",
         "x": [
          "2025-01-01T00:00:00.000",
          "2025-02-01T00:00:00.000",
          "2025-03-01T00:00:00.000",
          "2025-04-01T00:00:00.000",
          "2025-05-01T00:00:00.000",
          "2025-06-01T00:00:00.000",
          "2025-07-01T00:00:00.000",
          "2025-08-01T00:00:00.000",
          "2025-09-01T00:00:00.000"
         ],
         "xaxis": "x",
         "y": [
          0,
          0,
          0,
          2,
          0,
          28,
          14,
          39,
          0
         ],
         "yaxis": "y"
        },
        {
         "hovertemplate": "bus_route=SIM26<br>month=%{x}<br>ridership=%{y}<extra></extra>",
         "legendgroup": "SIM26",
         "line": {
          "color": "#ab63fa",
          "dash": "solid"
         },
         "marker": {
          "symbol": "circle"
         },
         "mode": "lines",
         "name": "SIM26",
         "showlegend": true,
         "type": "scattergl",
         "x": [
          "2025-01-01T00:00:00.000",
          "2025-02-01T00:00:00.000",
          "2025-03-01T00:00:00.000",
          "2025-04-01T00:00:00.000",
          "2025-05-01T00:00:00.000",
          "2025-06-01T00:00:00.000",
          "2025-07-01T00:00:00.000",
          "2025-08-01T00:00:00.000",
          "2025-09-01T00:00:00.000"
         ],
         "xaxis": "x",
         "y": [
          0,
          0,
          1,
          3,
          22,
          104,
          82,
          47,
          0
         ],
         "yaxis": "y"
        },
        {
         "hovertemplate": "bus_route=SIM3<br>month=%{x}<br>ridership=%{y}<extra></extra>",
         "legendgroup": "SIM3",
         "line": {
          "color": "#FFA15A",
          "dash": "solid"
         },
         "marker": {
          "symbol": "circle"
         },
         "mode": "lines",
         "name": "SIM3",
         "showlegend": true,
         "type": "scattergl",
         "x": [
          "2025-01-01T00:00:00.000",
          "2025-02-01T00:00:00.000",
          "2025-03-01T00:00:00.000",
          "2025-04-01T00:00:00.000",
          "2025-05-01T00:00:00.000",
          "2025-06-01T00:00:00.000",
          "2025-07-01T00:00:00.000",
          "2025-08-01T00:00:00.000",
          "2025-09-01T00:00:00.000"
         ],
         "xaxis": "x",
         "y": [
          0,
          0,
          2,
          34,
          58,
          96,
          104,
          90,
          0
         ],
         "yaxis": "y"
        },
        {
         "hovertemplate": "bus_route=SIM30<br>month=%{x}<br>ridership=%{y}<extra></extra>",
         "legendgroup": "SIM30",
         "line": {
          "color": "#19d3f3",
          "dash": "solid"
         },
         "marker": {
          "symbol": "circle"
         },
         "mode": "lines",
         "name": "SIM30",
         "showlegend": true,
         "type": "scattergl",
         "x": [
          "2025-01-01T00:00:00.000",
          "2025-02-01T00:00:00.000",
          "2025-03-01T00:00:00.000",
          "2025-04-01T00:00:00.000",
          "2025-05-01T00:00:00.000",
          "2025-06-01T00:00:00.000",
          "2025-07-01T00:00:00.000",
          "2025-08-01T00:00:00.000",
          "2025-09-01T00:00:00.000"
         ],
         "xaxis": "x",
         "y": [
          0,
          0,
          4,
          10,
          28,
          28,
          96,
          95,
          0
         ],
         "yaxis": "y"
        },
        {
         "hovertemplate": "bus_route=SIM31<br>month=%{x}<br>ridership=%{y}<extra></extra>",
         "legendgroup": "SIM31",
         "line": {
          "color": "#FF6692",
          "dash": "solid"
         },
         "marker": {
          "symbol": "circle"
         },
         "mode": "lines",
         "name": "SIM31",
         "showlegend": true,
         "type": "scattergl",
         "x": [
          "2025-01-01T00:00:00.000",
          "2025-02-01T00:00:00.000",
          "2025-03-01T00:00:00.000",
          "2025-04-01T00:00:00.000",
          "2025-05-01T00:00:00.000",
          "2025-06-01T00:00:00.000",
          "2025-07-01T00:00:00.000",
          "2025-08-01T00:00:00.000",
          "2025-09-01T00:00:00.000"
         ],
         "xaxis": "x",
         "y": [
          0,
          0,
          3,
          4,
          2,
          16,
          54,
          40,
          0
         ],
         "yaxis": "y"
        },
        {
         "hovertemplate": "bus_route=SIM32<br>month=%{x}<br>ridership=%{y}<extra></extra>",
         "legendgroup": "SIM32",
         "line": {
          "color": "#B6E880",
          "dash": "solid"
         },
         "marker": {
          "symbol": "circle"
         },
         "mode": "lines",
         "name": "SIM32",
         "showlegend": true,
         "type": "scattergl",
         "x": [
          "2025-01-01T00:00:00.000",
          "2025-02-01T00:00:00.000",
          "2025-03-01T00:00:00.000",
          "2025-04-01T00:00:00.000",
          "2025-05-01T00:00:00.000",
          "2025-06-01T00:00:00.000",
          "2025-07-01T00:00:00.000",
          "2025-08-01T00:00:00.000",
          "2025-09-01T00:00:00.000"
         ],
         "xaxis": "x",
         "y": [
          0,
          0,
          0,
          3,
          16,
          20,
          6,
          14,
          0
         ],
         "yaxis": "y"
        },
        {
         "hovertemplate": "bus_route=SIM33<br>month=%{x}<br>ridership=%{y}<extra></extra>",
         "legendgroup": "SIM33",
         "line": {
          "color": "#FF97FF",
          "dash": "solid"
         },
         "marker": {
          "symbol": "circle"
         },
         "mode": "lines",
         "name": "SIM33",
         "showlegend": true,
         "type": "scattergl",
         "x": [
          "2025-01-01T00:00:00.000",
          "2025-02-01T00:00:00.000",
          "2025-03-01T00:00:00.000",
          "2025-04-01T00:00:00.000",
          "2025-05-01T00:00:00.000",
          "2025-06-01T00:00:00.000",
          "2025-07-01T00:00:00.000",
          "2025-08-01T00:00:00.000",
          "2025-09-01T00:00:00.000"
         ],
         "xaxis": "x",
         "y": [
          0,
          0,
          0,
          8,
          17,
          44,
          34,
          30,
          0
         ],
         "yaxis": "y"
        },
        {
         "hovertemplate": "bus_route=SIM33C<br>month=%{x}<br>ridership=%{y}<extra></extra>",
         "legendgroup": "SIM33C",
         "line": {
          "color": "#FECB52",
          "dash": "solid"
         },
         "marker": {
          "symbol": "circle"
         },
         "mode": "lines",
         "name": "SIM33C",
         "showlegend": true,
         "type": "scattergl",
         "x": [
          "2025-01-01T00:00:00.000",
          "2025-02-01T00:00:00.000",
          "2025-03-01T00:00:00.000",
          "2025-04-01T00:00:00.000",
          "2025-05-01T00:00:00.000",
          "2025-06-01T00:00:00.000",
          "2025-07-01T00:00:00.000",
          "2025-08-01T00:00:00.000",
          "2025-09-01T00:00:00.000"
         ],
         "xaxis": "x",
         "y": [
          0,
          1,
          36,
          79,
          294,
          438,
          526,
          606,
          0
         ],
         "yaxis": "y"
        },
        {
         "hovertemplate": "bus_route=SIM34<br>month=%{x}<br>ridership=%{y}<extra></extra>",
         "legendgroup": "SIM34",
         "line": {
          "color": "#636efa",
          "dash": "solid"
         },
         "marker": {
          "symbol": "circle"
         },
         "mode": "lines",
         "name": "SIM34",
         "showlegend": true,
         "type": "scattergl",
         "x": [
          "2025-01-01T00:00:00.000",
          "2025-02-01T00:00:00.000",
          "2025-03-01T00:00:00.000",
          "2025-04-01T00:00:00.000",
          "2025-05-01T00:00:00.000",
          "2025-06-01T00:00:00.000",
          "2025-07-01T00:00:00.000",
          "2025-08-01T00:00:00.000",
          "2025-09-01T00:00:00.000"
         ],
         "xaxis": "x",
         "y": [
          0,
          0,
          5,
          22,
          108,
          172,
          194,
          181,
          0
         ],
         "yaxis": "y"
        },
        {
         "hovertemplate": "bus_route=SIM35<br>month=%{x}<br>ridership=%{y}<extra></extra>",
         "legendgroup": "SIM35",
         "line": {
          "color": "#EF553B",
          "dash": "solid"
         },
         "marker": {
          "symbol": "circle"
         },
         "mode": "lines",
         "name": "SIM35",
         "showlegend": true,
         "type": "scattergl",
         "x": [
          "2025-01-01T00:00:00.000",
          "2025-02-01T00:00:00.000",
          "2025-03-01T00:00:00.000",
          "2025-04-01T00:00:00.000",
          "2025-05-01T00:00:00.000",
          "2025-06-01T00:00:00.000",
          "2025-07-01T00:00:00.000",
          "2025-08-01T00:00:00.000",
          "2025-09-01T00:00:00.000"
         ],
         "xaxis": "x",
         "y": [
          0,
          0,
          4,
          31,
          76,
          50,
          46,
          46,
          0
         ],
         "yaxis": "y"
        },
        {
         "hovertemplate": "bus_route=SIM3C<br>month=%{x}<br>ridership=%{y}<extra></extra>",
         "legendgroup": "SIM3C",
         "line": {
          "color": "#00cc96",
          "dash": "solid"
         },
         "marker": {
          "symbol": "circle"
         },
         "mode": "lines",
         "name": "SIM3C",
         "showlegend": true,
         "type": "scattergl",
         "x": [
          "2025-01-01T00:00:00.000",
          "2025-02-01T00:00:00.000",
          "2025-03-01T00:00:00.000",
          "2025-04-01T00:00:00.000",
          "2025-05-01T00:00:00.000",
          "2025-06-01T00:00:00.000",
          "2025-07-01T00:00:00.000",
          "2025-08-01T00:00:00.000",
          "2025-09-01T00:00:00.000"
         ],
         "xaxis": "x",
         "y": [
          1,
          1,
          17,
          62,
          193,
          236,
          292,
          438,
          0
         ],
         "yaxis": "y"
        },
        {
         "hovertemplate": "bus_route=SIM4<br>month=%{x}<br>ridership=%{y}<extra></extra>",
         "legendgroup": "SIM4",
         "line": {
          "color": "#ab63fa",
          "dash": "solid"
         },
         "marker": {
          "symbol": "circle"
         },
         "mode": "lines",
         "name": "SIM4",
         "showlegend": true,
         "type": "scattergl",
         "x": [
          "2025-01-01T00:00:00.000",
          "2025-02-01T00:00:00.000",
          "2025-03-01T00:00:00.000",
          "2025-04-01T00:00:00.000",
          "2025-05-01T00:00:00.000",
          "2025-06-01T00:00:00.000",
          "2025-07-01T00:00:00.000",
          "2025-08-01T00:00:00.000",
          "2025-09-01T00:00:00.000"
         ],
         "xaxis": "x",
         "y": [
          0,
          1,
          1,
          4,
          28,
          58,
          122,
          168,
          0
         ],
         "yaxis": "y"
        },
        {
         "hovertemplate": "bus_route=SIM4C<br>month=%{x}<br>ridership=%{y}<extra></extra>",
         "legendgroup": "SIM4C",
         "line": {
          "color": "#FFA15A",
          "dash": "solid"
         },
         "marker": {
          "symbol": "circle"
         },
         "mode": "lines",
         "name": "SIM4C",
         "showlegend": true,
         "type": "scattergl",
         "x": [
          "2025-01-01T00:00:00.000",
          "2025-02-01T00:00:00.000",
          "2025-03-01T00:00:00.000",
          "2025-04-01T00:00:00.000",
          "2025-05-01T00:00:00.000",
          "2025-06-01T00:00:00.000",
          "2025-07-01T00:00:00.000",
          "2025-08-01T00:00:00.000",
          "2025-09-01T00:00:00.000"
         ],
         "xaxis": "x",
         "y": [
          0,
          3,
          38,
          46,
          202,
          252,
          312,
          400,
          0
         ],
         "yaxis": "y"
        },
        {
         "hovertemplate": "bus_route=SIM4X<br>month=%{x}<br>ridership=%{y}<extra></extra>",
         "legendgroup": "SIM4X",
         "line": {
          "color": "#19d3f3",
          "dash": "solid"
         },
         "marker": {
          "symbol": "circle"
         },
         "mode": "lines",
         "name": "SIM4X",
         "showlegend": true,
         "type": "scattergl",
         "x": [
          "2025-01-01T00:00:00.000",
          "2025-02-01T00:00:00.000",
          "2025-03-01T00:00:00.000",
          "2025-04-01T00:00:00.000",
          "2025-05-01T00:00:00.000",
          "2025-06-01T00:00:00.000",
          "2025-07-01T00:00:00.000",
          "2025-08-01T00:00:00.000",
          "2025-09-01T00:00:00.000"
         ],
         "xaxis": "x",
         "y": [
          0,
          0,
          2,
          2,
          4,
          4,
          6,
          15,
          0
         ],
         "yaxis": "y"
        },
        {
         "hovertemplate": "bus_route=SIM5<br>month=%{x}<br>ridership=%{y}<extra></extra>",
         "legendgroup": "SIM5",
         "line": {
          "color": "#FF6692",
          "dash": "solid"
         },
         "marker": {
          "symbol": "circle"
         },
         "mode": "lines",
         "name": "SIM5",
         "showlegend": true,
         "type": "scattergl",
         "x": [
          "2025-01-01T00:00:00.000",
          "2025-02-01T00:00:00.000",
          "2025-03-01T00:00:00.000",
          "2025-04-01T00:00:00.000",
          "2025-05-01T00:00:00.000",
          "2025-06-01T00:00:00.000",
          "2025-07-01T00:00:00.000",
          "2025-08-01T00:00:00.000",
          "2025-09-01T00:00:00.000"
         ],
         "xaxis": "x",
         "y": [
          0,
          0,
          3,
          17,
          42,
          66,
          92,
          78,
          0
         ],
         "yaxis": "y"
        },
        {
         "hovertemplate": "bus_route=SIM5X<br>month=%{x}<br>ridership=%{y}<extra></extra>",
         "legendgroup": "SIM5X",
         "line": {
          "color": "#B6E880",
          "dash": "solid"
         },
         "marker": {
          "symbol": "circle"
         },
         "mode": "lines",
         "name": "SIM5X",
         "showlegend": true,
         "type": "scattergl",
         "x": [
          "2025-01-01T00:00:00.000",
          "2025-02-01T00:00:00.000",
          "2025-03-01T00:00:00.000",
          "2025-04-01T00:00:00.000",
          "2025-05-01T00:00:00.000",
          "2025-06-01T00:00:00.000",
          "2025-07-01T00:00:00.000",
          "2025-08-01T00:00:00.000",
          "2025-09-01T00:00:00.000"
         ],
         "xaxis": "x",
         "y": [
          0,
          0,
          0,
          0,
          0,
          0,
          0,
          0,
          0
         ],
         "yaxis": "y"
        },
        {
         "hovertemplate": "bus_route=SIM6<br>month=%{x}<br>ridership=%{y}<extra></extra>",
         "legendgroup": "SIM6",
         "line": {
          "color": "#FF97FF",
          "dash": "solid"
         },
         "marker": {
          "symbol": "circle"
         },
         "mode": "lines",
         "name": "SIM6",
         "showlegend": true,
         "type": "scattergl",
         "x": [
          "2025-01-01T00:00:00.000",
          "2025-02-01T00:00:00.000",
          "2025-03-01T00:00:00.000",
          "2025-04-01T00:00:00.000",
          "2025-05-01T00:00:00.000",
          "2025-06-01T00:00:00.000",
          "2025-07-01T00:00:00.000",
          "2025-08-01T00:00:00.000",
          "2025-09-01T00:00:00.000"
         ],
         "xaxis": "x",
         "y": [
          0,
          0,
          1,
          10,
          36,
          20,
          98,
          111,
          0
         ],
         "yaxis": "y"
        },
        {
         "hovertemplate": "bus_route=SIM6X<br>month=%{x}<br>ridership=%{y}<extra></extra>",
         "legendgroup": "SIM6X",
         "line": {
          "color": "#FECB52",
          "dash": "solid"
         },
         "marker": {
          "symbol": "circle"
         },
         "mode": "lines",
         "name": "SIM6X",
         "showlegend": true,
         "type": "scattergl",
         "x": [
          "2025-01-01T00:00:00.000",
          "2025-02-01T00:00:00.000",
          "2025-03-01T00:00:00.000",
          "2025-04-01T00:00:00.000",
          "2025-05-01T00:00:00.000",
          "2025-06-01T00:00:00.000",
          "2025-07-01T00:00:00.000",
          "2025-08-01T00:00:00.000",
          "2025-09-01T00:00:00.000"
         ],
         "xaxis": "x",
         "y": [
          0,
          0,
          0,
          0,
          0,
          0,
          0,
          0,
          0
         ],
         "yaxis": "y"
        },
        {
         "hovertemplate": "bus_route=SIM7<br>month=%{x}<br>ridership=%{y}<extra></extra>",
         "legendgroup": "SIM7",
         "line": {
          "color": "#636efa",
          "dash": "solid"
         },
         "marker": {
          "symbol": "circle"
         },
         "mode": "lines",
         "name": "SIM7",
         "showlegend": true,
         "type": "scattergl",
         "x": [
          "2025-01-01T00:00:00.000",
          "2025-02-01T00:00:00.000",
          "2025-03-01T00:00:00.000",
          "2025-04-01T00:00:00.000",
          "2025-05-01T00:00:00.000",
          "2025-06-01T00:00:00.000",
          "2025-07-01T00:00:00.000",
          "2025-08-01T00:00:00.000",
          "2025-09-01T00:00:00.000"
         ],
         "xaxis": "x",
         "y": [
          0,
          0,
          0,
          5,
          12,
          18,
          24,
          42,
          0
         ],
         "yaxis": "y"
        },
        {
         "hovertemplate": "bus_route=SIM8<br>month=%{x}<br>ridership=%{y}<extra></extra>",
         "legendgroup": "SIM8",
         "line": {
          "color": "#EF553B",
          "dash": "solid"
         },
         "marker": {
          "symbol": "circle"
         },
         "mode": "lines",
         "name": "SIM8",
         "showlegend": true,
         "type": "scattergl",
         "x": [
          "2025-01-01T00:00:00.000",
          "2025-02-01T00:00:00.000",
          "2025-03-01T00:00:00.000",
          "2025-04-01T00:00:00.000",
          "2025-05-01T00:00:00.000",
          "2025-06-01T00:00:00.000",
          "2025-07-01T00:00:00.000",
          "2025-08-01T00:00:00.000",
          "2025-09-01T00:00:00.000"
         ],
         "xaxis": "x",
         "y": [
          0,
          0,
          6,
          21,
          48,
          118,
          144,
          123,
          0
         ],
         "yaxis": "y"
        },
        {
         "hovertemplate": "bus_route=SIM8X<br>month=%{x}<br>ridership=%{y}<extra></extra>",
         "legendgroup": "SIM8X",
         "line": {
          "color": "#00cc96",
          "dash": "solid"
         },
         "marker": {
          "symbol": "circle"
         },
         "mode": "lines",
         "name": "SIM8X",
         "showlegend": true,
         "type": "scattergl",
         "x": [
          "2025-01-01T00:00:00.000",
          "2025-02-01T00:00:00.000",
          "2025-03-01T00:00:00.000",
          "2025-04-01T00:00:00.000",
          "2025-05-01T00:00:00.000",
          "2025-06-01T00:00:00.000",
          "2025-07-01T00:00:00.000",
          "2025-08-01T00:00:00.000",
          "2025-09-01T00:00:00.000"
         ],
         "xaxis": "x",
         "y": [
          0,
          0,
          0,
          0,
          0,
          6,
          4,
          4,
          0
         ],
         "yaxis": "y"
        },
        {
         "hovertemplate": "bus_route=SIM9<br>month=%{x}<br>ridership=%{y}<extra></extra>",
         "legendgroup": "SIM9",
         "line": {
          "color": "#ab63fa",
          "dash": "solid"
         },
         "marker": {
          "symbol": "circle"
         },
         "mode": "lines",
         "name": "SIM9",
         "showlegend": true,
         "type": "scattergl",
         "x": [
          "2025-01-01T00:00:00.000",
          "2025-02-01T00:00:00.000",
          "2025-03-01T00:00:00.000",
          "2025-04-01T00:00:00.000",
          "2025-05-01T00:00:00.000",
          "2025-06-01T00:00:00.000",
          "2025-07-01T00:00:00.000",
          "2025-08-01T00:00:00.000",
          "2025-09-01T00:00:00.000"
         ],
         "xaxis": "x",
         "y": [
          0,
          0,
          0,
          9,
          2,
          8,
          24,
          10,
          0
         ],
         "yaxis": "y"
        },
        {
         "hovertemplate": "bus_route=X1<br>month=%{x}<br>ridership=%{y}<extra></extra>",
         "legendgroup": "X1",
         "line": {
          "color": "#FFA15A",
          "dash": "solid"
         },
         "marker": {
          "symbol": "circle"
         },
         "mode": "lines",
         "name": "X1",
         "showlegend": true,
         "type": "scattergl",
         "x": [
          "2025-01-01T00:00:00.000",
          "2025-02-01T00:00:00.000",
          "2025-03-01T00:00:00.000",
          "2025-04-01T00:00:00.000",
          "2025-05-01T00:00:00.000",
          "2025-06-01T00:00:00.000",
          "2025-07-01T00:00:00.000",
          "2025-08-01T00:00:00.000",
          "2025-09-01T00:00:00.000"
         ],
         "xaxis": "x",
         "y": [
          0,
          0,
          0,
          0,
          0,
          0,
          0,
          0,
          0
         ],
         "yaxis": "y"
        },
        {
         "hovertemplate": "bus_route=X10<br>month=%{x}<br>ridership=%{y}<extra></extra>",
         "legendgroup": "X10",
         "line": {
          "color": "#19d3f3",
          "dash": "solid"
         },
         "marker": {
          "symbol": "circle"
         },
         "mode": "lines",
         "name": "X10",
         "showlegend": true,
         "type": "scattergl",
         "x": [
          "2025-01-01T00:00:00.000",
          "2025-02-01T00:00:00.000",
          "2025-03-01T00:00:00.000",
          "2025-04-01T00:00:00.000",
          "2025-05-01T00:00:00.000",
          "2025-06-01T00:00:00.000",
          "2025-07-01T00:00:00.000",
          "2025-08-01T00:00:00.000",
          "2025-09-01T00:00:00.000"
         ],
         "xaxis": "x",
         "y": [
          0,
          0,
          0,
          0,
          0,
          0,
          0,
          0,
          0
         ],
         "yaxis": "y"
        },
        {
         "hovertemplate": "bus_route=X10B<br>month=%{x}<br>ridership=%{y}<extra></extra>",
         "legendgroup": "X10B",
         "line": {
          "color": "#FF6692",
          "dash": "solid"
         },
         "marker": {
          "symbol": "circle"
         },
         "mode": "lines",
         "name": "X10B",
         "showlegend": true,
         "type": "scattergl",
         "x": [
          "2025-01-01T00:00:00.000",
          "2025-02-01T00:00:00.000",
          "2025-03-01T00:00:00.000",
          "2025-04-01T00:00:00.000",
          "2025-05-01T00:00:00.000",
          "2025-06-01T00:00:00.000",
          "2025-07-01T00:00:00.000",
          "2025-08-01T00:00:00.000",
          "2025-09-01T00:00:00.000"
         ],
         "xaxis": "x",
         "y": [
          0,
          0,
          0,
          0,
          0,
          0,
          0,
          0,
          0
         ],
         "yaxis": "y"
        },
        {
         "hovertemplate": "bus_route=X11<br>month=%{x}<br>ridership=%{y}<extra></extra>",
         "legendgroup": "X11",
         "line": {
          "color": "#B6E880",
          "dash": "solid"
         },
         "marker": {
          "symbol": "circle"
         },
         "mode": "lines",
         "name": "X11",
         "showlegend": true,
         "type": "scattergl",
         "x": [
          "2025-01-01T00:00:00.000",
          "2025-02-01T00:00:00.000",
          "2025-03-01T00:00:00.000",
          "2025-04-01T00:00:00.000",
          "2025-05-01T00:00:00.000",
          "2025-06-01T00:00:00.000",
          "2025-07-01T00:00:00.000",
          "2025-08-01T00:00:00.000",
          "2025-09-01T00:00:00.000"
         ],
         "xaxis": "x",
         "y": [
          0,
          0,
          0,
          0,
          0,
          0,
          0,
          0,
          0
         ],
         "yaxis": "y"
        },
        {
         "hovertemplate": "bus_route=X12<br>month=%{x}<br>ridership=%{y}<extra></extra>",
         "legendgroup": "X12",
         "line": {
          "color": "#FF97FF",
          "dash": "solid"
         },
         "marker": {
          "symbol": "circle"
         },
         "mode": "lines",
         "name": "X12",
         "showlegend": true,
         "type": "scattergl",
         "x": [
          "2025-01-01T00:00:00.000",
          "2025-02-01T00:00:00.000",
          "2025-03-01T00:00:00.000",
          "2025-04-01T00:00:00.000",
          "2025-05-01T00:00:00.000",
          "2025-06-01T00:00:00.000",
          "2025-07-01T00:00:00.000",
          "2025-08-01T00:00:00.000",
          "2025-09-01T00:00:00.000"
         ],
         "xaxis": "x",
         "y": [
          0,
          0,
          0,
          0,
          0,
          0,
          0,
          0,
          0
         ],
         "yaxis": "y"
        },
        {
         "hovertemplate": "bus_route=X14<br>month=%{x}<br>ridership=%{y}<extra></extra>",
         "legendgroup": "X14",
         "line": {
          "color": "#FECB52",
          "dash": "solid"
         },
         "marker": {
          "symbol": "circle"
         },
         "mode": "lines",
         "name": "X14",
         "showlegend": true,
         "type": "scattergl",
         "x": [
          "2025-01-01T00:00:00.000",
          "2025-02-01T00:00:00.000",
          "2025-03-01T00:00:00.000",
          "2025-04-01T00:00:00.000",
          "2025-05-01T00:00:00.000",
          "2025-06-01T00:00:00.000",
          "2025-07-01T00:00:00.000",
          "2025-08-01T00:00:00.000",
          "2025-09-01T00:00:00.000"
         ],
         "xaxis": "x",
         "y": [
          0,
          0,
          0,
          0,
          0,
          0,
          0,
          0,
          0
         ],
         "yaxis": "y"
        },
        {
         "hovertemplate": "bus_route=X15<br>month=%{x}<br>ridership=%{y}<extra></extra>",
         "legendgroup": "X15",
         "line": {
          "color": "#636efa",
          "dash": "solid"
         },
         "marker": {
          "symbol": "circle"
         },
         "mode": "lines",
         "name": "X15",
         "showlegend": true,
         "type": "scattergl",
         "x": [
          "2025-01-01T00:00:00.000",
          "2025-02-01T00:00:00.000",
          "2025-03-01T00:00:00.000",
          "2025-04-01T00:00:00.000",
          "2025-05-01T00:00:00.000",
          "2025-06-01T00:00:00.000",
          "2025-07-01T00:00:00.000",
          "2025-08-01T00:00:00.000",
          "2025-09-01T00:00:00.000"
         ],
         "xaxis": "x",
         "y": [
          0,
          0,
          0,
          0,
          0,
          0,
          0,
          0,
          0
         ],
         "yaxis": "y"
        },
        {
         "hovertemplate": "bus_route=X17<br>month=%{x}<br>ridership=%{y}<extra></extra>",
         "legendgroup": "X17",
         "line": {
          "color": "#EF553B",
          "dash": "solid"
         },
         "marker": {
          "symbol": "circle"
         },
         "mode": "lines",
         "name": "X17",
         "showlegend": true,
         "type": "scattergl",
         "x": [
          "2025-01-01T00:00:00.000",
          "2025-02-01T00:00:00.000",
          "2025-03-01T00:00:00.000",
          "2025-04-01T00:00:00.000",
          "2025-05-01T00:00:00.000",
          "2025-06-01T00:00:00.000",
          "2025-07-01T00:00:00.000",
          "2025-08-01T00:00:00.000",
          "2025-09-01T00:00:00.000"
         ],
         "xaxis": "x",
         "y": [
          0,
          0,
          0,
          0,
          0,
          0,
          0,
          0,
          0
         ],
         "yaxis": "y"
        },
        {
         "hovertemplate": "bus_route=X17A<br>month=%{x}<br>ridership=%{y}<extra></extra>",
         "legendgroup": "X17A",
         "line": {
          "color": "#00cc96",
          "dash": "solid"
         },
         "marker": {
          "symbol": "circle"
         },
         "mode": "lines",
         "name": "X17A",
         "showlegend": true,
         "type": "scattergl",
         "x": [
          "2025-01-01T00:00:00.000",
          "2025-02-01T00:00:00.000",
          "2025-03-01T00:00:00.000",
          "2025-04-01T00:00:00.000",
          "2025-05-01T00:00:00.000",
          "2025-06-01T00:00:00.000",
          "2025-07-01T00:00:00.000",
          "2025-08-01T00:00:00.000",
          "2025-09-01T00:00:00.000"
         ],
         "xaxis": "x",
         "y": [
          0,
          0,
          0,
          0,
          0,
          0,
          0,
          0,
          0
         ],
         "yaxis": "y"
        },
        {
         "hovertemplate": "bus_route=X17J<br>month=%{x}<br>ridership=%{y}<extra></extra>",
         "legendgroup": "X17J",
         "line": {
          "color": "#ab63fa",
          "dash": "solid"
         },
         "marker": {
          "symbol": "circle"
         },
         "mode": "lines",
         "name": "X17J",
         "showlegend": true,
         "type": "scattergl",
         "x": [
          "2025-01-01T00:00:00.000",
          "2025-02-01T00:00:00.000",
          "2025-03-01T00:00:00.000",
          "2025-04-01T00:00:00.000",
          "2025-05-01T00:00:00.000",
          "2025-06-01T00:00:00.000",
          "2025-07-01T00:00:00.000",
          "2025-08-01T00:00:00.000",
          "2025-09-01T00:00:00.000"
         ],
         "xaxis": "x",
         "y": [
          0,
          0,
          0,
          0,
          0,
          0,
          0,
          0,
          0
         ],
         "yaxis": "y"
        },
        {
         "hovertemplate": "bus_route=X19<br>month=%{x}<br>ridership=%{y}<extra></extra>",
         "legendgroup": "X19",
         "line": {
          "color": "#FFA15A",
          "dash": "solid"
         },
         "marker": {
          "symbol": "circle"
         },
         "mode": "lines",
         "name": "X19",
         "showlegend": true,
         "type": "scattergl",
         "x": [
          "2025-01-01T00:00:00.000",
          "2025-02-01T00:00:00.000",
          "2025-03-01T00:00:00.000",
          "2025-04-01T00:00:00.000",
          "2025-05-01T00:00:00.000",
          "2025-06-01T00:00:00.000",
          "2025-07-01T00:00:00.000",
          "2025-08-01T00:00:00.000",
          "2025-09-01T00:00:00.000"
         ],
         "xaxis": "x",
         "y": [
          0,
          0,
          0,
          0,
          0,
          0,
          0,
          0,
          0
         ],
         "yaxis": "y"
        },
        {
         "hovertemplate": "bus_route=X2<br>month=%{x}<br>ridership=%{y}<extra></extra>",
         "legendgroup": "X2",
         "line": {
          "color": "#19d3f3",
          "dash": "solid"
         },
         "marker": {
          "symbol": "circle"
         },
         "mode": "lines",
         "name": "X2",
         "showlegend": true,
         "type": "scattergl",
         "x": [
          "2025-01-01T00:00:00.000",
          "2025-02-01T00:00:00.000",
          "2025-03-01T00:00:00.000",
          "2025-04-01T00:00:00.000",
          "2025-05-01T00:00:00.000",
          "2025-06-01T00:00:00.000",
          "2025-07-01T00:00:00.000",
          "2025-08-01T00:00:00.000",
          "2025-09-01T00:00:00.000"
         ],
         "xaxis": "x",
         "y": [
          0,
          0,
          0,
          0,
          0,
          0,
          0,
          0,
          0
         ],
         "yaxis": "y"
        },
        {
         "hovertemplate": "bus_route=X21<br>month=%{x}<br>ridership=%{y}<extra></extra>",
         "legendgroup": "X21",
         "line": {
          "color": "#FF6692",
          "dash": "solid"
         },
         "marker": {
          "symbol": "circle"
         },
         "mode": "lines",
         "name": "X21",
         "showlegend": true,
         "type": "scattergl",
         "x": [
          "2025-01-01T00:00:00.000",
          "2025-02-01T00:00:00.000",
          "2025-03-01T00:00:00.000",
          "2025-04-01T00:00:00.000",
          "2025-05-01T00:00:00.000",
          "2025-06-01T00:00:00.000",
          "2025-07-01T00:00:00.000",
          "2025-08-01T00:00:00.000",
          "2025-09-01T00:00:00.000"
         ],
         "xaxis": "x",
         "y": [
          0,
          0,
          0,
          0,
          0,
          0,
          0,
          0,
          0
         ],
         "yaxis": "y"
        },
        {
         "hovertemplate": "bus_route=X22<br>month=%{x}<br>ridership=%{y}<extra></extra>",
         "legendgroup": "X22",
         "line": {
          "color": "#B6E880",
          "dash": "solid"
         },
         "marker": {
          "symbol": "circle"
         },
         "mode": "lines",
         "name": "X22",
         "showlegend": true,
         "type": "scattergl",
         "x": [
          "2025-01-01T00:00:00.000",
          "2025-02-01T00:00:00.000",
          "2025-03-01T00:00:00.000",
          "2025-04-01T00:00:00.000",
          "2025-05-01T00:00:00.000",
          "2025-06-01T00:00:00.000",
          "2025-07-01T00:00:00.000",
          "2025-08-01T00:00:00.000",
          "2025-09-01T00:00:00.000"
         ],
         "xaxis": "x",
         "y": [
          0,
          0,
          0,
          0,
          0,
          0,
          0,
          0,
          0
         ],
         "yaxis": "y"
        },
        {
         "hovertemplate": "bus_route=X22A<br>month=%{x}<br>ridership=%{y}<extra></extra>",
         "legendgroup": "X22A",
         "line": {
          "color": "#FF97FF",
          "dash": "solid"
         },
         "marker": {
          "symbol": "circle"
         },
         "mode": "lines",
         "name": "X22A",
         "showlegend": true,
         "type": "scattergl",
         "x": [
          "2025-01-01T00:00:00.000",
          "2025-02-01T00:00:00.000",
          "2025-03-01T00:00:00.000",
          "2025-04-01T00:00:00.000",
          "2025-05-01T00:00:00.000",
          "2025-06-01T00:00:00.000",
          "2025-07-01T00:00:00.000",
          "2025-08-01T00:00:00.000",
          "2025-09-01T00:00:00.000"
         ],
         "xaxis": "x",
         "y": [
          0,
          0,
          0,
          0,
          0,
          0,
          0,
          0,
          0
         ],
         "yaxis": "y"
        },
        {
         "hovertemplate": "bus_route=X27<br>month=%{x}<br>ridership=%{y}<extra></extra>",
         "legendgroup": "X27",
         "line": {
          "color": "#FECB52",
          "dash": "solid"
         },
         "marker": {
          "symbol": "circle"
         },
         "mode": "lines",
         "name": "X27",
         "showlegend": true,
         "type": "scattergl",
         "x": [
          "2025-01-01T00:00:00.000",
          "2025-02-01T00:00:00.000",
          "2025-03-01T00:00:00.000",
          "2025-04-01T00:00:00.000",
          "2025-05-01T00:00:00.000",
          "2025-06-01T00:00:00.000",
          "2025-07-01T00:00:00.000",
          "2025-08-01T00:00:00.000",
          "2025-09-01T00:00:00.000"
         ],
         "xaxis": "x",
         "y": [
          5,
          7,
          5,
          18,
          30,
          110,
          176,
          185,
          0
         ],
         "yaxis": "y"
        },
        {
         "hovertemplate": "bus_route=X28<br>month=%{x}<br>ridership=%{y}<extra></extra>",
         "legendgroup": "X28",
         "line": {
          "color": "#636efa",
          "dash": "solid"
         },
         "marker": {
          "symbol": "circle"
         },
         "mode": "lines",
         "name": "X28",
         "showlegend": true,
         "type": "scattergl",
         "x": [
          "2025-01-01T00:00:00.000",
          "2025-02-01T00:00:00.000",
          "2025-03-01T00:00:00.000",
          "2025-04-01T00:00:00.000",
          "2025-05-01T00:00:00.000",
          "2025-06-01T00:00:00.000",
          "2025-07-01T00:00:00.000",
          "2025-08-01T00:00:00.000",
          "2025-09-01T00:00:00.000"
         ],
         "xaxis": "x",
         "y": [
          14,
          1,
          5,
          32,
          196,
          256,
          442,
          496,
          0
         ],
         "yaxis": "y"
        },
        {
         "hovertemplate": "bus_route=X3<br>month=%{x}<br>ridership=%{y}<extra></extra>",
         "legendgroup": "X3",
         "line": {
          "color": "#EF553B",
          "dash": "solid"
         },
         "marker": {
          "symbol": "circle"
         },
         "mode": "lines",
         "name": "X3",
         "showlegend": true,
         "type": "scattergl",
         "x": [
          "2025-01-01T00:00:00.000",
          "2025-02-01T00:00:00.000",
          "2025-03-01T00:00:00.000",
          "2025-04-01T00:00:00.000",
          "2025-05-01T00:00:00.000",
          "2025-06-01T00:00:00.000",
          "2025-07-01T00:00:00.000",
          "2025-08-01T00:00:00.000",
          "2025-09-01T00:00:00.000"
         ],
         "xaxis": "x",
         "y": [
          0,
          0,
          0,
          0,
          0,
          0,
          0,
          0,
          0
         ],
         "yaxis": "y"
        },
        {
         "hovertemplate": "bus_route=X30<br>month=%{x}<br>ridership=%{y}<extra></extra>",
         "legendgroup": "X30",
         "line": {
          "color": "#00cc96",
          "dash": "solid"
         },
         "marker": {
          "symbol": "circle"
         },
         "mode": "lines",
         "name": "X30",
         "showlegend": true,
         "type": "scattergl",
         "x": [
          "2025-01-01T00:00:00.000",
          "2025-02-01T00:00:00.000",
          "2025-03-01T00:00:00.000",
          "2025-04-01T00:00:00.000",
          "2025-05-01T00:00:00.000",
          "2025-06-01T00:00:00.000",
          "2025-07-01T00:00:00.000",
          "2025-08-01T00:00:00.000",
          "2025-09-01T00:00:00.000"
         ],
         "xaxis": "x",
         "y": [
          0,
          0,
          0,
          0,
          0,
          0,
          0,
          0,
          0
         ],
         "yaxis": "y"
        },
        {
         "hovertemplate": "bus_route=X31<br>month=%{x}<br>ridership=%{y}<extra></extra>",
         "legendgroup": "X31",
         "line": {
          "color": "#ab63fa",
          "dash": "solid"
         },
         "marker": {
          "symbol": "circle"
         },
         "mode": "lines",
         "name": "X31",
         "showlegend": true,
         "type": "scattergl",
         "x": [
          "2025-01-01T00:00:00.000",
          "2025-02-01T00:00:00.000",
          "2025-03-01T00:00:00.000",
          "2025-04-01T00:00:00.000",
          "2025-05-01T00:00:00.000",
          "2025-06-01T00:00:00.000",
          "2025-07-01T00:00:00.000",
          "2025-08-01T00:00:00.000",
          "2025-09-01T00:00:00.000"
         ],
         "xaxis": "x",
         "y": [
          0,
          0,
          0,
          0,
          0,
          0,
          0,
          0,
          0
         ],
         "yaxis": "y"
        },
        {
         "hovertemplate": "bus_route=X37<br>month=%{x}<br>ridership=%{y}<extra></extra>",
         "legendgroup": "X37",
         "line": {
          "color": "#FFA15A",
          "dash": "solid"
         },
         "marker": {
          "symbol": "circle"
         },
         "mode": "lines",
         "name": "X37",
         "showlegend": true,
         "type": "scattergl",
         "x": [
          "2025-01-01T00:00:00.000",
          "2025-02-01T00:00:00.000",
          "2025-03-01T00:00:00.000",
          "2025-04-01T00:00:00.000",
          "2025-05-01T00:00:00.000",
          "2025-06-01T00:00:00.000",
          "2025-07-01T00:00:00.000",
          "2025-08-01T00:00:00.000",
          "2025-09-01T00:00:00.000"
         ],
         "xaxis": "x",
         "y": [
          14,
          5,
          0,
          3,
          24,
          104,
          50,
          54,
          0
         ],
         "yaxis": "y"
        },
        {
         "hovertemplate": "bus_route=X38<br>month=%{x}<br>ridership=%{y}<extra></extra>",
         "legendgroup": "X38",
         "line": {
          "color": "#19d3f3",
          "dash": "solid"
         },
         "marker": {
          "symbol": "circle"
         },
         "mode": "lines",
         "name": "X38",
         "showlegend": true,
         "type": "scattergl",
         "x": [
          "2025-01-01T00:00:00.000",
          "2025-02-01T00:00:00.000",
          "2025-03-01T00:00:00.000",
          "2025-04-01T00:00:00.000",
          "2025-05-01T00:00:00.000",
          "2025-06-01T00:00:00.000",
          "2025-07-01T00:00:00.000",
          "2025-08-01T00:00:00.000",
          "2025-09-01T00:00:00.000"
         ],
         "xaxis": "x",
         "y": [
          0,
          0,
          0,
          7,
          6,
          36,
          66,
          92,
          0
         ],
         "yaxis": "y"
        },
        {
         "hovertemplate": "bus_route=X4<br>month=%{x}<br>ridership=%{y}<extra></extra>",
         "legendgroup": "X4",
         "line": {
          "color": "#FF6692",
          "dash": "solid"
         },
         "marker": {
          "symbol": "circle"
         },
         "mode": "lines",
         "name": "X4",
         "showlegend": true,
         "type": "scattergl",
         "x": [
          "2025-01-01T00:00:00.000",
          "2025-02-01T00:00:00.000",
          "2025-03-01T00:00:00.000",
          "2025-04-01T00:00:00.000",
          "2025-05-01T00:00:00.000",
          "2025-06-01T00:00:00.000",
          "2025-07-01T00:00:00.000",
          "2025-08-01T00:00:00.000",
          "2025-09-01T00:00:00.000"
         ],
         "xaxis": "x",
         "y": [
          0,
          0,
          0,
          0,
          0,
          0,
          0,
          0,
          0
         ],
         "yaxis": "y"
        },
        {
         "hovertemplate": "bus_route=X42<br>month=%{x}<br>ridership=%{y}<extra></extra>",
         "legendgroup": "X42",
         "line": {
          "color": "#B6E880",
          "dash": "solid"
         },
         "marker": {
          "symbol": "circle"
         },
         "mode": "lines",
         "name": "X42",
         "showlegend": true,
         "type": "scattergl",
         "x": [
          "2025-01-01T00:00:00.000",
          "2025-02-01T00:00:00.000",
          "2025-03-01T00:00:00.000",
          "2025-04-01T00:00:00.000",
          "2025-05-01T00:00:00.000",
          "2025-06-01T00:00:00.000",
          "2025-07-01T00:00:00.000",
          "2025-08-01T00:00:00.000",
          "2025-09-01T00:00:00.000"
         ],
         "xaxis": "x",
         "y": [
          0,
          0,
          0,
          0,
          0,
          0,
          0,
          0,
          0
         ],
         "yaxis": "y"
        },
        {
         "hovertemplate": "bus_route=X5<br>month=%{x}<br>ridership=%{y}<extra></extra>",
         "legendgroup": "X5",
         "line": {
          "color": "#FF97FF",
          "dash": "solid"
         },
         "marker": {
          "symbol": "circle"
         },
         "mode": "lines",
         "name": "X5",
         "showlegend": true,
         "type": "scattergl",
         "x": [
          "2025-01-01T00:00:00.000",
          "2025-02-01T00:00:00.000",
          "2025-03-01T00:00:00.000",
          "2025-04-01T00:00:00.000",
          "2025-05-01T00:00:00.000",
          "2025-06-01T00:00:00.000",
          "2025-07-01T00:00:00.000",
          "2025-08-01T00:00:00.000",
          "2025-09-01T00:00:00.000"
         ],
         "xaxis": "x",
         "y": [
          0,
          0,
          0,
          0,
          0,
          0,
          0,
          0,
          0
         ],
         "yaxis": "y"
        },
        {
         "hovertemplate": "bus_route=X63<br>month=%{x}<br>ridership=%{y}<extra></extra>",
         "legendgroup": "X63",
         "line": {
          "color": "#FECB52",
          "dash": "solid"
         },
         "marker": {
          "symbol": "circle"
         },
         "mode": "lines",
         "name": "X63",
         "showlegend": true,
         "type": "scattergl",
         "x": [
          "2025-01-01T00:00:00.000",
          "2025-02-01T00:00:00.000",
          "2025-03-01T00:00:00.000",
          "2025-04-01T00:00:00.000",
          "2025-05-01T00:00:00.000",
          "2025-06-01T00:00:00.000",
          "2025-07-01T00:00:00.000",
          "2025-08-01T00:00:00.000",
          "2025-09-01T00:00:00.000"
         ],
         "xaxis": "x",
         "y": [
          0,
          0,
          0,
          3,
          20,
          80,
          0,
          0,
          0
         ],
         "yaxis": "y"
        },
        {
         "hovertemplate": "bus_route=X64<br>month=%{x}<br>ridership=%{y}<extra></extra>",
         "legendgroup": "X64",
         "line": {
          "color": "#636efa",
          "dash": "solid"
         },
         "marker": {
          "symbol": "circle"
         },
         "mode": "lines",
         "name": "X64",
         "showlegend": true,
         "type": "scattergl",
         "x": [
          "2025-01-01T00:00:00.000",
          "2025-02-01T00:00:00.000",
          "2025-03-01T00:00:00.000",
          "2025-04-01T00:00:00.000",
          "2025-05-01T00:00:00.000",
          "2025-06-01T00:00:00.000",
          "2025-07-01T00:00:00.000",
          "2025-08-01T00:00:00.000",
          "2025-09-01T00:00:00.000"
         ],
         "xaxis": "x",
         "y": [
          0,
          0,
          2,
          0,
          2,
          8,
          0,
          0,
          0
         ],
         "yaxis": "y"
        },
        {
         "hovertemplate": "bus_route=X68<br>month=%{x}<br>ridership=%{y}<extra></extra>",
         "legendgroup": "X68",
         "line": {
          "color": "#EF553B",
          "dash": "solid"
         },
         "marker": {
          "symbol": "circle"
         },
         "mode": "lines",
         "name": "X68",
         "showlegend": true,
         "type": "scattergl",
         "x": [
          "2025-01-01T00:00:00.000",
          "2025-02-01T00:00:00.000",
          "2025-03-01T00:00:00.000",
          "2025-04-01T00:00:00.000",
          "2025-05-01T00:00:00.000",
          "2025-06-01T00:00:00.000",
          "2025-07-01T00:00:00.000",
          "2025-08-01T00:00:00.000",
          "2025-09-01T00:00:00.000"
         ],
         "xaxis": "x",
         "y": [
          0,
          0,
          0,
          38,
          82,
          68,
          0,
          0,
          0
         ],
         "yaxis": "y"
        },
        {
         "hovertemplate": "bus_route=X7<br>month=%{x}<br>ridership=%{y}<extra></extra>",
         "legendgroup": "X7",
         "line": {
          "color": "#00cc96",
          "dash": "solid"
         },
         "marker": {
          "symbol": "circle"
         },
         "mode": "lines",
         "name": "X7",
         "showlegend": true,
         "type": "scattergl",
         "x": [
          "2025-01-01T00:00:00.000",
          "2025-02-01T00:00:00.000",
          "2025-03-01T00:00:00.000",
          "2025-04-01T00:00:00.000",
          "2025-05-01T00:00:00.000",
          "2025-06-01T00:00:00.000",
          "2025-07-01T00:00:00.000",
          "2025-08-01T00:00:00.000",
          "2025-09-01T00:00:00.000"
         ],
         "xaxis": "x",
         "y": [
          0,
          0,
          0,
          0,
          0,
          0,
          0,
          0,
          0
         ],
         "yaxis": "y"
        },
        {
         "hovertemplate": "bus_route=X8<br>month=%{x}<br>ridership=%{y}<extra></extra>",
         "legendgroup": "X8",
         "line": {
          "color": "#ab63fa",
          "dash": "solid"
         },
         "marker": {
          "symbol": "circle"
         },
         "mode": "lines",
         "name": "X8",
         "showlegend": true,
         "type": "scattergl",
         "x": [
          "2025-01-01T00:00:00.000",
          "2025-02-01T00:00:00.000",
          "2025-03-01T00:00:00.000",
          "2025-04-01T00:00:00.000",
          "2025-05-01T00:00:00.000",
          "2025-06-01T00:00:00.000",
          "2025-07-01T00:00:00.000",
          "2025-08-01T00:00:00.000",
          "2025-09-01T00:00:00.000"
         ],
         "xaxis": "x",
         "y": [
          0,
          0,
          0,
          0,
          0,
          0,
          0,
          0,
          0
         ],
         "yaxis": "y"
        },
        {
         "hovertemplate": "bus_route=X9<br>month=%{x}<br>ridership=%{y}<extra></extra>",
         "legendgroup": "X9",
         "line": {
          "color": "#FFA15A",
          "dash": "solid"
         },
         "marker": {
          "symbol": "circle"
         },
         "mode": "lines",
         "name": "X9",
         "showlegend": true,
         "type": "scattergl",
         "x": [
          "2025-01-01T00:00:00.000",
          "2025-02-01T00:00:00.000",
          "2025-03-01T00:00:00.000",
          "2025-04-01T00:00:00.000",
          "2025-05-01T00:00:00.000",
          "2025-06-01T00:00:00.000",
          "2025-07-01T00:00:00.000",
          "2025-08-01T00:00:00.000",
          "2025-09-01T00:00:00.000"
         ],
         "xaxis": "x",
         "y": [
          0,
          0,
          0,
          0,
          0,
          0,
          0,
          0,
          0
         ],
         "yaxis": "y"
        },
        {
         "hovertemplate": "bus_route=Q115<br>month=%{x}<br>ridership=%{y}<extra></extra>",
         "legendgroup": "Q115",
         "line": {
          "color": "#19d3f3",
          "dash": "solid"
         },
         "marker": {
          "symbol": "circle"
         },
         "mode": "lines",
         "name": "Q115",
         "showlegend": true,
         "type": "scattergl",
         "x": [
          "2025-02-01T00:00:00.000",
          "2025-03-01T00:00:00.000",
          "2025-04-01T00:00:00.000",
          "2025-05-01T00:00:00.000",
          "2025-06-01T00:00:00.000",
          "2025-07-01T00:00:00.000",
          "2025-08-01T00:00:00.000",
          "2025-09-01T00:00:00.000"
         ],
         "xaxis": "x",
         "y": [
          0,
          0,
          0,
          0,
          512,
          9320,
          7445,
          0
         ],
         "yaxis": "y"
        },
        {
         "hovertemplate": "bus_route=Q14<br>month=%{x}<br>ridership=%{y}<extra></extra>",
         "legendgroup": "Q14",
         "line": {
          "color": "#FF6692",
          "dash": "solid"
         },
         "marker": {
          "symbol": "circle"
         },
         "mode": "lines",
         "name": "Q14",
         "showlegend": true,
         "type": "scattergl",
         "x": [
          "2025-02-01T00:00:00.000",
          "2025-03-01T00:00:00.000",
          "2025-04-01T00:00:00.000",
          "2025-05-01T00:00:00.000",
          "2025-06-01T00:00:00.000",
          "2025-07-01T00:00:00.000",
          "2025-08-01T00:00:00.000",
          "2025-09-01T00:00:00.000"
         ],
         "xaxis": "x",
         "y": [
          0,
          0,
          0,
          0,
          735,
          14266,
          15208,
          0
         ],
         "yaxis": "y"
        },
        {
         "hovertemplate": "bus_route=Q20<br>month=%{x}<br>ridership=%{y}<extra></extra>",
         "legendgroup": "Q20",
         "line": {
          "color": "#B6E880",
          "dash": "solid"
         },
         "marker": {
          "symbol": "circle"
         },
         "mode": "lines",
         "name": "Q20",
         "showlegend": true,
         "type": "scattergl",
         "x": [
          "2025-02-01T00:00:00.000",
          "2025-03-01T00:00:00.000",
          "2025-04-01T00:00:00.000",
          "2025-05-01T00:00:00.000",
          "2025-06-01T00:00:00.000",
          "2025-07-01T00:00:00.000",
          "2025-08-01T00:00:00.000",
          "2025-09-01T00:00:00.000"
         ],
         "xaxis": "x",
         "y": [
          0,
          0,
          0,
          0,
          1689,
          29208,
          25752,
          0
         ],
         "yaxis": "y"
        },
        {
         "hovertemplate": "bus_route=Q45<br>month=%{x}<br>ridership=%{y}<extra></extra>",
         "legendgroup": "Q45",
         "line": {
          "color": "#FF97FF",
          "dash": "solid"
         },
         "marker": {
          "symbol": "circle"
         },
         "mode": "lines",
         "name": "Q45",
         "showlegend": true,
         "type": "scattergl",
         "x": [
          "2025-02-01T00:00:00.000",
          "2025-03-01T00:00:00.000",
          "2025-04-01T00:00:00.000",
          "2025-05-01T00:00:00.000",
          "2025-06-01T00:00:00.000",
          "2025-07-01T00:00:00.000",
          "2025-08-01T00:00:00.000",
          "2025-09-01T00:00:00.000"
         ],
         "xaxis": "x",
         "y": [
          0,
          0,
          0,
          0,
          575,
          10494,
          9046,
          0
         ],
         "yaxis": "y"
        },
        {
         "hovertemplate": "bus_route=Q61<br>month=%{x}<br>ridership=%{y}<extra></extra>",
         "legendgroup": "Q61",
         "line": {
          "color": "#FECB52",
          "dash": "solid"
         },
         "marker": {
          "symbol": "circle"
         },
         "mode": "lines",
         "name": "Q61",
         "showlegend": true,
         "type": "scattergl",
         "x": [
          "2025-02-01T00:00:00.000",
          "2025-03-01T00:00:00.000",
          "2025-04-01T00:00:00.000",
          "2025-05-01T00:00:00.000",
          "2025-06-01T00:00:00.000",
          "2025-07-01T00:00:00.000",
          "2025-08-01T00:00:00.000",
          "2025-09-01T00:00:00.000"
         ],
         "xaxis": "x",
         "y": [
          0,
          0,
          0,
          0,
          226,
          5781,
          5030,
          0
         ],
         "yaxis": "y"
        },
        {
         "hovertemplate": "bus_route=Q75<br>month=%{x}<br>ridership=%{y}<extra></extra>",
         "legendgroup": "Q75",
         "line": {
          "color": "#636efa",
          "dash": "solid"
         },
         "marker": {
          "symbol": "circle"
         },
         "mode": "lines",
         "name": "Q75",
         "showlegend": true,
         "type": "scattergl",
         "x": [
          "2025-02-01T00:00:00.000",
          "2025-03-01T00:00:00.000",
          "2025-04-01T00:00:00.000",
          "2025-05-01T00:00:00.000",
          "2025-06-01T00:00:00.000",
          "2025-07-01T00:00:00.000",
          "2025-08-01T00:00:00.000",
          "2025-09-01T00:00:00.000"
         ],
         "xaxis": "x",
         "y": [
          0,
          0,
          0,
          0,
          90,
          2970,
          2885,
          0
         ],
         "yaxis": "y"
        },
        {
         "hovertemplate": "bus_route=Q82<br>month=%{x}<br>ridership=%{y}<extra></extra>",
         "legendgroup": "Q82",
         "line": {
          "color": "#EF553B",
          "dash": "solid"
         },
         "marker": {
          "symbol": "circle"
         },
         "mode": "lines",
         "name": "Q82",
         "showlegend": true,
         "type": "scattergl",
         "x": [
          "2025-02-01T00:00:00.000",
          "2025-03-01T00:00:00.000",
          "2025-04-01T00:00:00.000",
          "2025-05-01T00:00:00.000",
          "2025-06-01T00:00:00.000",
          "2025-07-01T00:00:00.000",
          "2025-08-01T00:00:00.000",
          "2025-09-01T00:00:00.000"
         ],
         "xaxis": "x",
         "y": [
          0,
          0,
          0,
          0,
          152,
          2680,
          2594,
          0
         ],
         "yaxis": "y"
        },
        {
         "hovertemplate": "bus_route=Q86<br>month=%{x}<br>ridership=%{y}<extra></extra>",
         "legendgroup": "Q86",
         "line": {
          "color": "#00cc96",
          "dash": "solid"
         },
         "marker": {
          "symbol": "circle"
         },
         "mode": "lines",
         "name": "Q86",
         "showlegend": true,
         "type": "scattergl",
         "x": [
          "2025-02-01T00:00:00.000",
          "2025-03-01T00:00:00.000",
          "2025-04-01T00:00:00.000",
          "2025-05-01T00:00:00.000",
          "2025-06-01T00:00:00.000",
          "2025-07-01T00:00:00.000",
          "2025-08-01T00:00:00.000",
          "2025-09-01T00:00:00.000"
         ],
         "xaxis": "x",
         "y": [
          0,
          0,
          0,
          0,
          166,
          4775,
          4470,
          0
         ],
         "yaxis": "y"
        },
        {
         "hovertemplate": "bus_route=Q87<br>month=%{x}<br>ridership=%{y}<extra></extra>",
         "legendgroup": "Q87",
         "line": {
          "color": "#ab63fa",
          "dash": "solid"
         },
         "marker": {
          "symbol": "circle"
         },
         "mode": "lines",
         "name": "Q87",
         "showlegend": true,
         "type": "scattergl",
         "x": [
          "2025-02-01T00:00:00.000",
          "2025-03-01T00:00:00.000",
          "2025-04-01T00:00:00.000",
          "2025-05-01T00:00:00.000",
          "2025-06-01T00:00:00.000",
          "2025-07-01T00:00:00.000",
          "2025-08-01T00:00:00.000",
          "2025-09-01T00:00:00.000"
         ],
         "xaxis": "x",
         "y": [
          0,
          0,
          0,
          0,
          253,
          4198,
          4247,
          0
         ],
         "yaxis": "y"
        },
        {
         "hovertemplate": "bus_route=Q89<br>month=%{x}<br>ridership=%{y}<extra></extra>",
         "legendgroup": "Q89",
         "line": {
          "color": "#FFA15A",
          "dash": "solid"
         },
         "marker": {
          "symbol": "circle"
         },
         "mode": "lines",
         "name": "Q89",
         "showlegend": true,
         "type": "scattergl",
         "x": [
          "2025-02-01T00:00:00.000",
          "2025-03-01T00:00:00.000",
          "2025-04-01T00:00:00.000",
          "2025-05-01T00:00:00.000",
          "2025-06-01T00:00:00.000",
          "2025-07-01T00:00:00.000",
          "2025-08-01T00:00:00.000",
          "2025-09-01T00:00:00.000"
         ],
         "xaxis": "x",
         "y": [
          0,
          0,
          0,
          0,
          212,
          4060,
          3962,
          0
         ],
         "yaxis": "y"
        },
        {
         "hovertemplate": "bus_route=QM63<br>month=%{x}<br>ridership=%{y}<extra></extra>",
         "legendgroup": "QM63",
         "line": {
          "color": "#19d3f3",
          "dash": "solid"
         },
         "marker": {
          "symbol": "circle"
         },
         "mode": "lines",
         "name": "QM63",
         "showlegend": true,
         "type": "scattergl",
         "x": [
          "2025-02-01T00:00:00.000",
          "2025-03-01T00:00:00.000",
          "2025-04-01T00:00:00.000",
          "2025-05-01T00:00:00.000",
          "2025-06-01T00:00:00.000",
          "2025-07-01T00:00:00.000",
          "2025-08-01T00:00:00.000",
          "2025-09-01T00:00:00.000"
         ],
         "xaxis": "x",
         "y": [
          0,
          0,
          0,
          0,
          2,
          50,
          49,
          0
         ],
         "yaxis": "y"
        },
        {
         "hovertemplate": "bus_route=QM64<br>month=%{x}<br>ridership=%{y}<extra></extra>",
         "legendgroup": "QM64",
         "line": {
          "color": "#FF6692",
          "dash": "solid"
         },
         "marker": {
          "symbol": "circle"
         },
         "mode": "lines",
         "name": "QM64",
         "showlegend": true,
         "type": "scattergl",
         "x": [
          "2025-02-01T00:00:00.000",
          "2025-03-01T00:00:00.000",
          "2025-04-01T00:00:00.000",
          "2025-05-01T00:00:00.000",
          "2025-06-01T00:00:00.000",
          "2025-07-01T00:00:00.000",
          "2025-08-01T00:00:00.000",
          "2025-09-01T00:00:00.000"
         ],
         "xaxis": "x",
         "y": [
          0,
          0,
          0,
          0,
          0,
          8,
          27,
          0
         ],
         "yaxis": "y"
        },
        {
         "hovertemplate": "bus_route=QM68<br>month=%{x}<br>ridership=%{y}<extra></extra>",
         "legendgroup": "QM68",
         "line": {
          "color": "#B6E880",
          "dash": "solid"
         },
         "marker": {
          "symbol": "circle"
         },
         "mode": "lines",
         "name": "QM68",
         "showlegend": true,
         "type": "scattergl",
         "x": [
          "2025-02-01T00:00:00.000",
          "2025-03-01T00:00:00.000",
          "2025-04-01T00:00:00.000",
          "2025-05-01T00:00:00.000",
          "2025-06-01T00:00:00.000",
          "2025-07-01T00:00:00.000",
          "2025-08-01T00:00:00.000",
          "2025-09-01T00:00:00.000"
         ],
         "xaxis": "x",
         "y": [
          0,
          0,
          0,
          0,
          4,
          96,
          90,
          0
         ],
         "yaxis": "y"
        },
        {
         "hovertemplate": "bus_route=Q51<br>month=%{x}<br>ridership=%{y}<extra></extra>",
         "legendgroup": "Q51",
         "line": {
          "color": "#FF97FF",
          "dash": "solid"
         },
         "marker": {
          "symbol": "circle"
         },
         "mode": "lines",
         "name": "Q51",
         "showlegend": true,
         "type": "scattergl",
         "x": [
          "2025-03-01T00:00:00.000",
          "2025-04-01T00:00:00.000",
          "2025-05-01T00:00:00.000",
          "2025-06-01T00:00:00.000",
          "2025-07-01T00:00:00.000",
          "2025-08-01T00:00:00.000",
          "2025-09-01T00:00:00.000"
         ],
         "xaxis": "x",
         "y": [
          0,
          0,
          0,
          78,
          1954,
          2231,
          0
         ],
         "yaxis": "y"
        },
        {
         "hovertemplate": "bus_route=Q63<br>month=%{x}<br>ridership=%{y}<extra></extra>",
         "legendgroup": "Q63",
         "line": {
          "color": "#FECB52",
          "dash": "solid"
         },
         "marker": {
          "symbol": "circle"
         },
         "mode": "lines",
         "name": "Q63",
         "showlegend": true,
         "type": "scattergl",
         "x": [
          "2025-03-01T00:00:00.000",
          "2025-04-01T00:00:00.000",
          "2025-05-01T00:00:00.000",
          "2025-06-01T00:00:00.000",
          "2025-07-01T00:00:00.000",
          "2025-08-01T00:00:00.000",
          "2025-09-01T00:00:00.000"
         ],
         "xaxis": "x",
         "y": [
          0,
          0,
          0,
          780,
          16168,
          13975,
          0
         ],
         "yaxis": "y"
        },
        {
         "hovertemplate": "bus_route=Q74<br>month=%{x}<br>ridership=%{y}<extra></extra>",
         "legendgroup": "Q74",
         "line": {
          "color": "#636efa",
          "dash": "solid"
         },
         "marker": {
          "symbol": "circle"
         },
         "mode": "lines",
         "name": "Q74",
         "showlegend": true,
         "type": "scattergl",
         "x": [
          "2025-03-01T00:00:00.000",
          "2025-04-01T00:00:00.000",
          "2025-05-01T00:00:00.000",
          "2025-06-01T00:00:00.000",
          "2025-07-01T00:00:00.000",
          "2025-08-01T00:00:00.000",
          "2025-09-01T00:00:00.000"
         ],
         "xaxis": "x",
         "y": [
          0,
          0,
          0,
          210,
          4803,
          5252,
          0
         ],
         "yaxis": "y"
        },
        {
         "hovertemplate": "bus_route=QM65<br>month=%{x}<br>ridership=%{y}<extra></extra>",
         "legendgroup": "QM65",
         "line": {
          "color": "#EF553B",
          "dash": "solid"
         },
         "marker": {
          "symbol": "circle"
         },
         "mode": "lines",
         "name": "QM65",
         "showlegend": true,
         "type": "scattergl",
         "x": [
          "2025-03-01T00:00:00.000",
          "2025-04-01T00:00:00.000",
          "2025-05-01T00:00:00.000",
          "2025-06-01T00:00:00.000",
          "2025-07-01T00:00:00.000",
          "2025-08-01T00:00:00.000",
          "2025-09-01T00:00:00.000"
         ],
         "xaxis": "x",
         "y": [
          0,
          0,
          0,
          0,
          18,
          6,
          0
         ],
         "yaxis": "y"
        }
       ],
       "layout": {
        "legend": {
         "title": {
          "text": "bus_route"
         },
         "tracegroupgap": 0
        },
        "margin": {
         "t": 60
        },
        "template": {
         "data": {
          "bar": [
           {
            "error_x": {
             "color": "#2a3f5f"
            },
            "error_y": {
             "color": "#2a3f5f"
            },
            "marker": {
             "line": {
              "color": "#E5ECF6",
              "width": 0.5
             },
             "pattern": {
              "fillmode": "overlay",
              "size": 10,
              "solidity": 0.2
             }
            },
            "type": "bar"
           }
          ],
          "barpolar": [
           {
            "marker": {
             "line": {
              "color": "#E5ECF6",
              "width": 0.5
             },
             "pattern": {
              "fillmode": "overlay",
              "size": 10,
              "solidity": 0.2
             }
            },
            "type": "barpolar"
           }
          ],
          "carpet": [
           {
            "aaxis": {
             "endlinecolor": "#2a3f5f",
             "gridcolor": "white",
             "linecolor": "white",
             "minorgridcolor": "white",
             "startlinecolor": "#2a3f5f"
            },
            "baxis": {
             "endlinecolor": "#2a3f5f",
             "gridcolor": "white",
             "linecolor": "white",
             "minorgridcolor": "white",
             "startlinecolor": "#2a3f5f"
            },
            "type": "carpet"
           }
          ],
          "choropleth": [
           {
            "colorbar": {
             "outlinewidth": 0,
             "ticks": ""
            },
            "type": "choropleth"
           }
          ],
          "contour": [
           {
            "colorbar": {
             "outlinewidth": 0,
             "ticks": ""
            },
            "colorscale": [
             [
              0,
              "#0d0887"
             ],
             [
              0.1111111111111111,
              "#46039f"
             ],
             [
              0.2222222222222222,
              "#7201a8"
             ],
             [
              0.3333333333333333,
              "#9c179e"
             ],
             [
              0.4444444444444444,
              "#bd3786"
             ],
             [
              0.5555555555555556,
              "#d8576b"
             ],
             [
              0.6666666666666666,
              "#ed7953"
             ],
             [
              0.7777777777777778,
              "#fb9f3a"
             ],
             [
              0.8888888888888888,
              "#fdca26"
             ],
             [
              1,
              "#f0f921"
             ]
            ],
            "type": "contour"
           }
          ],
          "contourcarpet": [
           {
            "colorbar": {
             "outlinewidth": 0,
             "ticks": ""
            },
            "type": "contourcarpet"
           }
          ],
          "heatmap": [
           {
            "colorbar": {
             "outlinewidth": 0,
             "ticks": ""
            },
            "colorscale": [
             [
              0,
              "#0d0887"
             ],
             [
              0.1111111111111111,
              "#46039f"
             ],
             [
              0.2222222222222222,
              "#7201a8"
             ],
             [
              0.3333333333333333,
              "#9c179e"
             ],
             [
              0.4444444444444444,
              "#bd3786"
             ],
             [
              0.5555555555555556,
              "#d8576b"
             ],
             [
              0.6666666666666666,
              "#ed7953"
             ],
             [
              0.7777777777777778,
              "#fb9f3a"
             ],
             [
              0.8888888888888888,
              "#fdca26"
             ],
             [
              1,
              "#f0f921"
             ]
            ],
            "type": "heatmap"
           }
          ],
          "heatmapgl": [
           {
            "colorbar": {
             "outlinewidth": 0,
             "ticks": ""
            },
            "colorscale": [
             [
              0,
              "#0d0887"
             ],
             [
              0.1111111111111111,
              "#46039f"
             ],
             [
              0.2222222222222222,
              "#7201a8"
             ],
             [
              0.3333333333333333,
              "#9c179e"
             ],
             [
              0.4444444444444444,
              "#bd3786"
             ],
             [
              0.5555555555555556,
              "#d8576b"
             ],
             [
              0.6666666666666666,
              "#ed7953"
             ],
             [
              0.7777777777777778,
              "#fb9f3a"
             ],
             [
              0.8888888888888888,
              "#fdca26"
             ],
             [
              1,
              "#f0f921"
             ]
            ],
            "type": "heatmapgl"
           }
          ],
          "histogram": [
           {
            "marker": {
             "pattern": {
              "fillmode": "overlay",
              "size": 10,
              "solidity": 0.2
             }
            },
            "type": "histogram"
           }
          ],
          "histogram2d": [
           {
            "colorbar": {
             "outlinewidth": 0,
             "ticks": ""
            },
            "colorscale": [
             [
              0,
              "#0d0887"
             ],
             [
              0.1111111111111111,
              "#46039f"
             ],
             [
              0.2222222222222222,
              "#7201a8"
             ],
             [
              0.3333333333333333,
              "#9c179e"
             ],
             [
              0.4444444444444444,
              "#bd3786"
             ],
             [
              0.5555555555555556,
              "#d8576b"
             ],
             [
              0.6666666666666666,
              "#ed7953"
             ],
             [
              0.7777777777777778,
              "#fb9f3a"
             ],
             [
              0.8888888888888888,
              "#fdca26"
             ],
             [
              1,
              "#f0f921"
             ]
            ],
            "type": "histogram2d"
           }
          ],
          "histogram2dcontour": [
           {
            "colorbar": {
             "outlinewidth": 0,
             "ticks": ""
            },
            "colorscale": [
             [
              0,
              "#0d0887"
             ],
             [
              0.1111111111111111,
              "#46039f"
             ],
             [
              0.2222222222222222,
              "#7201a8"
             ],
             [
              0.3333333333333333,
              "#9c179e"
             ],
             [
              0.4444444444444444,
              "#bd3786"
             ],
             [
              0.5555555555555556,
              "#d8576b"
             ],
             [
              0.6666666666666666,
              "#ed7953"
             ],
             [
              0.7777777777777778,
              "#fb9f3a"
             ],
             [
              0.8888888888888888,
              "#fdca26"
             ],
             [
              1,
              "#f0f921"
             ]
            ],
            "type": "histogram2dcontour"
           }
          ],
          "mesh3d": [
           {
            "colorbar": {
             "outlinewidth": 0,
             "ticks": ""
            },
            "type": "mesh3d"
           }
          ],
          "parcoords": [
           {
            "line": {
             "colorbar": {
              "outlinewidth": 0,
              "ticks": ""
             }
            },
            "type": "parcoords"
           }
          ],
          "pie": [
           {
            "automargin": true,
            "type": "pie"
           }
          ],
          "scatter": [
           {
            "fillpattern": {
             "fillmode": "overlay",
             "size": 10,
             "solidity": 0.2
            },
            "type": "scatter"
           }
          ],
          "scatter3d": [
           {
            "line": {
             "colorbar": {
              "outlinewidth": 0,
              "ticks": ""
             }
            },
            "marker": {
             "colorbar": {
              "outlinewidth": 0,
              "ticks": ""
             }
            },
            "type": "scatter3d"
           }
          ],
          "scattercarpet": [
           {
            "marker": {
             "colorbar": {
              "outlinewidth": 0,
              "ticks": ""
             }
            },
            "type": "scattercarpet"
           }
          ],
          "scattergeo": [
           {
            "marker": {
             "colorbar": {
              "outlinewidth": 0,
              "ticks": ""
             }
            },
            "type": "scattergeo"
           }
          ],
          "scattergl": [
           {
            "marker": {
             "colorbar": {
              "outlinewidth": 0,
              "ticks": ""
             }
            },
            "type": "scattergl"
           }
          ],
          "scattermapbox": [
           {
            "marker": {
             "colorbar": {
              "outlinewidth": 0,
              "ticks": ""
             }
            },
            "type": "scattermapbox"
           }
          ],
          "scatterpolar": [
           {
            "marker": {
             "colorbar": {
              "outlinewidth": 0,
              "ticks": ""
             }
            },
            "type": "scatterpolar"
           }
          ],
          "scatterpolargl": [
           {
            "marker": {
             "colorbar": {
              "outlinewidth": 0,
              "ticks": ""
             }
            },
            "type": "scatterpolargl"
           }
          ],
          "scatterternary": [
           {
            "marker": {
             "colorbar": {
              "outlinewidth": 0,
              "ticks": ""
             }
            },
            "type": "scatterternary"
           }
          ],
          "surface": [
           {
            "colorbar": {
             "outlinewidth": 0,
             "ticks": ""
            },
            "colorscale": [
             [
              0,
              "#0d0887"
             ],
             [
              0.1111111111111111,
              "#46039f"
             ],
             [
              0.2222222222222222,
              "#7201a8"
             ],
             [
              0.3333333333333333,
              "#9c179e"
             ],
             [
              0.4444444444444444,
              "#bd3786"
             ],
             [
              0.5555555555555556,
              "#d8576b"
             ],
             [
              0.6666666666666666,
              "#ed7953"
             ],
             [
              0.7777777777777778,
              "#fb9f3a"
             ],
             [
              0.8888888888888888,
              "#fdca26"
             ],
             [
              1,
              "#f0f921"
             ]
            ],
            "type": "surface"
           }
          ],
          "table": [
           {
            "cells": {
             "fill": {
              "color": "#EBF0F8"
             },
             "line": {
              "color": "white"
             }
            },
            "header": {
             "fill": {
              "color": "#C8D4E3"
             },
             "line": {
              "color": "white"
             }
            },
            "type": "table"
           }
          ]
         },
         "layout": {
          "annotationdefaults": {
           "arrowcolor": "#2a3f5f",
           "arrowhead": 0,
           "arrowwidth": 1
          },
          "autotypenumbers": "strict",
          "coloraxis": {
           "colorbar": {
            "outlinewidth": 0,
            "ticks": ""
           }
          },
          "colorscale": {
           "diverging": [
            [
             0,
             "#8e0152"
            ],
            [
             0.1,
             "#c51b7d"
            ],
            [
             0.2,
             "#de77ae"
            ],
            [
             0.3,
             "#f1b6da"
            ],
            [
             0.4,
             "#fde0ef"
            ],
            [
             0.5,
             "#f7f7f7"
            ],
            [
             0.6,
             "#e6f5d0"
            ],
            [
             0.7,
             "#b8e186"
            ],
            [
             0.8,
             "#7fbc41"
            ],
            [
             0.9,
             "#4d9221"
            ],
            [
             1,
             "#276419"
            ]
           ],
           "sequential": [
            [
             0,
             "#0d0887"
            ],
            [
             0.1111111111111111,
             "#46039f"
            ],
            [
             0.2222222222222222,
             "#7201a8"
            ],
            [
             0.3333333333333333,
             "#9c179e"
            ],
            [
             0.4444444444444444,
             "#bd3786"
            ],
            [
             0.5555555555555556,
             "#d8576b"
            ],
            [
             0.6666666666666666,
             "#ed7953"
            ],
            [
             0.7777777777777778,
             "#fb9f3a"
            ],
            [
             0.8888888888888888,
             "#fdca26"
            ],
            [
             1,
             "#f0f921"
            ]
           ],
           "sequentialminus": [
            [
             0,
             "#0d0887"
            ],
            [
             0.1111111111111111,
             "#46039f"
            ],
            [
             0.2222222222222222,
             "#7201a8"
            ],
            [
             0.3333333333333333,
             "#9c179e"
            ],
            [
             0.4444444444444444,
             "#bd3786"
            ],
            [
             0.5555555555555556,
             "#d8576b"
            ],
            [
             0.6666666666666666,
             "#ed7953"
            ],
            [
             0.7777777777777778,
             "#fb9f3a"
            ],
            [
             0.8888888888888888,
             "#fdca26"
            ],
            [
             1,
             "#f0f921"
            ]
           ]
          },
          "colorway": [
           "#636efa",
           "#EF553B",
           "#00cc96",
           "#ab63fa",
           "#FFA15A",
           "#19d3f3",
           "#FF6692",
           "#B6E880",
           "#FF97FF",
           "#FECB52"
          ],
          "font": {
           "color": "#2a3f5f"
          },
          "geo": {
           "bgcolor": "white",
           "lakecolor": "white",
           "landcolor": "#E5ECF6",
           "showlakes": true,
           "showland": true,
           "subunitcolor": "white"
          },
          "hoverlabel": {
           "align": "left"
          },
          "hovermode": "closest",
          "mapbox": {
           "style": "light"
          },
          "paper_bgcolor": "white",
          "plot_bgcolor": "#E5ECF6",
          "polar": {
           "angularaxis": {
            "gridcolor": "white",
            "linecolor": "white",
            "ticks": ""
           },
           "bgcolor": "#E5ECF6",
           "radialaxis": {
            "gridcolor": "white",
            "linecolor": "white",
            "ticks": ""
           }
          },
          "scene": {
           "xaxis": {
            "backgroundcolor": "#E5ECF6",
            "gridcolor": "white",
            "gridwidth": 2,
            "linecolor": "white",
            "showbackground": true,
            "ticks": "",
            "zerolinecolor": "white"
           },
           "yaxis": {
            "backgroundcolor": "#E5ECF6",
            "gridcolor": "white",
            "gridwidth": 2,
            "linecolor": "white",
            "showbackground": true,
            "ticks": "",
            "zerolinecolor": "white"
           },
           "zaxis": {
            "backgroundcolor": "#E5ECF6",
            "gridcolor": "white",
            "gridwidth": 2,
            "linecolor": "white",
            "showbackground": true,
            "ticks": "",
            "zerolinecolor": "white"
           }
          },
          "shapedefaults": {
           "line": {
            "color": "#2a3f5f"
           }
          },
          "ternary": {
           "aaxis": {
            "gridcolor": "white",
            "linecolor": "white",
            "ticks": ""
           },
           "baxis": {
            "gridcolor": "white",
            "linecolor": "white",
            "ticks": ""
           },
           "bgcolor": "#E5ECF6",
           "caxis": {
            "gridcolor": "white",
            "linecolor": "white",
            "ticks": ""
           }
          },
          "title": {
           "x": 0.05
          },
          "xaxis": {
           "automargin": true,
           "gridcolor": "white",
           "linecolor": "white",
           "ticks": "",
           "title": {
            "standoff": 15
           },
           "zerolinecolor": "white",
           "zerolinewidth": 2
          },
          "yaxis": {
           "automargin": true,
           "gridcolor": "white",
           "linecolor": "white",
           "ticks": "",
           "title": {
            "standoff": 15
           },
           "zerolinecolor": "white",
           "zerolinewidth": 2
          }
         }
        },
        "xaxis": {
         "anchor": "y",
         "domain": [
          0,
          1
         ],
         "title": {
          "text": "month"
         }
        },
        "yaxis": {
         "anchor": "x",
         "domain": [
          0,
          1
         ],
         "title": {
          "text": "ridership"
         }
        }
       }
      }
     },
     "metadata": {},
     "output_type": "display_data"
    }
   ],
   "source": [
    "import plotly.express as px\n",
    "\n",
    "px.line(\n",
    "    bus_data,\n",
    "    x=\"month\",\n",
    "    y=\"ridership\",\n",
    "    color=\"bus_route\"\n",
    ")"
   ]
  },
  {
   "cell_type": "markdown",
   "metadata": {},
   "source": [
    "This graph is not close to answering any questions about Fair Fares riders. But hopefully this demonstration can point you in some useful directions."
   ]
  },
  {
   "cell_type": "markdown",
   "metadata": {},
   "source": [
    "### Bonus\n",
    "\n",
    "We probably won't get to this, but if you'll be programatically querying data on the NYS data catalog, you should request an app token by creating a (NYS account)[https://data.ny.gov/login]! Once you have an apptoken, you can plug it in below to make queries using the app token."
   ]
  },
  {
   "cell_type": "code",
   "execution_count": null,
   "metadata": {},
   "outputs": [],
   "source": [
    "import os\n",
    "\n",
    "session = requests.Session()\n",
    "\n",
    "# create an account and apptoken on the NYS data catalog here - https://data.ny.gov/login\n",
    "session.headers.update({\"access_token\": os.environ[\"APPTOKEN\"]})\n",
    "\n",
    "query_output = session.get(\n",
    "    endpoint_url, params={\n",
    "        \"$query\" : soql_query\n",
    "    }\n",
    ").content\n",
    "\n",
    "bus_data = pd.read_csv(io.StringIO(bus_data.decode(\"utf-8\")))"
   ]
  }
 ],
 "metadata": {
  "kernelspec": {
   "display_name": "Python 3",
   "language": "python",
   "name": "python3"
  },
  "language_info": {
   "codemirror_mode": {
    "name": "ipython",
    "version": 3
   },
   "file_extension": ".py",
   "mimetype": "text/x-python",
   "name": "python",
   "nbconvert_exporter": "python",
   "pygments_lexer": "ipython3",
   "version": "3.12.0"
  }
 },
 "nbformat": 4,
 "nbformat_minor": 2
}
