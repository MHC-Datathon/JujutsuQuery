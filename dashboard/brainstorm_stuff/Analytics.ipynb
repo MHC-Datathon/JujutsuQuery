{
 "cells": [
  {
   "cell_type": "code",
   "execution_count": 2,
   "id": "faba179e-7070-41a7-990b-2e84efe284bf",
   "metadata": {
    "tags": []
   },
   "outputs": [],
   "source": [
    "import requests\n",
    "import pandas as pd"
   ]
  },
  {
   "cell_type": "code",
   "execution_count": 29,
   "id": "cb7e794c-3bda-44f0-ab5d-a406707fd762",
   "metadata": {
    "tags": []
   },
   "outputs": [],
   "source": [
    "# Base URL\n",
    "url = \"https://data.ny.gov/resource/kh8p-hcbm.json\"\n",
    "\n",
    "# Query parameters (optional)\n",
    "params = {\n",
    "    \"$limit\": 10000,        # how many rows to fetch\n",
    "    \"$offset\": 0,          # for pagination\n",
    "    # \"$select\": \"col1, col2, col3\",  # only necessary columns\n",
    "    # \"$where\": \"some_column = 'some_value'\",  # filtering\n",
    "}\n",
    "\n",
    "# Make the request\n",
    "response = requests.get(url, params=params)\n",
    "\n",
    "if response.status_code == 200:\n",
    "    data = response.json()\n",
    "    df = pd.DataFrame(data)\n",
    "else:\n",
    "    print(\"Request failed with status:\", response.status_code)\n"
   ]
  },
  {
   "cell_type": "code",
   "execution_count": 30,
   "id": "4dbc67a4-91b5-418a-a966-8bd7f25bd384",
   "metadata": {
    "tags": []
   },
   "outputs": [
    {
     "data": {
      "text/html": [
       "<div>\n",
       "<style scoped>\n",
       "    .dataframe tbody tr th:only-of-type {\n",
       "        vertical-align: middle;\n",
       "    }\n",
       "\n",
       "    .dataframe tbody tr th {\n",
       "        vertical-align: top;\n",
       "    }\n",
       "\n",
       "    .dataframe thead th {\n",
       "        text-align: right;\n",
       "    }\n",
       "</style>\n",
       "<table border=\"1\" class=\"dataframe\">\n",
       "  <thead>\n",
       "    <tr style=\"text-align: right;\">\n",
       "      <th></th>\n",
       "      <th>violation_id</th>\n",
       "      <th>vehicle_id</th>\n",
       "      <th>first_occurrence</th>\n",
       "      <th>last_occurrence</th>\n",
       "      <th>violation_status</th>\n",
       "      <th>violation_type</th>\n",
       "      <th>bus_route_id</th>\n",
       "      <th>violation_latitude</th>\n",
       "      <th>violation_longitude</th>\n",
       "      <th>stop_id</th>\n",
       "      <th>stop_name</th>\n",
       "      <th>bus_stop_latitude</th>\n",
       "      <th>bus_stop_longitude</th>\n",
       "      <th>violation_georeference</th>\n",
       "      <th>bus_stop_georeference</th>\n",
       "    </tr>\n",
       "  </thead>\n",
       "  <tbody>\n",
       "    <tr>\n",
       "      <th>0</th>\n",
       "      <td>489749182</td>\n",
       "      <td>c5ae1411153b52556a1e648cc80d718aa519a4bdd189ab...</td>\n",
       "      <td>2025-08-20T23:12:08.000</td>\n",
       "      <td>2025-08-21T00:24:08.000</td>\n",
       "      <td>TECHNICAL ISSUE/OTHER</td>\n",
       "      <td>MOBILE BUS STOP</td>\n",
       "      <td>BX36</td>\n",
       "      <td>40.840509</td>\n",
       "      <td>-73.881189</td>\n",
       "      <td>102498</td>\n",
       "      <td>EAST TREMONT AV/VYSE AV</td>\n",
       "      <td>40.841076</td>\n",
       "      <td>-73.882483</td>\n",
       "      <td>{'type': 'Point', 'coordinates': [-73.881189, ...</td>\n",
       "      <td>{'type': 'Point', 'coordinates': [-73.882483, ...</td>\n",
       "    </tr>\n",
       "    <tr>\n",
       "      <th>1</th>\n",
       "      <td>489744714</td>\n",
       "      <td>df9044acf85cf55488aea4cd3ce1d0e17ef050551726b6...</td>\n",
       "      <td>2025-08-20T23:48:59.000</td>\n",
       "      <td>2025-08-20T23:54:47.000</td>\n",
       "      <td>EXEMPT - BUS/PARATRANSIT</td>\n",
       "      <td>MOBILE BUS STOP</td>\n",
       "      <td>BX28</td>\n",
       "      <td>40.874017</td>\n",
       "      <td>-73.890646</td>\n",
       "      <td>100080</td>\n",
       "      <td>PAUL AV/BEDFORD PARK BLVD</td>\n",
       "      <td>40.874629</td>\n",
       "      <td>-73.891539</td>\n",
       "      <td>{'type': 'Point', 'coordinates': [-73.890646, ...</td>\n",
       "      <td>{'type': 'Point', 'coordinates': [-73.891539, ...</td>\n",
       "    </tr>\n",
       "    <tr>\n",
       "      <th>2</th>\n",
       "      <td>489743631</td>\n",
       "      <td>eb5a337966ba65f66ab1db8e169d2446a4fb429b0efc63...</td>\n",
       "      <td>2025-08-20T22:33:13.000</td>\n",
       "      <td>2025-08-20T23:56:02.000</td>\n",
       "      <td>TECHNICAL ISSUE/OTHER</td>\n",
       "      <td>MOBILE DOUBLE PARKED</td>\n",
       "      <td>Q53+</td>\n",
       "      <td>40.721971</td>\n",
       "      <td>-73.867136</td>\n",
       "      <td>550473</td>\n",
       "      <td>WOODHAVEN BLVD/PENELOPE AV</td>\n",
       "      <td>40.722487</td>\n",
       "      <td>-73.867736</td>\n",
       "      <td>{'type': 'Point', 'coordinates': [-73.867136, ...</td>\n",
       "      <td>{'type': 'Point', 'coordinates': [-73.867736, ...</td>\n",
       "    </tr>\n",
       "    <tr>\n",
       "      <th>3</th>\n",
       "      <td>489741945</td>\n",
       "      <td>3f877f70d9b253515a945be807c9c62d5814949f810310...</td>\n",
       "      <td>2025-08-20T22:50:45.000</td>\n",
       "      <td>2025-08-20T23:32:43.000</td>\n",
       "      <td>EXEMPT - OTHER</td>\n",
       "      <td>MOBILE BUS STOP</td>\n",
       "      <td>Q44+</td>\n",
       "      <td>40.762529</td>\n",
       "      <td>-73.831728</td>\n",
       "      <td>501140</td>\n",
       "      <td>UNION ST/35 AV</td>\n",
       "      <td>40.765422</td>\n",
       "      <td>-73.827944</td>\n",
       "      <td>{'type': 'Point', 'coordinates': [-73.831728, ...</td>\n",
       "      <td>{'type': 'Point', 'coordinates': [-73.827944, ...</td>\n",
       "    </tr>\n",
       "    <tr>\n",
       "      <th>4</th>\n",
       "      <td>489741940</td>\n",
       "      <td>7feac037b62d591ffb1214e356157f3dd197fc22fee5bb...</td>\n",
       "      <td>2025-08-20T10:52:57.000</td>\n",
       "      <td>2025-08-20T11:16:57.000</td>\n",
       "      <td>EXEMPT - EMERGENCY VEHICLE</td>\n",
       "      <td>MOBILE BUS STOP</td>\n",
       "      <td>M101</td>\n",
       "      <td>40.815113</td>\n",
       "      <td>-73.95504</td>\n",
       "      <td>401458</td>\n",
       "      <td>AMSTERDAM AV/W 131 ST</td>\n",
       "      <td>40.816009</td>\n",
       "      <td>-73.954424</td>\n",
       "      <td>{'type': 'Point', 'coordinates': [-73.95504, 4...</td>\n",
       "      <td>{'type': 'Point', 'coordinates': [-73.954424, ...</td>\n",
       "    </tr>\n",
       "  </tbody>\n",
       "</table>\n",
       "</div>"
      ],
      "text/plain": [
       "  violation_id                                         vehicle_id  \\\n",
       "0    489749182  c5ae1411153b52556a1e648cc80d718aa519a4bdd189ab...   \n",
       "1    489744714  df9044acf85cf55488aea4cd3ce1d0e17ef050551726b6...   \n",
       "2    489743631  eb5a337966ba65f66ab1db8e169d2446a4fb429b0efc63...   \n",
       "3    489741945  3f877f70d9b253515a945be807c9c62d5814949f810310...   \n",
       "4    489741940  7feac037b62d591ffb1214e356157f3dd197fc22fee5bb...   \n",
       "\n",
       "          first_occurrence          last_occurrence  \\\n",
       "0  2025-08-20T23:12:08.000  2025-08-21T00:24:08.000   \n",
       "1  2025-08-20T23:48:59.000  2025-08-20T23:54:47.000   \n",
       "2  2025-08-20T22:33:13.000  2025-08-20T23:56:02.000   \n",
       "3  2025-08-20T22:50:45.000  2025-08-20T23:32:43.000   \n",
       "4  2025-08-20T10:52:57.000  2025-08-20T11:16:57.000   \n",
       "\n",
       "             violation_status        violation_type bus_route_id  \\\n",
       "0       TECHNICAL ISSUE/OTHER       MOBILE BUS STOP         BX36   \n",
       "1    EXEMPT - BUS/PARATRANSIT       MOBILE BUS STOP         BX28   \n",
       "2       TECHNICAL ISSUE/OTHER  MOBILE DOUBLE PARKED         Q53+   \n",
       "3              EXEMPT - OTHER       MOBILE BUS STOP         Q44+   \n",
       "4  EXEMPT - EMERGENCY VEHICLE       MOBILE BUS STOP         M101   \n",
       "\n",
       "  violation_latitude violation_longitude stop_id                   stop_name  \\\n",
       "0          40.840509          -73.881189  102498     EAST TREMONT AV/VYSE AV   \n",
       "1          40.874017          -73.890646  100080   PAUL AV/BEDFORD PARK BLVD   \n",
       "2          40.721971          -73.867136  550473  WOODHAVEN BLVD/PENELOPE AV   \n",
       "3          40.762529          -73.831728  501140              UNION ST/35 AV   \n",
       "4          40.815113           -73.95504  401458       AMSTERDAM AV/W 131 ST   \n",
       "\n",
       "  bus_stop_latitude bus_stop_longitude  \\\n",
       "0         40.841076         -73.882483   \n",
       "1         40.874629         -73.891539   \n",
       "2         40.722487         -73.867736   \n",
       "3         40.765422         -73.827944   \n",
       "4         40.816009         -73.954424   \n",
       "\n",
       "                              violation_georeference  \\\n",
       "0  {'type': 'Point', 'coordinates': [-73.881189, ...   \n",
       "1  {'type': 'Point', 'coordinates': [-73.890646, ...   \n",
       "2  {'type': 'Point', 'coordinates': [-73.867136, ...   \n",
       "3  {'type': 'Point', 'coordinates': [-73.831728, ...   \n",
       "4  {'type': 'Point', 'coordinates': [-73.95504, 4...   \n",
       "\n",
       "                               bus_stop_georeference  \n",
       "0  {'type': 'Point', 'coordinates': [-73.882483, ...  \n",
       "1  {'type': 'Point', 'coordinates': [-73.891539, ...  \n",
       "2  {'type': 'Point', 'coordinates': [-73.867736, ...  \n",
       "3  {'type': 'Point', 'coordinates': [-73.827944, ...  \n",
       "4  {'type': 'Point', 'coordinates': [-73.954424, ...  "
      ]
     },
     "execution_count": 30,
     "metadata": {},
     "output_type": "execute_result"
    }
   ],
   "source": [
    "df.head()"
   ]
  },
  {
   "cell_type": "code",
   "execution_count": 31,
   "id": "71e96781-394f-4cb7-921d-dcba936f1822",
   "metadata": {
    "tags": []
   },
   "outputs": [
    {
     "data": {
      "text/plain": [
       "(10000, 15)"
      ]
     },
     "execution_count": 31,
     "metadata": {},
     "output_type": "execute_result"
    }
   ],
   "source": [
    "df.shape"
   ]
  },
  {
   "cell_type": "code",
   "execution_count": null,
   "id": "2811f76a-bf8c-4487-8389-4d5d8832d14f",
   "metadata": {},
   "outputs": [],
   "source": []
  },
  {
   "cell_type": "markdown",
   "id": "547ad2cd-64d6-4239-b10b-d01d09edb626",
   "metadata": {},
   "source": [
    "**Data Cleaning**"
   ]
  },
  {
   "cell_type": "code",
   "execution_count": 11,
   "id": "7eb2cb54-9575-4569-b15f-e4881e72c7ac",
   "metadata": {
    "tags": []
   },
   "outputs": [
    {
     "data": {
      "text/plain": [
       "violation_id              0\n",
       "vehicle_id                8\n",
       "first_occurrence          0\n",
       "last_occurrence           0\n",
       "violation_status          0\n",
       "violation_type            0\n",
       "bus_route_id              0\n",
       "violation_latitude        0\n",
       "violation_longitude       0\n",
       "stop_id                   0\n",
       "stop_name                 0\n",
       "bus_stop_latitude         0\n",
       "bus_stop_longitude        0\n",
       "violation_georeference    0\n",
       "bus_stop_georeference     0\n",
       "dtype: int64"
      ]
     },
     "execution_count": 11,
     "metadata": {},
     "output_type": "execute_result"
    }
   ],
   "source": [
    "df.isnull().sum()"
   ]
  },
  {
   "cell_type": "code",
   "execution_count": 21,
   "id": "6c1fd8c8-4caf-482e-81ab-e54f85cabf9d",
   "metadata": {
    "tags": []
   },
   "outputs": [
    {
     "name": "stdout",
     "output_type": "stream",
     "text": [
      "<class 'pandas.core.frame.DataFrame'>\n",
      "RangeIndex: 10000 entries, 0 to 9999\n",
      "Data columns (total 13 columns):\n",
      " #   Column               Non-Null Count  Dtype \n",
      "---  ------               --------------  ----- \n",
      " 0   violation_id         10000 non-null  object\n",
      " 1   vehicle_id           9992 non-null   object\n",
      " 2   first_occurrence     10000 non-null  object\n",
      " 3   last_occurrence      10000 non-null  object\n",
      " 4   violation_status     10000 non-null  object\n",
      " 5   violation_type       10000 non-null  object\n",
      " 6   bus_route_id         10000 non-null  object\n",
      " 7   violation_latitude   10000 non-null  object\n",
      " 8   violation_longitude  10000 non-null  object\n",
      " 9   stop_id              10000 non-null  object\n",
      " 10  stop_name            10000 non-null  object\n",
      " 11  bus_stop_latitude    10000 non-null  object\n",
      " 12  bus_stop_longitude   10000 non-null  object\n",
      "dtypes: object(13)\n",
      "memory usage: 1015.8+ KB\n"
     ]
    }
   ],
   "source": [
    "df.info()"
   ]
  },
  {
   "cell_type": "markdown",
   "id": "3213556a-3b3a-4ced-9d98-6de8452813b8",
   "metadata": {
    "tags": []
   },
   "source": [
    "**Violation_georeference and bus_stop_georeference not needed as these are copies of bus_stop and violation long/lat**"
   ]
  },
  {
   "cell_type": "code",
   "execution_count": 19,
   "id": "ab26244c-fd72-4590-9460-4d864c0d88c6",
   "metadata": {
    "tags": []
   },
   "outputs": [],
   "source": [
    "df = df.drop(columns=[\"violation_georeference\", \"bus_stop_georeference\"])"
   ]
  },
  {
   "cell_type": "code",
   "execution_count": 22,
   "id": "b5b54104-afb5-42d6-ba89-5714f3c0b38b",
   "metadata": {
    "tags": []
   },
   "outputs": [],
   "source": [
    "# converting to datetime\n",
    "df[\"first_occurrence\"] = pd.to_datetime(df[\"first_occurrence\"])\n",
    "df[\"last_occurrence\"] = pd.to_datetime(df[\"last_occurrence\"])"
   ]
  },
  {
   "cell_type": "code",
   "execution_count": 24,
   "id": "1c29601b-76bb-443a-a0b3-bb481cedc4d9",
   "metadata": {
    "tags": []
   },
   "outputs": [
    {
     "data": {
      "text/plain": [
       "0"
      ]
     },
     "execution_count": 24,
     "metadata": {},
     "output_type": "execute_result"
    }
   ],
   "source": [
    "# checking for duplicates\n",
    "df.duplicated().sum()"
   ]
  },
  {
   "cell_type": "code",
   "execution_count": 26,
   "id": "e8aa7347-f1a1-4d69-bb99-a9d97c3f88e7",
   "metadata": {
    "tags": []
   },
   "outputs": [
    {
     "data": {
      "text/plain": [
       "array(['TECHNICAL ISSUE/OTHER', 'EXEMPT - BUS/PARATRANSIT',\n",
       "       'EXEMPT - OTHER', 'EXEMPT - EMERGENCY VEHICLE',\n",
       "       'DRIVER/VEHICLE INFO MISSING', 'EXEMPT - COMMERCIAL UNDER 20'],\n",
       "      dtype=object)"
      ]
     },
     "execution_count": 26,
     "metadata": {},
     "output_type": "execute_result"
    }
   ],
   "source": [
    "df[\"violation_status\"].unique()"
   ]
  },
  {
   "cell_type": "code",
   "execution_count": 27,
   "id": "03375770-3b96-4099-a633-7d2fc497f696",
   "metadata": {
    "tags": []
   },
   "outputs": [
    {
     "data": {
      "text/plain": [
       "array(['MOBILE BUS STOP', 'MOBILE DOUBLE PARKED', 'MOBILE BUS LANE'],\n",
       "      dtype=object)"
      ]
     },
     "execution_count": 27,
     "metadata": {},
     "output_type": "execute_result"
    }
   ],
   "source": [
    "df['violation_type'].unique()"
   ]
  },
  {
   "cell_type": "code",
   "execution_count": 28,
   "id": "524e7ecd-aca0-4d85-84b7-88e58bd92fb6",
   "metadata": {
    "tags": []
   },
   "outputs": [
    {
     "data": {
      "text/html": [
       "<div>\n",
       "<style scoped>\n",
       "    .dataframe tbody tr th:only-of-type {\n",
       "        vertical-align: middle;\n",
       "    }\n",
       "\n",
       "    .dataframe tbody tr th {\n",
       "        vertical-align: top;\n",
       "    }\n",
       "\n",
       "    .dataframe thead th {\n",
       "        text-align: right;\n",
       "    }\n",
       "</style>\n",
       "<table border=\"1\" class=\"dataframe\">\n",
       "  <thead>\n",
       "    <tr style=\"text-align: right;\">\n",
       "      <th></th>\n",
       "      <th>violation_id</th>\n",
       "      <th>vehicle_id</th>\n",
       "      <th>first_occurrence</th>\n",
       "      <th>last_occurrence</th>\n",
       "      <th>violation_status</th>\n",
       "      <th>violation_type</th>\n",
       "      <th>bus_route_id</th>\n",
       "      <th>violation_latitude</th>\n",
       "      <th>violation_longitude</th>\n",
       "      <th>stop_id</th>\n",
       "      <th>stop_name</th>\n",
       "      <th>bus_stop_latitude</th>\n",
       "      <th>bus_stop_longitude</th>\n",
       "    </tr>\n",
       "  </thead>\n",
       "  <tbody>\n",
       "    <tr>\n",
       "      <th>0</th>\n",
       "      <td>489749182</td>\n",
       "      <td>c5ae1411153b52556a1e648cc80d718aa519a4bdd189ab...</td>\n",
       "      <td>2025-08-20 23:12:08</td>\n",
       "      <td>2025-08-21 00:24:08</td>\n",
       "      <td>TECHNICAL ISSUE/OTHER</td>\n",
       "      <td>MOBILE BUS STOP</td>\n",
       "      <td>BX36</td>\n",
       "      <td>40.840509</td>\n",
       "      <td>-73.881189</td>\n",
       "      <td>102498</td>\n",
       "      <td>EAST TREMONT AV/VYSE AV</td>\n",
       "      <td>40.841076</td>\n",
       "      <td>-73.882483</td>\n",
       "    </tr>\n",
       "    <tr>\n",
       "      <th>1</th>\n",
       "      <td>489744714</td>\n",
       "      <td>df9044acf85cf55488aea4cd3ce1d0e17ef050551726b6...</td>\n",
       "      <td>2025-08-20 23:48:59</td>\n",
       "      <td>2025-08-20 23:54:47</td>\n",
       "      <td>EXEMPT - BUS/PARATRANSIT</td>\n",
       "      <td>MOBILE BUS STOP</td>\n",
       "      <td>BX28</td>\n",
       "      <td>40.874017</td>\n",
       "      <td>-73.890646</td>\n",
       "      <td>100080</td>\n",
       "      <td>PAUL AV/BEDFORD PARK BLVD</td>\n",
       "      <td>40.874629</td>\n",
       "      <td>-73.891539</td>\n",
       "    </tr>\n",
       "    <tr>\n",
       "      <th>2</th>\n",
       "      <td>489743631</td>\n",
       "      <td>eb5a337966ba65f66ab1db8e169d2446a4fb429b0efc63...</td>\n",
       "      <td>2025-08-20 22:33:13</td>\n",
       "      <td>2025-08-20 23:56:02</td>\n",
       "      <td>TECHNICAL ISSUE/OTHER</td>\n",
       "      <td>MOBILE DOUBLE PARKED</td>\n",
       "      <td>Q53+</td>\n",
       "      <td>40.721971</td>\n",
       "      <td>-73.867136</td>\n",
       "      <td>550473</td>\n",
       "      <td>WOODHAVEN BLVD/PENELOPE AV</td>\n",
       "      <td>40.722487</td>\n",
       "      <td>-73.867736</td>\n",
       "    </tr>\n",
       "    <tr>\n",
       "      <th>3</th>\n",
       "      <td>489741945</td>\n",
       "      <td>3f877f70d9b253515a945be807c9c62d5814949f810310...</td>\n",
       "      <td>2025-08-20 22:50:45</td>\n",
       "      <td>2025-08-20 23:32:43</td>\n",
       "      <td>EXEMPT - OTHER</td>\n",
       "      <td>MOBILE BUS STOP</td>\n",
       "      <td>Q44+</td>\n",
       "      <td>40.762529</td>\n",
       "      <td>-73.831728</td>\n",
       "      <td>501140</td>\n",
       "      <td>UNION ST/35 AV</td>\n",
       "      <td>40.765422</td>\n",
       "      <td>-73.827944</td>\n",
       "    </tr>\n",
       "    <tr>\n",
       "      <th>4</th>\n",
       "      <td>489741940</td>\n",
       "      <td>7feac037b62d591ffb1214e356157f3dd197fc22fee5bb...</td>\n",
       "      <td>2025-08-20 10:52:57</td>\n",
       "      <td>2025-08-20 11:16:57</td>\n",
       "      <td>EXEMPT - EMERGENCY VEHICLE</td>\n",
       "      <td>MOBILE BUS STOP</td>\n",
       "      <td>M101</td>\n",
       "      <td>40.815113</td>\n",
       "      <td>-73.95504</td>\n",
       "      <td>401458</td>\n",
       "      <td>AMSTERDAM AV/W 131 ST</td>\n",
       "      <td>40.816009</td>\n",
       "      <td>-73.954424</td>\n",
       "    </tr>\n",
       "    <tr>\n",
       "      <th>...</th>\n",
       "      <td>...</td>\n",
       "      <td>...</td>\n",
       "      <td>...</td>\n",
       "      <td>...</td>\n",
       "      <td>...</td>\n",
       "      <td>...</td>\n",
       "      <td>...</td>\n",
       "      <td>...</td>\n",
       "      <td>...</td>\n",
       "      <td>...</td>\n",
       "      <td>...</td>\n",
       "      <td>...</td>\n",
       "      <td>...</td>\n",
       "    </tr>\n",
       "    <tr>\n",
       "      <th>9995</th>\n",
       "      <td>488739171</td>\n",
       "      <td>1265d2ab9c9d365f5832bd8bd076bf03f595e033274108...</td>\n",
       "      <td>2025-08-14 09:39:29</td>\n",
       "      <td>2025-08-14 09:46:56</td>\n",
       "      <td>EXEMPT - COMMERCIAL UNDER 20</td>\n",
       "      <td>MOBILE DOUBLE PARKED</td>\n",
       "      <td>BX19</td>\n",
       "      <td>40.8125</td>\n",
       "      <td>-73.90547</td>\n",
       "      <td>101366</td>\n",
       "      <td>SOUTHERN BLVD/E 149 ST</td>\n",
       "      <td>40.812224</td>\n",
       "      <td>-73.903953</td>\n",
       "    </tr>\n",
       "    <tr>\n",
       "      <th>9996</th>\n",
       "      <td>488739166</td>\n",
       "      <td>a381f100984b123817a50d43ba05c1596f3d8fcf49aa91...</td>\n",
       "      <td>2025-08-14 09:39:10</td>\n",
       "      <td>2025-08-14 09:46:58</td>\n",
       "      <td>TECHNICAL ISSUE/OTHER</td>\n",
       "      <td>MOBILE BUS LANE</td>\n",
       "      <td>BX12+</td>\n",
       "      <td>40.862704</td>\n",
       "      <td>-73.902186</td>\n",
       "      <td>100796</td>\n",
       "      <td>WEST FORDHAM RD/UNIVERSITY AV</td>\n",
       "      <td>40.862703</td>\n",
       "      <td>-73.904256</td>\n",
       "    </tr>\n",
       "    <tr>\n",
       "      <th>9997</th>\n",
       "      <td>488739139</td>\n",
       "      <td>ce9d34c60b7b4650b0f5267e61825053f5257c23558069...</td>\n",
       "      <td>2025-08-14 09:09:56</td>\n",
       "      <td>2025-08-14 09:45:39</td>\n",
       "      <td>TECHNICAL ISSUE/OTHER</td>\n",
       "      <td>MOBILE DOUBLE PARKED</td>\n",
       "      <td>Q54</td>\n",
       "      <td>40.712829</td>\n",
       "      <td>-73.90343</td>\n",
       "      <td>504256</td>\n",
       "      <td>METROPOLITAN AV/FOREST AV</td>\n",
       "      <td>40.712821</td>\n",
       "      <td>-73.905623</td>\n",
       "    </tr>\n",
       "    <tr>\n",
       "      <th>9998</th>\n",
       "      <td>488739046</td>\n",
       "      <td>51eb04a496d2075f74521c08c368302188ee9ce1b5d136...</td>\n",
       "      <td>2025-08-14 09:37:49</td>\n",
       "      <td>2025-08-14 09:44:38</td>\n",
       "      <td>EXEMPT - BUS/PARATRANSIT</td>\n",
       "      <td>MOBILE BUS LANE</td>\n",
       "      <td>M101</td>\n",
       "      <td>40.782448</td>\n",
       "      <td>-73.953448</td>\n",
       "      <td>402521</td>\n",
       "      <td>AMSTERDAM AV/W 145 ST</td>\n",
       "      <td>40.825615</td>\n",
       "      <td>-73.947231</td>\n",
       "    </tr>\n",
       "    <tr>\n",
       "      <th>9999</th>\n",
       "      <td>488739039</td>\n",
       "      <td>5258cf0d8a7c4817aa17aa143e0a42cca1eeda1d6a9bfa...</td>\n",
       "      <td>2025-08-14 09:34:54</td>\n",
       "      <td>2025-08-14 09:41:17</td>\n",
       "      <td>EXEMPT - EMERGENCY VEHICLE</td>\n",
       "      <td>MOBILE DOUBLE PARKED</td>\n",
       "      <td>Q43</td>\n",
       "      <td>40.725265</td>\n",
       "      <td>-73.753141</td>\n",
       "      <td>500022</td>\n",
       "      <td>HILLSIDE AV/212 ST</td>\n",
       "      <td>40.724847</td>\n",
       "      <td>-73.7537</td>\n",
       "    </tr>\n",
       "  </tbody>\n",
       "</table>\n",
       "<p>10000 rows × 13 columns</p>\n",
       "</div>"
      ],
      "text/plain": [
       "     violation_id                                         vehicle_id  \\\n",
       "0       489749182  c5ae1411153b52556a1e648cc80d718aa519a4bdd189ab...   \n",
       "1       489744714  df9044acf85cf55488aea4cd3ce1d0e17ef050551726b6...   \n",
       "2       489743631  eb5a337966ba65f66ab1db8e169d2446a4fb429b0efc63...   \n",
       "3       489741945  3f877f70d9b253515a945be807c9c62d5814949f810310...   \n",
       "4       489741940  7feac037b62d591ffb1214e356157f3dd197fc22fee5bb...   \n",
       "...           ...                                                ...   \n",
       "9995    488739171  1265d2ab9c9d365f5832bd8bd076bf03f595e033274108...   \n",
       "9996    488739166  a381f100984b123817a50d43ba05c1596f3d8fcf49aa91...   \n",
       "9997    488739139  ce9d34c60b7b4650b0f5267e61825053f5257c23558069...   \n",
       "9998    488739046  51eb04a496d2075f74521c08c368302188ee9ce1b5d136...   \n",
       "9999    488739039  5258cf0d8a7c4817aa17aa143e0a42cca1eeda1d6a9bfa...   \n",
       "\n",
       "        first_occurrence     last_occurrence              violation_status  \\\n",
       "0    2025-08-20 23:12:08 2025-08-21 00:24:08         TECHNICAL ISSUE/OTHER   \n",
       "1    2025-08-20 23:48:59 2025-08-20 23:54:47      EXEMPT - BUS/PARATRANSIT   \n",
       "2    2025-08-20 22:33:13 2025-08-20 23:56:02         TECHNICAL ISSUE/OTHER   \n",
       "3    2025-08-20 22:50:45 2025-08-20 23:32:43                EXEMPT - OTHER   \n",
       "4    2025-08-20 10:52:57 2025-08-20 11:16:57    EXEMPT - EMERGENCY VEHICLE   \n",
       "...                  ...                 ...                           ...   \n",
       "9995 2025-08-14 09:39:29 2025-08-14 09:46:56  EXEMPT - COMMERCIAL UNDER 20   \n",
       "9996 2025-08-14 09:39:10 2025-08-14 09:46:58         TECHNICAL ISSUE/OTHER   \n",
       "9997 2025-08-14 09:09:56 2025-08-14 09:45:39         TECHNICAL ISSUE/OTHER   \n",
       "9998 2025-08-14 09:37:49 2025-08-14 09:44:38      EXEMPT - BUS/PARATRANSIT   \n",
       "9999 2025-08-14 09:34:54 2025-08-14 09:41:17    EXEMPT - EMERGENCY VEHICLE   \n",
       "\n",
       "            violation_type bus_route_id violation_latitude  \\\n",
       "0          MOBILE BUS STOP         BX36          40.840509   \n",
       "1          MOBILE BUS STOP         BX28          40.874017   \n",
       "2     MOBILE DOUBLE PARKED         Q53+          40.721971   \n",
       "3          MOBILE BUS STOP         Q44+          40.762529   \n",
       "4          MOBILE BUS STOP         M101          40.815113   \n",
       "...                    ...          ...                ...   \n",
       "9995  MOBILE DOUBLE PARKED         BX19            40.8125   \n",
       "9996       MOBILE BUS LANE        BX12+          40.862704   \n",
       "9997  MOBILE DOUBLE PARKED          Q54          40.712829   \n",
       "9998       MOBILE BUS LANE         M101          40.782448   \n",
       "9999  MOBILE DOUBLE PARKED          Q43          40.725265   \n",
       "\n",
       "     violation_longitude stop_id                      stop_name  \\\n",
       "0             -73.881189  102498        EAST TREMONT AV/VYSE AV   \n",
       "1             -73.890646  100080      PAUL AV/BEDFORD PARK BLVD   \n",
       "2             -73.867136  550473     WOODHAVEN BLVD/PENELOPE AV   \n",
       "3             -73.831728  501140                 UNION ST/35 AV   \n",
       "4              -73.95504  401458          AMSTERDAM AV/W 131 ST   \n",
       "...                  ...     ...                            ...   \n",
       "9995           -73.90547  101366         SOUTHERN BLVD/E 149 ST   \n",
       "9996          -73.902186  100796  WEST FORDHAM RD/UNIVERSITY AV   \n",
       "9997           -73.90343  504256      METROPOLITAN AV/FOREST AV   \n",
       "9998          -73.953448  402521          AMSTERDAM AV/W 145 ST   \n",
       "9999          -73.753141  500022             HILLSIDE AV/212 ST   \n",
       "\n",
       "     bus_stop_latitude bus_stop_longitude  \n",
       "0            40.841076         -73.882483  \n",
       "1            40.874629         -73.891539  \n",
       "2            40.722487         -73.867736  \n",
       "3            40.765422         -73.827944  \n",
       "4            40.816009         -73.954424  \n",
       "...                ...                ...  \n",
       "9995         40.812224         -73.903953  \n",
       "9996         40.862703         -73.904256  \n",
       "9997         40.712821         -73.905623  \n",
       "9998         40.825615         -73.947231  \n",
       "9999         40.724847           -73.7537  \n",
       "\n",
       "[10000 rows x 13 columns]"
      ]
     },
     "execution_count": 28,
     "metadata": {},
     "output_type": "execute_result"
    }
   ],
   "source": []
  }
 ],
 "metadata": {
  "kernelspec": {
   "display_name": "Python 3 (ipykernel)",
   "language": "python",
   "name": "python3"
  },
  "language_info": {
   "codemirror_mode": {
    "name": "ipython",
    "version": 3
   },
   "file_extension": ".py",
   "mimetype": "text/x-python",
   "name": "python",
   "nbconvert_exporter": "python",
   "pygments_lexer": "ipython3",
   "version": "3.11.4"
  }
 },
 "nbformat": 4,
 "nbformat_minor": 5
}
